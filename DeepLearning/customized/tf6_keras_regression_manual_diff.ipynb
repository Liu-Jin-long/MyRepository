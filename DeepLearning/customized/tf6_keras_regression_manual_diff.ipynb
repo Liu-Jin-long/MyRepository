{
 "cells": [
  {
   "cell_type": "code",
   "execution_count": 49,
   "metadata": {},
   "outputs": [],
   "source": [
    "# 简单实现model.fit()"
   ]
  },
  {
   "cell_type": "code",
   "execution_count": null,
   "outputs": [],
   "source": [
    "import numpy as np\n",
    "import pandas as pd\n",
    "import tensorflow as tf\n",
    "from tensorflow import keras"
   ],
   "metadata": {
    "collapsed": false,
    "pycharm": {
     "name": "#%%\n"
    }
   }
  },
  {
   "cell_type": "code",
   "execution_count": 50,
   "metadata": {
    "pycharm": {
     "name": "#%%\n"
    }
   },
   "outputs": [
    {
     "name": "stdout",
     "output_type": "stream",
     "text": [
      ".. _california_housing_dataset:\n",
      "\n",
      "California Housing dataset\n",
      "--------------------------\n",
      "\n",
      "**Data Set Characteristics:**\n",
      "\n",
      "    :Number of Instances: 20640\n",
      "\n",
      "    :Number of Attributes: 8 numeric, predictive attributes and the target\n",
      "\n",
      "    :Attribute Information:\n",
      "        - MedInc        median income in block group\n",
      "        - HouseAge      median house age in block group\n",
      "        - AveRooms      average number of rooms per household\n",
      "        - AveBedrms     average number of bedrooms per household\n",
      "        - Population    block group population\n",
      "        - AveOccup      average number of household members\n",
      "        - Latitude      block group latitude\n",
      "        - Longitude     block group longitude\n",
      "\n",
      "    :Missing Attribute Values: None\n",
      "\n",
      "This dataset was obtained from the StatLib repository.\n",
      "https://www.dcc.fc.up.pt/~ltorgo/Regression/cal_housing.html\n",
      "\n",
      "The target variable is the median house value for California districts,\n",
      "expressed in hundreds of thousands of dollars ($100,000).\n",
      "\n",
      "This dataset was derived from the 1990 U.S. census, using one row per census\n",
      "block group. A block group is the smallest geographical unit for which the U.S.\n",
      "Census Bureau publishes sample data (a block group typically has a population\n",
      "of 600 to 3,000 people).\n",
      "\n",
      "An household is a group of people residing within a home. Since the average\n",
      "number of rooms and bedrooms in this dataset are provided per household, these\n",
      "columns may take surpinsingly large values for block groups with few households\n",
      "and many empty houses, such as vacation resorts.\n",
      "\n",
      "It can be downloaded/loaded using the\n",
      ":func:`sklearn.datasets.fetch_california_housing` function.\n",
      "\n",
      ".. topic:: References\n",
      "\n",
      "    - Pace, R. Kelley and Ronald Barry, Sparse Spatial Autoregressions,\n",
      "      Statistics and Probability Letters, 33 (1997) 291-297\n",
      "\n",
      "(20640, 8)\n",
      "(20640,)\n"
     ]
    }
   ],
   "source": [
    "from sklearn.datasets import fetch_california_housing\n",
    "\n",
    "housing = fetch_california_housing()\n",
    "print(housing.DESCR)\n",
    "print(housing.data.shape)\n",
    "print(housing.target.shape)"
   ]
  },
  {
   "cell_type": "code",
   "execution_count": null,
   "metadata": {
    "pycharm": {
     "name": "#%%\n"
    }
   },
   "outputs": [],
   "source": []
  },
  {
   "cell_type": "code",
   "execution_count": 51,
   "metadata": {
    "pycharm": {
     "name": "#%%\n"
    }
   },
   "outputs": [
    {
     "name": "stdout",
     "output_type": "stream",
     "text": [
      "(11610, 8) (11610,)\n",
      "(3870, 8) (3870,)\n",
      "(5160, 8) (5160,)\n"
     ]
    }
   ],
   "source": [
    "from sklearn.model_selection import train_test_split\n",
    "\n",
    "x_train_all, x_test, y_train_all, y_test = train_test_split(\n",
    "    housing.data, housing.target, random_state=7)\n",
    "x_train, x_valid, y_train, y_valid = train_test_split(\n",
    "    x_train_all, y_train_all, random_state=11)\n",
    "print(x_train.shape, y_train.shape)\n",
    "print(x_valid.shape, y_valid.shape)\n",
    "print(x_test.shape, y_test.shape)"
   ]
  },
  {
   "cell_type": "code",
   "execution_count": 52,
   "metadata": {
    "pycharm": {
     "name": "#%%\n"
    }
   },
   "outputs": [],
   "source": [
    "from sklearn.preprocessing import StandardScaler\n",
    "\n",
    "scaler = StandardScaler()\n",
    "x_train_scaled = scaler.fit_transform(x_train)\n",
    "x_valid_scaled = scaler.transform(x_valid)\n",
    "x_test_scaled = scaler.transform(x_test)"
   ]
  },
  {
   "cell_type": "code",
   "execution_count": 53,
   "metadata": {
    "pycharm": {
     "name": "#%%\n"
    }
   },
   "outputs": [
    {
     "name": "stdout",
     "output_type": "stream",
     "text": [
      "tf.Tensor(9.0, shape=(), dtype=float32)\n",
      "--------------------------------------------------\n",
      "tf.Tensor(5.0, shape=(), dtype=float32)\n",
      "--------------------------------------------------\n",
      "tf.Tensor(5.0, shape=(), dtype=float32)\n",
      "--------------------------------------------------\n",
      "tf.Tensor(4.0, shape=(), dtype=float32)\n",
      "tf.Tensor(2.5, shape=(), dtype=float32)\n",
      "--------------------------------------------------\n"
     ]
    }
   ],
   "source": [
    "# metric 算子 评价指标 评价函数\n",
    "metric = keras.metrics.MeanSquaredError()\n",
    "print(metric([5.], [2.]))\n",
    "print('-' * 50)\n",
    "print(metric([0.], [1.]))\n",
    "print('-' * 50)\n",
    "# 具有累加功能 (9+1)/2=5\n",
    "print(metric.result())\n",
    "print('-' * 50)\n",
    "# 清空累加 重置reset_states\n",
    "metric.reset_states()  # 每次epoch需要reset_states\n",
    "metric([1.], [3.])\n",
    "print(metric.result())\n",
    "metric([1.], [2.])\n",
    "print(metric.result())\n",
    "print('-' * 50)"
   ]
  },
  {
   "cell_type": "code",
   "execution_count": 54,
   "metadata": {
    "pycharm": {
     "name": "#%%\n"
    }
   },
   "outputs": [
    {
     "name": "stdout",
     "output_type": "stream",
     "text": [
      "11610\n",
      "(8,)\n",
      "362.8125\n"
     ]
    }
   ],
   "source": [
    "# 训练集的样本数\n",
    "print(len(x_train_scaled))\n",
    "# 特征数\n",
    "print(x_train.shape[1:])\n",
    "# 每次训练给予的样本数 batch_size默认32\n",
    "print(len(x_train_scaled) / 32)"
   ]
  },
  {
   "cell_type": "code",
   "execution_count": 55,
   "metadata": {
    "pycharm": {
     "name": "#%%\n"
    }
   },
   "outputs": [
    {
     "name": "stdout",
     "output_type": "stream",
     "text": [
      "[[[[0 1 2]]\n",
      "\n",
      "  [[3 4 5]]]]\n",
      "--------------------------------------------------\n",
      "tf.Tensor(\n",
      "[[0 1 2]\n",
      " [3 4 5]], shape=(2, 3), dtype=int32)\n",
      "--------------------------------------------------\n",
      "tf.Tensor(\n",
      "[[1]\n",
      " [2]\n",
      " [3]], shape=(3, 1), dtype=int32)\n",
      "--------------------------------------------------\n"
     ]
    },
    {
     "data": {
      "text/plain": [
       "<tf.Tensor: shape=(3,), dtype=int32, numpy=array([1, 2, 3])>"
      ]
     },
     "execution_count": 55,
     "metadata": {},
     "output_type": "execute_result"
    }
   ],
   "source": [
    "t = np.arange(6).reshape(1, 2, 1, 3)\n",
    "print(t)\n",
    "print('-' * 50)\n",
    "print(tf.squeeze(t))  # 降维 从形状中删除单维度条目，即把shape中为1的维度去掉\n",
    "print('-' * 50)\n",
    "# squeeze的作用\n",
    "t = tf.constant([[1], [2], [3]])\n",
    "print(t)\n",
    "print('-' * 50)\n",
    "tf.squeeze(t, 1)"
   ]
  },
  {
   "cell_type": "code",
   "execution_count": 56,
   "metadata": {
    "pycharm": {
     "name": "#%%\n"
    }
   },
   "outputs": [
    {
     "name": "stdout",
     "output_type": "stream",
     "text": [
      "[451 689 123 239 671]\n",
      "[[-1.15189191 -0.68904142 -0.71832594 -0.0344517   0.04849902  0.02079551\n",
      "  -1.35026948  1.24085054]\n",
      " [-0.02243588  0.75276284 -0.02553397 -0.07790702  0.10112162  0.0877423\n",
      "  -0.76239258  0.75149068]\n",
      " [ 1.20351706 -0.28854023  0.2885874  -0.37900997 -0.27903129  0.00491105\n",
      "  -0.68307586  0.31206551]\n",
      " [ 0.24030638 -1.89054496 -0.21586094 -0.26176729 -0.1012032  -0.17313388\n",
      "  -0.67841017  0.28709817]\n",
      " [ 0.17199659  1.07316379 -0.69217902 -0.22122628 -0.13205093  0.15867472\n",
      "  -0.79038672  0.60668011]]\n",
      "[0.955 1.71  2.549 2.279 1.639]\n"
     ]
    }
   ],
   "source": [
    "idx = np.random.randint(0, 1000, size=5)\n",
    "print(idx)\n",
    "print(x_train_scaled[idx])\n",
    "print(y_train[idx])  # 随机挑选的5个样本的标签值"
   ]
  },
  {
   "cell_type": "code",
   "execution_count": 57,
   "metadata": {
    "pycharm": {
     "name": "#%%\n"
    }
   },
   "outputs": [
    {
     "name": "stdout",
     "output_type": "stream",
     "text": [
      "362\n",
      "--------------------------------------------------\n"
     ]
    }
   ],
   "source": [
    "epochs = 100\n",
    "batch_size = 32\n",
    "steps_per_epoch = len(x_train_scaled) // batch_size\n",
    "print(steps_per_epoch)\n",
    "print('-' * 50)\n",
    "optimizer = keras.optimizers.SGD()\n",
    "metric = keras.metrics.MeanSquaredError()\n",
    "\n",
    "\n",
    "# 随机取出来32个样本\n",
    "def random_batch(x, y, batch_size=32):\n",
    "    idx = np.random.randint(0, len(x), size=batch_size)\n",
    "    return x[idx], y[idx]\n",
    "\n",
    "\n",
    "model = keras.models.Sequential([\n",
    "    keras.layers.Dense(30, activation='relu', input_shape=x_train.shape[1:]),\n",
    "    keras.layers.Dense(1)\n",
    "])"
   ]
  },
  {
   "cell_type": "code",
   "execution_count": 58,
   "metadata": {
    "pycharm": {
     "name": "#%%\n"
    }
   },
   "outputs": [
    {
     "name": "stdout",
     "output_type": "stream",
     "text": [
      "[<tf.Variable 'dense_8/kernel:0' shape=(8, 30) dtype=float32, numpy=\n",
      "array([[ 0.3803678 , -0.37519726,  0.17287979, -0.05467156,  0.22848412,\n",
      "         0.09458029, -0.3810946 ,  0.16130951,  0.26306012,  0.29926738,\n",
      "         0.3465807 ,  0.38341567,  0.24388853, -0.11799154, -0.28580767,\n",
      "         0.13076338, -0.27784705,  0.3406634 ,  0.11337647,  0.09574112,\n",
      "         0.29668066,  0.08994505,  0.13591579, -0.37105912,  0.24116084,\n",
      "         0.17388257,  0.30370453, -0.04434636, -0.2885944 ,  0.21909162],\n",
      "       [ 0.3883346 , -0.3758412 , -0.31106415,  0.2490237 ,  0.01044884,\n",
      "        -0.16571085,  0.07318476,  0.08807188, -0.3312165 ,  0.06268877,\n",
      "         0.20999983,  0.2725329 , -0.37625957,  0.21355662,  0.10077548,\n",
      "        -0.28984636, -0.03849173, -0.19078694, -0.19603837, -0.32810873,\n",
      "         0.040696  ,  0.22382161,  0.2241306 ,  0.18545559, -0.39208877,\n",
      "        -0.14910027,  0.0320704 ,  0.30152366,  0.06975621, -0.29280862],\n",
      "       [ 0.33188984,  0.22721389, -0.24318479,  0.07292661,  0.330286  ,\n",
      "        -0.15869485,  0.36201695, -0.33210707, -0.075728  , -0.01947197,\n",
      "        -0.03853238,  0.26440135, -0.3473667 , -0.08793736,  0.17926607,\n",
      "        -0.34486836,  0.36716428, -0.25766122, -0.31548756,  0.35455284,\n",
      "         0.28954682,  0.3287827 ,  0.2720777 , -0.12638286, -0.22423333,\n",
      "        -0.21769063, -0.07702887, -0.2290985 ,  0.04356581,  0.03381756],\n",
      "       [-0.34538686, -0.263234  ,  0.24499825, -0.16852666, -0.3919656 ,\n",
      "        -0.0450747 ,  0.29032126, -0.10985848,  0.07067668, -0.09499079,\n",
      "         0.3018649 , -0.24320042, -0.28986123, -0.37458706, -0.04514092,\n",
      "        -0.3455457 , -0.02884069, -0.1895565 , -0.04506522,  0.1091347 ,\n",
      "         0.39051083,  0.03849211, -0.07580417,  0.08697197, -0.21470581,\n",
      "         0.2696592 ,  0.02937984, -0.16872826,  0.3674483 ,  0.19008705],\n",
      "       [ 0.26683685, -0.3496147 ,  0.17535141,  0.19560757, -0.37857297,\n",
      "         0.25853917, -0.13291696, -0.30534595, -0.3286781 , -0.07295191,\n",
      "        -0.2758308 ,  0.13370523,  0.35066792,  0.15889463,  0.09549734,\n",
      "        -0.13575917, -0.24203004, -0.26819772, -0.15709122, -0.3836802 ,\n",
      "        -0.09054711, -0.16922772,  0.02698031,  0.17882183, -0.2801542 ,\n",
      "         0.05311266, -0.11535755,  0.1610618 ,  0.08182648,  0.30461565],\n",
      "       [ 0.31105533, -0.3969005 ,  0.38480124,  0.24301842,  0.39612505,\n",
      "        -0.26862383, -0.06943259, -0.3390396 , -0.37501794, -0.13337615,\n",
      "         0.14389852, -0.1889226 , -0.28747988,  0.374289  , -0.06128684,\n",
      "        -0.22202452,  0.29566678,  0.32137826, -0.03675738, -0.06658408,\n",
      "         0.06443042, -0.21951348,  0.20454487, -0.3502884 , -0.23881312,\n",
      "        -0.12632564, -0.27954113, -0.32865745, -0.12796035, -0.05539006],\n",
      "       [-0.24280784, -0.32512864,  0.2447991 , -0.07564551,  0.06088495,\n",
      "        -0.23559591, -0.376133  , -0.310685  , -0.03086504,  0.35263202,\n",
      "         0.15115681,  0.25494006, -0.23839608,  0.04503235,  0.14058372,\n",
      "        -0.23719168,  0.29272953, -0.17499897, -0.33843535,  0.05243033,\n",
      "        -0.29483205,  0.32983872, -0.35748896,  0.3795524 ,  0.348137  ,\n",
      "        -0.10862046, -0.05872151, -0.02945819, -0.05219284,  0.18112233],\n",
      "       [-0.19989762,  0.19629368, -0.00113979,  0.30779597,  0.06274748,\n",
      "        -0.3414918 ,  0.03568342, -0.039848  , -0.34957466, -0.08828428,\n",
      "         0.13225672, -0.12126637, -0.06392556,  0.33516112,  0.09081957,\n",
      "        -0.33742166,  0.16713455, -0.3548972 , -0.29713872,  0.33753744,\n",
      "        -0.18970722, -0.32864618, -0.1977032 ,  0.0082618 ,  0.3804104 ,\n",
      "         0.27855626, -0.24473044,  0.33221313, -0.1031591 , -0.28802484]],\n",
      "      dtype=float32)>, <tf.Variable 'dense_8/bias:0' shape=(30,) dtype=float32, numpy=\n",
      "array([0., 0., 0., 0., 0., 0., 0., 0., 0., 0., 0., 0., 0., 0., 0., 0., 0.,\n",
      "       0., 0., 0., 0., 0., 0., 0., 0., 0., 0., 0., 0., 0.], dtype=float32)>, <tf.Variable 'dense_9/kernel:0' shape=(30, 1) dtype=float32, numpy=\n",
      "array([[-0.04973504],\n",
      "       [ 0.03457484],\n",
      "       [-0.43941364],\n",
      "       [-0.06032708],\n",
      "       [ 0.41301286],\n",
      "       [-0.3113082 ],\n",
      "       [ 0.00108352],\n",
      "       [ 0.01184243],\n",
      "       [-0.07289177],\n",
      "       [ 0.3207224 ],\n",
      "       [ 0.12579167],\n",
      "       [-0.39216775],\n",
      "       [-0.40643522],\n",
      "       [ 0.20442712],\n",
      "       [-0.2704945 ],\n",
      "       [ 0.30626637],\n",
      "       [ 0.17000896],\n",
      "       [-0.04028308],\n",
      "       [-0.24153924],\n",
      "       [-0.0914824 ],\n",
      "       [ 0.16770118],\n",
      "       [-0.09073317],\n",
      "       [-0.23563193],\n",
      "       [ 0.11091751],\n",
      "       [-0.30688518],\n",
      "       [ 0.2719062 ],\n",
      "       [-0.07556498],\n",
      "       [-0.01541141],\n",
      "       [-0.12305894],\n",
      "       [ 0.24187386]], dtype=float32)>, <tf.Variable 'dense_9/bias:0' shape=(1,) dtype=float32, numpy=array([0.], dtype=float32)>]\n"
     ]
    }
   ],
   "source": [
    "print(model.variables)"
   ]
  },
  {
   "cell_type": "code",
   "execution_count": 59,
   "metadata": {
    "pycharm": {
     "name": "#%%\n"
    }
   },
   "outputs": [
    {
     "name": "stdout",
     "output_type": "stream",
     "text": [
      "Model: \"sequential_4\"\n",
      "_________________________________________________________________\n",
      " Layer (type)                Output Shape              Param #   \n",
      "=================================================================\n",
      " dense_8 (Dense)             (None, 30)                270       \n",
      "                                                                 \n",
      " dense_9 (Dense)             (None, 1)                 31        \n",
      "                                                                 \n",
      "=================================================================\n",
      "Total params: 301\n",
      "Trainable params: 301\n",
      "Non-trainable params: 0\n",
      "_________________________________________________________________\n",
      "None\n"
     ]
    }
   ],
   "source": [
    "print(model.summary())"
   ]
  },
  {
   "cell_type": "code",
   "execution_count": 60,
   "metadata": {
    "pycharm": {
     "name": "#%%\n"
    }
   },
   "outputs": [
    {
     "name": "stdout",
     "output_type": "stream",
     "text": [
      "Epoch 0 train mse:1.4474707\n",
      "\t valid mse 0.5429420816535974\n",
      "Epoch 1 train mse:0.47183568\n",
      "\t valid mse 0.46821941101572345\n",
      "Epoch 2 train mse:0.43330864\n",
      "\t valid mse 0.43689425456394876\n",
      "Epoch 3 train mse:0.41948608\n",
      "\t valid mse 0.44954535944697277\n",
      "Epoch 4 train mse:0.42072552\n",
      "\t valid mse 0.4846302026112092\n",
      "Epoch 5 train mse:0.38212462\n",
      "\t valid mse 0.3930751755417499\n",
      "Epoch 6 train mse:0.38140512\n",
      "\t valid mse 0.3842931467330847\n",
      "Epoch 7 train mse:0.36867523\n",
      "\t valid mse 0.3789525180270421\n",
      "Epoch 8 train mse:0.37161024\n",
      "\t valid mse 0.3764392560064972\n",
      "Epoch 9 train mse:0.36818838\n",
      "\t valid mse 0.3723501177037111\n",
      "Epoch 10 train mse:0.36316065\n",
      "\t valid mse 0.45840851322212944\n",
      "Epoch 11 train mse:0.35591495\n",
      "\t valid mse 0.37091831357920124\n",
      "Epoch 12 train mse:0.37033064\n",
      "\t valid mse 0.7500539140960183\n",
      "Epoch 13 train mse:0.36093804\n",
      "\t valid mse 0.37151266102108216\n",
      "Epoch 14 train mse:0.36973777\n",
      "\t valid mse 0.3628605171736531\n",
      "Epoch 15 train mse:0.34583664\n",
      "\t valid mse 0.36244670029045195\n",
      "Epoch 16 train mse:0.34309358\n",
      "\t valid mse 0.3593220409097531\n",
      "Epoch 17 train mse:0.34880975\n",
      "\t valid mse 0.3644212275922367\n",
      "Epoch 18 train mse:0.35528913\n",
      "\t valid mse 0.354697115218025\n",
      "Epoch 19 train mse:0.35140994\n",
      "\t valid mse 0.35496713246886674\n",
      "Epoch 20 train mse:0.34820822\n",
      "\t valid mse 0.3568017019313351\n",
      "Epoch 21 train mse:0.32907382\n",
      "\t valid mse 0.35244199315072644\n",
      "Epoch 22 train mse:0.34570983\n",
      "\t valid mse 0.35031118019853513\n",
      "Epoch 23 train mse:0.34553028\n",
      "\t valid mse 0.3488626067113958\n",
      "Epoch 24 train mse:0.32878798\n",
      "\t valid mse 0.34925664934396305\n",
      "Epoch 25 train mse:0.34123528\n",
      "\t valid mse 0.34833093711641455\n",
      "Epoch 26 train mse:0.34389594\n",
      "\t valid mse 0.34850712944679635\n",
      "Epoch 27 train mse:0.34017614\n",
      "\t valid mse 0.34732961160591824\n",
      "Epoch 28 train mse:0.34305736\n",
      "\t valid mse 0.3486796015931516\n",
      "Epoch 29 train mse:0.33333984\n",
      "\t valid mse 0.35205390961283745\n",
      "Epoch 30 train mse:0.33737883\n",
      "\t valid mse 0.34483161377514954\n",
      "Epoch 31 train mse:0.34313256\n",
      "\t valid mse 0.34344657142194895\n",
      "Epoch 32 train mse:0.32325155\n",
      "\t valid mse 0.3996426477174071\n",
      "Epoch 33 train mse:0.33425584\n",
      "\t valid mse 0.35308838465074044\n",
      "Epoch 34 train mse:0.33311492\n",
      "\t valid mse 0.3423389244855761\n",
      "Epoch 35 train mse:0.32200733\n",
      "\t valid mse 0.3405298373583176\n",
      "Epoch 36 train mse:0.32321107\n",
      "\t valid mse 0.35561411742799276\n",
      "Epoch 37 train mse:0.32496858\n",
      "\t valid mse 0.34225809073205493\n",
      "Epoch 38 train mse:0.34295478\n",
      "\t valid mse 0.34499765630431817\n",
      "Epoch 39 train mse:0.57398956\n",
      "\t valid mse 0.3889369828155497\n",
      "Epoch 40 train mse:0.36711556\n",
      "\t valid mse 0.35131994495942176\n",
      "Epoch 41 train mse:0.32094148\n",
      "\t valid mse 0.35195851330183525\n",
      "Epoch 42 train mse:0.49541087\n",
      "\t valid mse 0.4055951396656393\n",
      "Epoch 43 train mse:0.35524228\n",
      "\t valid mse 0.3593692658044206\n",
      "Epoch 44 train mse:0.34639835\n",
      "\t valid mse 0.3565105363723326\n",
      "Epoch 45 train mse:0.34466735\n",
      "\t valid mse 0.35420640585539437\n",
      "Epoch 46 train mse:0.32903957\n",
      "\t valid mse 0.3548974917274443\n",
      "Epoch 47 train mse:0.31871116\n",
      "\t valid mse 0.3506350120966297\n",
      "Epoch 48 train mse:0.33741808\n",
      "\t valid mse 0.3495118156159464\n",
      "Epoch 49 train mse:0.32084486\n",
      "\t valid mse 0.34348798888848237\n",
      "Epoch 50 train mse:0.33082363\n",
      "\t valid mse 0.3467273670592198\n",
      "Epoch 51 train mse:0.31634998\n",
      "\t valid mse 0.3549375555052252\n",
      "Epoch 52 train mse:0.33152542\n",
      "\t valid mse 0.34679997778072486\n",
      "Epoch 53 train mse:0.34010988\n",
      "\t valid mse 0.3427413347636355\n",
      "Epoch 54 train mse:0.33671063\n",
      "\t valid mse 0.3422512557250574\n",
      "Epoch 55 train mse:0.32256122\n",
      "\t valid mse 0.34792815557826856\n",
      "Epoch 56 train mse:0.32248196\n",
      "\t valid mse 0.34199299351018947\n",
      "Epoch 57 train mse:0.32572716\n",
      "\t valid mse 0.33759366981278427\n",
      "Epoch 58 train mse:0.30162925\n",
      "\t valid mse 0.34443254529315515\n",
      "Epoch 59 train mse:0.31569788\n",
      "\t valid mse 0.3393723089463083\n",
      "Epoch 60 train mse:0.32900992\n",
      "\t valid mse 0.3402559545027831\n",
      "Epoch 61 train mse:0.32797766\n",
      "\t valid mse 0.339607026842447\n",
      "Epoch 62 train mse:0.31528774\n",
      "\t valid mse 0.33536298059976305\n",
      "Epoch 63 train mse:0.32527886\n",
      "\t valid mse 0.33643309032257807\n",
      "Epoch 64 train mse:0.32311606\n",
      "\t valid mse 0.33825739350482953\n",
      "Epoch 65 train mse:0.31487727\n",
      "\t valid mse 0.3457742255906532\n",
      "Epoch 66 train mse:0.30581777\n",
      "\t valid mse 0.3367895188044134\n",
      "Epoch 67 train mse:0.30821842\n",
      "\t valid mse 0.33613178866032156\n",
      "Epoch 68 train mse:0.30301445\n",
      "\t valid mse 0.3363902276366867\n",
      "Epoch 69 train mse:0.30709196\n",
      "\t valid mse 0.33986587588739786\n",
      "Epoch 70 train mse:0.31556722\n",
      "\t valid mse 0.3385477279566165\n",
      "Epoch 71 train mse:0.31374127\n",
      "\t valid mse 0.3334614652846278\n",
      "Epoch 72 train mse:0.31122407\n",
      "\t valid mse 0.3336651093794207\n",
      "Epoch 73 train mse:0.31371556\n",
      "\t valid mse 0.3369712208448198\n",
      "Epoch 74 train mse:0.30575696\n",
      "\t valid mse 0.33345857339978846\n",
      "Epoch 75 train mse:0.30954587\n",
      "\t valid mse 0.34287426229780377\n",
      "Epoch 76 train mse:0.30113482\n",
      "\t valid mse 0.3318418373806699\n",
      "Epoch 77 train mse:0.30835134\n",
      "\t valid mse 0.344610560362489\n",
      "Epoch 78 train mse:0.31891334\n",
      "\t valid mse 0.33368105783065055\n",
      "Epoch 79 train mse:0.30915797\n",
      "\t valid mse 0.33568856747476017\n",
      "Epoch 80 train mse:0.29297573\n",
      "\t valid mse 0.3321986318033182\n",
      "Epoch 81 train mse:0.30013028\n",
      "\t valid mse 0.33437229807606844\n",
      "Epoch 82 train mse:0.30140305\n",
      "\t valid mse 0.3341903293817269\n",
      "Epoch 83 train mse:0.31029293\n",
      "\t valid mse 0.32892133162385256\n",
      "Epoch 84 train mse:0.29260242\n",
      "\t valid mse 0.32996326213460003\n",
      "Epoch 85 train mse:0.30660936\n",
      "\t valid mse 0.33459955072616765\n",
      "Epoch 86 train mse:0.30501637\n",
      "\t valid mse 0.33298149873262084\n",
      "Epoch 87 train mse:0.30435538\n",
      "\t valid mse 0.32974776530654437\n",
      "Epoch 88 train mse:0.30312385\n",
      "\t valid mse 0.3338305387181414\n",
      "Epoch 89 train mse:0.31684526\n",
      "\t valid mse 0.3299771491047566\n",
      "Epoch 90 train mse:0.29709832\n",
      "\t valid mse 0.33007125345303645\n",
      "Epoch 91 train mse:0.30822524\n",
      "\t valid mse 0.3352151610163935\n",
      "Epoch 92 train mse:0.29211082\n",
      "\t valid mse 0.354069998866586\n",
      "Epoch 93 train mse:0.31551383\n",
      "\t valid mse 0.3341722091457484\n",
      "Epoch 94 train mse:0.30666247\n",
      "\t valid mse 0.32677855995898086\n",
      "Epoch 95 train mse:0.28472086\n",
      "\t valid mse 0.3290289701076332\n",
      "Epoch 96 train mse:0.30121818\n",
      "\t valid mse 0.3280314556702578\n",
      "Epoch 97 train mse:0.29801822\n",
      "\t valid mse 0.32559631149399776\n",
      "Epoch 98 train mse:0.29384738\n",
      "\t valid mse 0.3265003484903177\n",
      "Epoch 99 train mse:0.31465912\n",
      "\t valid mse 0.32757423120822654\n"
     ]
    }
   ],
   "source": [
    "# 代替model.fit()\n",
    "for epoch in range(epochs):  # 每一轮epochs训练所有的样本\n",
    "    metric.reset_states()  # 清空重置损失\n",
    "    for step in range(steps_per_epoch):\n",
    "        # 随机取32个样本\n",
    "        x_batch, y_batch = random_batch(x_train_scaled, y_train, batch_size)\n",
    "        with tf.GradientTape() as tape:\n",
    "            # 得到预测值 等价于model.predict(用于批量处理大量输入)\n",
    "            y_pred = model(x_batch)  # 函数式调用(调用__call__方法) 适合小批量数据\n",
    "            # model(x_valid_scaled)返回二维(num_examples, 1)，而y_pred是一维(num_examples, )\n",
    "            # 二阶张量变为一阶张量\n",
    "            y_pred = tf.squeeze(y_pred, 1)\n",
    "            # 计算损失\n",
    "            loss = keras.losses.mean_squared_error(y_batch, y_pred)\n",
    "            # 一次epoch的均方误差\n",
    "            metric(y_batch, y_pred)\n",
    "        # 求梯度\n",
    "        grads = tape.gradient(loss, model.variables)\n",
    "        # 梯度和变量绑定\n",
    "        grads_and_vars = zip(grads, model.variables)\n",
    "        # 通过grads更新模型的model.variables 即w,b\n",
    "        optimizer.apply_gradients(grads_and_vars)\n",
    "        print(\"Epoch \" + str(epoch) + \" train mse:\" + str(metric.result().numpy()), end='\\r')\n",
    "    print('')  # 新起一行显示\n",
    "    # 验证集验证\n",
    "    y_valid_pred = model(x_valid_scaled)\n",
    "    # print(y_valid_pred.shape) # (3870, 1)\n",
    "    y_valid_pred = tf.squeeze(y_valid_pred, 1)\n",
    "    # print(y_valid_pred.shape) # (3870, )\n",
    "    valid_loss = keras.losses.mean_squared_error(y_valid_pred, y_valid)\n",
    "    print('\\t', 'valid mse', valid_loss.numpy())\n",
    "\n",
    "\n",
    "\n"
   ]
  }
 ],
 "metadata": {
  "kernelspec": {
   "display_name": "Python 3 (ipykernel)",
   "language": "python",
   "name": "python3"
  },
  "language_info": {
   "codemirror_mode": {
    "name": "ipython",
    "version": 3
   },
   "file_extension": ".py",
   "mimetype": "text/x-python",
   "name": "python",
   "nbconvert_exporter": "python",
   "pygments_lexer": "ipython3",
   "version": "3.9.7"
  }
 },
 "nbformat": 4,
 "nbformat_minor": 1
}
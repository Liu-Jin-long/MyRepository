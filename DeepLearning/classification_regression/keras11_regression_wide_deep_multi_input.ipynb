{
 "cells": [
  {
   "cell_type": "code",
   "execution_count": 43,
   "metadata": {
    "pycharm": {
     "name": "#%%\n"
    }
   },
   "outputs": [
    {
     "name": "stdout",
     "output_type": "stream",
     "text": [
      "2.9.1\n",
      "sys.version_info(major=3, minor=9, micro=7, releaselevel='final', serial=0)\n",
      "matplotlib 3.5.2\n",
      "numpy 1.23.0\n",
      "pandas 1.4.3\n",
      "sklearn 1.1.1\n",
      "tensorflow 2.9.1\n",
      "keras.api._v2.keras 2.9.0\n"
     ]
    }
   ],
   "source": [
    "import matplotlib as mpl\n",
    "import matplotlib.pyplot as plt\n",
    "%matplotlib inline\n",
    "import numpy as np\n",
    "import sklearn\n",
    "import pandas as pd\n",
    "import os\n",
    "import sys\n",
    "import time\n",
    "import tensorflow as tf\n",
    "\n",
    "from tensorflow import keras\n",
    "\n",
    "print(tf.__version__)\n",
    "print(sys.version_info)\n",
    "for module in mpl, np, pd, sklearn, tf, keras:\n",
    "    print(module.__name__, module.__version__)"
   ]
  },
  {
   "cell_type": "code",
   "execution_count": 44,
   "metadata": {
    "pycharm": {
     "name": "#%%\n"
    }
   },
   "outputs": [
    {
     "name": "stdout",
     "output_type": "stream",
     "text": [
      ".. _california_housing_dataset:\n",
      "\n",
      "California Housing dataset\n",
      "--------------------------\n",
      "\n",
      "**Data Set Characteristics:**\n",
      "\n",
      "    :Number of Instances: 20640\n",
      "\n",
      "    :Number of Attributes: 8 numeric, predictive attributes and the target\n",
      "\n",
      "    :Attribute Information:\n",
      "        - MedInc        median income in block group\n",
      "        - HouseAge      median house age in block group\n",
      "        - AveRooms      average number of rooms per household\n",
      "        - AveBedrms     average number of bedrooms per household\n",
      "        - Population    block group population\n",
      "        - AveOccup      average number of household members\n",
      "        - Latitude      block group latitude\n",
      "        - Longitude     block group longitude\n",
      "\n",
      "    :Missing Attribute Values: None\n",
      "\n",
      "This dataset was obtained from the StatLib repository.\n",
      "https://www.dcc.fc.up.pt/~ltorgo/Regression/cal_housing.html\n",
      "\n",
      "The target variable is the median house value for California districts,\n",
      "expressed in hundreds of thousands of dollars ($100,000).\n",
      "\n",
      "This dataset was derived from the 1990 U.S. census, using one row per census\n",
      "block group. A block group is the smallest geographical unit for which the U.S.\n",
      "Census Bureau publishes sample data (a block group typically has a population\n",
      "of 600 to 3,000 people).\n",
      "\n",
      "An household is a group of people residing within a home. Since the average\n",
      "number of rooms and bedrooms in this dataset are provided per household, these\n",
      "columns may take surpinsingly large values for block groups with few households\n",
      "and many empty houses, such as vacation resorts.\n",
      "\n",
      "It can be downloaded/loaded using the\n",
      ":func:`sklearn.datasets.fetch_california_housing` function.\n",
      "\n",
      ".. topic:: References\n",
      "\n",
      "    - Pace, R. Kelley and Ronald Barry, Sparse Spatial Autoregressions,\n",
      "      Statistics and Probability Letters, 33 (1997) 291-297\n",
      "\n",
      "(20640, 8)\n",
      "(20640,)\n"
     ]
    }
   ],
   "source": [
    "from sklearn.datasets import fetch_california_housing\n",
    "\n",
    "housing = fetch_california_housing()\n",
    "print(housing.DESCR)\n",
    "print(housing.data.shape)\n",
    "print(housing.target.shape)"
   ]
  },
  {
   "cell_type": "code",
   "execution_count": 45,
   "metadata": {
    "pycharm": {
     "name": "#%%\n"
    }
   },
   "outputs": [
    {
     "name": "stdout",
     "output_type": "stream",
     "text": [
      "(11610, 8) (11610,)\n",
      "(3870, 8) (3870,)\n",
      "(5160, 8) (5160,)\n"
     ]
    }
   ],
   "source": [
    "from sklearn.model_selection import train_test_split\n",
    "\n",
    "x_train_all, x_test, y_train_all, y_test = train_test_split(\n",
    "    housing.data, housing.target, random_state=7)\n",
    "x_train, x_valid, y_train, y_valid = train_test_split(\n",
    "    x_train_all, y_train_all, random_state=11)\n",
    "print(x_train.shape, y_train.shape)\n",
    "print(x_valid.shape, y_valid.shape)\n",
    "print(x_test.shape, y_test.shape)"
   ]
  },
  {
   "cell_type": "code",
   "execution_count": 46,
   "metadata": {
    "pycharm": {
     "name": "#%%\n"
    }
   },
   "outputs": [],
   "source": [
    "from sklearn.preprocessing import StandardScaler\n",
    "\n",
    "scaler = StandardScaler()\n",
    "x_train_scaled = scaler.fit_transform(x_train)\n",
    "x_valid_scaled = scaler.transform(x_valid)\n",
    "x_test_scaled = scaler.transform(x_test)"
   ]
  },
  {
   "cell_type": "code",
   "execution_count": 47,
   "metadata": {
    "pycharm": {
     "name": "#%%\n"
    }
   },
   "outputs": [
    {
     "name": "stdout",
     "output_type": "stream",
     "text": [
      "KerasTensor(type_spec=TensorSpec(shape=(None, 5), dtype=tf.float32, name='input_9'), name='input_9', description=\"created by layer 'input_9'\")\n",
      "<class 'keras.engine.keras_tensor.KerasTensor'>\n",
      "KerasTensor(type_spec=TensorSpec(shape=(None, 6), dtype=tf.float32, name='input_10'), name='input_10', description=\"created by layer 'input_10'\")\n",
      "<class 'keras.engine.keras_tensor.KerasTensor'>\n"
     ]
    }
   ],
   "source": [
    "# 多输入 wind和deep的输入不同\n",
    "input_wide = keras.layers.Input(shape=[5])\n",
    "print(input_wide)\n",
    "print(type(input_wide))\n",
    "input_deep = keras.layers.Input(shape=[6])\n",
    "print(input_deep)\n",
    "print(type(input_deep))"
   ]
  },
  {
   "cell_type": "code",
   "execution_count": 48,
   "metadata": {
    "pycharm": {
     "name": "#%%\n"
    }
   },
   "outputs": [],
   "source": [
    "hidden1 = keras.layers.Dense(30, activation='relu')(input_deep)\n",
    "hidden2 = keras.layers.Dense(30, activation='relu')(hidden1)\n",
    "concat = keras.layers.concatenate([input_wide, hidden2])\n",
    "output = keras.layers.Dense(1)(concat)\n",
    "model = keras.models.Model(inputs=[input_wide, input_deep],\n",
    "                           outputs=[output])\n",
    "model.compile(loss='mean_squared_error', optimizer='sgd')\n",
    "callbacks = [keras.callbacks.EarlyStopping(patience=5, min_delta=1e-3)]"
   ]
  },
  {
   "cell_type": "code",
   "execution_count": 49,
   "metadata": {
    "pycharm": {
     "name": "#%%\n"
    }
   },
   "outputs": [
    {
     "name": "stdout",
     "output_type": "stream",
     "text": [
      "Model: \"model_4\"\n",
      "__________________________________________________________________________________________________\n",
      " Layer (type)                   Output Shape         Param #     Connected to                     \n",
      "==================================================================================================\n",
      " input_10 (InputLayer)          [(None, 6)]          0           []                               \n",
      "                                                                                                  \n",
      " dense_15 (Dense)               (None, 30)           210         ['input_10[0][0]']               \n",
      "                                                                                                  \n",
      " input_9 (InputLayer)           [(None, 5)]          0           []                               \n",
      "                                                                                                  \n",
      " dense_16 (Dense)               (None, 30)           930         ['dense_15[0][0]']               \n",
      "                                                                                                  \n",
      " concatenate_5 (Concatenate)    (None, 35)           0           ['input_9[0][0]',                \n",
      "                                                                  'dense_16[0][0]']               \n",
      "                                                                                                  \n",
      " dense_17 (Dense)               (None, 1)            36          ['concatenate_5[0][0]']          \n",
      "                                                                                                  \n",
      "==================================================================================================\n",
      "Total params: 1,176\n",
      "Trainable params: 1,176\n",
      "Non-trainable params: 0\n",
      "__________________________________________________________________________________________________\n",
      "None\n"
     ]
    }
   ],
   "source": [
    "print(model.summary())"
   ]
  },
  {
   "cell_type": "code",
   "execution_count": 50,
   "metadata": {
    "pycharm": {
     "name": "#%%\n"
    }
   },
   "outputs": [
    {
     "name": "stdout",
     "output_type": "stream",
     "text": [
      "[[ 0.80154431  0.27216142 -0.11624393 -0.20231151 -0.54305157]\n",
      " [-0.29807281  0.35226166 -0.10920508 -0.25055521 -0.03406402]\n",
      " [-0.03058829 -0.92934213  0.25962148 -0.00601274 -0.50040912]\n",
      " [ 1.90638325  0.51246213  0.4475828  -0.27672178 -0.63105833]\n",
      " [ 3.88017387 -0.92934213  1.29029867 -0.17269133 -0.22550141]]\n",
      "[[-0.11624393 -0.20231151 -0.54305157 -0.02103962 -0.58976206 -0.08241846]\n",
      " [-0.10920508 -0.25055521 -0.03406402 -0.006034    1.08055484 -1.06113817]\n",
      " [ 0.25962148 -0.00601274 -0.50040912 -0.03077987  1.59844639 -1.81515182]\n",
      " [ 0.4475828  -0.27672178 -0.63105833 -0.07081147 -0.7064043   0.74649722]\n",
      " [ 1.29029867 -0.17269133 -0.22550141  0.0514101  -0.84637499  0.88631432]]\n"
     ]
    }
   ],
   "source": [
    "# wide选的是前面5列，deep选的是后面6列\n",
    "x_train_scaled_wide = x_train_scaled[:, :5]\n",
    "x_train_scaled_deep = x_train_scaled[:, 2:]\n",
    "x_valid_scaled_wide = x_valid_scaled[:, :5]\n",
    "x_valid_scaled_deep = x_valid_scaled[:, 2:]\n",
    "x_test_scaled_wide = x_test_scaled[:, :5]\n",
    "x_test_scaled_deep = x_test_scaled[:, 2:]\n",
    "print(x_train_scaled_wide[:5])\n",
    "print(x_train_scaled_deep[:5])\n",
    "x_train_scaled_wide = x_train_scaled_wide[:10000]\n",
    "x_train_scaled_deep = x_train_scaled_deep[:10000]\n",
    "y_train = y_train[:10000]"
   ]
  },
  {
   "cell_type": "code",
   "execution_count": 51,
   "metadata": {
    "pycharm": {
     "name": "#%%\n"
    }
   },
   "outputs": [
    {
     "name": "stdout",
     "output_type": "stream",
     "text": [
      "Epoch 1/100\n",
      "313/313 [==============================] - 1s 1ms/step - loss: 1.4115 - val_loss: 0.9316\n",
      "Epoch 2/100\n",
      "313/313 [==============================] - 0s 1ms/step - loss: 0.8138 - val_loss: 0.5111\n",
      "Epoch 3/100\n",
      "313/313 [==============================] - 0s 1ms/step - loss: 0.4887 - val_loss: 0.4854\n",
      "Epoch 4/100\n",
      "313/313 [==============================] - 0s 1ms/step - loss: 0.4365 - val_loss: 0.4483\n",
      "Epoch 5/100\n",
      "313/313 [==============================] - 0s 1ms/step - loss: 0.4217 - val_loss: 0.4499\n",
      "Epoch 6/100\n",
      "313/313 [==============================] - 0s 1ms/step - loss: 0.4101 - val_loss: 0.4371\n",
      "Epoch 7/100\n",
      "313/313 [==============================] - 0s 1ms/step - loss: 0.4122 - val_loss: 0.4334\n",
      "Epoch 8/100\n",
      "313/313 [==============================] - 0s 1ms/step - loss: 0.3989 - val_loss: 0.4247\n",
      "Epoch 9/100\n",
      "313/313 [==============================] - 0s 1ms/step - loss: 0.3897 - val_loss: 0.4022\n",
      "Epoch 10/100\n",
      "313/313 [==============================] - 0s 1ms/step - loss: 0.3881 - val_loss: 0.4014\n",
      "Epoch 11/100\n",
      "313/313 [==============================] - 0s 1ms/step - loss: 0.3778 - val_loss: 0.3953\n",
      "Epoch 12/100\n",
      "313/313 [==============================] - 0s 1ms/step - loss: 0.3733 - val_loss: 0.3958\n",
      "Epoch 13/100\n",
      "313/313 [==============================] - 0s 1ms/step - loss: 0.3765 - val_loss: 0.3838\n",
      "Epoch 14/100\n",
      "313/313 [==============================] - 0s 1ms/step - loss: 0.3643 - val_loss: 0.3856\n",
      "Epoch 15/100\n",
      "313/313 [==============================] - 0s 1ms/step - loss: 0.3674 - val_loss: 0.3791\n",
      "Epoch 16/100\n",
      "313/313 [==============================] - 0s 1ms/step - loss: 0.3587 - val_loss: 0.3680\n",
      "Epoch 17/100\n",
      "313/313 [==============================] - 0s 1ms/step - loss: 0.3560 - val_loss: 0.3689\n",
      "Epoch 18/100\n",
      "313/313 [==============================] - 0s 1ms/step - loss: 0.3512 - val_loss: 0.3698\n",
      "Epoch 19/100\n",
      "313/313 [==============================] - 0s 1ms/step - loss: 0.3505 - val_loss: 0.3641\n",
      "Epoch 20/100\n",
      "313/313 [==============================] - 0s 1ms/step - loss: 0.3466 - val_loss: 0.3603\n",
      "Epoch 21/100\n",
      "313/313 [==============================] - 0s 1ms/step - loss: 0.3428 - val_loss: 0.3531\n",
      "Epoch 22/100\n",
      "313/313 [==============================] - 0s 1ms/step - loss: 0.3441 - val_loss: 0.3558\n",
      "Epoch 23/100\n",
      "313/313 [==============================] - 0s 1ms/step - loss: 0.3406 - val_loss: 0.3506\n",
      "Epoch 24/100\n",
      "313/313 [==============================] - 0s 1ms/step - loss: 0.3377 - val_loss: 0.3617\n",
      "Epoch 25/100\n",
      "313/313 [==============================] - 0s 1ms/step - loss: 0.3358 - val_loss: 0.3514\n",
      "Epoch 26/100\n",
      "313/313 [==============================] - 0s 1ms/step - loss: 0.3353 - val_loss: 0.3568\n",
      "Epoch 27/100\n",
      "313/313 [==============================] - 0s 1ms/step - loss: 0.3339 - val_loss: 0.3501\n",
      "Epoch 28/100\n",
      "313/313 [==============================] - 0s 1ms/step - loss: 0.3323 - val_loss: 0.3623\n"
     ]
    }
   ],
   "source": [
    "history = model.fit([x_train_scaled_wide, x_train_scaled_deep],\n",
    "                    y_train,\n",
    "                    validation_data=([x_valid_scaled_wide, x_valid_scaled_deep], y_valid),\n",
    "                    epochs=100, callbacks=callbacks,workers=-1)"
   ]
  },
  {
   "cell_type": "code",
   "execution_count": 52,
   "metadata": {
    "pycharm": {
     "name": "#%%\n"
    }
   },
   "outputs": [
    {
     "data": {
      "image/png": "[encoded data removed]",
      "text/plain": [
       "<Figure size 576x360 with 1 Axes>"
      ]
     },
     "metadata": {
      "needs_background": "light"
     },
     "output_type": "display_data"
    }
   ],
   "source": [
    "def plot_learning_curves(history):\n",
    "    pd.DataFrame(history.history).plot(figsize=(8, 5))\n",
    "    plt.grid(True)\n",
    "    plt.gca().set_ylim(0, 1)\n",
    "    plt.show()\n",
    "\n",
    "\n",
    "plot_learning_curves(history)"
   ]
  },
  {
   "cell_type": "code",
   "execution_count": 53,
   "metadata": {
    "pycharm": {
     "name": "#%%\n"
    }
   },
   "outputs": [
    {
     "name": "stdout",
     "output_type": "stream",
     "text": [
      "162/162 [==============================] - 0s 811us/step - loss: 0.3617\n",
      "0.3616737723350525\n"
     ]
    }
   ],
   "source": [
    "print(model.evaluate([x_test_scaled_wide, x_test_scaled_deep], y_test, verbose=1))"
   ]
  }
 ],
 "metadata": {
  "kernelspec": {
   "display_name": "Python 3 (ipykernel)",
   "language": "python",
   "name": "python3"
  },
  "language_info": {
   "codemirror_mode": {
    "name": "ipython",
    "version": 3
   },
   "file_extension": ".py",
   "mimetype": "text/x-python",
   "name": "python",
   "nbconvert_exporter": "python",
   "pygments_lexer": "ipython3",
   "version": "3.9.7"
  }
 },
 "nbformat": 4,
 "nbformat_minor": 1
}
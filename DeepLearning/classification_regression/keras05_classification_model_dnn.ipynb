{
 "cells": [
  {
   "cell_type": "code",
   "execution_count": 1,
   "id": "e3176413",
   "metadata": {},
   "outputs": [],
   "source": [
    "# 深度神经网络"
   ]
  },
  {
   "cell_type": "code",
   "execution_count": null,
   "outputs": [],
   "source": [
    "import matplotlib as mpl\n",
    "import matplotlib.pyplot as plt\n",
    "%matplotlib inline\n",
    "import numpy as np\n",
    "import sklearn\n",
    "import pandas as pd\n",
    "import os\n",
    "import sys\n",
    "import time\n",
    "import tensorflow as tf\n",
    "\n",
    "from tensorflow import keras\n"
   ],
   "metadata": {
    "collapsed": false,
    "pycharm": {
     "name": "#%%\n"
    }
   }
  },
  {
   "cell_type": "code",
   "execution_count": 2,
   "id": "392ecc81",
   "metadata": {},
   "outputs": [
    {
     "name": "stdout",
     "output_type": "stream",
     "text": [
      "(5000, 28, 28) (5000,)\n",
      "(55000, 28, 28) (55000,)\n",
      "(10000, 28, 28) (10000,)\n"
     ]
    }
   ],
   "source": [
    "fashion_mnist = keras.datasets.fashion_mnist\n",
    "(x_train_all, y_train_all), (x_test, y_test) = fashion_mnist.load_data()\n",
    "x_valid, x_train = x_train_all[:5000], x_train_all[5000:]\n",
    "y_valid, y_train = y_train_all[:5000], y_train_all[5000:]\n",
    "\n",
    "print(x_valid.shape, y_valid.shape)\n",
    "print(x_train.shape, y_train.shape)\n",
    "print(x_test.shape, y_test.shape)"
   ]
  },
  {
   "cell_type": "code",
   "execution_count": 9,
   "id": "892f7704",
   "metadata": {},
   "outputs": [],
   "source": [
    "from sklearn.preprocessing import StandardScaler\n",
    "\n",
    "scaler = StandardScaler()\n",
    "# x_train: [None, 28, 28] -> [None, 784]\n",
    "x_train_scaled = scaler.fit_transform(\n",
    "    x_train.astype(np.float32).reshape(-1, 1)).reshape(-1, 28, 28)\n",
    "x_valid_scaled = scaler.transform(\n",
    "    x_valid.astype(np.float32).reshape(-1, 1)).reshape(-1, 28, 28)\n",
    "x_test_scaled = scaler.transform(\n",
    "    x_test.astype(np.float32).reshape(-1, 1)).reshape(-1, 28, 28)"
   ]
  },
  {
   "cell_type": "code",
   "execution_count": 12,
   "id": "e7a9cc5f",
   "metadata": {},
   "outputs": [],
   "source": [
    "model=keras.models.Sequential()\n",
    "model.add(keras.layers.Flatten(input_shape=[28,28]))\n",
    "for i in range(20):\n",
    "    model.add(keras.layers.Dense(100,activation='relu'))\n",
    "model.add(keras.layers.Dense(10,activation='softmax'))\n",
    "model.compile(loss=\"sparse_categorical_crossentropy\",\n",
    "              optimizer = keras.optimizers.SGD(0.001),\n",
    "              metrics = [\"accuracy\"])"
   ]
  },
  {
   "cell_type": "code",
   "execution_count": 13,
   "id": "d9b166c8",
   "metadata": {},
   "outputs": [
    {
     "name": "stdout",
     "output_type": "stream",
     "text": [
      "Model: \"sequential_1\"\n",
      "_________________________________________________________________\n",
      "Layer (type)                 Output Shape              Param #   \n",
      "=================================================================\n",
      "flatten_1 (Flatten)          (None, 784)               0         \n",
      "_________________________________________________________________\n",
      "dense_21 (Dense)             (None, 100)               78500     \n",
      "_________________________________________________________________\n",
      "dense_22 (Dense)             (None, 100)               10100     \n",
      "_________________________________________________________________\n",
      "dense_23 (Dense)             (None, 100)               10100     \n",
      "_________________________________________________________________\n",
      "dense_24 (Dense)             (None, 100)               10100     \n",
      "_________________________________________________________________\n",
      "dense_25 (Dense)             (None, 100)               10100     \n",
      "_________________________________________________________________\n",
      "dense_26 (Dense)             (None, 100)               10100     \n",
      "_________________________________________________________________\n",
      "dense_27 (Dense)             (None, 100)               10100     \n",
      "_________________________________________________________________\n",
      "dense_28 (Dense)             (None, 100)               10100     \n",
      "_________________________________________________________________\n",
      "dense_29 (Dense)             (None, 100)               10100     \n",
      "_________________________________________________________________\n",
      "dense_30 (Dense)             (None, 100)               10100     \n",
      "_________________________________________________________________\n",
      "dense_31 (Dense)             (None, 100)               10100     \n",
      "_________________________________________________________________\n",
      "dense_32 (Dense)             (None, 100)               10100     \n",
      "_________________________________________________________________\n",
      "dense_33 (Dense)             (None, 100)               10100     \n",
      "_________________________________________________________________\n",
      "dense_34 (Dense)             (None, 100)               10100     \n",
      "_________________________________________________________________\n",
      "dense_35 (Dense)             (None, 100)               10100     \n",
      "_________________________________________________________________\n",
      "dense_36 (Dense)             (None, 100)               10100     \n",
      "_________________________________________________________________\n",
      "dense_37 (Dense)             (None, 100)               10100     \n",
      "_________________________________________________________________\n",
      "dense_38 (Dense)             (None, 100)               10100     \n",
      "_________________________________________________________________\n",
      "dense_39 (Dense)             (None, 100)               10100     \n",
      "_________________________________________________________________\n",
      "dense_40 (Dense)             (None, 100)               10100     \n",
      "_________________________________________________________________\n",
      "dense_41 (Dense)             (None, 10)                1010      \n",
      "=================================================================\n",
      "Total params: 271,410\n",
      "Trainable params: 271,410\n",
      "Non-trainable params: 0\n",
      "_________________________________________________________________\n",
      "None\n"
     ]
    }
   ],
   "source": [
    "print(model.summary())"
   ]
  },
  {
   "cell_type": "code",
   "execution_count": 14,
   "id": "e51a0734",
   "metadata": {},
   "outputs": [
    {
     "name": "stdout",
     "output_type": "stream",
     "text": [
      "[<keras.layers.core.Flatten object at 0x7fa48a100668>, <keras.layers.core.Dense object at 0x7fa48a0765c0>, <keras.layers.core.Dense object at 0x7fa47aaf2780>, <keras.layers.core.Dense object at 0x7fa47aafb978>, <keras.layers.core.Dense object at 0x7fa47aafe5f8>, <keras.layers.core.Dense object at 0x7fa47aafee80>, <keras.layers.core.Dense object at 0x7fa47aaf5f98>, <keras.layers.core.Dense object at 0x7fa47ab08588>, <keras.layers.core.Dense object at 0x7fa47ab08ac8>, <keras.layers.core.Dense object at 0x7fa47aafe278>, <keras.layers.core.Dense object at 0x7fa47aaf5278>, <keras.layers.core.Dense object at 0x7fa48a0f2d68>, <keras.layers.core.Dense object at 0x7fa47ab03630>, <keras.layers.core.Dense object at 0x7fa47ab0d160>, <keras.layers.core.Dense object at 0x7fa47ab0def0>, <keras.layers.core.Dense object at 0x7fa47ab0d908>, <keras.layers.core.Dense object at 0x7fa47ab11b00>, <keras.layers.core.Dense object at 0x7fa47ab127b8>, <keras.layers.core.Dense object at 0x7fa47ab03470>, <keras.layers.core.Dense object at 0x7fa47ab16518>, <keras.layers.core.Dense object at 0x7fa47ab16da0>, <keras.layers.core.Dense object at 0x7fa47aaf2ef0>]\n"
     ]
    }
   ],
   "source": [
    "print(model.layers)"
   ]
  },
  {
   "cell_type": "code",
   "execution_count": 17,
   "id": "3765d5c0",
   "metadata": {},
   "outputs": [
    {
     "name": "stdout",
     "output_type": "stream",
     "text": [
      "Epoch 1/100\n",
      "1719/1719 [==============================] - 6s 3ms/step - loss: 2.3019 - accuracy: 0.1483 - val_loss: 2.3011 - val_accuracy: 0.0976\n",
      "Epoch 2/100\n",
      "1719/1719 [==============================] - 5s 3ms/step - loss: 2.3000 - accuracy: 0.1490 - val_loss: 2.2985 - val_accuracy: 0.2832\n",
      "Epoch 3/100\n",
      "1719/1719 [==============================] - 5s 3ms/step - loss: 2.2966 - accuracy: 0.2821 - val_loss: 2.2937 - val_accuracy: 0.3194\n",
      "Epoch 4/100\n",
      "1719/1719 [==============================] - 5s 3ms/step - loss: 2.2900 - accuracy: 0.3222 - val_loss: 2.2842 - val_accuracy: 0.3358\n",
      "Epoch 5/100\n",
      "1719/1719 [==============================] - 5s 3ms/step - loss: 2.2761 - accuracy: 0.3121 - val_loss: 2.2633 - val_accuracy: 0.3008\n",
      "Epoch 6/100\n",
      "1719/1719 [==============================] - 5s 3ms/step - loss: 2.2431 - accuracy: 0.2781 - val_loss: 2.2098 - val_accuracy: 0.2876\n",
      "Epoch 7/100\n",
      "1719/1719 [==============================] - 5s 3ms/step - loss: 2.1359 - accuracy: 0.2728 - val_loss: 1.9917 - val_accuracy: 0.2876\n",
      "Epoch 8/100\n",
      "1719/1719 [==============================] - 4s 3ms/step - loss: 1.6728 - accuracy: 0.3441 - val_loss: 1.1731 - val_accuracy: 0.5578\n",
      "Epoch 9/100\n",
      "1719/1719 [==============================] - 4s 3ms/step - loss: 1.0630 - accuracy: 0.5415 - val_loss: 0.9655 - val_accuracy: 0.5756\n",
      "Epoch 10/100\n",
      "1719/1719 [==============================] - 5s 3ms/step - loss: 0.8705 - accuracy: 0.6505 - val_loss: 0.8006 - val_accuracy: 0.6826\n",
      "Epoch 11/100\n",
      "1719/1719 [==============================] - 4s 3ms/step - loss: 0.7786 - accuracy: 0.6905 - val_loss: 0.7449 - val_accuracy: 0.7068\n",
      "Epoch 12/100\n",
      "1719/1719 [==============================] - 4s 3ms/step - loss: 0.7290 - accuracy: 0.7161 - val_loss: 0.6828 - val_accuracy: 0.7512\n",
      "Epoch 13/100\n",
      "1719/1719 [==============================] - 5s 3ms/step - loss: 0.6855 - accuracy: 0.7404 - val_loss: 0.6991 - val_accuracy: 0.7384\n",
      "Epoch 14/100\n",
      "1719/1719 [==============================] - 5s 3ms/step - loss: 0.6478 - accuracy: 0.7578 - val_loss: 0.6355 - val_accuracy: 0.7680\n",
      "Epoch 15/100\n",
      "1719/1719 [==============================] - 5s 3ms/step - loss: 0.6154 - accuracy: 0.7697 - val_loss: 0.6489 - val_accuracy: 0.7598\n",
      "Epoch 16/100\n",
      "1719/1719 [==============================] - 5s 3ms/step - loss: 0.5903 - accuracy: 0.7784 - val_loss: 0.5707 - val_accuracy: 0.7906\n",
      "Epoch 17/100\n",
      "1719/1719 [==============================] - 5s 3ms/step - loss: 0.5641 - accuracy: 0.7889 - val_loss: 0.6024 - val_accuracy: 0.7828\n",
      "Epoch 18/100\n",
      "1719/1719 [==============================] - 5s 3ms/step - loss: 0.5450 - accuracy: 0.7979 - val_loss: 0.5422 - val_accuracy: 0.8018\n",
      "Epoch 19/100\n",
      "1719/1719 [==============================] - 4s 3ms/step - loss: 0.5240 - accuracy: 0.8074 - val_loss: 0.5061 - val_accuracy: 0.8182\n",
      "Epoch 20/100\n",
      "1719/1719 [==============================] - 5s 3ms/step - loss: 0.5034 - accuracy: 0.8183 - val_loss: 0.5223 - val_accuracy: 0.8138\n",
      "Epoch 21/100\n",
      "1719/1719 [==============================] - 5s 3ms/step - loss: 0.4849 - accuracy: 0.8279 - val_loss: 0.4820 - val_accuracy: 0.8366\n",
      "Epoch 22/100\n",
      "1719/1719 [==============================] - 5s 3ms/step - loss: 0.4664 - accuracy: 0.8366 - val_loss: 0.4715 - val_accuracy: 0.8432\n",
      "Epoch 23/100\n",
      "1719/1719 [==============================] - 5s 3ms/step - loss: 0.4509 - accuracy: 0.8437 - val_loss: 0.4509 - val_accuracy: 0.8514\n",
      "Epoch 24/100\n",
      "1719/1719 [==============================] - 5s 3ms/step - loss: 0.4367 - accuracy: 0.8477 - val_loss: 0.4451 - val_accuracy: 0.8448\n",
      "Epoch 25/100\n",
      "1719/1719 [==============================] - 5s 3ms/step - loss: 0.4226 - accuracy: 0.8529 - val_loss: 0.5130 - val_accuracy: 0.8228\n",
      "Epoch 26/100\n",
      "1719/1719 [==============================] - 5s 3ms/step - loss: 0.4108 - accuracy: 0.8568 - val_loss: 0.4321 - val_accuracy: 0.8540\n",
      "Epoch 27/100\n",
      "1719/1719 [==============================] - 5s 3ms/step - loss: 0.4002 - accuracy: 0.8606 - val_loss: 0.4233 - val_accuracy: 0.8564\n",
      "Epoch 28/100\n",
      "1719/1719 [==============================] - 5s 3ms/step - loss: 0.3896 - accuracy: 0.8647 - val_loss: 0.4930 - val_accuracy: 0.8292\n",
      "Epoch 29/100\n",
      "1719/1719 [==============================] - 5s 3ms/step - loss: 0.3796 - accuracy: 0.8672 - val_loss: 0.4579 - val_accuracy: 0.8446\n",
      "Epoch 30/100\n",
      "1719/1719 [==============================] - 5s 3ms/step - loss: 0.3710 - accuracy: 0.8706 - val_loss: 0.4270 - val_accuracy: 0.8510\n",
      "Epoch 31/100\n",
      "1719/1719 [==============================] - 5s 3ms/step - loss: 0.3630 - accuracy: 0.8725 - val_loss: 0.4155 - val_accuracy: 0.8602\n",
      "Epoch 32/100\n",
      "1719/1719 [==============================] - 5s 3ms/step - loss: 0.3555 - accuracy: 0.8766 - val_loss: 0.4197 - val_accuracy: 0.8516\n",
      "Epoch 33/100\n",
      "1719/1719 [==============================] - 5s 3ms/step - loss: 0.3492 - accuracy: 0.8779 - val_loss: 0.4332 - val_accuracy: 0.8492\n",
      "Epoch 34/100\n",
      "1719/1719 [==============================] - 5s 3ms/step - loss: 0.3415 - accuracy: 0.8807 - val_loss: 0.4036 - val_accuracy: 0.8624\n",
      "Epoch 35/100\n",
      "1719/1719 [==============================] - 5s 3ms/step - loss: 0.3358 - accuracy: 0.8826 - val_loss: 0.4003 - val_accuracy: 0.8602\n",
      "Epoch 36/100\n",
      "1719/1719 [==============================] - 5s 3ms/step - loss: 0.3291 - accuracy: 0.8846 - val_loss: 0.4299 - val_accuracy: 0.8566\n",
      "Epoch 37/100\n",
      "1719/1719 [==============================] - 6s 3ms/step - loss: 0.3237 - accuracy: 0.8867 - val_loss: 0.3907 - val_accuracy: 0.8700\n",
      "Epoch 38/100\n",
      "1719/1719 [==============================] - 5s 3ms/step - loss: 0.3177 - accuracy: 0.8890 - val_loss: 0.4097 - val_accuracy: 0.8618\n",
      "Epoch 39/100\n",
      "1719/1719 [==============================] - 5s 3ms/step - loss: 0.3131 - accuracy: 0.8915 - val_loss: 0.3938 - val_accuracy: 0.8674\n",
      "Epoch 40/100\n",
      "1719/1719 [==============================] - 5s 3ms/step - loss: 0.3074 - accuracy: 0.8921 - val_loss: 0.3954 - val_accuracy: 0.8728\n",
      "Epoch 41/100\n",
      "1719/1719 [==============================] - 5s 3ms/step - loss: 0.3030 - accuracy: 0.8946 - val_loss: 0.3991 - val_accuracy: 0.8680\n",
      "Epoch 42/100\n",
      "1719/1719 [==============================] - 5s 3ms/step - loss: 0.2974 - accuracy: 0.8960 - val_loss: 0.3915 - val_accuracy: 0.8708\n"
     ]
    }
   ],
   "source": [
    "logdir='./dnn_callbacks'\n",
    "if not os.path.exists(logdir):\n",
    "    os.mkdir(logdir)\n",
    "output_model_file=os.path.join(logdir,'fashion_mnist_model.h5')\n",
    "callbacks=[\n",
    "    keras.callbacks.TensorBoard(logdir),\n",
    "    keras.callbacks.ModelCheckpoint(output_model_file,\n",
    "                                    save_best_only=True),\n",
    "    keras.callbacks.EarlyStopping(patience=5,min_delta=1e-3)\n",
    "]\n",
    "history=model.fit(x_train_scaled,y_train,epochs=100,\n",
    "                  validation_data=(x_valid_scaled,y_valid),\n",
    "                  callbacks=callbacks)"
   ]
  },
  {
   "cell_type": "code",
   "execution_count": 22,
   "id": "b749564f",
   "metadata": {},
   "outputs": [
    {
     "name": "stdout",
     "output_type": "stream",
     "text": [
      "{'loss': [2.3019185066223145, 2.300013542175293, 2.2965993881225586, 2.2900490760803223, 2.276071548461914, 2.243144989013672, 2.135929584503174, 1.672778844833374, 1.063006043434143, 0.8705018758773804, 0.7786107063293457, 0.7290388345718384, 0.6854574084281921, 0.6477971076965332, 0.6153793931007385, 0.590258777141571, 0.5641178488731384, 0.5450039505958557, 0.5239757895469666, 0.5033694505691528, 0.4849136471748352, 0.4663742184638977, 0.4508724510669708, 0.4367324709892273, 0.4225786328315735, 0.41076987981796265, 0.4002300798892975, 0.38955333828926086, 0.3795815408229828, 0.3709504008293152, 0.3630214035511017, 0.35546571016311646, 0.3492334485054016, 0.3415481448173523, 0.3357781171798706, 0.32912710309028625, 0.32367080450057983, 0.31773218512535095, 0.31312650442123413, 0.3074464797973633, 0.30301088094711304, 0.29742535948753357], 'accuracy': [0.14827272295951843, 0.14896363019943237, 0.2820909023284912, 0.3222363591194153, 0.3121090829372406, 0.2780908942222595, 0.2727818191051483, 0.34409090876579285, 0.5415090918540955, 0.6504545211791992, 0.6905454397201538, 0.7161454558372498, 0.7404000163078308, 0.7578181624412537, 0.7696545720100403, 0.7784000039100647, 0.7888545393943787, 0.7978727221488953, 0.8073636293411255, 0.8183272480964661, 0.8279091119766235, 0.8365636467933655, 0.8436909317970276, 0.8477454781532288, 0.8528545498847961, 0.8568363785743713, 0.8605636358261108, 0.8647090792655945, 0.8672181963920593, 0.8705636262893677, 0.8725090622901917, 0.8766182065010071, 0.8779272437095642, 0.8806545734405518, 0.8826363682746887, 0.8846181631088257, 0.8866727352142334, 0.8889636397361755, 0.8915454745292664, 0.892054557800293, 0.8945817947387695, 0.8960363864898682], 'val_loss': [2.301112413406372, 2.2985358238220215, 2.2937371730804443, 2.2842249870300293, 2.263261079788208, 2.20983624458313, 1.9917395114898682, 1.1730918884277344, 0.9654858112335205, 0.800604522228241, 0.7448630332946777, 0.6828112602233887, 0.6991028189659119, 0.6355124711990356, 0.6489202976226807, 0.570701003074646, 0.6024332642555237, 0.5422385931015015, 0.5060990452766418, 0.5223349928855896, 0.4820203185081482, 0.47147005796432495, 0.4509243071079254, 0.44508057832717896, 0.513024628162384, 0.432084321975708, 0.4232729375362396, 0.49296504259109497, 0.4578630030155182, 0.4270237386226654, 0.4154990315437317, 0.41970688104629517, 0.43321293592453003, 0.40358462929725647, 0.4003077745437622, 0.4298952519893646, 0.39066463708877563, 0.40965181589126587, 0.39378607273101807, 0.39541780948638916, 0.3991100788116455, 0.391504168510437], 'val_accuracy': [0.09759999811649323, 0.2831999957561493, 0.31940001249313354, 0.3357999920845032, 0.30079999566078186, 0.28760001063346863, 0.28760001063346863, 0.5577999949455261, 0.5756000280380249, 0.6826000213623047, 0.7067999839782715, 0.7512000203132629, 0.7383999824523926, 0.7680000066757202, 0.7598000168800354, 0.7906000018119812, 0.782800018787384, 0.801800012588501, 0.8181999921798706, 0.8137999773025513, 0.8366000056266785, 0.8432000279426575, 0.8514000177383423, 0.8447999954223633, 0.8227999806404114, 0.8539999723434448, 0.8564000129699707, 0.829200029373169, 0.8446000218391418, 0.8510000109672546, 0.8601999878883362, 0.8515999913215637, 0.8492000102996826, 0.8623999953269958, 0.8601999878883362, 0.8565999865531921, 0.8700000047683716, 0.8618000149726868, 0.8673999905586243, 0.8727999925613403, 0.8679999709129333, 0.8708000183105469]}\n"
     ]
    }
   ],
   "source": [
    "print(history.history)"
   ]
  },
  {
   "cell_type": "code",
   "execution_count": 23,
   "id": "bf0ce085",
   "metadata": {},
   "outputs": [
    {
     "data": {
      "image/png": "[encoded data removed]",
      "text/plain": [
       "<Figure size 576x360 with 1 Axes>"
      ]
     },
     "metadata": {
      "needs_background": "light"
     },
     "output_type": "display_data"
    }
   ],
   "source": [
    "def plot_learning_curves(history):\n",
    "    pd.DataFrame(history.history).plot(figsize=(8, 5))\n",
    "    plt.grid(True)\n",
    "    plt.gca().set_ylim(0, 1)\n",
    "    plt.show()\n",
    "\n",
    "plot_learning_curves(history)\n",
    "# 如果初期变化效果不明显 可能的原因：\n",
    "# 1. 参数众多，训练不充分\n",
    "# 2. 梯度消失 -> 链式法则 -> 复合函数f(g(x))求导，前期参数太多"
   ]
  },
  {
   "cell_type": "code",
   "execution_count": 24,
   "id": "eadf20a6",
   "metadata": {},
   "outputs": [
    {
     "name": "stdout",
     "output_type": "stream",
     "text": [
      "[0.42106470465660095, 0.859499990940094]\n"
     ]
    }
   ],
   "source": [
    "print(model.evaluate(x_test_scaled,y_test,verbose=0))"
   ]
  }
 ],
 "metadata": {
  "kernelspec": {
   "display_name": "Python 3",
   "language": "python",
   "name": "python3"
  },
  "language_info": {
   "codemirror_mode": {
    "name": "ipython",
    "version": 3
   },
   "file_extension": ".py",
   "mimetype": "text/x-python",
   "name": "python",
   "nbconvert_exporter": "python",
   "pygments_lexer": "ipython3",
   "version": "3.6.9"
  }
 },
 "nbformat": 4,
 "nbformat_minor": 5
}
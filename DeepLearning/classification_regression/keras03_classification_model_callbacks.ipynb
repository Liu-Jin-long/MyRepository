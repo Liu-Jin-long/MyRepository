{
 "cells": [
  {
   "cell_type": "code",
   "execution_count": 2,
   "id": "bd324c17",
   "metadata": {},
   "outputs": [],
   "source": [
    "# 回调函数"
   ]
  },
  {
   "cell_type": "code",
   "execution_count": null,
   "outputs": [],
   "source": [
    "import matplotlib as mpl\n",
    "import matplotlib.pyplot as plt\n",
    "%matplotlib inline\n",
    "import numpy as np\n",
    "import sklearn\n",
    "import pandas as pd\n",
    "import os\n",
    "import sys\n",
    "import time\n",
    "import tensorflow as tf\n",
    "\n",
    "from tensorflow import keras"
   ],
   "metadata": {
    "collapsed": false,
    "pycharm": {
     "name": "#%%\n"
    }
   }
  },
  {
   "cell_type": "code",
   "execution_count": 3,
   "id": "0c9bd570",
   "metadata": {},
   "outputs": [
    {
     "name": "stdout",
     "output_type": "stream",
     "text": [
      "keras01_classification_model.ipynb\r\n",
      "keras02_classification_model-normalize.ipynb\r\n",
      "keras03.ipynb\r\n",
      "tf01_keras_classification_model.ipynb\r\n",
      "tf02_keras_classification_model-normalize.ipynb\r\n",
      "tf03_keras_classification_model-callbacks.ipynb\r\n",
      "tf03_keras_regression.ipynb\r\n",
      "tf04_keras_classification_model-dnn.ipynb\r\n",
      "tf05_keras_classification_model-dnn-bn.ipynb\r\n",
      "tf06_keras_classification_model-dnn-selu.ipynb\r\n",
      "tf07_keras_classification_model-dnn-selu-dropout.ipynb\r\n",
      "tf08_keras_regression-wide_deep.ipynb\r\n",
      "tf09_keras_regression-wide_deep-subclass.ipynb\r\n",
      "tf10_keras_regression-wide_deep-multi-input.ipynb\r\n",
      "tf11_keras_regression-wide_deep-multi-output.ipynb\r\n",
      "tf12_keras_regression-hp-search.ipynb\r\n",
      "tf13_keras_regression-hp-search-sklearn.ipynb\r\n",
      "tf2-checkpoint.ipynb\r\n",
      "临时使用.ipynb\r\n"
     ]
    }
   ],
   "source": [
    "# 运行系统命令\n",
    "!ls"
   ]
  },
  {
   "cell_type": "code",
   "execution_count": 4,
   "id": "71ea505a",
   "metadata": {},
   "outputs": [
    {
     "name": "stdout",
     "output_type": "stream",
     "text": [
      "(5000, 28, 28) (5000,)\n",
      "(55000, 28, 28) (55000,)\n",
      "(10000, 28, 28) (10000,)\n"
     ]
    }
   ],
   "source": [
    "fashion_mnist = keras.datasets.fashion_mnist\n",
    "(x_train_all, y_train_all), (x_test, y_test) = fashion_mnist.load_data()\n",
    "x_valid, x_train = x_train_all[:5000], x_train_all[5000:]\n",
    "y_valid, y_train = y_train_all[:5000], y_train_all[5000:]\n",
    "\n",
    "print(x_valid.shape, y_valid.shape)\n",
    "print(x_train.shape, y_train.shape)\n",
    "print(x_test.shape, y_test.shape)"
   ]
  },
  {
   "cell_type": "code",
   "execution_count": 5,
   "id": "daa28189",
   "metadata": {},
   "outputs": [],
   "source": [
    "# x = (x - u) / std\n",
    "from sklearn.preprocessing import StandardScaler\n",
    "\n",
    "scaler = StandardScaler()\n",
    "# x_train: [None, 28, 28] -> [None, 784]\n",
    "x_train_scaled = scaler.fit_transform(\n",
    "    x_train.astype(np.float32).reshape(-1, 1)).reshape(-1, 28, 28)\n",
    "x_valid_scaled = scaler.transform(\n",
    "    x_valid.astype(np.float32).reshape(-1, 1)).reshape(-1, 28, 28)\n",
    "x_test_scaled = scaler.transform(\n",
    "    x_test.astype(np.float32).reshape(-1, 1)).reshape(-1, 28, 28)"
   ]
  },
  {
   "cell_type": "code",
   "execution_count": 6,
   "id": "e471454b",
   "metadata": {},
   "outputs": [],
   "source": [
    "model = keras.models.Sequential([\n",
    "    keras.layers.Flatten(input_shape=[28, 28]),\n",
    "    keras.layers.Dense(300, activation='relu'),\n",
    "    keras.layers.Dense(100, activation='relu'),\n",
    "    keras.layers.Dense(10, activation='softmax')\n",
    "])\n",
    "model.compile(loss=\"sparse_categorical_crossentropy\",\n",
    "              optimizer = keras.optimizers.SGD(0.001),\n",
    "              metrics = [\"accuracy\"])"
   ]
  },
  {
   "cell_type": "code",
   "execution_count": 7,
   "id": "bfe876e0",
   "metadata": {},
   "outputs": [
    {
     "name": "stdout",
     "output_type": "stream",
     "text": [
      "Model: \"sequential\"\n",
      "_________________________________________________________________\n",
      "Layer (type)                 Output Shape              Param #   \n",
      "=================================================================\n",
      "flatten (Flatten)            (None, 784)               0         \n",
      "_________________________________________________________________\n",
      "dense (Dense)                (None, 300)               235500    \n",
      "_________________________________________________________________\n",
      "dense_1 (Dense)              (None, 100)               30100     \n",
      "_________________________________________________________________\n",
      "dense_2 (Dense)              (None, 10)                1010      \n",
      "=================================================================\n",
      "Total params: 266,610\n",
      "Trainable params: 266,610\n",
      "Non-trainable params: 0\n",
      "_________________________________________________________________\n",
      "None\n"
     ]
    }
   ],
   "source": [
    "print(model.summary())"
   ]
  },
  {
   "cell_type": "code",
   "execution_count": 8,
   "id": "8ec39975",
   "metadata": {},
   "outputs": [
    {
     "name": "stdout",
     "output_type": "stream",
     "text": [
      "Epoch 1/100\n",
      "1719/1719 [==============================] - 4s 2ms/step - loss: 0.9285 - accuracy: 0.6973 - val_loss: 0.6213 - val_accuracy: 0.7862\n",
      "Epoch 2/100\n",
      "1719/1719 [==============================] - 4s 3ms/step - loss: 0.5817 - accuracy: 0.7958 - val_loss: 0.5257 - val_accuracy: 0.8170\n",
      "Epoch 3/100\n",
      "1719/1719 [==============================] - 4s 2ms/step - loss: 0.5142 - accuracy: 0.8181 - val_loss: 0.4825 - val_accuracy: 0.8358\n",
      "Epoch 4/100\n",
      "1719/1719 [==============================] - 4s 2ms/step - loss: 0.4784 - accuracy: 0.8307 - val_loss: 0.4567 - val_accuracy: 0.8418\n",
      "Epoch 5/100\n",
      "1719/1719 [==============================] - 4s 2ms/step - loss: 0.4538 - accuracy: 0.8388 - val_loss: 0.4409 - val_accuracy: 0.8470\n",
      "Epoch 6/100\n",
      "1719/1719 [==============================] - 4s 2ms/step - loss: 0.4357 - accuracy: 0.8451 - val_loss: 0.4268 - val_accuracy: 0.8528\n",
      "Epoch 7/100\n",
      "1719/1719 [==============================] - 4s 2ms/step - loss: 0.4216 - accuracy: 0.8494 - val_loss: 0.4170 - val_accuracy: 0.8590\n",
      "Epoch 8/100\n",
      "1719/1719 [==============================] - 4s 2ms/step - loss: 0.4103 - accuracy: 0.8547 - val_loss: 0.4066 - val_accuracy: 0.8576\n",
      "Epoch 9/100\n",
      "1719/1719 [==============================] - 4s 2ms/step - loss: 0.4003 - accuracy: 0.8589 - val_loss: 0.4030 - val_accuracy: 0.8590\n",
      "Epoch 10/100\n",
      "1719/1719 [==============================] - 4s 2ms/step - loss: 0.3917 - accuracy: 0.8612 - val_loss: 0.3926 - val_accuracy: 0.8636\n",
      "Epoch 11/100\n",
      "1719/1719 [==============================] - 4s 2ms/step - loss: 0.3843 - accuracy: 0.8646 - val_loss: 0.3888 - val_accuracy: 0.8628\n",
      "Epoch 12/100\n",
      "1719/1719 [==============================] - 4s 2ms/step - loss: 0.3773 - accuracy: 0.8666 - val_loss: 0.3859 - val_accuracy: 0.8612\n",
      "Epoch 13/100\n",
      "1719/1719 [==============================] - 4s 2ms/step - loss: 0.3712 - accuracy: 0.8689 - val_loss: 0.3831 - val_accuracy: 0.8668\n",
      "Epoch 14/100\n",
      "1719/1719 [==============================] - 4s 2ms/step - loss: 0.3661 - accuracy: 0.8709 - val_loss: 0.3751 - val_accuracy: 0.8694\n",
      "Epoch 15/100\n",
      "1719/1719 [==============================] - 5s 3ms/step - loss: 0.3609 - accuracy: 0.8730 - val_loss: 0.3731 - val_accuracy: 0.8664\n",
      "Epoch 16/100\n",
      "1719/1719 [==============================] - 4s 2ms/step - loss: 0.3558 - accuracy: 0.8740 - val_loss: 0.3691 - val_accuracy: 0.8680\n",
      "Epoch 17/100\n",
      "1719/1719 [==============================] - 4s 2ms/step - loss: 0.3515 - accuracy: 0.8754 - val_loss: 0.3657 - val_accuracy: 0.8696\n",
      "Epoch 18/100\n",
      "1719/1719 [==============================] - 4s 2ms/step - loss: 0.3473 - accuracy: 0.8769 - val_loss: 0.3661 - val_accuracy: 0.8662\n",
      "Epoch 19/100\n",
      "1719/1719 [==============================] - 4s 2ms/step - loss: 0.3433 - accuracy: 0.8780 - val_loss: 0.3602 - val_accuracy: 0.8706\n",
      "Epoch 20/100\n",
      "1719/1719 [==============================] - 4s 2ms/step - loss: 0.3394 - accuracy: 0.8799 - val_loss: 0.3596 - val_accuracy: 0.8714\n",
      "Epoch 21/100\n",
      "1719/1719 [==============================] - 4s 2ms/step - loss: 0.3356 - accuracy: 0.8807 - val_loss: 0.3571 - val_accuracy: 0.8728\n",
      "Epoch 22/100\n",
      "1719/1719 [==============================] - 4s 2ms/step - loss: 0.3321 - accuracy: 0.8819 - val_loss: 0.3531 - val_accuracy: 0.8726\n",
      "Epoch 23/100\n",
      "1719/1719 [==============================] - 4s 2ms/step - loss: 0.3290 - accuracy: 0.8826 - val_loss: 0.3522 - val_accuracy: 0.8734\n",
      "Epoch 24/100\n",
      "1719/1719 [==============================] - 4s 2ms/step - loss: 0.3257 - accuracy: 0.8845 - val_loss: 0.3487 - val_accuracy: 0.8748\n",
      "Epoch 25/100\n",
      "1719/1719 [==============================] - 4s 2ms/step - loss: 0.3227 - accuracy: 0.8846 - val_loss: 0.3473 - val_accuracy: 0.8748\n",
      "Epoch 26/100\n",
      "1719/1719 [==============================] - 4s 2ms/step - loss: 0.3196 - accuracy: 0.8866 - val_loss: 0.3449 - val_accuracy: 0.8740\n",
      "Epoch 27/100\n",
      "1719/1719 [==============================] - 4s 2ms/step - loss: 0.3167 - accuracy: 0.8865 - val_loss: 0.3456 - val_accuracy: 0.8786\n",
      "Epoch 28/100\n",
      "1719/1719 [==============================] - 4s 2ms/step - loss: 0.3141 - accuracy: 0.8884 - val_loss: 0.3445 - val_accuracy: 0.8750\n",
      "Epoch 29/100\n",
      "1719/1719 [==============================] - 4s 2ms/step - loss: 0.3110 - accuracy: 0.8885 - val_loss: 0.3423 - val_accuracy: 0.8786\n"
     ]
    }
   ],
   "source": [
    "logdir='./callbacks'\n",
    "if not os.path.exists(logdir):\n",
    "    os.mkdir(logdir)\n",
    "# 模型保存路径\n",
    "output_model_file=os.path.join(logdir,'fashion_mnist_model.h5')\n",
    "callbacks=[\n",
    "    keras.callbacks.TensorBoard(logdir),#Tensorflow提供的画图工具\n",
    "    keras.callbacks.ModelCheckpoint(output_model_file,save_best_only=True),#保存模型的最佳参数\n",
    "    # patience表示没有改善的epoch数，之后训练将停止  min_delta表示监视对象指标(默认val_loss)的最小改进值 绝对值小于该值视为未改进\n",
    "    keras.callbacks.EarlyStopping(patience=5,min_delta=1e-2),\n",
    "]\n",
    "# 没有触发EarlyStopping可以把epochs改大点\n",
    "history=model.fit(x_train_scaled,y_train,epochs=100,\n",
    "                 validation_data=(x_valid_scaled,y_valid),\n",
    "                 callbacks=callbacks)"
   ]
  },
  {
   "cell_type": "code",
   "execution_count": 9,
   "id": "ebf4b6f6",
   "metadata": {},
   "outputs": [
    {
     "data": {
      "image/png": "[encoded data removed]",
      "text/plain": [
       "<Figure size 576x360 with 1 Axes>"
      ]
     },
     "metadata": {
      "needs_background": "light"
     },
     "output_type": "display_data"
    }
   ],
   "source": [
    "def plot_learning_curves(history):\n",
    "    pd.DataFrame(history.history).plot(figsize=(8, 5))\n",
    "    plt.grid(True)\n",
    "    plt.gca().set_ylim(0, 1)\n",
    "    plt.show()\n",
    "\n",
    "plot_learning_curves(history)"
   ]
  },
  {
   "cell_type": "code",
   "execution_count": 11,
   "id": "52df1f29",
   "metadata": {},
   "outputs": [
    {
     "name": "stdout",
     "output_type": "stream",
     "text": [
      "[0.37838834524154663, 0.8633000254631042]\n"
     ]
    }
   ],
   "source": [
    "print(model.evaluate(x_test_scaled,y_test,verbose=0))"
   ]
  }
 ],
 "metadata": {
  "kernelspec": {
   "display_name": "Python 3",
   "language": "python",
   "name": "python3"
  },
  "language_info": {
   "codemirror_mode": {
    "name": "ipython",
    "version": 3
   },
   "file_extension": ".py",
   "mimetype": "text/x-python",
   "name": "python",
   "nbconvert_exporter": "python",
   "pygments_lexer": "ipython3",
   "version": "3.6.9"
  }
 },
 "nbformat": 4,
 "nbformat_minor": 5
}
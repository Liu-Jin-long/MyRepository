{
 "cells": [
  {
   "cell_type": "code",
   "execution_count": 106,
   "metadata": {},
   "outputs": [],
   "source": [
    "# 中间数据保存"
   ]
  },
  {
   "cell_type": "code",
   "execution_count": null,
   "outputs": [],
   "source": [
    "import matplotlib as mpl\n",
    "import matplotlib.pyplot as plt\n",
    "%matplotlib inline\n",
    "import numpy as np\n",
    "import sklearn\n",
    "import pandas as pd\n",
    "import os\n",
    "import sys\n",
    "import time\n",
    "import tensorflow as tf\n",
    "\n",
    "from tensorflow import keras"
   ],
   "metadata": {
    "collapsed": false,
    "pycharm": {
     "name": "#%%\n"
    }
   }
  },
  {
   "cell_type": "code",
   "execution_count": 107,
   "metadata": {
    "pycharm": {
     "name": "#%%\n"
    }
   },
   "outputs": [],
   "source": [
    "from sklearn.datasets import fetch_california_housing\n",
    "\n",
    "housing = fetch_california_housing()"
   ]
  },
  {
   "cell_type": "code",
   "execution_count": 108,
   "metadata": {
    "pycharm": {
     "name": "#%%\n"
    }
   },
   "outputs": [
    {
     "name": "stdout",
     "output_type": "stream",
     "text": [
      "(11610, 8) (11610,)\n",
      "(3870, 8) (3870,)\n",
      "(5160, 8) (5160,)\n"
     ]
    }
   ],
   "source": [
    "from sklearn.model_selection import train_test_split\n",
    "\n",
    "x_train_all, x_test, y_train_all, y_test = train_test_split(\n",
    "    housing.data, housing.target, random_state=7)\n",
    "x_train, x_valid, y_train, y_valid = train_test_split(\n",
    "    x_train_all, y_train_all, random_state=11)\n",
    "print(x_train.shape, y_train.shape)\n",
    "print(x_valid.shape, y_valid.shape)\n",
    "print(x_test.shape, y_test.shape)"
   ]
  },
  {
   "cell_type": "code",
   "execution_count": 109,
   "metadata": {
    "pycharm": {
     "name": "#%%\n"
    }
   },
   "outputs": [],
   "source": [
    "from sklearn.preprocessing import StandardScaler\n",
    "\n",
    "scaler = StandardScaler()\n",
    "x_train_scaled = scaler.fit_transform(x_train)\n",
    "x_valid_scaled = scaler.transform(x_valid)\n",
    "x_test_scaled = scaler.transform(x_test)"
   ]
  },
  {
   "cell_type": "code",
   "execution_count": 110,
   "metadata": {
    "pycharm": {
     "name": "#%%\n"
    }
   },
   "outputs": [
    {
     "name": "stdout",
     "output_type": "stream",
     "text": [
      "0 [0 1 2 3 4]\n",
      "1 [5 6 7 8 9]\n",
      "2 [10 11 12 13 14]\n",
      "3 [15 16 17 18 19]\n"
     ]
    }
   ],
   "source": [
    "for file_idx, row_indices in enumerate(np.array_split(np.arange(20), 4)):\n",
    "    print(file_idx, row_indices)"
   ]
  },
  {
   "cell_type": "code",
   "execution_count": null,
   "metadata": {},
   "outputs": [],
   "source": []
  },
  {
   "cell_type": "code",
   "execution_count": 111,
   "metadata": {
    "pycharm": {
     "name": "#%%\n"
    }
   },
   "outputs": [
    {
     "name": "stdout",
     "output_type": "stream",
     "text": [
      "MedInc,HouseAge,AveRooms,AveBedrms,Population,AveOccup,Latitude,Longitude,MidianHouseValue\n",
      "--------------------------------------------------\n"
     ]
    }
   ],
   "source": [
    "# 把特征工程后的数据存为csv文件\n",
    "output_dir = 'generate_csv'\n",
    "if not os.path.exists(output_dir):\n",
    "    os.mkdir(output_dir)\n",
    "\n",
    "\n",
    "def save_to_csv(output_dir, data, name_prefix, header=None, n_parts=10):\n",
    "    # 生成文件名 格式generate_csv/{}_{:02d}.csv\n",
    "    path_format = os.path.join(output_dir, '{}_{:02d}.csv')\n",
    "    filenames = []\n",
    "    # 把数据分为n_parts份写入文件中\n",
    "    for file_idx, row_indices in enumerate(np.array_split(np.arange(len(data)), n_parts)):\n",
    "        # 生成子文件名\n",
    "        part_csv = path_format.format(name_prefix, file_idx)\n",
    "        # 文件名添加到列表\n",
    "        filenames.append(part_csv)\n",
    "        with open(part_csv, 'w', encoding='utf-8') as f:\n",
    "            # 先写头部\n",
    "            if header is not None:\n",
    "                f.write((header + '\\n'))\n",
    "                for row_index in row_indices:\n",
    "                    # 把字符串化后的每个字符串用逗号拼接起来\n",
    "                    f.write(\",\".join([repr(col) for col in data[row_index]]))\n",
    "                    f.write('\\n')\n",
    "    return filenames\n",
    "\n",
    "# np.c_沿第二个轴将切片对象转换为串联\n",
    "train_data = np.c_[x_train_scaled, y_train]\n",
    "valid_data = np.c_[x_valid_scaled, y_valid]\n",
    "test_data = np.c_[x_test_scaled, y_test]\n",
    "# 头部=特征名+目标名\n",
    "header_cols = housing.feature_names + [\"MidianHouseValue\"]\n",
    "header_str = ','.join(header_cols)\n",
    "print(header_str)\n",
    "print('-' * 50)\n",
    "train_filenames = save_to_csv(output_dir, train_data, 'train', header_str, n_parts=20)\n",
    "valid_filenames = save_to_csv(output_dir, valid_data, 'valid', header_str, n_parts=10)\n",
    "test_filenames = save_to_csv(output_dir, test_data, 'test', header_str, n_parts=10)"
   ]
  },
  {
   "cell_type": "code",
   "execution_count": 112,
   "metadata": {
    "pycharm": {
     "name": "#%%\n"
    }
   },
   "outputs": [],
   "source": [
    "temp_array=np.array([[1,2,3],[4,5,6]])\n",
    "# savetxt会自动将整型数或者浮点数转为字符串存储 以空格分开\n",
    "np.savetxt('temp.csv',temp_array)"
   ]
  },
  {
   "cell_type": "code",
   "execution_count": 113,
   "metadata": {
    "pycharm": {
     "name": "#%%\n"
    }
   },
   "outputs": [
    {
     "name": "stdout",
     "output_type": "stream",
     "text": [
      "['generate_csv\\\\train_00.csv', 'generate_csv\\\\train_01.csv', 'generate_csv\\\\train_02.csv', 'generate_csv\\\\train_03.csv', 'generate_csv\\\\train_04.csv', 'generate_csv\\\\train_05.csv', 'generate_csv\\\\train_06.csv', 'generate_csv\\\\train_07.csv', 'generate_csv\\\\train_08.csv', 'generate_csv\\\\train_09.csv', 'generate_csv\\\\train_10.csv', 'generate_csv\\\\train_11.csv', 'generate_csv\\\\train_12.csv', 'generate_csv\\\\train_13.csv', 'generate_csv\\\\train_14.csv', 'generate_csv\\\\train_15.csv', 'generate_csv\\\\train_16.csv', 'generate_csv\\\\train_17.csv', 'generate_csv\\\\train_18.csv', 'generate_csv\\\\train_19.csv']\n",
      "\n",
      "train filenames:\n",
      "['generate_csv\\\\train_00.csv',\n",
      " 'generate_csv\\\\train_01.csv',\n",
      " 'generate_csv\\\\train_02.csv',\n",
      " 'generate_csv\\\\train_03.csv',\n",
      " 'generate_csv\\\\train_04.csv',\n",
      " 'generate_csv\\\\train_05.csv',\n",
      " 'generate_csv\\\\train_06.csv',\n",
      " 'generate_csv\\\\train_07.csv',\n",
      " 'generate_csv\\\\train_08.csv',\n",
      " 'generate_csv\\\\train_09.csv',\n",
      " 'generate_csv\\\\train_10.csv',\n",
      " 'generate_csv\\\\train_11.csv',\n",
      " 'generate_csv\\\\train_12.csv',\n",
      " 'generate_csv\\\\train_13.csv',\n",
      " 'generate_csv\\\\train_14.csv',\n",
      " 'generate_csv\\\\train_15.csv',\n",
      " 'generate_csv\\\\train_16.csv',\n",
      " 'generate_csv\\\\train_17.csv',\n",
      " 'generate_csv\\\\train_18.csv',\n",
      " 'generate_csv\\\\train_19.csv']\n",
      "valid filenames:\n",
      "['generate_csv\\\\valid_00.csv',\n",
      " 'generate_csv\\\\valid_01.csv',\n",
      " 'generate_csv\\\\valid_02.csv',\n",
      " 'generate_csv\\\\valid_03.csv',\n",
      " 'generate_csv\\\\valid_04.csv',\n",
      " 'generate_csv\\\\valid_05.csv',\n",
      " 'generate_csv\\\\valid_06.csv',\n",
      " 'generate_csv\\\\valid_07.csv',\n",
      " 'generate_csv\\\\valid_08.csv',\n",
      " 'generate_csv\\\\valid_09.csv']\n",
      "test filenames:\n",
      "['generate_csv\\\\test_00.csv',\n",
      " 'generate_csv\\\\test_01.csv',\n",
      " 'generate_csv\\\\test_02.csv',\n",
      " 'generate_csv\\\\test_03.csv',\n",
      " 'generate_csv\\\\test_04.csv',\n",
      " 'generate_csv\\\\test_05.csv',\n",
      " 'generate_csv\\\\test_06.csv',\n",
      " 'generate_csv\\\\test_07.csv',\n",
      " 'generate_csv\\\\test_08.csv',\n",
      " 'generate_csv\\\\test_09.csv']\n"
     ]
    }
   ],
   "source": [
    "print(train_filenames)\n",
    "import pprint\n",
    "print('')\n",
    "print(\"train filenames:\")\n",
    "pprint.pprint(train_filenames)\n",
    "print(\"valid filenames:\")\n",
    "pprint.pprint(valid_filenames)\n",
    "print(\"test filenames:\")\n",
    "pprint.pprint(test_filenames)"
   ]
  },
  {
   "cell_type": "code",
   "execution_count": 114,
   "metadata": {
    "pycharm": {
     "name": "#%%\n"
    }
   },
   "outputs": [
    {
     "name": "stdout",
     "output_type": "stream",
     "text": [
      "tf.Tensor(b'generate_csv\\\\train_15.csv', shape=(), dtype=string)\n",
      "tf.Tensor(b'generate_csv\\\\train_08.csv', shape=(), dtype=string)\n",
      "tf.Tensor(b'generate_csv\\\\train_06.csv', shape=(), dtype=string)\n",
      "tf.Tensor(b'generate_csv\\\\train_00.csv', shape=(), dtype=string)\n",
      "tf.Tensor(b'generate_csv\\\\train_04.csv', shape=(), dtype=string)\n",
      "tf.Tensor(b'generate_csv\\\\train_16.csv', shape=(), dtype=string)\n",
      "tf.Tensor(b'generate_csv\\\\train_14.csv', shape=(), dtype=string)\n",
      "tf.Tensor(b'generate_csv\\\\train_18.csv', shape=(), dtype=string)\n",
      "tf.Tensor(b'generate_csv\\\\train_03.csv', shape=(), dtype=string)\n",
      "tf.Tensor(b'generate_csv\\\\train_11.csv', shape=(), dtype=string)\n",
      "tf.Tensor(b'generate_csv\\\\train_13.csv', shape=(), dtype=string)\n",
      "tf.Tensor(b'generate_csv\\\\train_09.csv', shape=(), dtype=string)\n",
      "tf.Tensor(b'generate_csv\\\\train_10.csv', shape=(), dtype=string)\n",
      "tf.Tensor(b'generate_csv\\\\train_17.csv', shape=(), dtype=string)\n",
      "tf.Tensor(b'generate_csv\\\\train_02.csv', shape=(), dtype=string)\n",
      "tf.Tensor(b'generate_csv\\\\train_19.csv', shape=(), dtype=string)\n",
      "tf.Tensor(b'generate_csv\\\\train_07.csv', shape=(), dtype=string)\n",
      "tf.Tensor(b'generate_csv\\\\train_01.csv', shape=(), dtype=string)\n",
      "tf.Tensor(b'generate_csv\\\\train_05.csv', shape=(), dtype=string)\n",
      "tf.Tensor(b'generate_csv\\\\train_12.csv', shape=(), dtype=string)\n"
     ]
    }
   ],
   "source": [
    "# # list_files默认行为是按不确定的随机混排顺序返回文件名\n",
    "filenames_dataset=tf.data.Dataset.list_files(train_filenames)\n",
    "for filename in filenames_dataset:\n",
    "    print(filename)"
   ]
  },
  {
   "cell_type": "code",
   "execution_count": 115,
   "metadata": {
    "pycharm": {
     "name": "#%%\n"
    }
   },
   "outputs": [
    {
     "name": "stdout",
     "output_type": "stream",
     "text": [
      "tf.Tensor(b'generate_csv\\\\train_00.csv', shape=(), dtype=string)\n",
      "tf.Tensor(b'generate_csv\\\\train_01.csv', shape=(), dtype=string)\n",
      "tf.Tensor(b'generate_csv\\\\train_02.csv', shape=(), dtype=string)\n",
      "tf.Tensor(b'generate_csv\\\\train_03.csv', shape=(), dtype=string)\n",
      "tf.Tensor(b'generate_csv\\\\train_04.csv', shape=(), dtype=string)\n",
      "tf.Tensor(b'generate_csv\\\\train_05.csv', shape=(), dtype=string)\n",
      "tf.Tensor(b'generate_csv\\\\train_06.csv', shape=(), dtype=string)\n",
      "tf.Tensor(b'generate_csv\\\\train_07.csv', shape=(), dtype=string)\n",
      "tf.Tensor(b'generate_csv\\\\train_08.csv', shape=(), dtype=string)\n",
      "tf.Tensor(b'generate_csv\\\\train_09.csv', shape=(), dtype=string)\n",
      "tf.Tensor(b'generate_csv\\\\train_10.csv', shape=(), dtype=string)\n",
      "tf.Tensor(b'generate_csv\\\\train_11.csv', shape=(), dtype=string)\n",
      "tf.Tensor(b'generate_csv\\\\train_12.csv', shape=(), dtype=string)\n",
      "tf.Tensor(b'generate_csv\\\\train_13.csv', shape=(), dtype=string)\n",
      "tf.Tensor(b'generate_csv\\\\train_14.csv', shape=(), dtype=string)\n",
      "tf.Tensor(b'generate_csv\\\\train_15.csv', shape=(), dtype=string)\n",
      "tf.Tensor(b'generate_csv\\\\train_16.csv', shape=(), dtype=string)\n",
      "tf.Tensor(b'generate_csv\\\\train_17.csv', shape=(), dtype=string)\n",
      "tf.Tensor(b'generate_csv\\\\train_18.csv', shape=(), dtype=string)\n",
      "tf.Tensor(b'generate_csv\\\\train_19.csv', shape=(), dtype=string)\n"
     ]
    }
   ],
   "source": [
    "filenames_mydataset=tf.data.Dataset.from_tensor_slices(train_filenames)\n",
    "filenames_mydataset=filenames_mydataset.repeat(1)\n",
    "for i in filenames_mydataset:\n",
    "    print(i)"
   ]
  },
  {
   "cell_type": "code",
   "execution_count": 116,
   "metadata": {
    "pycharm": {
     "name": "#%%\n"
    }
   },
   "outputs": [
    {
     "name": "stdout",
     "output_type": "stream",
     "text": [
      "tf.Tensor(b'MedInc,HouseAge,AveRooms,AveBedrms,Population,AveOccup,Latitude,Longitude,MidianHouseValue', shape=(), dtype=string)\n",
      "tf.Tensor(b'0.801544314532886,0.27216142415910205,-0.11624392696666119,-0.2023115137272354,-0.5430515742518128,-0.021039615516440048,-0.5897620622908205,-0.08241845654707416,3.226', shape=(), dtype=string)\n",
      "tf.Tensor(b'MedInc,HouseAge,AveRooms,AveBedrms,Population,AveOccup,Latitude,Longitude,MidianHouseValue', shape=(), dtype=string)\n",
      "tf.Tensor(b'0.8115083791797953,-0.04823952235146133,0.5187339067174729,-0.029386394873127775,-0.034064024638222286,-0.05081594842905086,-0.7157356834231196,0.9162751241885168,2.147', shape=(), dtype=string)\n",
      "tf.Tensor(b'MedInc,HouseAge,AveRooms,AveBedrms,Population,AveOccup,Latitude,Longitude,MidianHouseValue', shape=(), dtype=string)\n",
      "tf.Tensor(b'0.401276648075221,-0.9293421252555106,-0.05333050451405854,-0.1865945262276826,0.6545661895448709,0.026434465728210874,0.9312527706398824,-1.4406417263474771,2.512', shape=(), dtype=string)\n",
      "tf.Tensor(b'MedInc,HouseAge,AveRooms,AveBedrms,Population,AveOccup,Latitude,Longitude,MidianHouseValue', shape=(), dtype=string)\n",
      "tf.Tensor(b'0.15782311132800697,0.43236189741438374,0.3379948076652917,-0.015880306122244434,-0.3733890577139493,-0.05305245634489608,0.8006134598360177,-1.2359095422966828,3.169', shape=(), dtype=string)\n",
      "tf.Tensor(b'MedInc,HouseAge,AveRooms,AveBedrms,Population,AveOccup,Latitude,Longitude,MidianHouseValue', shape=(), dtype=string)\n",
      "tf.Tensor(b'-1.0591781535672364,1.393564736946074,-0.026331968874673636,-0.11006759528831847,-0.6138198966579805,-0.09695934953589447,0.3247131133362288,-0.037477245413977976,0.672', shape=(), dtype=string)\n",
      "tf.Tensor(b'-0.2980728090942217,0.3522616607867429,-0.10920507530549702,-0.25055520947444,-0.034064024638222286,-0.006034004264459185,1.080554840130013,-1.0611381656679573,1.514', shape=(), dtype=string)\n",
      "tf.Tensor(b'-0.03058829290446139,-0.9293421252555106,0.2596214817762415,-0.00601274044096368,-0.5004091235711734,-0.030779867916061836,1.5984463936739026,-1.8151518191233238,1.598', shape=(), dtype=string)\n",
      "tf.Tensor(b'-0.6906143291679195,-0.1283397589791022,7.0201810347470595,5.624287386169439,-0.2663292879200034,-0.03662080416157129,-0.6457503383496215,1.2058962626018372,1.352', shape=(), dtype=string)\n",
      "tf.Tensor(b'-0.9868720801669367,0.832863080552588,-0.18684708416901633,-0.14888949288707784,-0.4532302419670616,-0.11504995754593579,1.6730974284189664,-0.7465496877362412,1.138', shape=(), dtype=string)\n",
      "tf.Tensor(b'-0.8757754235423053,1.874166156711919,-0.9487499555702599,-0.09657184824705009,-0.7163432355284542,-0.07790191228558485,0.9825753570271144,-1.4206678547327694,2.75', shape=(), dtype=string)\n"
     ]
    }
   ],
   "source": [
    "# 从文件中读取保存的数据\n",
    "n_readers=5\n",
    "dataset=filenames_mydataset.interleave(\n",
    "    lambda filename:tf.data.TextLineDataset(filename),\n",
    "    cycle_length = n_readers,block_length=2) # cycle_length和block_length增加获取了数据的随机性\n",
    "for line in dataset.take(15):\n",
    "    print(line)"
   ]
  },
  {
   "cell_type": "code",
   "execution_count": 117,
   "metadata": {
    "pycharm": {
     "name": "#%%\n"
    }
   },
   "outputs": [
    {
     "name": "stdout",
     "output_type": "stream",
     "text": [
      "[<tf.Tensor: shape=(), dtype=int32, numpy=1>, <tf.Tensor: shape=(), dtype=int32, numpy=2>, <tf.Tensor: shape=(), dtype=float32, numpy=3.0>, <tf.Tensor: shape=(), dtype=string, numpy=b'4'>, <tf.Tensor: shape=(), dtype=float32, numpy=5.0>]\n"
     ]
    }
   ],
   "source": [
    "# 每一行数据切分为对应类型\n",
    "# 通过decode_csv解析(parse)csv   tf.io.decode_csv(str, record_defaults)\n",
    "sample_str='1,2,3,4,5'\n",
    "record_defaults=[tf.constant(0,dtype=tf.int32),\n",
    "                 0,\n",
    "                 np.nan,\n",
    "                 'hello1',\n",
    "                 tf.constant([])] # 没有固定类型默认是float32\n",
    "#按照record_defaults对sample_str数据格式化\n",
    "parsed_fields=tf.io.decode_csv(sample_str,record_defaults)\n",
    "print(parsed_fields)"
   ]
  },
  {
   "cell_type": "code",
   "execution_count": 118,
   "metadata": {
    "pycharm": {
     "name": "#%%\n"
    }
   },
   "outputs": [
    {
     "name": "stdout",
     "output_type": "stream",
     "text": [
      "[<tf.Tensor: shape=(), dtype=int32, numpy=0>, <tf.Tensor: shape=(), dtype=int32, numpy=0>, <tf.Tensor: shape=(), dtype=float32, numpy=nan>, <tf.Tensor: shape=(), dtype=string, numpy=b'1'>, <tf.Tensor: shape=(), dtype=float32, numpy=2.0>]\n"
     ]
    }
   ],
   "source": [
    "# 传一个空字符串测试\n",
    "try:\n",
    "    parsed_fields=tf.io.decode_csv(',,,1,2',record_defaults)\n",
    "except tf.errors.InvalidArgumentError as ex:\n",
    "    print(ex)\n",
    "print(parsed_fields)"
   ]
  },
  {
   "cell_type": "code",
   "execution_count": 119,
   "metadata": {},
   "outputs": [
    {
     "name": "stdout",
     "output_type": "stream",
     "text": [
      "Expect 5 fields but have 6 in record 0 [Op:DecodeCSV]\n"
     ]
    }
   ],
   "source": [
    "#%%\n",
    "\n",
    "# 给值过多\n",
    "try:\n",
    "    parsed_fields=tf.io.decode_csv(',,,1,2,3',record_defaults)\n",
    "except tf.errors.InvalidArgumentError as ex:\n",
    "    print(ex)"
   ]
  },
  {
   "cell_type": "code",
   "execution_count": 120,
   "metadata": {},
   "outputs": [
    {
     "name": "stdout",
     "output_type": "stream",
     "text": [
      "(<tf.Tensor: shape=(8,), dtype=float32, numpy=\n",
      "array([-0.9868721 ,  0.8328631 , -0.18684709, -0.1488895 , -0.45323023,\n",
      "       -0.11504996,  1.6730974 , -0.74654967], dtype=float32)>, <tf.Tensor: shape=(1,), dtype=float32, numpy=array([1.138], dtype=float32)>)\n"
     ]
    }
   ],
   "source": [
    "# 解析一行\n",
    "def parse_csv_line(line,n_fields=9):\n",
    "    # 初始置为np.nan,若读取到缺失数据就会记录成np.nan\n",
    "    defs=[tf.constant(np.nan)]*n_fields\n",
    "    # decode_csv解析\n",
    "    parsed_fields=tf.io.decode_csv(line,record_defaults=defs)\n",
    "    x=tf.stack(parsed_fields[0:-1])\n",
    "    y=tf.stack(parsed_fields[-1:])\n",
    "    return x,y\n",
    "print(parse_csv_line(b'-0.9868720801669367,0.832863080552588,-0.18684708416901633,-0.14888949288707784,-0.4532302419670616,-0.11504995754593579,1.6730974284189664,-0.7465496877362412,1.138',\n",
    "               n_fields=9))"
   ]
  },
  {
   "cell_type": "code",
   "execution_count": 121,
   "metadata": {
    "pycharm": {
     "name": "#%%\n"
    }
   },
   "outputs": [],
   "source": [
    "# filename -> dataset\n",
    "# read file -> dataset -> datasets -> merge\n",
    "# parse csv\n",
    "# 整个流程\n",
    "def csv_reader_dataset(filenames,n_readers=5,batch_size=32,\n",
    "                       n_parse_threads=5,\n",
    "                       shuffle_buffer_size=1000):\n",
    "    # 文件名类别变为dataset tensor\n",
    "    dataset=tf.data.Dataset.list_files(filenames)\n",
    "    # RepeatDataset\n",
    "    dataset=dataset.repeat()\n",
    "    dataset=dataset.interleave(\n",
    "        # skip(1)跳过保存的特征名和目标名\n",
    "        lambda filename:tf.data.TextLineDataset(filename).skip(1),\n",
    "        cycle_length=n_readers\n",
    "    )\n",
    "    # 对数据进行洗牌变混乱\n",
    "    dataset.shuffle(shuffle_buffer_size)\n",
    "    # map传入dataset中的tensor，通过parse_csv_line对数据集进行映射\n",
    "    dataset=dataset.map(parse_csv_line,\n",
    "                        num_parallel_calls=n_parse_threads)\n",
    "    dataset=dataset.batch(batch_size)\n",
    "    return dataset"
   ]
  },
  {
   "cell_type": "code",
   "execution_count": 122,
   "metadata": {
    "pycharm": {
     "name": "#%%\n"
    }
   },
   "outputs": [
    {
     "name": "stdout",
     "output_type": "stream",
     "text": [
      "<BatchDataset element_spec=(TensorSpec(shape=(None, 8), dtype=tf.float32, name=None), TensorSpec(shape=(None, 1), dtype=tf.float32, name=None))>\n",
      "--------------------------------------------------\n",
      "x:\n",
      "<tf.Tensor: shape=(4, 8), dtype=float32, numpy=\n",
      "array([[ 0.8015443 ,  0.27216142, -0.11624393, -0.20231152, -0.5430516 ,\n",
      "        -0.02103962, -0.5897621 , -0.08241846],\n",
      "       [ 0.15782312,  0.4323619 ,  0.3379948 , -0.01588031, -0.37338907,\n",
      "        -0.05305246,  0.80061346, -1.2359096 ],\n",
      "       [-0.097193  , -1.2497431 ,  0.36232963,  0.02690608,  1.0338118 ,\n",
      "         0.04588159,  1.3418335 , -1.635387  ],\n",
      "       [ 0.09734604,  0.75276285, -0.20218964, -0.19547   , -0.40605137,\n",
      "         0.00678553, -0.81371516,  0.6566148 ]], dtype=float32)>\n",
      "y:\n",
      "<tf.Tensor: shape=(4, 1), dtype=float32, numpy=\n",
      "array([[3.226],\n",
      "       [3.169],\n",
      "       [1.832],\n",
      "       [1.119]], dtype=float32)>\n",
      "x:\n",
      "<tf.Tensor: shape=(4, 8), dtype=float32, numpy=\n",
      "array([[ 0.40127665, -0.92934215, -0.0533305 , -0.18659453,  0.65456617,\n",
      "         0.02643447,  0.9312528 , -1.4406418 ],\n",
      "       [-0.29807281,  0.35226166, -0.10920507, -0.25055522, -0.03406402,\n",
      "        -0.006034  ,  1.0805548 , -1.0611382 ],\n",
      "       [ 2.2878418 , -1.890545  ,  0.66071063, -0.14964779, -0.06672633,\n",
      "         0.44788057, -0.5337738 ,  0.56673235],\n",
      "       [ 1.05347   , -0.12833975,  0.13509497, -0.28528678, -0.3706672 ,\n",
      "        -0.01774404,  0.7586222 , -1.1510206 ]], dtype=float32)>\n",
      "y:\n",
      "<tf.Tensor: shape=(4, 1), dtype=float32, numpy=\n",
      "array([[2.512],\n",
      "       [1.514],\n",
      "       [3.59 ],\n",
      "       [2.674]], dtype=float32)>\n",
      "2\n"
     ]
    }
   ],
   "source": [
    "# 测试\n",
    "train_set=csv_reader_dataset(train_filenames,batch_size=4)\n",
    "print(train_set)\n",
    "print('-'*50)\n",
    "i=0\n",
    "for x_batch,y_batch in train_set.take(2):\n",
    "    i+=1\n",
    "    print('x:')\n",
    "    pprint.pprint(x_batch)\n",
    "    print('y:')\n",
    "    pprint.pprint(y_batch)\n",
    "print(i)"
   ]
  },
  {
   "cell_type": "code",
   "execution_count": 123,
   "metadata": {
    "pycharm": {
     "name": "#%%\n"
    }
   },
   "outputs": [
    {
     "name": "stdout",
     "output_type": "stream",
     "text": [
      "<BatchDataset element_spec=(TensorSpec(shape=(None, 8), dtype=tf.float32, name=None), TensorSpec(shape=(None, 1), dtype=tf.float32, name=None))>\n",
      "<BatchDataset element_spec=(TensorSpec(shape=(None, 8), dtype=tf.float32, name=None), TensorSpec(shape=(None, 1), dtype=tf.float32, name=None))>\n",
      "<BatchDataset element_spec=(TensorSpec(shape=(None, 8), dtype=tf.float32, name=None), TensorSpec(shape=(None, 1), dtype=tf.float32, name=None))>\n",
      "CPU times: total: 62.5 ms\n",
      "Wall time: 63.9 ms\n"
     ]
    }
   ],
   "source": [
    "%%time\n",
    "batch_size = 32\n",
    "train_set=csv_reader_dataset(train_filenames,batch_size=batch_size)\n",
    "valid_set=csv_reader_dataset(valid_filenames,batch_size=batch_size)\n",
    "test_set=csv_reader_dataset(test_filenames,batch_size=batch_size)\n",
    "print(train_set)\n",
    "print(valid_set)\n",
    "print(test_set)"
   ]
  },
  {
   "cell_type": "code",
   "execution_count": 124,
   "metadata": {
    "pycharm": {
     "name": "#%%\n"
    }
   },
   "outputs": [
    {
     "name": "stdout",
     "output_type": "stream",
     "text": [
      "Epoch 1/100\n",
      "348/348 [==============================] - 1s 1ms/step - loss: 2.6629 - val_loss: 0.6346\n",
      "Epoch 2/100\n",
      "348/348 [==============================] - 0s 1ms/step - loss: 0.4913 - val_loss: 0.4440\n",
      "Epoch 3/100\n",
      "348/348 [==============================] - 0s 1ms/step - loss: 0.4378 - val_loss: 0.4215\n",
      "Epoch 4/100\n",
      "348/348 [==============================] - 0s 1ms/step - loss: 0.4494 - val_loss: 0.4761\n",
      "Epoch 5/100\n",
      "348/348 [==============================] - 0s 1ms/step - loss: 0.4457 - val_loss: 0.5072\n",
      "Epoch 6/100\n",
      "348/348 [==============================] - 0s 1ms/step - loss: 0.4225 - val_loss: 0.4129\n",
      "Epoch 7/100\n",
      "348/348 [==============================] - 0s 1ms/step - loss: 0.3928 - val_loss: 0.4065\n",
      "Epoch 8/100\n",
      "348/348 [==============================] - 0s 1ms/step - loss: 0.3954 - val_loss: 0.3983\n",
      "Epoch 9/100\n",
      "348/348 [==============================] - 0s 1ms/step - loss: 0.3804 - val_loss: 0.3926\n",
      "Epoch 10/100\n",
      "348/348 [==============================] - 0s 1ms/step - loss: 0.3911 - val_loss: 0.3803\n",
      "Epoch 11/100\n",
      "348/348 [==============================] - 0s 1ms/step - loss: 0.3866 - val_loss: 0.3952\n",
      "Epoch 12/100\n",
      "348/348 [==============================] - 0s 1ms/step - loss: 0.3827 - val_loss: 0.3816\n",
      "Epoch 13/100\n",
      "348/348 [==============================] - 0s 1ms/step - loss: 0.3623 - val_loss: 0.3832\n",
      "Epoch 14/100\n",
      "348/348 [==============================] - 0s 1ms/step - loss: 0.3840 - val_loss: 0.3861\n",
      "Epoch 15/100\n",
      "348/348 [==============================] - 0s 1ms/step - loss: 0.3727 - val_loss: 0.3757\n"
     ]
    }
   ],
   "source": [
    "model = keras.models.Sequential([\n",
    "    keras.layers.Dense(30, activation='relu',\n",
    "                       input_shape=[8]),\n",
    "    keras.layers.Dense(1),\n",
    "])\n",
    "model.compile(loss=\"mean_squared_error\", optimizer=\"sgd\")\n",
    "callbacks = [keras.callbacks.EarlyStopping(\n",
    "    patience=5, min_delta=1e-2)]\n",
    "#BatchDataset必须制定steps_per_epoch，validation_steps\n",
    "history=model.fit(train_set,validation_data=valid_set,\n",
    "                  steps_per_epoch=11160//batch_size,\n",
    "                  validation_steps=3780//batch_size,\n",
    "                  epochs=100,callbacks=callbacks)"
   ]
  },
  {
   "cell_type": "code",
   "execution_count": 125,
   "metadata": {
    "pycharm": {
     "name": "#%%\n"
    }
   },
   "outputs": [
    {
     "name": "stdout",
     "output_type": "stream",
     "text": [
      "161/161 [==============================] - 0s 898us/step - loss: 0.3930\n",
      "0.3929949104785919\n"
     ]
    }
   ],
   "source": [
    "print(model.evaluate(test_set,steps=5160//batch_size))"
   ]
  },
  {
   "cell_type": "code",
   "execution_count": 126,
   "metadata": {
    "pycharm": {
     "name": "#%%\n"
    }
   },
   "outputs": [
    {
     "name": "stdout",
     "output_type": "stream",
     "text": [
      "[<tf.Tensor: shape=(4,), dtype=int64, numpy=array([0, 1, 2, 3], dtype=int64)>, <tf.Tensor: shape=(4,), dtype=int64, numpy=array([4, 5, 6, 7], dtype=int64)>]\n"
     ]
    }
   ],
   "source": [
    "dataset=tf.data.Dataset.range(8)\n",
    "dataset=dataset.batch(4)\n",
    "print(list(dataset))"
   ]
  }
 ],
 "metadata": {
  "kernelspec": {
   "display_name": "Python 3 (ipykernel)",
   "language": "python",
   "name": "python3"
  },
  "language_info": {
   "codemirror_mode": {
    "name": "ipython",
    "version": 3
   },
   "file_extension": ".py",
   "mimetype": "text/x-python",
   "name": "python",
   "nbconvert_exporter": "python",
   "pygments_lexer": "ipython3",
   "version": "3.9.7"
  }
 },
 "nbformat": 4,
 "nbformat_minor": 1
}
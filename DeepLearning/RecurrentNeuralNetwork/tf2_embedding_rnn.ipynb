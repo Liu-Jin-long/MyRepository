{
 "cells": [
  {
   "cell_type": "code",
   "execution_count": 1,
   "id": "2e2cd59f",
   "metadata": {
    "execution": {
     "iopub.execute_input": "2022-08-02T04:36:18.024460Z",
     "iopub.status.busy": "2022-08-02T04:36:18.023259Z",
     "iopub.status.idle": "2022-08-02T04:36:24.020845Z",
     "shell.execute_reply": "2022-08-02T04:36:24.019533Z"
    },
    "papermill": {
     "duration": 6.008537,
     "end_time": "2022-08-02T04:36:24.023728",
     "exception": false,
     "start_time": "2022-08-02T04:36:18.015191",
     "status": "completed"
    },
    "tags": []
   },
   "outputs": [
    {
     "name": "stdout",
     "output_type": "stream",
     "text": [
      "2.6.4\n",
      "sys.version_info(major=3, minor=7, micro=12, releaselevel='final', serial=0)\n",
      "matplotlib 3.5.2\n",
      "numpy 1.21.6\n",
      "pandas 1.3.5\n",
      "sklearn 1.0.2\n",
      "tensorflow 2.6.4\n",
      "keras.api._v2.keras 2.6.0\n"
     ]
    }
   ],
   "source": [
    "import matplotlib as mpl\n",
    "import matplotlib.pyplot as plt\n",
    "%matplotlib inline\n",
    "import numpy as np\n",
    "import sklearn\n",
    "import pandas as pd\n",
    "import os\n",
    "import sys\n",
    "import time\n",
    "import tensorflow as tf\n",
    "\n",
    "from tensorflow import keras\n",
    "print(tf.__version__)\n",
    "print(sys.version_info)\n",
    "for module in mpl, np, pd, sklearn, tf, keras:\n",
    "    print(module.__name__, module.__version__)"
   ]
  },
  {
   "cell_type": "code",
   "execution_count": 2,
   "id": "79f242f1",
   "metadata": {
    "execution": {
     "iopub.execute_input": "2022-08-02T04:36:24.037529Z",
     "iopub.status.busy": "2022-08-02T04:36:24.037044Z",
     "iopub.status.idle": "2022-08-02T04:36:28.960132Z",
     "shell.execute_reply": "2022-08-02T04:36:28.958953Z"
    },
    "papermill": {
     "duration": 4.9323,
     "end_time": "2022-08-02T04:36:28.962398",
     "exception": false,
     "start_time": "2022-08-02T04:36:24.030098",
     "status": "completed"
    },
    "pycharm": {
     "name": "#%%\n"
    },
    "tags": []
   },
   "outputs": [
    {
     "name": "stdout",
     "output_type": "stream",
     "text": [
      "Downloading data from https://storage.googleapis.com/tensorflow/tf-keras-datasets/imdb.npz\n",
      "17465344/17464789 [==============================] - 0s 0us/step\n",
      "17473536/17464789 [==============================] - 0s 0us/step\n",
      "Downloading data from https://storage.googleapis.com/tensorflow/tf-keras-datasets/imdb_word_index.json\n",
      "1646592/1641221 [==============================] - 0s 0us/step\n",
      "1654784/1641221 [==============================] - 0s 0us/step\n",
      "88584\n"
     ]
    }
   ],
   "source": [
    "imdb = keras.datasets.imdb\n",
    "vocab_size = 10000\n",
    "index_from = 3\n",
    "(train_data, train_labels), (test_data, test_labels) = imdb.load_data(\n",
    "    num_words=vocab_size, index_from=index_from)\n",
    "word_index = imdb.get_word_index()\n",
    "print(len(word_index))\n",
    "word_index = {k: (v + 3) for k, v in word_index.items()}\n",
    "word_index['<PAD>'] = 0\n",
    "word_index['<START>'] = 1\n",
    "word_index['<UNK>'] = 2\n",
    "word_index['<END>'] = 3"
   ]
  },
  {
   "cell_type": "code",
   "execution_count": 3,
   "id": "ee3f23e5",
   "metadata": {
    "execution": {
     "iopub.execute_input": "2022-08-02T04:36:28.975829Z",
     "iopub.status.busy": "2022-08-02T04:36:28.975521Z",
     "iopub.status.idle": "2022-08-02T04:36:29.026470Z",
     "shell.execute_reply": "2022-08-02T04:36:29.025387Z"
    },
    "papermill": {
     "duration": 0.060261,
     "end_time": "2022-08-02T04:36:29.028768",
     "exception": false,
     "start_time": "2022-08-02T04:36:28.968507",
     "status": "completed"
    },
    "pycharm": {
     "name": "#%%\n"
    },
    "tags": []
   },
   "outputs": [
    {
     "data": {
      "text/plain": [
       "\"<START> this film was just brilliant casting location scenery story direction everyone's really suited the part they played and you could just imagine being there robert <UNK> is an amazing actor and now the same being director <UNK> father came from the same scottish island as myself so i loved the fact there was a real connection with this film the witty remarks throughout the film were great it was just brilliant so much that i bought the film as soon as it was released for <UNK> and would recommend it to everyone to watch and the fly fishing was amazing really cried at the end it was so sad and you know what they say if you cry at a film it must have been good and this definitely was also <UNK> to the two little boy's that played the <UNK> of norman and paul they were just brilliant children are often left out of the <UNK> list i think because the stars that play them all grown up are such a big profile for the whole film but these children are amazing and should be praised for what they have done don't you think the whole story was so lovely because it was true and was someone's life after all that was shared with us all\""
      ]
     },
     "execution_count": 3,
     "metadata": {},
     "output_type": "execute_result"
    }
   ],
   "source": [
    "reverse_word_index = dict(\n",
    "    [(value, key) for key, value in word_index.items()])\n",
    "\n",
    "\n",
    "def decode_review(text_ids):\n",
    "    return ' '.join(\n",
    "        [reverse_word_index.get(word_id, \"<UNK>\") for word_id in text_ids])\n",
    "\n",
    "decode_review(train_data[0])"
   ]
  },
  {
   "cell_type": "code",
   "execution_count": 4,
   "id": "bffd8eff",
   "metadata": {
    "execution": {
     "iopub.execute_input": "2022-08-02T04:36:29.042733Z",
     "iopub.status.busy": "2022-08-02T04:36:29.042450Z",
     "iopub.status.idle": "2022-08-02T04:36:29.852400Z",
     "shell.execute_reply": "2022-08-02T04:36:29.851272Z"
    },
    "papermill": {
     "duration": 0.819784,
     "end_time": "2022-08-02T04:36:29.854932",
     "exception": false,
     "start_time": "2022-08-02T04:36:29.035148",
     "status": "completed"
    },
    "pycharm": {
     "name": "#%%\n"
    },
    "tags": []
   },
   "outputs": [
    {
     "name": "stdout",
     "output_type": "stream",
     "text": [
      "[   1  194 1153  194 8255   78  228    5    6 1463 4369 5012  134   26\n",
      "    4  715    8  118 1634   14  394   20   13  119  954  189  102    5\n",
      "  207  110 3103   21   14   69  188    8   30   23    7    4  249  126\n",
      "   93    4  114    9 2300 1523    5  647    4  116    9   35 8163    4\n",
      "  229    9  340 1322    4  118    9    4  130 4901   19    4 1002    5\n",
      "   89   29  952   46   37    4  455    9   45   43   38 1543 1905  398\n",
      "    4 1649   26 6853    5  163   11 3215    2    4 1153    9  194  775\n",
      "    7 8255    2  349 2637  148  605    2 8003   15  123  125   68    2\n",
      " 6853   15  349  165 4362   98    5    4  228    9   43    2 1157   15\n",
      "  299  120    5  120  174   11  220  175  136   50    9 4373  228 8255\n",
      "    5    2  656  245 2350    5    4 9837  131  152  491   18    2   32\n",
      " 7464 1212   14    9    6  371   78   22  625   64 1382    9    8  168\n",
      "  145   23    4 1690   15   16    4 1355    5   28    6   52  154  462\n",
      "   33   89   78  285   16  145   95    0    0    0    0    0    0    0\n",
      "    0    0    0    0    0    0    0    0    0    0    0    0    0    0\n",
      "    0    0    0    0    0    0    0    0    0    0    0    0    0    0\n",
      "    0    0    0    0    0    0    0    0    0    0    0    0    0    0\n",
      "    0    0    0    0    0    0    0    0    0    0    0    0    0    0\n",
      "    0    0    0    0    0    0    0    0    0    0    0    0    0    0\n",
      "    0    0    0    0    0    0    0    0    0    0    0    0    0    0\n",
      "    0    0    0    0    0    0    0    0    0    0    0    0    0    0\n",
      "    0    0    0    0    0    0    0    0    0    0    0    0    0    0\n",
      "    0    0    0    0    0    0    0    0    0    0    0    0    0    0\n",
      "    0    0    0    0    0    0    0    0    0    0    0    0    0    0\n",
      "    0    0    0    0    0    0    0    0    0    0    0    0    0    0\n",
      "    0    0    0    0    0    0    0    0    0    0    0    0    0    0\n",
      "    0    0    0    0    0    0    0    0    0    0    0    0    0    0\n",
      "    0    0    0    0    0    0    0    0    0    0    0    0    0    0\n",
      "    0    0    0    0    0    0    0    0    0    0    0    0    0    0\n",
      "    0    0    0    0    0    0    0    0    0    0    0    0    0    0\n",
      "    0    0    0    0    0    0    0    0    0    0    0    0    0    0\n",
      "    0    0    0    0    0    0    0    0    0    0    0    0    0    0\n",
      "    0    0    0    0    0    0    0    0    0    0    0    0    0    0\n",
      "    0    0    0    0    0    0    0    0    0    0    0    0    0    0\n",
      "    0    0    0    0    0    0    0    0    0    0    0    0    0    0\n",
      "    0    0    0    0    0    0    0    0    0    0]\n",
      "[   1   14   22 3443    6  176    7 5063   88   12 2679   23 1310    5\n",
      "  109  943    4  114    9   55  606    5  111    7    4  139  193  273\n",
      "   23    4  172  270   11 7216    2    4 8463 2801  109 1603   21    4\n",
      "   22 3861    8    6 1193 1330   10   10    4  105  987   35  841    2\n",
      "   19  861 1074    5 1987    2   45   55  221   15  670 5304  526   14\n",
      " 1069    4  405    5 2438    7   27   85  108  131    4 5045 5304 3884\n",
      "  405    9 3523  133    5   50   13  104   51   66  166   14   22  157\n",
      "    9    4  530  239   34 8463 2801   45  407   31    7   41 3778  105\n",
      "   21   59  299   12   38  950    5 4521   15   45  629  488 2733  127\n",
      "    6   52  292   17    4 6936  185  132 1988 5304 1799  488 2693   47\n",
      "    6  392  173    4    2 4378  270 2352    4 1500    7    4   65   55\n",
      "   73   11  346   14   20    9    6  976 2078    7 5293  861    2    5\n",
      " 4182   30 3127    2   56    4  841    5  990  692    8    4 1669  398\n",
      "  229   10   10   13 2822  670 5304   14    9   31    7   27  111  108\n",
      "   15 2033   19 7836 1429  875  551   14   22    9 1193   21   45 4829\n",
      "    5   45  252    8    2    6  565  921 3639   39    4  529   48   25\n",
      "  181    8   67   35 1732   22   49  238   60  135 1162   14    9  290\n",
      "    4   58   10   10  472   45   55  878    8  169   11  374 5687   25\n",
      "  203   28    8  818   12  125    4 3077    0    0    0    0    0    0\n",
      "    0    0    0    0    0    0    0    0    0    0    0    0    0    0\n",
      "    0    0    0    0    0    0    0    0    0    0    0    0    0    0\n",
      "    0    0    0    0    0    0    0    0    0    0    0    0    0    0\n",
      "    0    0    0    0    0    0    0    0    0    0    0    0    0    0\n",
      "    0    0    0    0    0    0    0    0    0    0    0    0    0    0\n",
      "    0    0    0    0    0    0    0    0    0    0    0    0    0    0\n",
      "    0    0    0    0    0    0    0    0    0    0    0    0    0    0\n",
      "    0    0    0    0    0    0    0    0    0    0    0    0    0    0\n",
      "    0    0    0    0    0    0    0    0    0    0    0    0    0    0\n",
      "    0    0    0    0    0    0    0    0    0    0    0    0    0    0\n",
      "    0    0    0    0    0    0    0    0    0    0    0    0    0    0\n",
      "    0    0    0    0    0    0    0    0    0    0    0    0    0    0\n",
      "    0    0    0    0    0    0    0    0    0    0    0    0    0    0\n",
      "    0    0    0    0    0    0    0    0    0    0    0    0    0    0\n",
      "    0    0    0    0    0    0    0    0    0    0    0    0    0    0\n",
      "    0    0    0    0    0    0    0    0    0    0    0    0    0    0\n",
      "    0    0    0    0    0    0    0    0    0    0]\n"
     ]
    }
   ],
   "source": [
    "max_length=500\n",
    "train_data=keras.preprocessing.sequence.pad_sequences(\n",
    "    train_data,\n",
    "    value=word_index['<PAD>'],\n",
    "    padding='post',\n",
    "    maxlen=max_length)\n",
    "print(train_data[1])\n",
    "test_data=keras.preprocessing.sequence.pad_sequences(\n",
    "    test_data,\n",
    "    value=word_index['<PAD>'],\n",
    "    padding='post',\n",
    "    maxlen=max_length)\n",
    "print(test_data[1])"
   ]
  },
  {
   "cell_type": "code",
   "execution_count": 5,
   "id": "218ad3c2",
   "metadata": {
    "execution": {
     "iopub.execute_input": "2022-08-02T04:36:29.870239Z",
     "iopub.status.busy": "2022-08-02T04:36:29.868722Z",
     "iopub.status.idle": "2022-08-02T04:36:32.687630Z",
     "shell.execute_reply": "2022-08-02T04:36:32.686497Z"
    },
    "papermill": {
     "duration": 2.828596,
     "end_time": "2022-08-02T04:36:32.690206",
     "exception": false,
     "start_time": "2022-08-02T04:36:29.861610",
     "status": "completed"
    },
    "pycharm": {
     "name": "#%%\n"
    },
    "tags": []
   },
   "outputs": [
    {
     "name": "stderr",
     "output_type": "stream",
     "text": [
      "2022-08-02 04:36:29.967827: I tensorflow/stream_executor/cuda/cuda_gpu_executor.cc:937] successful NUMA node read from SysFS had negative value (-1), but there must be at least one NUMA node, so returning NUMA node zero\n"
     ]
    },
    {
     "name": "stdout",
     "output_type": "stream",
     "text": [
      "Model: \"sequential\"\n",
      "_________________________________________________________________\n",
      "Layer (type)                 Output Shape              Param #   \n",
      "=================================================================\n",
      "embedding (Embedding)        (None, 500, 16)           160000    \n",
      "_________________________________________________________________\n",
      "simple_rnn (SimpleRNN)       (None, 64)                5184      \n",
      "_________________________________________________________________\n",
      "dense (Dense)                (None, 64)                4160      \n",
      "_________________________________________________________________\n",
      "dense_1 (Dense)              (None, 1)                 65        \n",
      "=================================================================\n",
      "Total params: 169,409\n",
      "Trainable params: 169,409\n",
      "Non-trainable params: 0\n",
      "_________________________________________________________________\n",
      "5184\n"
     ]
    },
    {
     "name": "stderr",
     "output_type": "stream",
     "text": [
      "2022-08-02 04:36:30.080561: I tensorflow/stream_executor/cuda/cuda_gpu_executor.cc:937] successful NUMA node read from SysFS had negative value (-1), but there must be at least one NUMA node, so returning NUMA node zero\n",
      "2022-08-02 04:36:30.081372: I tensorflow/stream_executor/cuda/cuda_gpu_executor.cc:937] successful NUMA node read from SysFS had negative value (-1), but there must be at least one NUMA node, so returning NUMA node zero\n",
      "2022-08-02 04:36:30.083268: I tensorflow/core/platform/cpu_feature_guard.cc:142] This TensorFlow binary is optimized with oneAPI Deep Neural Network Library (oneDNN) to use the following CPU instructions in performance-critical operations:  AVX2 AVX512F FMA\n",
      "To enable them in other operations, rebuild TensorFlow with the appropriate compiler flags.\n",
      "2022-08-02 04:36:30.083573: I tensorflow/stream_executor/cuda/cuda_gpu_executor.cc:937] successful NUMA node read from SysFS had negative value (-1), but there must be at least one NUMA node, so returning NUMA node zero\n",
      "2022-08-02 04:36:30.084392: I tensorflow/stream_executor/cuda/cuda_gpu_executor.cc:937] successful NUMA node read from SysFS had negative value (-1), but there must be at least one NUMA node, so returning NUMA node zero\n",
      "2022-08-02 04:36:30.085078: I tensorflow/stream_executor/cuda/cuda_gpu_executor.cc:937] successful NUMA node read from SysFS had negative value (-1), but there must be at least one NUMA node, so returning NUMA node zero\n",
      "2022-08-02 04:36:32.195173: I tensorflow/stream_executor/cuda/cuda_gpu_executor.cc:937] successful NUMA node read from SysFS had negative value (-1), but there must be at least one NUMA node, so returning NUMA node zero\n",
      "2022-08-02 04:36:32.196259: I tensorflow/stream_executor/cuda/cuda_gpu_executor.cc:937] successful NUMA node read from SysFS had negative value (-1), but there must be at least one NUMA node, so returning NUMA node zero\n",
      "2022-08-02 04:36:32.197173: I tensorflow/stream_executor/cuda/cuda_gpu_executor.cc:937] successful NUMA node read from SysFS had negative value (-1), but there must be at least one NUMA node, so returning NUMA node zero\n",
      "2022-08-02 04:36:32.197994: I tensorflow/core/common_runtime/gpu/gpu_device.cc:1510] Created device /job:localhost/replica:0/task:0/device:GPU:0 with 15403 MB memory:  -> device: 0, name: Tesla P100-PCIE-16GB, pci bus id: 0000:00:04.0, compute capability: 6.0\n"
     ]
    }
   ],
   "source": [
    "embedding_dim = 16\n",
    "batch_size = 512\n",
    "# 单向循环神经网络\n",
    "single_rnn_model=keras.models.Sequential([\n",
    "    keras.layers.Embedding(vocab_size,embedding_dim,input_length=max_length),\n",
    "    # return_sequences=True返回所有输出序列，False只返回最后一个输出\n",
    "    # return_sequences不再返回前面的输出结果，只保留rnn所有输出结果的最后一个\n",
    "    keras.layers.SimpleRNN(units=64, # 输出空间的维度 隐藏层神经元数\n",
    "                           return_sequences=False),\n",
    "    keras.layers.Dense(64, activation = 'relu'),\n",
    "    keras.layers.Dense(1, activation='sigmoid'),\n",
    "])\n",
    "single_rnn_model.summary()\n",
    "single_rnn_model.compile(optimizer = 'adam',\n",
    "                         loss = 'binary_crossentropy',\n",
    "                         metrics = ['accuracy'])\n",
    "print(16*64+64*64+64)"
   ]
  },
  {
   "cell_type": "code",
   "execution_count": 6,
   "id": "29346376",
   "metadata": {
    "execution": {
     "iopub.execute_input": "2022-08-02T04:36:32.705469Z",
     "iopub.status.busy": "2022-08-02T04:36:32.704894Z",
     "iopub.status.idle": "2022-08-02T04:36:32.720815Z",
     "shell.execute_reply": "2022-08-02T04:36:32.719368Z"
    },
    "papermill": {
     "duration": 0.025795,
     "end_time": "2022-08-02T04:36:32.723421",
     "exception": false,
     "start_time": "2022-08-02T04:36:32.697626",
     "status": "completed"
    },
    "pycharm": {
     "name": "#%%\n"
    },
    "tags": []
   },
   "outputs": [
    {
     "name": "stdout",
     "output_type": "stream",
     "text": [
      "5184\n"
     ]
    },
    {
     "data": {
      "text/plain": [
       "[<tf.Variable 'embedding/embeddings:0' shape=(10000, 16) dtype=float32, numpy=\n",
       " array([[ 0.01352813,  0.0383968 , -0.03425353, ..., -0.01509982,\n",
       "         -0.04562478,  0.00921679],\n",
       "        [-0.04466153, -0.02329762,  0.04570409, ...,  0.04086313,\n",
       "          0.01777854, -0.04358696],\n",
       "        [ 0.0104805 ,  0.01704517, -0.04496516, ...,  0.02895273,\n",
       "         -0.02850969, -0.03725734],\n",
       "        ...,\n",
       "        [-0.0478189 , -0.02827276,  0.04329106, ..., -0.03863101,\n",
       "          0.04682143, -0.01287011],\n",
       "        [-0.02849518,  0.03856838, -0.01282635, ..., -0.04321033,\n",
       "          0.03796012, -0.03235822],\n",
       "        [-0.01891859,  0.00134892,  0.02364847, ..., -0.01517612,\n",
       "          0.02480364, -0.02459494]], dtype=float32)>,\n",
       " <tf.Variable 'simple_rnn/simple_rnn_cell/kernel:0' shape=(16, 64) dtype=float32, numpy=\n",
       " array([[ 0.19931746, -0.17428793, -0.05169113, ..., -0.06758751,\n",
       "          0.01796737, -0.0629119 ],\n",
       "        [-0.24447067, -0.20413534,  0.12053365, ..., -0.2211073 ,\n",
       "         -0.23341438, -0.2118793 ],\n",
       "        [-0.02284539, -0.01510268,  0.15844816, ...,  0.12188771,\n",
       "         -0.08054262, -0.05976468],\n",
       "        ...,\n",
       "        [-0.24136531, -0.26653782,  0.19056362, ..., -0.22939627,\n",
       "         -0.07444622, -0.23513082],\n",
       "        [-0.03708306, -0.23169473, -0.15595922, ..., -0.1998182 ,\n",
       "          0.0490118 ,  0.21943894],\n",
       "        [-0.2279756 , -0.13311358,  0.03180864, ...,  0.1584377 ,\n",
       "          0.0072993 , -0.19155417]], dtype=float32)>,\n",
       " <tf.Variable 'simple_rnn/simple_rnn_cell/recurrent_kernel:0' shape=(64, 64) dtype=float32, numpy=\n",
       " array([[-0.08296025, -0.10395819,  0.01059553, ..., -0.05758733,\n",
       "          0.10394549, -0.07187827],\n",
       "        [-0.16145968,  0.15981448, -0.00424421, ...,  0.2037651 ,\n",
       "          0.0265312 ,  0.03507145],\n",
       "        [ 0.05400083,  0.15245944,  0.21113265, ..., -0.28501615,\n",
       "          0.1265059 , -0.11178099],\n",
       "        ...,\n",
       "        [-0.02890551,  0.21420433,  0.2985467 , ...,  0.20998849,\n",
       "         -0.04344131,  0.195598  ],\n",
       "        [ 0.06344377, -0.11919746,  0.1563573 , ..., -0.04263704,\n",
       "         -0.01197232, -0.21181631],\n",
       "        [-0.02678453, -0.11749189,  0.06062058, ...,  0.02697943,\n",
       "          0.13737692, -0.16396317]], dtype=float32)>,\n",
       " <tf.Variable 'simple_rnn/simple_rnn_cell/bias:0' shape=(64,) dtype=float32, numpy=\n",
       " array([0., 0., 0., 0., 0., 0., 0., 0., 0., 0., 0., 0., 0., 0., 0., 0., 0.,\n",
       "        0., 0., 0., 0., 0., 0., 0., 0., 0., 0., 0., 0., 0., 0., 0., 0., 0.,\n",
       "        0., 0., 0., 0., 0., 0., 0., 0., 0., 0., 0., 0., 0., 0., 0., 0., 0.,\n",
       "        0., 0., 0., 0., 0., 0., 0., 0., 0., 0., 0., 0., 0.], dtype=float32)>,\n",
       " <tf.Variable 'dense/kernel:0' shape=(64, 64) dtype=float32, numpy=\n",
       " array([[-0.12902884, -0.05915414, -0.18132228, ...,  0.01734072,\n",
       "         -0.01308122,  0.17152785],\n",
       "        [ 0.07683982, -0.11369533,  0.15076943, ...,  0.15728672,\n",
       "          0.02378036, -0.0736572 ],\n",
       "        [ 0.03062749, -0.12321787, -0.07477842, ..., -0.1645218 ,\n",
       "          0.04460187, -0.05886848],\n",
       "        ...,\n",
       "        [ 0.10377537,  0.13886873,  0.11746956, ..., -0.08755581,\n",
       "         -0.17344025, -0.05477658],\n",
       "        [-0.05871099, -0.17753308,  0.01451561, ..., -0.00812826,\n",
       "          0.21552585, -0.15384778],\n",
       "        [-0.00333181, -0.10596753, -0.06081833, ..., -0.02056217,\n",
       "          0.17661916,  0.0195256 ]], dtype=float32)>,\n",
       " <tf.Variable 'dense/bias:0' shape=(64,) dtype=float32, numpy=\n",
       " array([0., 0., 0., 0., 0., 0., 0., 0., 0., 0., 0., 0., 0., 0., 0., 0., 0.,\n",
       "        0., 0., 0., 0., 0., 0., 0., 0., 0., 0., 0., 0., 0., 0., 0., 0., 0.,\n",
       "        0., 0., 0., 0., 0., 0., 0., 0., 0., 0., 0., 0., 0., 0., 0., 0., 0.,\n",
       "        0., 0., 0., 0., 0., 0., 0., 0., 0., 0., 0., 0., 0.], dtype=float32)>,\n",
       " <tf.Variable 'dense_1/kernel:0' shape=(64, 1) dtype=float32, numpy=\n",
       " array([[-0.04385394],\n",
       "        [ 0.24281037],\n",
       "        [-0.02303061],\n",
       "        [ 0.23432374],\n",
       "        [-0.15431066],\n",
       "        [ 0.21364594],\n",
       "        [-0.13736683],\n",
       "        [ 0.25238687],\n",
       "        [ 0.05209661],\n",
       "        [ 0.25162995],\n",
       "        [ 0.2923951 ],\n",
       "        [-0.17651528],\n",
       "        [-0.21551633],\n",
       "        [ 0.04058009],\n",
       "        [ 0.06256682],\n",
       "        [ 0.16109422],\n",
       "        [-0.2562844 ],\n",
       "        [ 0.25565434],\n",
       "        [-0.09042476],\n",
       "        [ 0.16799533],\n",
       "        [ 0.25401253],\n",
       "        [ 0.23730588],\n",
       "        [ 0.24305129],\n",
       "        [ 0.01890013],\n",
       "        [-0.1837097 ],\n",
       "        [-0.16663179],\n",
       "        [ 0.27227873],\n",
       "        [ 0.17143804],\n",
       "        [-0.10531783],\n",
       "        [ 0.14321959],\n",
       "        [-0.30206093],\n",
       "        [ 0.14618614],\n",
       "        [-0.12824719],\n",
       "        [-0.00599667],\n",
       "        [-0.15716083],\n",
       "        [-0.2767535 ],\n",
       "        [-0.30346033],\n",
       "        [-0.25312528],\n",
       "        [-0.23262328],\n",
       "        [-0.3038047 ],\n",
       "        [-0.281891  ],\n",
       "        [ 0.10009471],\n",
       "        [ 0.18269241],\n",
       "        [-0.10027392],\n",
       "        [ 0.17973763],\n",
       "        [-0.15128215],\n",
       "        [ 0.12975952],\n",
       "        [ 0.04401213],\n",
       "        [-0.190876  ],\n",
       "        [ 0.16874918],\n",
       "        [ 0.22973078],\n",
       "        [ 0.2751513 ],\n",
       "        [ 0.22795832],\n",
       "        [-0.14129399],\n",
       "        [ 0.01753759],\n",
       "        [-0.15838371],\n",
       "        [-0.13356644],\n",
       "        [-0.15610594],\n",
       "        [-0.2748095 ],\n",
       "        [ 0.05547664],\n",
       "        [ 0.09947503],\n",
       "        [ 0.00276166],\n",
       "        [ 0.22330588],\n",
       "        [ 0.22947872]], dtype=float32)>,\n",
       " <tf.Variable 'dense_1/bias:0' shape=(1,) dtype=float32, numpy=array([0.], dtype=float32)>]"
      ]
     },
     "execution_count": 6,
     "metadata": {},
     "output_type": "execute_result"
    }
   ],
   "source": [
    "# X_t*U+S_(t-1)*W+bias  [None,16]@[16,64]=[None,64]-->[None,64]@[64*64]=[None,64]\n",
    "print(16*64+64*64+64)\n",
    "single_rnn_model.variables"
   ]
  },
  {
   "cell_type": "code",
   "execution_count": 7,
   "id": "4a6dca1a",
   "metadata": {
    "execution": {
     "iopub.execute_input": "2022-08-02T04:36:32.740488Z",
     "iopub.status.busy": "2022-08-02T04:36:32.738763Z",
     "iopub.status.idle": "2022-08-02T04:36:33.656997Z",
     "shell.execute_reply": "2022-08-02T04:36:33.655834Z"
    },
    "papermill": {
     "duration": 0.928445,
     "end_time": "2022-08-02T04:36:33.659230",
     "exception": false,
     "start_time": "2022-08-02T04:36:32.730785",
     "status": "completed"
    },
    "pycharm": {
     "name": "#%%\n"
    },
    "tags": []
   },
   "outputs": [
    {
     "data": {
      "image/png": "[encoded data removed]",
      "text/plain": [
       "<IPython.core.display.Image object>"
      ]
     },
     "execution_count": 7,
     "metadata": {},
     "output_type": "execute_result"
    }
   ],
   "source": [
    "from tensorflow.keras.utils import plot_model\n",
    "plot_model(single_rnn_model)"
   ]
  },
  {
   "cell_type": "code",
   "execution_count": 8,
   "id": "5741611d",
   "metadata": {
    "execution": {
     "iopub.execute_input": "2022-08-02T04:36:33.676830Z",
     "iopub.status.busy": "2022-08-02T04:36:33.675350Z",
     "iopub.status.idle": "2022-08-02T04:45:33.337805Z",
     "shell.execute_reply": "2022-08-02T04:45:33.336856Z"
    },
    "papermill": {
     "duration": 539.672833,
     "end_time": "2022-08-02T04:45:33.340138",
     "exception": false,
     "start_time": "2022-08-02T04:36:33.667305",
     "status": "completed"
    },
    "pycharm": {
     "name": "#%%\n"
    },
    "tags": []
   },
   "outputs": [
    {
     "name": "stderr",
     "output_type": "stream",
     "text": [
      "2022-08-02 04:36:33.762360: I tensorflow/compiler/mlir/mlir_graph_optimization_pass.cc:185] None of the MLIR Optimization Passes are enabled (registered 2)\n"
     ]
    },
    {
     "name": "stdout",
     "output_type": "stream",
     "text": [
      "Epoch 1/30\n",
      "40/40 [==============================] - 21s 472ms/step - loss: 0.6944 - accuracy: 0.5030 - val_loss: 0.6945 - val_accuracy: 0.5040\n",
      "Epoch 2/30\n",
      "40/40 [==============================] - 17s 434ms/step - loss: 0.6942 - accuracy: 0.5001 - val_loss: 0.6938 - val_accuracy: 0.4956\n",
      "Epoch 3/30\n",
      "40/40 [==============================] - 18s 460ms/step - loss: 0.6944 - accuracy: 0.5028 - val_loss: 0.6991 - val_accuracy: 0.5040\n",
      "Epoch 4/30\n",
      "40/40 [==============================] - 17s 426ms/step - loss: 0.6943 - accuracy: 0.5062 - val_loss: 0.6933 - val_accuracy: 0.4946\n",
      "Epoch 5/30\n",
      "40/40 [==============================] - 19s 470ms/step - loss: 0.6939 - accuracy: 0.4979 - val_loss: 0.6967 - val_accuracy: 0.4968\n",
      "Epoch 6/30\n",
      "40/40 [==============================] - 18s 449ms/step - loss: 0.6938 - accuracy: 0.5082 - val_loss: 0.6953 - val_accuracy: 0.4906\n",
      "Epoch 7/30\n",
      "40/40 [==============================] - 18s 446ms/step - loss: 0.6942 - accuracy: 0.5043 - val_loss: 0.6954 - val_accuracy: 0.4938\n",
      "Epoch 8/30\n",
      "40/40 [==============================] - 18s 438ms/step - loss: 0.6940 - accuracy: 0.5038 - val_loss: 0.6957 - val_accuracy: 0.4906\n",
      "Epoch 9/30\n",
      "40/40 [==============================] - 18s 448ms/step - loss: 0.6953 - accuracy: 0.5033 - val_loss: 0.6986 - val_accuracy: 0.4966\n",
      "Epoch 10/30\n",
      "40/40 [==============================] - 18s 455ms/step - loss: 0.6944 - accuracy: 0.5085 - val_loss: 0.7000 - val_accuracy: 0.5080\n",
      "Epoch 11/30\n",
      "40/40 [==============================] - 17s 432ms/step - loss: 0.6942 - accuracy: 0.5062 - val_loss: 0.6936 - val_accuracy: 0.5064\n",
      "Epoch 12/30\n",
      "40/40 [==============================] - 18s 446ms/step - loss: 0.6934 - accuracy: 0.5070 - val_loss: 0.6958 - val_accuracy: 0.5010\n",
      "Epoch 13/30\n",
      "40/40 [==============================] - 17s 435ms/step - loss: 0.6964 - accuracy: 0.5003 - val_loss: 0.6943 - val_accuracy: 0.5080\n",
      "Epoch 14/30\n",
      "40/40 [==============================] - 19s 472ms/step - loss: 0.6974 - accuracy: 0.5030 - val_loss: 0.6960 - val_accuracy: 0.4920\n",
      "Epoch 15/30\n",
      "40/40 [==============================] - 17s 434ms/step - loss: 0.6962 - accuracy: 0.5083 - val_loss: 0.6991 - val_accuracy: 0.4904\n",
      "Epoch 16/30\n",
      "40/40 [==============================] - 19s 476ms/step - loss: 0.6969 - accuracy: 0.5052 - val_loss: 0.6935 - val_accuracy: 0.4890\n",
      "Epoch 17/30\n",
      "40/40 [==============================] - 18s 441ms/step - loss: 0.6924 - accuracy: 0.5110 - val_loss: 0.6956 - val_accuracy: 0.5026\n",
      "Epoch 18/30\n",
      "40/40 [==============================] - 18s 443ms/step - loss: 0.6941 - accuracy: 0.5065 - val_loss: 0.6943 - val_accuracy: 0.5052\n",
      "Epoch 19/30\n",
      "40/40 [==============================] - 19s 474ms/step - loss: 0.6941 - accuracy: 0.5091 - val_loss: 0.6980 - val_accuracy: 0.5052\n",
      "Epoch 20/30\n",
      "40/40 [==============================] - 17s 434ms/step - loss: 0.6949 - accuracy: 0.5118 - val_loss: 0.6965 - val_accuracy: 0.4936\n",
      "Epoch 21/30\n",
      "40/40 [==============================] - 18s 452ms/step - loss: 0.6927 - accuracy: 0.5106 - val_loss: 0.6994 - val_accuracy: 0.4978\n",
      "Epoch 22/30\n",
      "40/40 [==============================] - 18s 441ms/step - loss: 0.6934 - accuracy: 0.5074 - val_loss: 0.7028 - val_accuracy: 0.5064\n",
      "Epoch 23/30\n",
      "40/40 [==============================] - 18s 444ms/step - loss: 0.6907 - accuracy: 0.5145 - val_loss: 0.6939 - val_accuracy: 0.5030\n",
      "Epoch 24/30\n",
      "40/40 [==============================] - 18s 448ms/step - loss: 0.6912 - accuracy: 0.5031 - val_loss: 0.6926 - val_accuracy: 0.4948\n",
      "Epoch 25/30\n",
      "40/40 [==============================] - 18s 454ms/step - loss: 0.6910 - accuracy: 0.5121 - val_loss: 0.6939 - val_accuracy: 0.5008\n",
      "Epoch 26/30\n",
      "40/40 [==============================] - 18s 444ms/step - loss: 0.6891 - accuracy: 0.5160 - val_loss: 0.6939 - val_accuracy: 0.4966\n",
      "Epoch 27/30\n",
      "40/40 [==============================] - 18s 456ms/step - loss: 0.6900 - accuracy: 0.5149 - val_loss: 0.6935 - val_accuracy: 0.5046\n",
      "Epoch 28/30\n",
      "40/40 [==============================] - 17s 425ms/step - loss: 0.6898 - accuracy: 0.5123 - val_loss: 0.6972 - val_accuracy: 0.4988\n",
      "Epoch 29/30\n",
      "40/40 [==============================] - 18s 451ms/step - loss: 0.6901 - accuracy: 0.5121 - val_loss: 0.6934 - val_accuracy: 0.5116\n",
      "Epoch 30/30\n",
      "40/40 [==============================] - 18s 443ms/step - loss: 0.6876 - accuracy: 0.5200 - val_loss: 0.6932 - val_accuracy: 0.5038\n"
     ]
    }
   ],
   "source": [
    "history_single_rnn = single_rnn_model.fit(\n",
    "    train_data, train_labels,\n",
    "    epochs = 30,\n",
    "    batch_size = batch_size,\n",
    "    validation_split = 0.2)"
   ]
  },
  {
   "cell_type": "code",
   "execution_count": 9,
   "id": "380ebfa7",
   "metadata": {
    "execution": {
     "iopub.execute_input": "2022-08-02T04:45:33.482790Z",
     "iopub.status.busy": "2022-08-02T04:45:33.481222Z",
     "iopub.status.idle": "2022-08-02T04:45:33.924773Z",
     "shell.execute_reply": "2022-08-02T04:45:33.923689Z"
    },
    "papermill": {
     "duration": 0.515875,
     "end_time": "2022-08-02T04:45:33.927147",
     "exception": false,
     "start_time": "2022-08-02T04:45:33.411272",
     "status": "completed"
    },
    "pycharm": {
     "name": "#%%\n"
    },
    "tags": []
   },
   "outputs": [
    {
     "data": {
      "image/png": "[encoded data removed]",
      "text/plain": [
       "<Figure size 576x360 with 1 Axes>"
      ]
     },
     "metadata": {
      "needs_background": "light"
     },
     "output_type": "display_data"
    },
    {
     "data": {
      "image/png": "[encoded data removed]",
      "text/plain": [
       "<Figure size 576x360 with 1 Axes>"
      ]
     },
     "metadata": {
      "needs_background": "light"
     },
     "output_type": "display_data"
    }
   ],
   "source": [
    "def plot_learning_curves(history, label, epochs, min_value, max_value):\n",
    "    data = {}\n",
    "    data[label] = history.history[label]\n",
    "    data['val_'+label] = history.history['val_'+label]\n",
    "    pd.DataFrame(data).plot(figsize=(8, 5))\n",
    "    plt.grid(True)\n",
    "    plt.axis([0, epochs, min_value, max_value])\n",
    "    plt.show()\n",
    "plot_learning_curves(history_single_rnn, 'accuracy', 30, 0, 1)\n",
    "plot_learning_curves(history_single_rnn, 'loss', 30, 0, 1)"
   ]
  },
  {
   "cell_type": "code",
   "execution_count": 10,
   "id": "770d9988",
   "metadata": {
    "execution": {
     "iopub.execute_input": "2022-08-02T04:45:34.069956Z",
     "iopub.status.busy": "2022-08-02T04:45:34.069568Z",
     "iopub.status.idle": "2022-08-02T04:45:35.669199Z",
     "shell.execute_reply": "2022-08-02T04:45:35.667979Z"
    },
    "papermill": {
     "duration": 1.673952,
     "end_time": "2022-08-02T04:45:35.672001",
     "exception": false,
     "start_time": "2022-08-02T04:45:33.998049",
     "status": "completed"
    },
    "pycharm": {
     "name": "#%%\n"
    },
    "tags": []
   },
   "outputs": [
    {
     "name": "stdout",
     "output_type": "stream",
     "text": [
      "[0.6926835179328918, 0.5043200254440308]\n"
     ]
    }
   ],
   "source": [
    "print(single_rnn_model.evaluate(\n",
    "    test_data, test_labels,\n",
    "    batch_size = batch_size,\n",
    "    verbose = 0))"
   ]
  },
  {
   "cell_type": "code",
   "execution_count": 11,
   "id": "a7915635",
   "metadata": {
    "execution": {
     "iopub.execute_input": "2022-08-02T04:45:35.816827Z",
     "iopub.status.busy": "2022-08-02T04:45:35.816464Z",
     "iopub.status.idle": "2022-08-02T04:45:36.028715Z",
     "shell.execute_reply": "2022-08-02T04:45:36.026636Z"
    },
    "papermill": {
     "duration": 0.287333,
     "end_time": "2022-08-02T04:45:36.031656",
     "exception": false,
     "start_time": "2022-08-02T04:45:35.744323",
     "status": "completed"
    },
    "pycharm": {
     "name": "#%%\n"
    },
    "tags": []
   },
   "outputs": [
    {
     "name": "stdout",
     "output_type": "stream",
     "text": [
      "Model: \"sequential_1\"\n",
      "_________________________________________________________________\n",
      "Layer (type)                 Output Shape              Param #   \n",
      "=================================================================\n",
      "embedding_1 (Embedding)      (None, 500, 16)           160000    \n",
      "_________________________________________________________________\n",
      "bidirectional (Bidirectional (None, 500, 128)          10368     \n",
      "_________________________________________________________________\n",
      "bidirectional_1 (Bidirection (None, 128)               24704     \n",
      "_________________________________________________________________\n",
      "dense_2 (Dense)              (None, 64)                8256      \n",
      "_________________________________________________________________\n",
      "dense_3 (Dense)              (None, 1)                 65        \n",
      "=================================================================\n",
      "Total params: 203,393\n",
      "Trainable params: 203,393\n",
      "Non-trainable params: 0\n",
      "_________________________________________________________________\n"
     ]
    }
   ],
   "source": [
    "embedding_dim = 16\n",
    "batch_size = 512\n",
    "# 双向双层循环神经网络\n",
    "model=keras.models.Sequential([\n",
    "    keras.layers.Embedding(vocab_size, embedding_dim,\n",
    "                           input_length = max_length),\n",
    "    keras.layers.Bidirectional(\n",
    "        keras.layers.SimpleRNN(units=64,return_sequences=True)), # 得到max_length个输出(None, 500, 128)\n",
    "    keras.layers.Bidirectional(\n",
    "        keras.layers.SimpleRNN(units=64,return_sequences=False)),\n",
    "    keras.layers.Dense(64,activation='relu'),\n",
    "    keras.layers.Dense(1,activation='sigmoid')])\n",
    "model.summary()\n",
    "model.compile(optimizer = 'adam',\n",
    "             #  当只有两个标签类别（假定为0和1）时，使用二值交叉熵损失\n",
    "              loss = 'binary_crossentropy',\n",
    "              metrics = ['accuracy'])"
   ]
  },
  {
   "cell_type": "code",
   "execution_count": 12,
   "id": "7e4ebbac",
   "metadata": {
    "execution": {
     "iopub.execute_input": "2022-08-02T04:45:36.174866Z",
     "iopub.status.busy": "2022-08-02T04:45:36.174505Z",
     "iopub.status.idle": "2022-08-02T04:45:36.324134Z",
     "shell.execute_reply": "2022-08-02T04:45:36.323012Z"
    },
    "papermill": {
     "duration": 0.223038,
     "end_time": "2022-08-02T04:45:36.326401",
     "exception": false,
     "start_time": "2022-08-02T04:45:36.103363",
     "status": "completed"
    },
    "pycharm": {
     "name": "#%%\n"
    },
    "tags": []
   },
   "outputs": [
    {
     "data": {
      "image/png": "[encoded data removed]",
      "text/plain": [
       "<IPython.core.display.Image object>"
      ]
     },
     "execution_count": 12,
     "metadata": {},
     "output_type": "execute_result"
    }
   ],
   "source": [
    "from tensorflow.keras.utils import plot_model\n",
    "plot_model(model)"
   ]
  },
  {
   "cell_type": "code",
   "execution_count": 13,
   "id": "a812a18a",
   "metadata": {
    "execution": {
     "iopub.execute_input": "2022-08-02T04:45:36.472322Z",
     "iopub.status.busy": "2022-08-02T04:45:36.470482Z",
     "iopub.status.idle": "2022-08-02T04:45:36.513142Z",
     "shell.execute_reply": "2022-08-02T04:45:36.511801Z"
    },
    "papermill": {
     "duration": 0.121947,
     "end_time": "2022-08-02T04:45:36.520336",
     "exception": false,
     "start_time": "2022-08-02T04:45:36.398389",
     "status": "completed"
    },
    "pycharm": {
     "name": "#%%\n"
    },
    "tags": []
   },
   "outputs": [
    {
     "name": "stdout",
     "output_type": "stream",
     "text": [
      "10368\n",
      "12352\n",
      "[<tf.Variable 'embedding_1/embeddings:0' shape=(10000, 16) dtype=float32, numpy=\n",
      "array([[-0.01843842,  0.02169994,  0.01701266, ..., -0.0381117 ,\n",
      "         0.00489147, -0.00867581],\n",
      "       [-0.03462989,  0.0105046 ,  0.02192482, ...,  0.04554904,\n",
      "        -0.00361216,  0.006317  ],\n",
      "       [ 0.00568234, -0.04474999,  0.02612338, ...,  0.04207433,\n",
      "         0.00154008,  0.00354713],\n",
      "       ...,\n",
      "       [ 0.0063354 , -0.00486765,  0.00997747, ..., -0.04224831,\n",
      "         0.02403878,  0.04335631],\n",
      "       [ 0.04518939, -0.0098673 , -0.02359623, ...,  0.0002258 ,\n",
      "        -0.01172473,  0.04103675],\n",
      "       [ 0.02526534,  0.01767537, -0.04989427, ...,  0.04576105,\n",
      "         0.02155772,  0.02690445]], dtype=float32)>, <tf.Variable 'bidirectional/forward_simple_rnn_1/simple_rnn_cell_2/kernel:0' shape=(16, 64) dtype=float32, numpy=\n",
      "array([[-0.1316591 ,  0.19604617,  0.08846483, ...,  0.08292452,\n",
      "         0.18734899, -0.00450233],\n",
      "       [ 0.17507774, -0.06328519,  0.21027869, ...,  0.07083705,\n",
      "        -0.20356297, -0.15978746],\n",
      "       [ 0.20964423,  0.15994716, -0.24471134, ...,  0.00984386,\n",
      "        -0.20374346, -0.0212169 ],\n",
      "       ...,\n",
      "       [ 0.2702526 , -0.18589649, -0.19688396, ..., -0.23242962,\n",
      "         0.11608976, -0.02617216],\n",
      "       [-0.07962342,  0.07127798,  0.08661735, ..., -0.07442598,\n",
      "         0.14986545, -0.01115397],\n",
      "       [ 0.10381287,  0.20306545,  0.17775646, ..., -0.06500463,\n",
      "        -0.23969883,  0.15377665]], dtype=float32)>, <tf.Variable 'bidirectional/forward_simple_rnn_1/simple_rnn_cell_2/recurrent_kernel:0' shape=(64, 64) dtype=float32, numpy=\n",
      "array([[ 0.14877987,  0.07606167,  0.20662966, ..., -0.14781563,\n",
      "         0.0538712 ,  0.14850333],\n",
      "       [-0.01767747,  0.02513599, -0.07941616, ...,  0.1410346 ,\n",
      "         0.04965093,  0.14604372],\n",
      "       [-0.09403604, -0.25706846,  0.23184645, ...,  0.04542702,\n",
      "         0.18514743,  0.04522446],\n",
      "       ...,\n",
      "       [ 0.1018467 ,  0.04056429,  0.02851119, ...,  0.07850962,\n",
      "         0.10811035,  0.07395998],\n",
      "       [ 0.09717706,  0.10681516,  0.08887862, ...,  0.0823245 ,\n",
      "        -0.24012022,  0.01860639],\n",
      "       [ 0.16676593, -0.02714957, -0.02578279, ..., -0.17857046,\n",
      "        -0.05239245,  0.00911111]], dtype=float32)>, <tf.Variable 'bidirectional/forward_simple_rnn_1/simple_rnn_cell_2/bias:0' shape=(64,) dtype=float32, numpy=\n",
      "array([0., 0., 0., 0., 0., 0., 0., 0., 0., 0., 0., 0., 0., 0., 0., 0., 0.,\n",
      "       0., 0., 0., 0., 0., 0., 0., 0., 0., 0., 0., 0., 0., 0., 0., 0., 0.,\n",
      "       0., 0., 0., 0., 0., 0., 0., 0., 0., 0., 0., 0., 0., 0., 0., 0., 0.,\n",
      "       0., 0., 0., 0., 0., 0., 0., 0., 0., 0., 0., 0., 0.], dtype=float32)>, <tf.Variable 'bidirectional/backward_simple_rnn_1/simple_rnn_cell_3/kernel:0' shape=(16, 64) dtype=float32, numpy=\n",
      "array([[-0.17028028,  0.23379213,  0.07403937, ..., -0.1502433 ,\n",
      "        -0.01573694, -0.24141434],\n",
      "       [ 0.15783831, -0.0644847 ,  0.21987516, ...,  0.2348051 ,\n",
      "        -0.05477148, -0.08091231],\n",
      "       [-0.03919028, -0.0784431 , -0.19268453, ..., -0.06311209,\n",
      "         0.06280568, -0.11590976],\n",
      "       ...,\n",
      "       [ 0.15378213,  0.21106464,  0.12981522, ...,  0.19001803,\n",
      "         0.09351921, -0.23995052],\n",
      "       [-0.04085644,  0.14351746, -0.08380331, ...,  0.21368277,\n",
      "         0.18374473, -0.20549358],\n",
      "       [ 0.25488955, -0.01609173, -0.23827216, ...,  0.06738916,\n",
      "         0.25387245,  0.00062877]], dtype=float32)>, <tf.Variable 'bidirectional/backward_simple_rnn_1/simple_rnn_cell_3/recurrent_kernel:0' shape=(64, 64) dtype=float32, numpy=\n",
      "array([[ 0.07299936, -0.09217466,  0.07567394, ...,  0.26709503,\n",
      "         0.05931532,  0.00907129],\n",
      "       [-0.17609863,  0.17801094,  0.02750234, ..., -0.07883856,\n",
      "        -0.12796925, -0.16393   ],\n",
      "       [-0.01673914, -0.12600832,  0.15228117, ..., -0.11676327,\n",
      "        -0.08413219, -0.03471231],\n",
      "       ...,\n",
      "       [-0.12679923,  0.02228474,  0.04000138, ..., -0.22021991,\n",
      "         0.05805762,  0.11403861],\n",
      "       [ 0.17793062,  0.07571782,  0.04123414, ..., -0.02003251,\n",
      "         0.08676825,  0.1351831 ],\n",
      "       [-0.18924458, -0.00682762,  0.06107313, ...,  0.02878983,\n",
      "         0.13207904,  0.0790433 ]], dtype=float32)>, <tf.Variable 'bidirectional/backward_simple_rnn_1/simple_rnn_cell_3/bias:0' shape=(64,) dtype=float32, numpy=\n",
      "array([0., 0., 0., 0., 0., 0., 0., 0., 0., 0., 0., 0., 0., 0., 0., 0., 0.,\n",
      "       0., 0., 0., 0., 0., 0., 0., 0., 0., 0., 0., 0., 0., 0., 0., 0., 0.,\n",
      "       0., 0., 0., 0., 0., 0., 0., 0., 0., 0., 0., 0., 0., 0., 0., 0., 0.,\n",
      "       0., 0., 0., 0., 0., 0., 0., 0., 0., 0., 0., 0., 0.], dtype=float32)>, <tf.Variable 'bidirectional_1/forward_simple_rnn_2/simple_rnn_cell_5/kernel:0' shape=(128, 64) dtype=float32, numpy=\n",
      "array([[-0.05428177, -0.08989758,  0.1370854 , ..., -0.17227364,\n",
      "         0.07750203, -0.04944597],\n",
      "       [-0.07064739,  0.14608742,  0.01315062, ..., -0.03491567,\n",
      "        -0.05402017, -0.14919643],\n",
      "       [ 0.15406372, -0.02876   , -0.0592127 , ...,  0.16992037,\n",
      "        -0.04635227,  0.13664623],\n",
      "       ...,\n",
      "       [-0.00715439,  0.0052381 ,  0.02116707, ...,  0.03159487,\n",
      "        -0.11862837, -0.0428405 ],\n",
      "       [-0.03574559,  0.0423097 , -0.10009737, ..., -0.12490627,\n",
      "        -0.0132868 ,  0.0250147 ],\n",
      "       [-0.0715066 , -0.09754087,  0.03397639, ...,  0.14802276,\n",
      "         0.10057338, -0.09137099]], dtype=float32)>, <tf.Variable 'bidirectional_1/forward_simple_rnn_2/simple_rnn_cell_5/recurrent_kernel:0' shape=(64, 64) dtype=float32, numpy=\n",
      "array([[ 0.16621292, -0.08656916,  0.01067054, ..., -0.04467549,\n",
      "         0.20161927,  0.03988901],\n",
      "       [-0.16781396, -0.02364302, -0.20624813, ...,  0.17828158,\n",
      "        -0.06604644, -0.01858882],\n",
      "       [ 0.13988397, -0.01173246, -0.04016495, ..., -0.02932882,\n",
      "        -0.2625121 ,  0.23028791],\n",
      "       ...,\n",
      "       [-0.08007505,  0.11616917, -0.07976884, ..., -0.09665792,\n",
      "         0.00254399,  0.27070123],\n",
      "       [-0.02254735, -0.03295906, -0.01878724, ..., -0.12526165,\n",
      "        -0.25751   ,  0.18228799],\n",
      "       [ 0.10647528,  0.04007228,  0.05421517, ..., -0.10235581,\n",
      "        -0.03707483,  0.16922702]], dtype=float32)>, <tf.Variable 'bidirectional_1/forward_simple_rnn_2/simple_rnn_cell_5/bias:0' shape=(64,) dtype=float32, numpy=\n",
      "array([0., 0., 0., 0., 0., 0., 0., 0., 0., 0., 0., 0., 0., 0., 0., 0., 0.,\n",
      "       0., 0., 0., 0., 0., 0., 0., 0., 0., 0., 0., 0., 0., 0., 0., 0., 0.,\n",
      "       0., 0., 0., 0., 0., 0., 0., 0., 0., 0., 0., 0., 0., 0., 0., 0., 0.,\n",
      "       0., 0., 0., 0., 0., 0., 0., 0., 0., 0., 0., 0., 0.], dtype=float32)>, <tf.Variable 'bidirectional_1/backward_simple_rnn_2/simple_rnn_cell_6/kernel:0' shape=(128, 64) dtype=float32, numpy=\n",
      "array([[-0.03834853, -0.1155723 , -0.0229595 , ...,  0.1739835 ,\n",
      "         0.12587987,  0.09813876],\n",
      "       [-0.13638644,  0.0813164 ,  0.00621212, ...,  0.05728565,\n",
      "        -0.00574259,  0.03452277],\n",
      "       [-0.04321384, -0.04569131, -0.00990328, ...,  0.04996294,\n",
      "        -0.10294881,  0.09964095],\n",
      "       ...,\n",
      "       [ 0.14427073,  0.10208793, -0.07110746, ..., -0.17466551,\n",
      "        -0.15704927,  0.0512329 ],\n",
      "       [ 0.14418118, -0.08247826,  0.16982578, ..., -0.09984183,\n",
      "        -0.06673165, -0.1685313 ],\n",
      "       [ 0.02855916, -0.04491302,  0.14748721, ...,  0.04219157,\n",
      "        -0.0935161 , -0.14606366]], dtype=float32)>, <tf.Variable 'bidirectional_1/backward_simple_rnn_2/simple_rnn_cell_6/recurrent_kernel:0' shape=(64, 64) dtype=float32, numpy=\n",
      "array([[ 1.4894319e-01,  9.5869116e-03,  6.2874809e-02, ...,\n",
      "         1.4714946e-02, -3.5251680e-01,  5.7321273e-02],\n",
      "       [-2.0866719e-06,  1.5439498e-01,  6.3908042e-04, ...,\n",
      "         2.3276288e-02,  1.2596023e-01,  1.0281712e-01],\n",
      "       [ 8.3308712e-02,  2.0322286e-02, -5.4395199e-04, ...,\n",
      "        -3.2887888e-01, -3.9305989e-02,  1.1768979e-01],\n",
      "       ...,\n",
      "       [-1.6544017e-01, -1.4239164e-01, -1.0284963e-01, ...,\n",
      "         1.3827795e-01, -1.6570693e-01,  4.9400285e-02],\n",
      "       [-1.1306966e-01, -3.8724241e-03,  1.2365453e-02, ...,\n",
      "        -1.7247400e-01, -2.6038349e-02, -1.8844928e-01],\n",
      "       [-6.4005002e-02, -9.4540138e-03,  5.9705611e-02, ...,\n",
      "        -1.4625674e-01,  2.6317807e-02, -1.2564115e-02]], dtype=float32)>, <tf.Variable 'bidirectional_1/backward_simple_rnn_2/simple_rnn_cell_6/bias:0' shape=(64,) dtype=float32, numpy=\n",
      "array([0., 0., 0., 0., 0., 0., 0., 0., 0., 0., 0., 0., 0., 0., 0., 0., 0.,\n",
      "       0., 0., 0., 0., 0., 0., 0., 0., 0., 0., 0., 0., 0., 0., 0., 0., 0.,\n",
      "       0., 0., 0., 0., 0., 0., 0., 0., 0., 0., 0., 0., 0., 0., 0., 0., 0.,\n",
      "       0., 0., 0., 0., 0., 0., 0., 0., 0., 0., 0., 0., 0.], dtype=float32)>, <tf.Variable 'dense_2/kernel:0' shape=(128, 64) dtype=float32, numpy=\n",
      "array([[ 0.00282355, -0.13231067,  0.07151666, ..., -0.02001305,\n",
      "        -0.17637132, -0.03238265],\n",
      "       [-0.125216  ,  0.1150928 ,  0.10261326, ..., -0.05224355,\n",
      "        -0.00929621,  0.01399675],\n",
      "       [-0.08167941,  0.15903263,  0.09935965, ..., -0.06488845,\n",
      "         0.13378589, -0.0715991 ],\n",
      "       ...,\n",
      "       [ 0.1282156 , -0.09072181, -0.09826997, ...,  0.10383083,\n",
      "        -0.15435849,  0.13656728],\n",
      "       [ 0.03529587, -0.10109031, -0.09299525, ..., -0.07799464,\n",
      "        -0.05773267, -0.1112579 ],\n",
      "       [-0.10844768,  0.100731  , -0.09121417, ..., -0.00476487,\n",
      "        -0.1471266 , -0.04238886]], dtype=float32)>, <tf.Variable 'dense_2/bias:0' shape=(64,) dtype=float32, numpy=\n",
      "array([0., 0., 0., 0., 0., 0., 0., 0., 0., 0., 0., 0., 0., 0., 0., 0., 0.,\n",
      "       0., 0., 0., 0., 0., 0., 0., 0., 0., 0., 0., 0., 0., 0., 0., 0., 0.,\n",
      "       0., 0., 0., 0., 0., 0., 0., 0., 0., 0., 0., 0., 0., 0., 0., 0., 0.,\n",
      "       0., 0., 0., 0., 0., 0., 0., 0., 0., 0., 0., 0., 0.], dtype=float32)>, <tf.Variable 'dense_3/kernel:0' shape=(64, 1) dtype=float32, numpy=\n",
      "array([[-0.21036433],\n",
      "       [-0.03961211],\n",
      "       [-0.26403344],\n",
      "       [-0.19958848],\n",
      "       [-0.23500493],\n",
      "       [-0.04019365],\n",
      "       [-0.23327057],\n",
      "       [-0.25253817],\n",
      "       [ 0.30125564],\n",
      "       [-0.27727437],\n",
      "       [ 0.11820397],\n",
      "       [-0.0020217 ],\n",
      "       [ 0.07769257],\n",
      "       [ 0.28132826],\n",
      "       [ 0.10584038],\n",
      "       [ 0.06346765],\n",
      "       [-0.05217505],\n",
      "       [-0.17408074],\n",
      "       [-0.2390979 ],\n",
      "       [ 0.2230038 ],\n",
      "       [-0.11685701],\n",
      "       [-0.1623689 ],\n",
      "       [-0.2923526 ],\n",
      "       [ 0.23723537],\n",
      "       [ 0.04751012],\n",
      "       [-0.15771917],\n",
      "       [ 0.27286553],\n",
      "       [-0.20812103],\n",
      "       [ 0.04592469],\n",
      "       [-0.20413238],\n",
      "       [-0.04903772],\n",
      "       [ 0.06460354],\n",
      "       [-0.16854608],\n",
      "       [-0.17840457],\n",
      "       [-0.02305213],\n",
      "       [ 0.06644493],\n",
      "       [-0.05895251],\n",
      "       [-0.08546683],\n",
      "       [-0.09166901],\n",
      "       [-0.2779269 ],\n",
      "       [-0.03997517],\n",
      "       [-0.15563408],\n",
      "       [-0.22511382],\n",
      "       [-0.25464404],\n",
      "       [-0.10196576],\n",
      "       [-0.09933022],\n",
      "       [ 0.15114734],\n",
      "       [ 0.21898061],\n",
      "       [ 0.22332639],\n",
      "       [ 0.2838503 ],\n",
      "       [-0.22891256],\n",
      "       [-0.15593657],\n",
      "       [ 0.25774074],\n",
      "       [ 0.28897464],\n",
      "       [ 0.24762356],\n",
      "       [-0.10880965],\n",
      "       [-0.28997415],\n",
      "       [-0.03932324],\n",
      "       [-0.02974036],\n",
      "       [-0.0432367 ],\n",
      "       [ 0.16876912],\n",
      "       [ 0.02096516],\n",
      "       [-0.25087225],\n",
      "       [ 0.16669929]], dtype=float32)>, <tf.Variable 'dense_3/bias:0' shape=(1,) dtype=float32, numpy=array([0.], dtype=float32)>]\n"
     ]
    }
   ],
   "source": [
    "print((16*64+64*64+64)*2)\n",
    "print((64+64)*64+64*64+64)\n",
    "print(model.variables)"
   ]
  },
  {
   "cell_type": "code",
   "execution_count": 14,
   "id": "d4e06b79",
   "metadata": {
    "execution": {
     "iopub.execute_input": "2022-08-02T04:45:36.767126Z",
     "iopub.status.busy": "2022-08-02T04:45:36.766558Z",
     "iopub.status.idle": "2022-08-02T05:20:01.343392Z",
     "shell.execute_reply": "2022-08-02T05:20:01.342330Z"
    },
    "papermill": {
     "duration": 2064.68844,
     "end_time": "2022-08-02T05:20:01.345921",
     "exception": false,
     "start_time": "2022-08-02T04:45:36.657481",
     "status": "completed"
    },
    "tags": []
   },
   "outputs": [
    {
     "name": "stdout",
     "output_type": "stream",
     "text": [
      "Epoch 1/30\n",
      "40/40 [==============================] - 70s 2s/step - loss: 0.6997 - accuracy: 0.5058 - val_loss: 0.7003 - val_accuracy: 0.4934\n",
      "Epoch 2/30\n",
      "40/40 [==============================] - 67s 2s/step - loss: 0.6932 - accuracy: 0.5203 - val_loss: 0.7098 - val_accuracy: 0.5338\n",
      "Epoch 3/30\n",
      "40/40 [==============================] - 68s 2s/step - loss: 0.6981 - accuracy: 0.5143 - val_loss: 0.7035 - val_accuracy: 0.5100\n",
      "Epoch 4/30\n",
      "40/40 [==============================] - 68s 2s/step - loss: 0.6643 - accuracy: 0.5957 - val_loss: 0.6988 - val_accuracy: 0.5364\n",
      "Epoch 5/30\n",
      "40/40 [==============================] - 68s 2s/step - loss: 0.5738 - accuracy: 0.7024 - val_loss: 0.7712 - val_accuracy: 0.5416\n",
      "Epoch 6/30\n",
      "40/40 [==============================] - 68s 2s/step - loss: 0.4389 - accuracy: 0.8019 - val_loss: 0.8487 - val_accuracy: 0.5438\n",
      "Epoch 7/30\n",
      "40/40 [==============================] - 68s 2s/step - loss: 0.3110 - accuracy: 0.8750 - val_loss: 1.2124 - val_accuracy: 0.5300\n",
      "Epoch 8/30\n",
      "40/40 [==============================] - 68s 2s/step - loss: 0.2441 - accuracy: 0.9053 - val_loss: 1.1401 - val_accuracy: 0.5488\n",
      "Epoch 9/30\n",
      "40/40 [==============================] - 67s 2s/step - loss: 0.1471 - accuracy: 0.9484 - val_loss: 1.4935 - val_accuracy: 0.5594\n",
      "Epoch 10/30\n",
      "40/40 [==============================] - 68s 2s/step - loss: 0.0870 - accuracy: 0.9727 - val_loss: 1.7377 - val_accuracy: 0.5594\n",
      "Epoch 11/30\n",
      "40/40 [==============================] - 67s 2s/step - loss: 0.0525 - accuracy: 0.9845 - val_loss: 1.9820 - val_accuracy: 0.5578\n",
      "Epoch 12/30\n",
      "40/40 [==============================] - 68s 2s/step - loss: 0.0283 - accuracy: 0.9926 - val_loss: 2.2307 - val_accuracy: 0.5640\n",
      "Epoch 13/30\n",
      "40/40 [==============================] - 67s 2s/step - loss: 0.0169 - accuracy: 0.9952 - val_loss: 2.4329 - val_accuracy: 0.5666\n",
      "Epoch 14/30\n",
      "40/40 [==============================] - 68s 2s/step - loss: 0.0114 - accuracy: 0.9970 - val_loss: 2.5758 - val_accuracy: 0.5704\n",
      "Epoch 15/30\n",
      "40/40 [==============================] - 68s 2s/step - loss: 0.0057 - accuracy: 0.9987 - val_loss: 2.5901 - val_accuracy: 0.5644\n",
      "Epoch 16/30\n",
      "40/40 [==============================] - 68s 2s/step - loss: 0.0019 - accuracy: 0.9998 - val_loss: 2.8098 - val_accuracy: 0.5652\n",
      "Epoch 17/30\n",
      "40/40 [==============================] - 67s 2s/step - loss: 9.6949e-04 - accuracy: 0.9998 - val_loss: 2.9084 - val_accuracy: 0.5684\n",
      "Epoch 18/30\n",
      "40/40 [==============================] - 68s 2s/step - loss: 5.4865e-04 - accuracy: 0.9998 - val_loss: 2.9799 - val_accuracy: 0.5710\n",
      "Epoch 19/30\n",
      "40/40 [==============================] - 68s 2s/step - loss: 3.7920e-04 - accuracy: 0.9999 - val_loss: 3.0404 - val_accuracy: 0.5692\n",
      "Epoch 20/30\n",
      "40/40 [==============================] - 68s 2s/step - loss: 3.9769e-04 - accuracy: 0.9999 - val_loss: 3.0974 - val_accuracy: 0.5724\n",
      "Epoch 21/30\n",
      "40/40 [==============================] - 67s 2s/step - loss: 4.3144e-04 - accuracy: 0.9999 - val_loss: 3.1386 - val_accuracy: 0.5680\n",
      "Epoch 22/30\n",
      "40/40 [==============================] - 68s 2s/step - loss: 2.7621e-04 - accuracy: 0.9999 - val_loss: 3.1853 - val_accuracy: 0.5708\n",
      "Epoch 23/30\n",
      "40/40 [==============================] - 67s 2s/step - loss: 1.8227e-04 - accuracy: 1.0000 - val_loss: 3.2279 - val_accuracy: 0.5718\n",
      "Epoch 24/30\n",
      "40/40 [==============================] - 69s 2s/step - loss: 1.7935e-04 - accuracy: 0.9999 - val_loss: 3.2637 - val_accuracy: 0.5708\n",
      "Epoch 25/30\n",
      "40/40 [==============================] - 68s 2s/step - loss: 2.0875e-04 - accuracy: 0.9999 - val_loss: 3.2993 - val_accuracy: 0.5720\n",
      "Epoch 26/30\n",
      "40/40 [==============================] - 68s 2s/step - loss: 1.3899e-04 - accuracy: 1.0000 - val_loss: 3.3316 - val_accuracy: 0.5716\n",
      "Epoch 27/30\n",
      "40/40 [==============================] - 68s 2s/step - loss: 1.2091e-04 - accuracy: 1.0000 - val_loss: 3.3632 - val_accuracy: 0.5692\n",
      "Epoch 28/30\n",
      "40/40 [==============================] - 68s 2s/step - loss: 1.1728e-04 - accuracy: 0.9999 - val_loss: 3.3936 - val_accuracy: 0.5710\n",
      "Epoch 29/30\n",
      "40/40 [==============================] - 68s 2s/step - loss: 1.2559e-04 - accuracy: 0.9999 - val_loss: 3.4197 - val_accuracy: 0.5698\n",
      "Epoch 30/30\n",
      "40/40 [==============================] - 67s 2s/step - loss: 1.3228e-04 - accuracy: 0.9999 - val_loss: 3.4488 - val_accuracy: 0.5722\n"
     ]
    }
   ],
   "source": [
    "history = model.fit(\n",
    "    train_data, train_labels,\n",
    "    epochs = 30,\n",
    "    batch_size = batch_size,\n",
    "    validation_split = 0.2)"
   ]
  },
  {
   "cell_type": "code",
   "execution_count": 15,
   "id": "8f883a4c",
   "metadata": {
    "collapsed": false,
    "execution": {
     "iopub.execute_input": "2022-08-02T05:20:01.627225Z",
     "iopub.status.busy": "2022-08-02T05:20:01.626813Z",
     "iopub.status.idle": "2022-08-02T05:20:07.915561Z",
     "shell.execute_reply": "2022-08-02T05:20:07.914644Z"
    },
    "jupyter": {
     "outputs_hidden": false
    },
    "papermill": {
     "duration": 6.432682,
     "end_time": "2022-08-02T05:20:07.917691",
     "exception": false,
     "start_time": "2022-08-02T05:20:01.485009",
     "status": "completed"
    },
    "pycharm": {
     "name": "#%%\n"
    },
    "tags": []
   },
   "outputs": [
    {
     "data": {
      "image/png": "[encoded data removed]",
      "text/plain": [
       "<Figure size 576x360 with 1 Axes>"
      ]
     },
     "metadata": {
      "needs_background": "light"
     },
     "output_type": "display_data"
    },
    {
     "data": {
      "image/png": "[encoded data removed]",
      "text/plain": [
       "<Figure size 576x360 with 1 Axes>"
      ]
     },
     "metadata": {
      "needs_background": "light"
     },
     "output_type": "display_data"
    }
   ],
   "source": [
    "model.evaluate(test_data, test_labels, batch_size = batch_size, verbose = 0)\n",
    "plot_learning_curves(history, 'accuracy', 30, 0, 1.1)\n",
    "plot_learning_curves(history, 'loss', 30, 0, 3.8)"
   ]
  },
  {
   "cell_type": "code",
   "execution_count": 16,
   "id": "8b9b4dbc",
   "metadata": {
    "collapsed": false,
    "execution": {
     "iopub.execute_input": "2022-08-02T05:20:08.190869Z",
     "iopub.status.busy": "2022-08-02T05:20:08.190485Z",
     "iopub.status.idle": "2022-08-02T05:20:08.312607Z",
     "shell.execute_reply": "2022-08-02T05:20:08.310768Z"
    },
    "jupyter": {
     "outputs_hidden": false
    },
    "papermill": {
     "duration": 0.261785,
     "end_time": "2022-08-02T05:20:08.315458",
     "exception": false,
     "start_time": "2022-08-02T05:20:08.053673",
     "status": "completed"
    },
    "pycharm": {
     "name": "#%%\n"
    },
    "tags": []
   },
   "outputs": [
    {
     "name": "stdout",
     "output_type": "stream",
     "text": [
      "Model: \"sequential_2\"\n",
      "_________________________________________________________________\n",
      "Layer (type)                 Output Shape              Param #   \n",
      "=================================================================\n",
      "embedding_2 (Embedding)      (None, 500, 16)           160000    \n",
      "_________________________________________________________________\n",
      "bidirectional_2 (Bidirection (None, 64)                3136      \n",
      "_________________________________________________________________\n",
      "dense_4 (Dense)              (None, 32)                2080      \n",
      "_________________________________________________________________\n",
      "dense_5 (Dense)              (None, 1)                 33        \n",
      "=================================================================\n",
      "Total params: 165,249\n",
      "Trainable params: 165,249\n",
      "Non-trainable params: 0\n",
      "_________________________________________________________________\n"
     ]
    }
   ],
   "source": [
    "embedding_dim = 16\n",
    "batch_size = 512\n",
    "# 过拟合改为双向单层循环神经网络\n",
    "bi_rnn_model = keras.models.Sequential([\n",
    "    keras.layers.Embedding(vocab_size, embedding_dim,\n",
    "                           input_length = max_length),\n",
    "    keras.layers.Bidirectional(\n",
    "        keras.layers.SimpleRNN(units = 32, return_sequences = False)),\n",
    "    keras.layers.Dense(32, activation = 'relu'),\n",
    "    keras.layers.Dense(1, activation='sigmoid'),])\n",
    "bi_rnn_model.summary()\n",
    "bi_rnn_model.compile(optimizer = 'adam',\n",
    "                     loss = 'binary_crossentropy',\n",
    "                     metrics = ['accuracy'])"
   ]
  },
  {
   "cell_type": "code",
   "execution_count": 17,
   "id": "42f1a46f",
   "metadata": {
    "collapsed": false,
    "execution": {
     "iopub.execute_input": "2022-08-02T05:20:08.588556Z",
     "iopub.status.busy": "2022-08-02T05:20:08.588194Z",
     "iopub.status.idle": "2022-08-02T05:20:08.612069Z",
     "shell.execute_reply": "2022-08-02T05:20:08.611194Z"
    },
    "jupyter": {
     "outputs_hidden": false
    },
    "papermill": {
     "duration": 0.162147,
     "end_time": "2022-08-02T05:20:08.614347",
     "exception": false,
     "start_time": "2022-08-02T05:20:08.452200",
     "status": "completed"
    },
    "pycharm": {
     "name": "#%%\n"
    },
    "tags": []
   },
   "outputs": [
    {
     "data": {
      "text/plain": [
       "[<tf.Variable 'embedding_2/embeddings:0' shape=(10000, 16) dtype=float32, numpy=\n",
       " array([[-0.03145599, -0.01274766, -0.02495781, ...,  0.0334102 ,\n",
       "          0.04059244, -0.01456266],\n",
       "        [ 0.01063597, -0.00116798, -0.01273993, ...,  0.01011024,\n",
       "         -0.01726582,  0.02697659],\n",
       "        [-0.00949983, -0.04599756, -0.04563949, ...,  0.00669592,\n",
       "          0.00104221,  0.00025499],\n",
       "        ...,\n",
       "        [ 0.00648686, -0.02681389, -0.04875718, ...,  0.00748936,\n",
       "         -0.00314325,  0.04655553],\n",
       "        [ 0.00075547,  0.02300949, -0.04562774, ...,  0.02155408,\n",
       "         -0.03262468, -0.00574074],\n",
       "        [-0.01519511,  0.03438495,  0.02144357, ..., -0.01986906,\n",
       "          0.03151034,  0.00085254]], dtype=float32)>,\n",
       " <tf.Variable 'bidirectional_2/forward_simple_rnn_3/simple_rnn_cell_8/kernel:0' shape=(16, 32) dtype=float32, numpy=\n",
       " array([[ 0.27533844, -0.1197698 , -0.26801458,  0.24893203, -0.20859377,\n",
       "         -0.2220993 ,  0.06976569,  0.1765624 , -0.20003383,  0.16022816,\n",
       "          0.34183046, -0.0017651 ,  0.33983174, -0.19838049, -0.3374209 ,\n",
       "         -0.3166002 ,  0.34796545,  0.02010557,  0.01876986, -0.08081186,\n",
       "         -0.33936197, -0.34470752,  0.16423967,  0.33392432,  0.3263255 ,\n",
       "          0.18942145,  0.34449115,  0.1334424 , -0.26822093, -0.19252275,\n",
       "          0.02503785,  0.24295089],\n",
       "        [ 0.12665203, -0.13073261, -0.18509234,  0.16121492, -0.15128148,\n",
       "         -0.33580264,  0.05819553,  0.21805337,  0.178493  , -0.21551934,\n",
       "         -0.01530865,  0.01121914,  0.3494325 ,  0.18665329, -0.12359546,\n",
       "          0.10499749, -0.08503243,  0.33975592,  0.03365156, -0.21448834,\n",
       "          0.06237632, -0.09107697,  0.2340335 ,  0.25567695, -0.01249713,\n",
       "          0.11860442,  0.01685411, -0.07987881, -0.19982436,  0.21927461,\n",
       "          0.14454389,  0.15196231],\n",
       "        [ 0.00270438,  0.3052542 , -0.01915607,  0.3438314 ,  0.20329085,\n",
       "         -0.14133786,  0.21979699, -0.18918599, -0.10130864,  0.33859226,\n",
       "          0.19189629, -0.10612509, -0.10898282, -0.01194173,  0.0880253 ,\n",
       "          0.33288506,  0.0759567 ,  0.34482476,  0.1173825 , -0.17798133,\n",
       "          0.0854046 , -0.08567947, -0.11084056, -0.2830279 ,  0.28475574,\n",
       "          0.14126956, -0.28343207, -0.06485853, -0.18219745,  0.19243047,\n",
       "          0.07569203, -0.07505435],\n",
       "        [-0.28081307, -0.06554535, -0.24301586,  0.25780013,  0.07886553,\n",
       "          0.07456774,  0.03806728,  0.10125831,  0.2550927 ,  0.02177474,\n",
       "         -0.23217367, -0.04871771,  0.26937005, -0.31187412, -0.16417646,\n",
       "         -0.33819962,  0.08052999, -0.32973284,  0.20779827, -0.34609717,\n",
       "          0.1908696 , -0.30275378,  0.00930855,  0.3462216 ,  0.00555134,\n",
       "         -0.07703146,  0.17854914,  0.19337979,  0.3177692 , -0.20653388,\n",
       "         -0.04186481,  0.02312228],\n",
       "        [-0.08556679,  0.02792895, -0.24871486,  0.14098272, -0.16763294,\n",
       "          0.2217665 , -0.01320064, -0.26247287,  0.307893  , -0.2866757 ,\n",
       "         -0.35131675,  0.01184368, -0.21893205, -0.03603134,  0.18972436,\n",
       "         -0.32477704,  0.20067891,  0.26911506, -0.31318793, -0.27725333,\n",
       "         -0.02675557, -0.23834768,  0.17575154,  0.20030895, -0.07123965,\n",
       "          0.17788228, -0.15498188,  0.0664176 , -0.19438733, -0.3221244 ,\n",
       "         -0.03284404,  0.06559071],\n",
       "        [-0.28178176,  0.11773175,  0.00131541, -0.11236291,  0.00088981,\n",
       "         -0.2350657 ,  0.2826204 ,  0.07523626,  0.3482941 ,  0.3320451 ,\n",
       "         -0.31216627,  0.2176095 ,  0.24753132, -0.03482106, -0.15520155,\n",
       "          0.05842406, -0.05537573, -0.32907358,  0.0017893 ,  0.09790888,\n",
       "         -0.28242183, -0.33409083,  0.17680326, -0.03892541, -0.312529  ,\n",
       "          0.34721813, -0.2349734 , -0.25896448, -0.16300403, -0.18205576,\n",
       "         -0.30788946, -0.28682625],\n",
       "        [ 0.19565585,  0.18636343, -0.11480312,  0.03438735, -0.04019672,\n",
       "         -0.302346  ,  0.06335235,  0.24642721,  0.13402882, -0.3214325 ,\n",
       "          0.30482283,  0.07756022, -0.20928168, -0.1085466 ,  0.3500271 ,\n",
       "          0.12239033,  0.23071292,  0.21120533, -0.21194959,  0.03282008,\n",
       "          0.23536578, -0.19399849,  0.11396861,  0.24397537, -0.2236386 ,\n",
       "         -0.2961262 , -0.22076325, -0.32591408, -0.15997855, -0.137094  ,\n",
       "         -0.15296525,  0.01883677],\n",
       "        [ 0.2128087 , -0.12110914, -0.2480793 ,  0.12667295,  0.13567543,\n",
       "         -0.0658901 ,  0.14796087, -0.02259341,  0.34158334, -0.15796056,\n",
       "          0.11817917,  0.23777631, -0.10758691,  0.29935703,  0.0385648 ,\n",
       "          0.20341453,  0.02998066,  0.30640444, -0.3203727 ,  0.32019266,\n",
       "          0.08669791,  0.24272427,  0.2255716 , -0.14265402,  0.03514507,\n",
       "         -0.21513732,  0.2904683 , -0.00900552,  0.08943796,  0.19849107,\n",
       "          0.22055414,  0.04165018],\n",
       "        [-0.31433675,  0.32918873, -0.12037839, -0.21562842,  0.04219624,\n",
       "          0.22576538,  0.10242832, -0.17606737,  0.11724511, -0.32228294,\n",
       "         -0.24348766,  0.07727051, -0.26111144,  0.25271037, -0.26871938,\n",
       "         -0.19074643,  0.10571533, -0.09262386, -0.08352831,  0.17001668,\n",
       "          0.22044018, -0.08700424, -0.19965965, -0.21515334,  0.13040099,\n",
       "         -0.3076773 , -0.2472743 ,  0.06346294,  0.10187078,  0.07765767,\n",
       "          0.13223734,  0.10606179],\n",
       "        [ 0.2906349 , -0.22252786,  0.03430989, -0.33102793,  0.1103363 ,\n",
       "          0.33127144,  0.18459925,  0.2616966 , -0.20522657, -0.01929104,\n",
       "         -0.33833063, -0.27733672,  0.03041527, -0.2870846 ,  0.08921188,\n",
       "         -0.2213362 , -0.06382668,  0.06252131, -0.12903307, -0.07126012,\n",
       "          0.21372041,  0.09886494, -0.35320988, -0.29649296, -0.13760887,\n",
       "         -0.16060048,  0.23597911,  0.01988319,  0.19512138,  0.1824381 ,\n",
       "          0.30972752,  0.08062607],\n",
       "        [ 0.28490445, -0.21582633,  0.35215893, -0.13087246, -0.2125812 ,\n",
       "          0.1686925 , -0.2088914 ,  0.19875988,  0.09911498, -0.22093007,\n",
       "         -0.29338244,  0.06934226, -0.08914918, -0.05912688,  0.00180304,\n",
       "         -0.32537466, -0.31028938, -0.24802855,  0.13239175,  0.06176984,\n",
       "         -0.21488065, -0.10670419,  0.05583495, -0.09613013, -0.01538917,\n",
       "         -0.22962412,  0.21656021,  0.34431794, -0.19244166,  0.27077326,\n",
       "          0.3361679 ,  0.2498289 ],\n",
       "        [-0.02378085,  0.24672648, -0.22544298, -0.1401988 , -0.07110476,\n",
       "          0.3093067 , -0.00413764, -0.00884181, -0.07215145, -0.28238776,\n",
       "          0.25082907, -0.04331601,  0.17370495,  0.17336628,  0.2688549 ,\n",
       "         -0.1305153 ,  0.06597289,  0.2702177 , -0.1442813 ,  0.10319993,\n",
       "          0.11142743,  0.26408282, -0.07455769, -0.2251697 , -0.03631061,\n",
       "          0.3096725 ,  0.08907947,  0.1889781 , -0.13188651,  0.24879983,\n",
       "         -0.07175466,  0.164996  ],\n",
       "        [-0.18231395, -0.34690934,  0.12801296, -0.07908526, -0.12861456,\n",
       "          0.07202837, -0.10134706, -0.3159155 , -0.22806881,  0.2305195 ,\n",
       "         -0.05025819,  0.20529631, -0.30841696, -0.10679497, -0.24883196,\n",
       "         -0.34747615, -0.21472462,  0.13490388, -0.19206917, -0.26473075,\n",
       "         -0.0846737 ,  0.27649114,  0.04948631,  0.02330601,  0.14980754,\n",
       "          0.08315134,  0.16520503, -0.07137635, -0.16901182, -0.28018954,\n",
       "          0.08790213,  0.3110884 ],\n",
       "        [ 0.13063559, -0.18629606, -0.21960834,  0.2550018 ,  0.3465061 ,\n",
       "         -0.33394474, -0.09259191,  0.24879411,  0.04904199, -0.21047007,\n",
       "          0.03171948,  0.02735364,  0.17397097, -0.01947683, -0.34422207,\n",
       "          0.16143855,  0.16621664, -0.23953748,  0.01212311,  0.21609369,\n",
       "          0.13616988,  0.14644954,  0.2038047 , -0.1521545 ,  0.16136602,\n",
       "          0.05406699, -0.1119744 , -0.02454084,  0.2965969 ,  0.11931276,\n",
       "         -0.18091695,  0.17471603],\n",
       "        [ 0.12434763, -0.16202715, -0.08679864,  0.24800351,  0.24323824,\n",
       "         -0.00862569, -0.01222411,  0.0453355 ,  0.04173625, -0.35311767,\n",
       "         -0.20638815,  0.02425906,  0.10193366,  0.14557385, -0.27045026,\n",
       "          0.11244291,  0.3455107 , -0.23643716, -0.19707698,  0.3487303 ,\n",
       "          0.14883932, -0.3414376 , -0.05984464, -0.31223994,  0.06297809,\n",
       "         -0.18550083,  0.24058619,  0.28751633, -0.28041834,  0.30434898,\n",
       "          0.21140853, -0.26436913],\n",
       "        [ 0.28230092,  0.1438809 ,  0.309441  ,  0.23288432,  0.10851836,\n",
       "          0.22069928, -0.26071823, -0.2971041 ,  0.2081187 ,  0.11911628,\n",
       "          0.29438773,  0.05940768, -0.04663295, -0.05947864, -0.29118565,\n",
       "          0.19759241, -0.32461628, -0.32691565,  0.09383592,  0.28300485,\n",
       "         -0.18618032, -0.3238626 , -0.15258162,  0.04125756, -0.08307463,\n",
       "         -0.27628446,  0.07438868,  0.17496201,  0.19602516, -0.11802854,\n",
       "         -0.09298784,  0.30376163]], dtype=float32)>,\n",
       " <tf.Variable 'bidirectional_2/forward_simple_rnn_3/simple_rnn_cell_8/recurrent_kernel:0' shape=(32, 32) dtype=float32, numpy=\n",
       " array([[-0.07166314,  0.05738587,  0.4073397 , ...,  0.07331377,\n",
       "          0.00575652,  0.183903  ],\n",
       "        [ 0.06655701, -0.17785957, -0.05274211, ...,  0.26558927,\n",
       "         -0.21418363, -0.12460902],\n",
       "        [ 0.13540538,  0.06766063, -0.04221153, ...,  0.08971929,\n",
       "          0.07561534,  0.02797846],\n",
       "        ...,\n",
       "        [ 0.22346897,  0.25260717, -0.09961115, ..., -0.02280091,\n",
       "         -0.1269818 , -0.23990318],\n",
       "        [-0.0486934 ,  0.10736874,  0.05890393, ..., -0.18292268,\n",
       "         -0.11547913,  0.05384257],\n",
       "        [ 0.30021596,  0.32157373,  0.2004148 , ...,  0.14781825,\n",
       "          0.43338913, -0.17068115]], dtype=float32)>,\n",
       " <tf.Variable 'bidirectional_2/forward_simple_rnn_3/simple_rnn_cell_8/bias:0' shape=(32,) dtype=float32, numpy=\n",
       " array([0., 0., 0., 0., 0., 0., 0., 0., 0., 0., 0., 0., 0., 0., 0., 0., 0.,\n",
       "        0., 0., 0., 0., 0., 0., 0., 0., 0., 0., 0., 0., 0., 0., 0.],\n",
       "       dtype=float32)>,\n",
       " <tf.Variable 'bidirectional_2/backward_simple_rnn_3/simple_rnn_cell_9/kernel:0' shape=(16, 32) dtype=float32, numpy=\n",
       " array([[ 4.10442054e-02,  2.65581936e-01,  2.82399148e-01,\n",
       "         -8.94847512e-02,  2.18040049e-02,  2.49414355e-01,\n",
       "         -2.02987477e-01, -5.17620742e-02,  1.45849288e-02,\n",
       "          2.77125388e-01,  2.14432180e-02,  4.11392748e-02,\n",
       "          2.66636014e-02,  2.91298002e-01, -1.51297823e-01,\n",
       "          4.40179110e-02, -2.52219379e-01, -3.55067849e-02,\n",
       "          1.24603361e-01, -2.25766301e-02, -8.27149451e-02,\n",
       "          1.04135841e-01, -6.40751719e-02, -1.54864803e-01,\n",
       "          2.64410347e-01,  8.97320807e-02, -2.73573071e-01,\n",
       "         -1.55532405e-01,  2.03944445e-02, -1.25701427e-02,\n",
       "          2.82180607e-02, -1.19992167e-01],\n",
       "        [-1.77289709e-01,  2.47787029e-01, -2.00255275e-01,\n",
       "         -1.21477246e-01, -1.23878121e-02, -1.34654284e-01,\n",
       "         -2.54723579e-01, -1.26435488e-01,  9.45080817e-02,\n",
       "          3.94653678e-02, -2.55796134e-01,  7.96703696e-02,\n",
       "         -2.15451822e-01,  2.02813238e-01,  3.19103628e-01,\n",
       "          1.81429356e-01,  1.47038907e-01, -1.79802835e-01,\n",
       "         -2.76759803e-01, -1.25575528e-01,  4.80746329e-02,\n",
       "          3.30173403e-01,  7.72103369e-02, -3.06908190e-01,\n",
       "         -3.10912669e-01,  1.13092989e-01,  1.58555508e-02,\n",
       "          1.22281760e-01,  2.25637347e-01,  3.43740493e-01,\n",
       "         -2.72463769e-01, -2.89055973e-01],\n",
       "        [ 1.38580769e-01, -1.93148971e-01, -2.94537246e-02,\n",
       "         -2.18231916e-01,  8.29967558e-02,  2.20033795e-01,\n",
       "         -2.61067927e-01,  1.83209926e-01,  3.47949713e-01,\n",
       "          4.94492054e-02,  1.00504965e-01,  1.00182563e-01,\n",
       "          1.55477673e-01,  3.18865508e-01, -1.50624067e-01,\n",
       "         -5.95275462e-02, -2.03281328e-01,  3.49330515e-01,\n",
       "         -1.88810229e-02, -2.14873821e-01, -2.86508381e-01,\n",
       "          3.45661670e-01, -4.21630442e-02,  3.78132164e-02,\n",
       "         -1.70198157e-01, -1.34230539e-01,  2.63493091e-01,\n",
       "         -2.87225455e-01, -3.47246230e-02,  2.30899960e-01,\n",
       "         -3.17752093e-01, -1.07704669e-01],\n",
       "        [-1.92721695e-01, -2.81363726e-04, -3.50690931e-01,\n",
       "         -1.94119945e-01, -2.55268544e-01,  1.58271879e-01,\n",
       "          2.97250360e-01, -2.25180745e-01, -1.49825811e-01,\n",
       "          1.96572572e-01, -1.06264010e-01, -5.24791479e-02,\n",
       "         -2.21254259e-01,  1.50923759e-01,  8.24530721e-02,\n",
       "         -1.38719186e-01,  2.48150438e-01, -2.15237960e-01,\n",
       "         -2.76968420e-01,  7.19316006e-02, -5.83796203e-02,\n",
       "          9.64030027e-02,  3.07249278e-01, -9.60481167e-02,\n",
       "          2.20324486e-01,  2.16994315e-01, -8.27223659e-02,\n",
       "          3.09389025e-01, -3.28517646e-01,  3.20421487e-01,\n",
       "         -9.77171361e-02, -3.10882747e-01],\n",
       "        [ 8.83071721e-02, -2.70370662e-01, -2.27161050e-01,\n",
       "         -2.14884877e-02, -2.91314870e-01, -3.01670134e-02,\n",
       "         -3.47141683e-01,  1.36211514e-03, -4.57057357e-02,\n",
       "         -3.05141568e-01,  1.10277325e-01, -1.78655386e-02,\n",
       "          2.11333662e-01, -1.29066378e-01, -5.96055090e-02,\n",
       "         -8.22617114e-02, -9.87358093e-02,  2.85539359e-01,\n",
       "         -1.18307218e-01,  1.12772286e-02,  1.25946701e-02,\n",
       "          3.45416099e-01,  3.20541590e-01,  1.03700459e-01,\n",
       "         -2.96176076e-02,  2.99991935e-01, -2.78064579e-01,\n",
       "         -1.64735332e-01, -1.10428959e-01,  6.32204413e-02,\n",
       "         -6.95850253e-02, -1.20619237e-02],\n",
       "        [ 1.07828498e-01, -8.30682218e-02, -1.36184141e-01,\n",
       "          2.79626578e-01,  1.79341525e-01, -1.03228599e-01,\n",
       "         -1.62442893e-01,  3.17918390e-01, -1.37281477e-01,\n",
       "         -3.40327114e-01, -3.55175734e-02, -9.95249748e-02,\n",
       "         -1.89164162e-01,  6.51616454e-02, -1.68462053e-01,\n",
       "          3.20529073e-01,  1.88746661e-01, -3.01944822e-01,\n",
       "         -3.24751437e-02,  5.84569573e-03, -9.76023078e-02,\n",
       "          2.27069169e-01, -8.77440870e-02, -7.03995526e-02,\n",
       "         -5.46872318e-02, -3.19789052e-01,  1.11011922e-01,\n",
       "         -4.35159504e-02,  7.35674202e-02, -1.22045308e-01,\n",
       "          3.34589511e-01, -1.64796203e-01],\n",
       "        [-1.35106862e-01, -8.07268023e-02,  3.44907194e-01,\n",
       "         -1.64497718e-01,  5.88085949e-02,  1.88365281e-02,\n",
       "          1.66587085e-01,  6.12350702e-02, -1.03324682e-01,\n",
       "          8.19014311e-02, -8.76801014e-02, -7.82254040e-02,\n",
       "         -7.93379843e-02,  1.17690861e-01,  6.91193938e-02,\n",
       "          1.34905398e-01, -1.98380917e-01, -5.72828054e-02,\n",
       "         -1.55070901e-01,  1.86696202e-01,  2.78408736e-01,\n",
       "          1.62106782e-01, -6.48259819e-02,  2.98347265e-01,\n",
       "          1.38143808e-01,  2.70773202e-01, -1.41597062e-01,\n",
       "         -2.57954001e-02,  2.16451883e-02,  2.26832837e-01,\n",
       "         -2.56344289e-01, -1.63176656e-02],\n",
       "        [-1.85311139e-02,  1.23109758e-01,  2.57108897e-01,\n",
       "          1.85203522e-01,  4.19922471e-02, -1.82930052e-01,\n",
       "          1.37876928e-01,  4.06763554e-02,  3.26413006e-01,\n",
       "          1.61285609e-01, -1.40733555e-01, -1.11211374e-01,\n",
       "         -2.78845817e-01, -2.63473690e-01, -2.83593327e-01,\n",
       "         -3.02119136e-01, -2.65034556e-01,  1.75473362e-01,\n",
       "         -5.74040413e-03, -2.91854858e-01, -1.14798829e-01,\n",
       "         -4.76224124e-02, -3.39786440e-01,  2.93222815e-01,\n",
       "          1.95199937e-01,  3.31089288e-01, -2.04229549e-01,\n",
       "         -6.59011602e-02, -3.48546416e-01, -1.82243899e-01,\n",
       "         -1.67609334e-01, -4.17986214e-02],\n",
       "        [ 3.50551516e-01,  2.34938592e-01,  1.36150151e-01,\n",
       "          1.34279937e-01,  5.76309264e-02,  3.39888304e-01,\n",
       "          3.44386250e-01, -2.21353054e-01, -5.52364886e-02,\n",
       "          1.17126584e-01, -3.05872411e-01,  8.46680403e-02,\n",
       "          1.25428021e-01,  2.10608631e-01,  2.81456560e-01,\n",
       "          1.47674471e-01, -2.86719769e-01,  6.52295947e-02,\n",
       "          2.20341176e-01, -2.95710862e-02, -1.23096690e-01,\n",
       "          1.68087810e-01,  3.51229340e-01,  1.53052062e-01,\n",
       "          1.19668245e-02,  1.93755537e-01, -3.30094695e-01,\n",
       "         -1.59063384e-01, -2.78262675e-01,  2.54633874e-01,\n",
       "          2.48534828e-01,  9.81616974e-02],\n",
       "        [-2.67663926e-01, -3.76653671e-02,  1.41186893e-01,\n",
       "         -1.51920751e-01, -5.22685051e-02, -2.61225313e-01,\n",
       "         -1.37893558e-02, -1.65396199e-01,  2.29076445e-02,\n",
       "          1.55534834e-01, -6.29355311e-02,  1.91394836e-01,\n",
       "          1.66100413e-01, -1.82629123e-01, -3.26648116e-01,\n",
       "         -5.20765483e-02,  1.00159883e-01,  1.07390255e-01,\n",
       "          3.00888389e-01,  1.23598844e-01,  2.00237662e-01,\n",
       "          2.45012343e-02,  9.46230590e-02, -5.22474349e-02,\n",
       "          3.84890139e-02,  1.36191964e-01,  1.12871379e-01,\n",
       "          3.53089184e-01, -2.69099295e-01, -3.16767454e-01,\n",
       "          1.93997055e-01, -1.26963079e-01],\n",
       "        [ 1.64217860e-01,  2.78161436e-01,  2.58372813e-01,\n",
       "          2.79045254e-01, -2.30214685e-01, -1.80113286e-01,\n",
       "          1.84986204e-01,  2.90872365e-01, -8.84210467e-02,\n",
       "          1.57916456e-01, -1.38518646e-01,  9.25026238e-02,\n",
       "          3.22754771e-01,  3.51900369e-01, -1.83623791e-01,\n",
       "         -1.34205505e-01, -1.55470952e-01,  3.07865947e-01,\n",
       "         -1.12177372e-01, -2.81972617e-01, -2.07127392e-01,\n",
       "         -2.04672933e-01,  1.45348608e-02,  6.04942441e-03,\n",
       "         -2.87795782e-01, -2.16287002e-01, -3.79697680e-02,\n",
       "          3.46735388e-01,  3.44577819e-01, -3.28134716e-01,\n",
       "         -6.21431768e-02,  2.66342729e-01],\n",
       "        [-2.68690288e-01, -2.49569684e-01, -1.12534359e-01,\n",
       "          8.60335231e-02,  1.98845178e-01, -3.44674319e-01,\n",
       "          2.04395324e-01, -3.47289532e-01, -3.45676571e-01,\n",
       "          2.23184258e-01, -3.02771658e-01, -1.00465447e-01,\n",
       "         -1.40495926e-01,  1.57890111e-01, -2.11040080e-02,\n",
       "          1.43076003e-01, -1.99730963e-01,  2.04700917e-01,\n",
       "         -2.12156698e-01, -3.45436394e-01,  7.42779970e-02,\n",
       "          2.28644401e-01, -3.17878097e-01,  1.43860251e-01,\n",
       "          2.39238590e-01,  2.43991047e-01, -1.18979037e-01,\n",
       "         -2.98527300e-01, -1.91642061e-01, -1.77675426e-01,\n",
       "          1.40108675e-01,  1.93642110e-01],\n",
       "        [-2.07932487e-01, -1.52727529e-01,  3.34781200e-01,\n",
       "         -1.94536954e-01,  2.26999313e-01,  1.38766468e-01,\n",
       "          2.11271554e-01,  1.59971386e-01,  1.21408463e-01,\n",
       "          7.85390437e-02, -5.60202301e-02, -1.06536701e-01,\n",
       "          9.34284329e-02,  2.02862889e-01, -6.54280782e-02,\n",
       "          3.93212438e-02,  1.25965387e-01, -2.00659871e-01,\n",
       "          1.37696713e-01, -1.09219685e-01, -2.08737820e-01,\n",
       "          2.02103347e-01, -1.67939514e-01, -2.80741841e-01,\n",
       "          3.22989494e-01,  3.10454100e-01,  2.90156156e-01,\n",
       "          1.57249302e-01, -2.03006610e-01, -2.55385965e-01,\n",
       "          3.52142364e-01, -3.52595717e-01],\n",
       "        [-3.74809504e-02,  2.11741656e-01, -3.42188835e-01,\n",
       "         -7.58433342e-02, -2.59001225e-01, -1.06138915e-01,\n",
       "         -3.33110988e-01, -7.59335458e-02,  1.83382481e-01,\n",
       "         -3.50303531e-01, -5.32091260e-02,  5.22513092e-02,\n",
       "         -1.54208660e-01, -1.99079707e-01, -1.23330608e-01,\n",
       "          2.86120474e-02,  1.93103641e-01,  2.69967318e-02,\n",
       "          3.08103770e-01, -9.16822851e-02, -4.86704707e-03,\n",
       "          3.15691918e-01,  7.37990439e-02,  3.21771115e-01,\n",
       "          2.60088891e-01, -3.29605937e-02,  1.37956172e-01,\n",
       "          3.52839500e-01,  2.78753668e-01,  2.80230194e-01,\n",
       "          1.17716134e-01,  5.54662645e-02],\n",
       "        [-3.09454203e-01, -9.38834548e-02,  2.83875376e-01,\n",
       "         -1.76261067e-01, -1.91233739e-01, -3.62741947e-03,\n",
       "         -2.43942246e-01,  2.45326251e-01, -1.95915833e-01,\n",
       "          4.87631559e-02, -2.32316703e-01,  2.15221971e-01,\n",
       "         -2.84377754e-01,  5.61385751e-02, -3.13064426e-01,\n",
       "          2.44882137e-01,  1.41526669e-01, -9.95309651e-02,\n",
       "         -1.34855419e-01, -1.61650196e-01,  9.64605510e-02,\n",
       "         -1.33724526e-01,  1.42912030e-01,  2.53944784e-01,\n",
       "          2.18802094e-02,  2.65102088e-02, -1.47719309e-01,\n",
       "          1.16308361e-01, -1.26729593e-01,  1.53538853e-01,\n",
       "          3.51844102e-01, -2.50317723e-01],\n",
       "        [-2.28791624e-01, -1.78765848e-01, -8.20081532e-02,\n",
       "          2.38791555e-01,  1.71838790e-01, -1.34057909e-01,\n",
       "          1.69734269e-01,  1.32481784e-01,  6.43329620e-02,\n",
       "          7.15189874e-02,  1.15084350e-02,  2.37925082e-01,\n",
       "         -1.60284624e-01,  4.64811325e-02, -2.66779512e-01,\n",
       "         -1.19233131e-03, -1.94553301e-01, -2.69956619e-01,\n",
       "         -1.06224477e-01, -2.99966633e-02,  3.46449345e-01,\n",
       "         -1.89940751e-01,  1.52159542e-01, -2.59349793e-01,\n",
       "         -3.03075373e-01, -2.50734538e-01,  2.62140304e-01,\n",
       "         -2.62358814e-01,  5.25324345e-02,  7.83181190e-02,\n",
       "         -1.43505886e-01,  2.26844758e-01]], dtype=float32)>,\n",
       " <tf.Variable 'bidirectional_2/backward_simple_rnn_3/simple_rnn_cell_9/recurrent_kernel:0' shape=(32, 32) dtype=float32, numpy=\n",
       " array([[ 0.15505028, -0.19110677,  0.07586183, ...,  0.31447762,\n",
       "         -0.33501652, -0.29428467],\n",
       "        [ 0.16143304,  0.08059889, -0.01235618, ..., -0.1322082 ,\n",
       "         -0.09687559, -0.17623663],\n",
       "        [ 0.15730096,  0.01308642,  0.10792819, ..., -0.4677363 ,\n",
       "         -0.08411726,  0.21724811],\n",
       "        ...,\n",
       "        [-0.09872224,  0.07893802, -0.19688943, ..., -0.15670468,\n",
       "         -0.09292713,  0.18948674],\n",
       "        [-0.0143499 ,  0.10973426,  0.00191219, ..., -0.24380533,\n",
       "         -0.10685559, -0.01781133],\n",
       "        [-0.06734239, -0.18329413,  0.04898243, ...,  0.3712399 ,\n",
       "         -0.18362868,  0.090686  ]], dtype=float32)>,\n",
       " <tf.Variable 'bidirectional_2/backward_simple_rnn_3/simple_rnn_cell_9/bias:0' shape=(32,) dtype=float32, numpy=\n",
       " array([0., 0., 0., 0., 0., 0., 0., 0., 0., 0., 0., 0., 0., 0., 0., 0., 0.,\n",
       "        0., 0., 0., 0., 0., 0., 0., 0., 0., 0., 0., 0., 0., 0., 0.],\n",
       "       dtype=float32)>,\n",
       " <tf.Variable 'dense_4/kernel:0' shape=(64, 32) dtype=float32, numpy=\n",
       " array([[ 1.22650683e-01, -5.33920527e-02, -5.30562997e-02, ...,\n",
       "          1.93397105e-01, -8.33036900e-02,  8.75592232e-05],\n",
       "        [ 3.59626412e-02,  1.02006137e-01,  2.36837387e-01, ...,\n",
       "          5.43889999e-02,  3.34619880e-02,  4.51457500e-03],\n",
       "        [-1.21967614e-01, -1.22303367e-02,  2.15595603e-01, ...,\n",
       "          1.96437240e-01, -1.68954313e-01,  1.20395899e-01],\n",
       "        ...,\n",
       "        [ 4.89059091e-02,  1.07082129e-01,  9.20891762e-02, ...,\n",
       "         -9.20751691e-02,  2.00039983e-01, -1.99522138e-01],\n",
       "        [ 8.27130675e-02,  2.05753684e-01, -1.38971627e-01, ...,\n",
       "          1.55528545e-01, -2.32682049e-01,  1.13404453e-01],\n",
       "        [-6.03024364e-02,  2.80773640e-03,  6.88411593e-02, ...,\n",
       "         -1.34434283e-01, -2.05345094e-01,  1.22540295e-01]], dtype=float32)>,\n",
       " <tf.Variable 'dense_4/bias:0' shape=(32,) dtype=float32, numpy=\n",
       " array([0., 0., 0., 0., 0., 0., 0., 0., 0., 0., 0., 0., 0., 0., 0., 0., 0.,\n",
       "        0., 0., 0., 0., 0., 0., 0., 0., 0., 0., 0., 0., 0., 0., 0.],\n",
       "       dtype=float32)>,\n",
       " <tf.Variable 'dense_5/kernel:0' shape=(32, 1) dtype=float32, numpy=\n",
       " array([[-0.21379472],\n",
       "        [-0.20917195],\n",
       "        [-0.29439136],\n",
       "        [ 0.33288914],\n",
       "        [ 0.15332717],\n",
       "        [ 0.20296621],\n",
       "        [-0.23363529],\n",
       "        [ 0.34624213],\n",
       "        [ 0.307612  ],\n",
       "        [-0.0757674 ],\n",
       "        [ 0.0668622 ],\n",
       "        [-0.21459511],\n",
       "        [ 0.2545008 ],\n",
       "        [-0.32327884],\n",
       "        [ 0.24738622],\n",
       "        [-0.06387955],\n",
       "        [-0.40319252],\n",
       "        [ 0.2894761 ],\n",
       "        [-0.18225479],\n",
       "        [-0.3724438 ],\n",
       "        [-0.36653897],\n",
       "        [ 0.23258078],\n",
       "        [-0.16188091],\n",
       "        [-0.03871086],\n",
       "        [-0.06277934],\n",
       "        [ 0.40773273],\n",
       "        [ 0.2945277 ],\n",
       "        [ 0.34214497],\n",
       "        [ 0.40692878],\n",
       "        [ 0.31316084],\n",
       "        [ 0.42552584],\n",
       "        [-0.23999019]], dtype=float32)>,\n",
       " <tf.Variable 'dense_5/bias:0' shape=(1,) dtype=float32, numpy=array([0.], dtype=float32)>]"
      ]
     },
     "execution_count": 17,
     "metadata": {},
     "output_type": "execute_result"
    }
   ],
   "source": [
    "bi_rnn_model.variables"
   ]
  },
  {
   "cell_type": "code",
   "execution_count": 18,
   "id": "d03cc2d2",
   "metadata": {
    "collapsed": false,
    "execution": {
     "iopub.execute_input": "2022-08-02T05:20:08.890520Z",
     "iopub.status.busy": "2022-08-02T05:20:08.890166Z",
     "iopub.status.idle": "2022-08-02T05:37:32.157735Z",
     "shell.execute_reply": "2022-08-02T05:37:32.156563Z"
    },
    "jupyter": {
     "outputs_hidden": false
    },
    "papermill": {
     "duration": 1043.408167,
     "end_time": "2022-08-02T05:37:32.160590",
     "exception": false,
     "start_time": "2022-08-02T05:20:08.752423",
     "status": "completed"
    },
    "pycharm": {
     "name": "#%%\n"
    },
    "tags": []
   },
   "outputs": [
    {
     "name": "stdout",
     "output_type": "stream",
     "text": [
      "Epoch 1/30\n",
      "40/40 [==============================] - 36s 863ms/step - loss: 0.6920 - accuracy: 0.5229 - val_loss: 0.6883 - val_accuracy: 0.5594\n",
      "Epoch 2/30\n",
      "40/40 [==============================] - 34s 843ms/step - loss: 0.6537 - accuracy: 0.6307 - val_loss: 0.5982 - val_accuracy: 0.7030\n",
      "Epoch 3/30\n",
      "40/40 [==============================] - 34s 852ms/step - loss: 0.4401 - accuracy: 0.8056 - val_loss: 0.4339 - val_accuracy: 0.8132\n",
      "Epoch 4/30\n",
      "40/40 [==============================] - 34s 859ms/step - loss: 0.3173 - accuracy: 0.8707 - val_loss: 0.4246 - val_accuracy: 0.8104\n",
      "Epoch 5/30\n",
      "40/40 [==============================] - 35s 853ms/step - loss: 0.2203 - accuracy: 0.9180 - val_loss: 0.4121 - val_accuracy: 0.8408\n",
      "Epoch 6/30\n",
      "40/40 [==============================] - 34s 848ms/step - loss: 0.1325 - accuracy: 0.9556 - val_loss: 0.4813 - val_accuracy: 0.8294\n",
      "Epoch 7/30\n",
      "40/40 [==============================] - 34s 857ms/step - loss: 0.0649 - accuracy: 0.9823 - val_loss: 0.5983 - val_accuracy: 0.8120\n",
      "Epoch 8/30\n",
      "40/40 [==============================] - 34s 844ms/step - loss: 0.0296 - accuracy: 0.9938 - val_loss: 0.7366 - val_accuracy: 0.8096\n",
      "Epoch 9/30\n",
      "40/40 [==============================] - 35s 865ms/step - loss: 0.0143 - accuracy: 0.9970 - val_loss: 0.7714 - val_accuracy: 0.8052\n",
      "Epoch 10/30\n",
      "40/40 [==============================] - 34s 845ms/step - loss: 0.0149 - accuracy: 0.9964 - val_loss: 0.8217 - val_accuracy: 0.7960\n",
      "Epoch 11/30\n",
      "40/40 [==============================] - 34s 842ms/step - loss: 0.0100 - accuracy: 0.9981 - val_loss: 0.9914 - val_accuracy: 0.7498\n",
      "Epoch 12/30\n",
      "40/40 [==============================] - 35s 865ms/step - loss: 0.0811 - accuracy: 0.9703 - val_loss: 0.8179 - val_accuracy: 0.7974\n",
      "Epoch 13/30\n",
      "40/40 [==============================] - 34s 840ms/step - loss: 0.0346 - accuracy: 0.9893 - val_loss: 0.8147 - val_accuracy: 0.8046\n",
      "Epoch 14/30\n",
      "40/40 [==============================] - 34s 859ms/step - loss: 0.0074 - accuracy: 0.9988 - val_loss: 0.8259 - val_accuracy: 0.8150\n",
      "Epoch 15/30\n",
      "40/40 [==============================] - 34s 858ms/step - loss: 0.0027 - accuracy: 0.9998 - val_loss: 0.8877 - val_accuracy: 0.8128\n",
      "Epoch 16/30\n",
      "40/40 [==============================] - 34s 853ms/step - loss: 0.0014 - accuracy: 1.0000 - val_loss: 0.9208 - val_accuracy: 0.8150\n",
      "Epoch 17/30\n",
      "40/40 [==============================] - 34s 856ms/step - loss: 0.0010 - accuracy: 1.0000 - val_loss: 0.9526 - val_accuracy: 0.8166\n",
      "Epoch 18/30\n",
      "40/40 [==============================] - 34s 858ms/step - loss: 7.8438e-04 - accuracy: 1.0000 - val_loss: 0.9790 - val_accuracy: 0.8154\n",
      "Epoch 19/30\n",
      "40/40 [==============================] - 35s 879ms/step - loss: 6.6215e-04 - accuracy: 1.0000 - val_loss: 0.9978 - val_accuracy: 0.8164\n",
      "Epoch 20/30\n",
      "40/40 [==============================] - 34s 855ms/step - loss: 5.3035e-04 - accuracy: 1.0000 - val_loss: 1.0161 - val_accuracy: 0.8166\n",
      "Epoch 21/30\n",
      "40/40 [==============================] - 35s 870ms/step - loss: 4.4877e-04 - accuracy: 1.0000 - val_loss: 1.0352 - val_accuracy: 0.8168\n",
      "Epoch 22/30\n",
      "40/40 [==============================] - 34s 853ms/step - loss: 3.8803e-04 - accuracy: 1.0000 - val_loss: 1.0495 - val_accuracy: 0.8166\n",
      "Epoch 23/30\n",
      "40/40 [==============================] - 35s 875ms/step - loss: 3.3742e-04 - accuracy: 1.0000 - val_loss: 1.0657 - val_accuracy: 0.8162\n",
      "Epoch 24/30\n",
      "40/40 [==============================] - 34s 845ms/step - loss: 2.9925e-04 - accuracy: 1.0000 - val_loss: 1.0784 - val_accuracy: 0.8164\n",
      "Epoch 25/30\n",
      "40/40 [==============================] - 34s 849ms/step - loss: 2.6540e-04 - accuracy: 1.0000 - val_loss: 1.0908 - val_accuracy: 0.8164\n",
      "Epoch 26/30\n",
      "40/40 [==============================] - 35s 866ms/step - loss: 2.3871e-04 - accuracy: 1.0000 - val_loss: 1.1010 - val_accuracy: 0.8170\n",
      "Epoch 27/30\n",
      "40/40 [==============================] - 34s 845ms/step - loss: 2.1538e-04 - accuracy: 1.0000 - val_loss: 1.1120 - val_accuracy: 0.8168\n",
      "Epoch 28/30\n",
      "40/40 [==============================] - 35s 870ms/step - loss: 1.9527e-04 - accuracy: 1.0000 - val_loss: 1.1234 - val_accuracy: 0.8172\n",
      "Epoch 29/30\n",
      "40/40 [==============================] - 34s 846ms/step - loss: 1.7809e-04 - accuracy: 1.0000 - val_loss: 1.1318 - val_accuracy: 0.8178\n",
      "Epoch 30/30\n",
      "40/40 [==============================] - 34s 843ms/step - loss: 1.6344e-04 - accuracy: 1.0000 - val_loss: 1.1432 - val_accuracy: 0.8174\n"
     ]
    }
   ],
   "source": [
    "history = bi_rnn_model.fit(\n",
    "    train_data, train_labels,\n",
    "    epochs = 30,\n",
    "    batch_size = batch_size,\n",
    "    validation_split = 0.2)"
   ]
  },
  {
   "cell_type": "code",
   "execution_count": 19,
   "id": "974ba862",
   "metadata": {
    "collapsed": false,
    "execution": {
     "iopub.execute_input": "2022-08-02T05:37:32.624530Z",
     "iopub.status.busy": "2022-08-02T05:37:32.623816Z",
     "iopub.status.idle": "2022-08-02T05:37:33.022161Z",
     "shell.execute_reply": "2022-08-02T05:37:33.021247Z"
    },
    "jupyter": {
     "outputs_hidden": false
    },
    "papermill": {
     "duration": 0.601932,
     "end_time": "2022-08-02T05:37:33.024194",
     "exception": false,
     "start_time": "2022-08-02T05:37:32.422262",
     "status": "completed"
    },
    "pycharm": {
     "name": "#%%\n"
    },
    "tags": []
   },
   "outputs": [
    {
     "data": {
      "image/png": "[encoded data removed]",
      "text/plain": [
       "<Figure size 576x360 with 1 Axes>"
      ]
     },
     "metadata": {
      "needs_background": "light"
     },
     "output_type": "display_data"
    },
    {
     "data": {
      "image/png": "[encoded data removed]",
      "text/plain": [
       "<Figure size 576x360 with 1 Axes>"
      ]
     },
     "metadata": {
      "needs_background": "light"
     },
     "output_type": "display_data"
    }
   ],
   "source": [
    "plot_learning_curves(history, 'accuracy', 30, 0, 1.1)\n",
    "plot_learning_curves(history, 'loss', 30, 0, 2.5)"
   ]
  },
  {
   "cell_type": "code",
   "execution_count": 20,
   "id": "e0ecc22f",
   "metadata": {
    "collapsed": false,
    "execution": {
     "iopub.execute_input": "2022-08-02T05:37:33.428171Z",
     "iopub.status.busy": "2022-08-02T05:37:33.427801Z",
     "iopub.status.idle": "2022-08-02T05:37:36.753283Z",
     "shell.execute_reply": "2022-08-02T05:37:36.752323Z"
    },
    "jupyter": {
     "outputs_hidden": false
    },
    "papermill": {
     "duration": 3.530928,
     "end_time": "2022-08-02T05:37:36.755349",
     "exception": false,
     "start_time": "2022-08-02T05:37:33.224421",
     "status": "completed"
    },
    "pycharm": {
     "name": "#%%\n"
    },
    "tags": []
   },
   "outputs": [
    {
     "data": {
      "text/plain": [
       "[1.3272312879562378, 0.7870399951934814]"
      ]
     },
     "execution_count": 20,
     "metadata": {},
     "output_type": "execute_result"
    }
   ],
   "source": [
    "bi_rnn_model.evaluate(test_data, test_labels, batch_size = batch_size, verbose = 0)"
   ]
  },
  {
   "cell_type": "code",
   "execution_count": 21,
   "id": "2461e831",
   "metadata": {
    "execution": {
     "iopub.execute_input": "2022-08-02T05:37:37.158782Z",
     "iopub.status.busy": "2022-08-02T05:37:37.158404Z",
     "iopub.status.idle": "2022-08-02T05:37:37.197988Z",
     "shell.execute_reply": "2022-08-02T05:37:37.196801Z"
    },
    "papermill": {
     "duration": 0.24471,
     "end_time": "2022-08-02T05:37:37.201666",
     "exception": false,
     "start_time": "2022-08-02T05:37:36.956956",
     "status": "completed"
    },
    "pycharm": {
     "name": "#%%\n"
    },
    "tags": []
   },
   "outputs": [
    {
     "name": "stdout",
     "output_type": "stream",
     "text": [
      "tf.Tensor(\n",
      "[[ 0.93271273  0.96132535 -0.9871276   0.954006  ]\n",
      " [ 0.9663535   0.95250916 -0.9864302   0.9646187 ]\n",
      " [ 0.9196948   0.94343555 -0.9768961   0.97830415]\n",
      " [ 0.90679574  0.9344307  -0.95555836  0.95756745]\n",
      " [ 0.9860705   0.95748705 -0.98164564  0.89878446]\n",
      " [ 0.9102472   0.7843115  -0.9739167   0.9272803 ]\n",
      " [ 0.9815168   0.9657636  -0.9855517   0.9358348 ]\n",
      " [ 0.9644878   0.9557104  -0.9850702   0.9723667 ]\n",
      " [ 0.94464177  0.82944304 -0.8652141   0.9189851 ]\n",
      " [ 0.8550633   0.97105396 -0.9571187   0.95930153]\n",
      " [ 0.43985656  0.956823   -0.83657336  0.94480366]\n",
      " [ 0.9467933   0.9176144  -0.9435947   0.9669442 ]\n",
      " [ 0.8505356   0.93813074 -0.96356416  0.88467675]\n",
      " [ 0.93040234  0.8656961  -0.9540932   0.95878243]\n",
      " [ 0.8508718   0.9360498  -0.95273256  0.88759196]\n",
      " [ 0.9789818   0.9206602  -0.9702573   0.9429478 ]\n",
      " [ 0.9462138   0.96026444 -0.94548094  0.94642466]\n",
      " [ 0.93211854  0.9810417  -0.93882835  0.97531134]\n",
      " [ 0.9157756   0.9478022  -0.97285634  0.9587867 ]\n",
      " [ 0.9714222   0.967459   -0.99102587  0.98048323]\n",
      " [ 0.8788177   0.96255136 -0.9529377   0.9284937 ]\n",
      " [ 0.74197674  0.84635997 -0.93109846  0.9117721 ]\n",
      " [ 0.9483886   0.94248873 -0.9655196   0.9835625 ]\n",
      " [ 0.9817541   0.9881323  -0.98947364  0.97699237]\n",
      " [ 0.97027445  0.96276915 -0.9749464   0.96105665]\n",
      " [ 0.9123969   0.89027566 -0.9759607   0.9479053 ]\n",
      " [ 0.94636804  0.8695877  -0.92987955  0.9632704 ]\n",
      " [ 0.9853282   0.96350837 -0.9907508   0.97164595]\n",
      " [ 0.9444572   0.92901874 -0.98406744  0.9394063 ]\n",
      " [ 0.8855223   0.83142436 -0.9287049   0.96384585]\n",
      " [ 0.9507436   0.9451779  -0.94091326  0.8599308 ]\n",
      " [ 0.9721073   0.97535074 -0.98440766  0.9720174 ]], shape=(32, 4), dtype=float32)\n"
     ]
    }
   ],
   "source": [
    "inputs=np.random.random([32, 10, 8]).astype(np.float32) # 32个样本10个词 8密集向量大小\n",
    "simple_rnn=tf.keras.layers.SimpleRNN(4)\n",
    "outputs=simple_rnn(inputs)\n",
    "print(outputs)\n",
    "# return_state是否返回除输出之外的最后一个状态 所有状态的最后一个 （tong作为最后输出结果的）\n",
    "simple_rnn=tf.keras.layers.SimpleRNN(4, return_sequences=False, return_state=True) \n",
    "whole_sequence_output,final_state=simple_rnn(inputs)"
   ]
  },
  {
   "cell_type": "code",
   "execution_count": 22,
   "id": "ffab202c",
   "metadata": {
    "execution": {
     "iopub.execute_input": "2022-08-02T05:37:37.653516Z",
     "iopub.status.busy": "2022-08-02T05:37:37.653103Z",
     "iopub.status.idle": "2022-08-02T05:37:37.664445Z",
     "shell.execute_reply": "2022-08-02T05:37:37.662821Z"
    },
    "papermill": {
     "duration": 0.262468,
     "end_time": "2022-08-02T05:37:37.667500",
     "exception": false,
     "start_time": "2022-08-02T05:37:37.405032",
     "status": "completed"
    },
    "pycharm": {
     "name": "#%%\n"
    },
    "tags": []
   },
   "outputs": [
    {
     "name": "stdout",
     "output_type": "stream",
     "text": [
      "tf.Tensor(\n",
      "[[ 0.34873822 -0.8409971   0.6248229  -0.07964683]\n",
      " [ 0.78693914 -0.27706575 -0.13290355  0.24561031]\n",
      " [-0.5995698  -0.7392125  -0.04158353 -0.4464251 ]\n",
      " [-0.6719915  -0.6089304  -0.23074038  0.08773538]\n",
      " [-0.5742142  -0.55257493 -0.06517714 -0.081961  ]\n",
      " [ 0.7368791   0.4322076  -0.1550176  -0.17842838]\n",
      " [-0.60645133  0.21345079 -0.2706551  -0.1610176 ]\n",
      " [ 0.60356927  0.23474868  0.6679233  -0.27588913]\n",
      " [-0.612234    0.10912877 -0.12212446  0.30599263]\n",
      " [-0.6964839  -0.7756151  -0.17737688  0.00279646]\n",
      " [ 0.05724343 -0.25878096 -0.13057023 -0.10819574]\n",
      " [ 0.00852031  0.03921639  0.09395713  0.6247616 ]\n",
      " [ 0.1543369  -0.46207598 -0.26658666 -0.71718806]\n",
      " [ 0.35830736 -0.1281519   0.43426678  0.09643106]\n",
      " [-0.16333604  0.07315625  0.20816468 -0.68541217]\n",
      " [ 0.0832596   0.46250615  0.17473622 -0.07090449]\n",
      " [ 0.11192636 -0.15383749  0.6354641  -0.76901096]\n",
      " [-0.6362654  -0.4377961  -0.22160646  0.17552224]\n",
      " [-0.34786505 -0.8701801   0.15927155 -0.5062356 ]\n",
      " [-0.43171856 -0.7549798   0.6983386   0.19467007]\n",
      " [-0.8259984  -0.4150335  -0.4429267  -0.36760122]\n",
      " [ 0.20269497 -0.82205737  0.30075762 -0.4820861 ]\n",
      " [-0.41583985 -0.29485816  0.09540019 -0.13583271]\n",
      " [-0.77474445 -0.2510601  -0.23909096 -0.46583056]\n",
      " [-0.72514844  0.02689154 -0.55868    -0.25131732]\n",
      " [ 0.19715844 -0.48118985 -0.10958955  0.6730074 ]\n",
      " [-0.46476102 -0.8325076  -0.4292778  -0.5588588 ]\n",
      " [-0.5860718  -0.4319563   0.43603435  0.37090105]\n",
      " [-0.7496774  -0.336629    0.2101217  -0.04465439]\n",
      " [ 0.00779377 -0.15808442 -0.19445814 -0.18525614]\n",
      " [-0.17468855 -0.71652037 -0.2526997  -0.79457897]\n",
      " [-0.24756515 -0.7511383   0.32387337 -0.3312434 ]], shape=(32, 4), dtype=float32)\n",
      "tf.Tensor(\n",
      "[[ 0.34873822 -0.8409971   0.6248229  -0.07964683]\n",
      " [ 0.78693914 -0.27706575 -0.13290355  0.24561031]\n",
      " [-0.5995698  -0.7392125  -0.04158353 -0.4464251 ]\n",
      " [-0.6719915  -0.6089304  -0.23074038  0.08773538]\n",
      " [-0.5742142  -0.55257493 -0.06517714 -0.081961  ]\n",
      " [ 0.7368791   0.4322076  -0.1550176  -0.17842838]\n",
      " [-0.60645133  0.21345079 -0.2706551  -0.1610176 ]\n",
      " [ 0.60356927  0.23474868  0.6679233  -0.27588913]\n",
      " [-0.612234    0.10912877 -0.12212446  0.30599263]\n",
      " [-0.6964839  -0.7756151  -0.17737688  0.00279646]\n",
      " [ 0.05724343 -0.25878096 -0.13057023 -0.10819574]\n",
      " [ 0.00852031  0.03921639  0.09395713  0.6247616 ]\n",
      " [ 0.1543369  -0.46207598 -0.26658666 -0.71718806]\n",
      " [ 0.35830736 -0.1281519   0.43426678  0.09643106]\n",
      " [-0.16333604  0.07315625  0.20816468 -0.68541217]\n",
      " [ 0.0832596   0.46250615  0.17473622 -0.07090449]\n",
      " [ 0.11192636 -0.15383749  0.6354641  -0.76901096]\n",
      " [-0.6362654  -0.4377961  -0.22160646  0.17552224]\n",
      " [-0.34786505 -0.8701801   0.15927155 -0.5062356 ]\n",
      " [-0.43171856 -0.7549798   0.6983386   0.19467007]\n",
      " [-0.8259984  -0.4150335  -0.4429267  -0.36760122]\n",
      " [ 0.20269497 -0.82205737  0.30075762 -0.4820861 ]\n",
      " [-0.41583985 -0.29485816  0.09540019 -0.13583271]\n",
      " [-0.77474445 -0.2510601  -0.23909096 -0.46583056]\n",
      " [-0.72514844  0.02689154 -0.55868    -0.25131732]\n",
      " [ 0.19715844 -0.48118985 -0.10958955  0.6730074 ]\n",
      " [-0.46476102 -0.8325076  -0.4292778  -0.5588588 ]\n",
      " [-0.5860718  -0.4319563   0.43603435  0.37090105]\n",
      " [-0.7496774  -0.336629    0.2101217  -0.04465439]\n",
      " [ 0.00779377 -0.15808442 -0.19445814 -0.18525614]\n",
      " [-0.17468855 -0.71652037 -0.2526997  -0.79457897]\n",
      " [-0.24756515 -0.7511383   0.32387337 -0.3312434 ]], shape=(32, 4), dtype=float32)\n"
     ]
    }
   ],
   "source": [
    "print(whole_sequence_output)\n",
    "print(final_state)"
   ]
  }
 ],
 "metadata": {
  "kernelspec": {
   "display_name": "Python 3",
   "language": "python",
   "name": "python3"
  },
  "language_info": {
   "codemirror_mode": {
    "name": "ipython",
    "version": 3
   },
   "file_extension": ".py",
   "mimetype": "text/x-python",
   "name": "python",
   "nbconvert_exporter": "python",
   "pygments_lexer": "ipython3",
   "version": "3.7.12"
  },
  "papermill": {
   "default_parameters": {},
   "duration": 3691.145322,
   "end_time": "2022-08-02T05:37:41.425026",
   "environment_variables": {},
   "exception": null,
   "input_path": "__notebook__.ipynb",
   "output_path": "__notebook__.ipynb",
   "parameters": {},
   "start_time": "2022-08-02T04:36:10.279704",
   "version": "2.3.4"
  }
 },
 "nbformat": 4,
 "nbformat_minor": 5
}
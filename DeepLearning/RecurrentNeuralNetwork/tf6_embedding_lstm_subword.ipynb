{
 "metadata": {
  "kernelspec": {
   "language": "python",
   "display_name": "Python 3",
   "name": "python3"
  },
  "language_info": {
   "name": "python",
   "version": "3.7.12",
   "mimetype": "text/x-python",
   "codemirror_mode": {
    "name": "ipython",
    "version": 3
   },
   "pygments_lexer": "ipython3",
   "nbconvert_exporter": "python",
   "file_extension": ".py"
  }
 },
 "nbformat_minor": 4,
 "nbformat": 4,
 "cells": [
  {
   "cell_type": "code",
   "source": "import matplotlib as mpl\nimport matplotlib.pyplot as plt\n%matplotlib inline\nimport numpy as np\nimport sklearn\nimport pandas as pd\nimport os\nimport sys\nimport time\nimport tensorflow as tf\n\nfrom tensorflow import keras\n\nprint(tf.__version__)\nprint(sys.version_info)\nfor module in mpl, np, pd, sklearn, tf, keras:\n    print(module.__name__, module.__version__)",
   "metadata": {
    "execution": {
     "iopub.status.busy": "2022-08-03T16:19:29.574925Z",
     "iopub.execute_input": "2022-08-03T16:19:29.575449Z",
     "iopub.status.idle": "2022-08-03T16:19:36.341164Z",
     "shell.execute_reply.started": "2022-08-03T16:19:29.575339Z",
     "shell.execute_reply": "2022-08-03T16:19:36.340135Z"
    },
    "trusted": true
   },
   "execution_count": 1,
   "outputs": [
    {
     "name": "stdout",
     "text": "2.6.4\nsys.version_info(major=3, minor=7, micro=12, releaselevel='final', serial=0)\nmatplotlib 3.5.2\nnumpy 1.21.6\npandas 1.3.5\nsklearn 1.0.2\ntensorflow 2.6.4\nkeras.api._v2.keras 2.6.0\n",
     "output_type": "stream"
    }
   ]
  },
  {
   "cell_type": "code",
   "source": "import tensorflow_datasets as tfds\n\ndataset, info = tfds.load('imdb_reviews/subwords8k', with_info=True,\n                          as_supervised=True)  # 有监督 会返回labels\ntrain_dataset, test_dataset = dataset['train'], dataset['test']\nprint(info)",
   "metadata": {
    "collapsed": false,
    "pycharm": {
     "name": "#%%\n"
    },
    "jupyter": {
     "outputs_hidden": false
    },
    "execution": {
     "iopub.status.busy": "2022-08-03T16:19:36.345813Z",
     "iopub.execute_input": "2022-08-03T16:19:36.348731Z",
     "iopub.status.idle": "2022-08-03T16:21:58.510207Z",
     "shell.execute_reply.started": "2022-08-03T16:19:36.348691Z",
     "shell.execute_reply": "2022-08-03T16:21:58.509118Z"
    },
    "trusted": true
   },
   "execution_count": 2,
   "outputs": [
    {
     "name": "stderr",
     "text": "2022-08-03 16:19:37.952832: W tensorflow/core/platform/cloud/google_auth_provider.cc:184] All attempts to get a Google authentication bearer token failed, returning an empty token. Retrieving token from files failed with \"Not found: Could not locate the credentials file.\". Retrieving token from GCE failed with \"Failed precondition: Error executing an HTTP request: libcurl code 6 meaning 'Couldn't resolve host name', error details: Could not resolve host: metadata\".\n",
     "output_type": "stream"
    },
    {
     "name": "stdout",
     "text": "\u001B[1mDownloading and preparing dataset 80.23 MiB (download: 80.23 MiB, generated: Unknown size, total: 80.23 MiB) to /root/tensorflow_datasets/imdb_reviews/subwords8k/1.0.0...\u001B[0m\n",
     "output_type": "stream"
    },
    {
     "output_type": "display_data",
     "data": {
      "text/plain": "Dl Completed...: 0 url [00:00, ? url/s]",
      "application/vnd.jupyter.widget-view+json": {
       "version_major": 2,
       "version_minor": 0,
       "model_id": "51701ccd7dd94b2f9dc7264cd96abbf1"
      }
     },
     "metadata": {}
    },
    {
     "output_type": "display_data",
     "data": {
      "text/plain": "Dl Size...: 0 MiB [00:00, ? MiB/s]",
      "application/vnd.jupyter.widget-view+json": {
       "version_major": 2,
       "version_minor": 0,
       "model_id": "f43a239b512741279e5b92acac4742bd"
      }
     },
     "metadata": {}
    },
    {
     "output_type": "display_data",
     "data": {
      "text/plain": "Generating splits...:   0%|          | 0/3 [00:00<?, ? splits/s]",
      "application/vnd.jupyter.widget-view+json": {
       "version_major": 2,
       "version_minor": 0,
       "model_id": ""
      }
     },
     "metadata": {}
    },
    {
     "output_type": "display_data",
     "data": {
      "text/plain": "Generating train examples...:   0%|          | 0/25000 [00:00<?, ? examples/s]",
      "application/vnd.jupyter.widget-view+json": {
       "version_major": 2,
       "version_minor": 0,
       "model_id": ""
      }
     },
     "metadata": {}
    },
    {
     "output_type": "display_data",
     "data": {
      "text/plain": "Shuffling imdb_reviews-train.tfrecord...:   0%|          | 0/25000 [00:00<?, ? examples/s]",
      "application/vnd.jupyter.widget-view+json": {
       "version_major": 2,
       "version_minor": 0,
       "model_id": ""
      }
     },
     "metadata": {}
    },
    {
     "output_type": "display_data",
     "data": {
      "text/plain": "Generating test examples...:   0%|          | 0/25000 [00:00<?, ? examples/s]",
      "application/vnd.jupyter.widget-view+json": {
       "version_major": 2,
       "version_minor": 0,
       "model_id": ""
      }
     },
     "metadata": {}
    },
    {
     "output_type": "display_data",
     "data": {
      "text/plain": "Shuffling imdb_reviews-test.tfrecord...:   0%|          | 0/25000 [00:00<?, ? examples/s]",
      "application/vnd.jupyter.widget-view+json": {
       "version_major": 2,
       "version_minor": 0,
       "model_id": ""
      }
     },
     "metadata": {}
    },
    {
     "output_type": "display_data",
     "data": {
      "text/plain": "Generating unsupervised examples...:   0%|          | 0/50000 [00:00<?, ? examples/s]",
      "application/vnd.jupyter.widget-view+json": {
       "version_major": 2,
       "version_minor": 0,
       "model_id": ""
      }
     },
     "metadata": {}
    },
    {
     "output_type": "display_data",
     "data": {
      "text/plain": "Shuffling imdb_reviews-unsupervised.tfrecord...:   0%|          | 0/50000 [00:00<?, ? examples/s]",
      "application/vnd.jupyter.widget-view+json": {
       "version_major": 2,
       "version_minor": 0,
       "model_id": ""
      }
     },
     "metadata": {}
    },
    {
     "name": "stdout",
     "text": "\u001B[1mDataset imdb_reviews downloaded and prepared to /root/tensorflow_datasets/imdb_reviews/subwords8k/1.0.0. Subsequent calls will reuse this data.\u001B[0m\n",
     "output_type": "stream"
    },
    {
     "name": "stderr",
     "text": "2022-08-03 16:21:55.757203: I tensorflow/stream_executor/cuda/cuda_gpu_executor.cc:937] successful NUMA node read from SysFS had negative value (-1), but there must be at least one NUMA node, so returning NUMA node zero\n2022-08-03 16:21:55.867375: I tensorflow/stream_executor/cuda/cuda_gpu_executor.cc:937] successful NUMA node read from SysFS had negative value (-1), but there must be at least one NUMA node, so returning NUMA node zero\n2022-08-03 16:21:55.868290: I tensorflow/stream_executor/cuda/cuda_gpu_executor.cc:937] successful NUMA node read from SysFS had negative value (-1), but there must be at least one NUMA node, so returning NUMA node zero\n2022-08-03 16:21:55.870557: I tensorflow/core/platform/cpu_feature_guard.cc:142] This TensorFlow binary is optimized with oneAPI Deep Neural Network Library (oneDNN) to use the following CPU instructions in performance-critical operations:  AVX2 AVX512F FMA\nTo enable them in other operations, rebuild TensorFlow with the appropriate compiler flags.\n2022-08-03 16:21:55.870856: I tensorflow/stream_executor/cuda/cuda_gpu_executor.cc:937] successful NUMA node read from SysFS had negative value (-1), but there must be at least one NUMA node, so returning NUMA node zero\n2022-08-03 16:21:55.871581: I tensorflow/stream_executor/cuda/cuda_gpu_executor.cc:937] successful NUMA node read from SysFS had negative value (-1), but there must be at least one NUMA node, so returning NUMA node zero\n2022-08-03 16:21:55.872235: I tensorflow/stream_executor/cuda/cuda_gpu_executor.cc:937] successful NUMA node read from SysFS had negative value (-1), but there must be at least one NUMA node, so returning NUMA node zero\n2022-08-03 16:21:58.029324: I tensorflow/stream_executor/cuda/cuda_gpu_executor.cc:937] successful NUMA node read from SysFS had negative value (-1), but there must be at least one NUMA node, so returning NUMA node zero\n2022-08-03 16:21:58.030231: I tensorflow/stream_executor/cuda/cuda_gpu_executor.cc:937] successful NUMA node read from SysFS had negative value (-1), but there must be at least one NUMA node, so returning NUMA node zero\n2022-08-03 16:21:58.030993: I tensorflow/stream_executor/cuda/cuda_gpu_executor.cc:937] successful NUMA node read from SysFS had negative value (-1), but there must be at least one NUMA node, so returning NUMA node zero\n2022-08-03 16:21:58.031803: I tensorflow/core/common_runtime/gpu/gpu_device.cc:1510] Created device /job:localhost/replica:0/task:0/device:GPU:0 with 15403 MB memory:  -> device: 0, name: Tesla P100-PCIE-16GB, pci bus id: 0000:00:04.0, compute capability: 6.0\n",
     "output_type": "stream"
    },
    {
     "name": "stdout",
     "text": "tfds.core.DatasetInfo(\n    name='imdb_reviews',\n    full_name='imdb_reviews/subwords8k/1.0.0',\n    description=\"\"\"\n    Large Movie Review Dataset.\n    This is a dataset for binary sentiment classification containing substantially more data than previous benchmark datasets. We provide a set of 25,000 highly polar movie reviews for training, and 25,000 for testing. There is additional unlabeled data for use as well.\n    \"\"\",\n    config_description=\"\"\"\n    Uses `tfds.deprecated.text.SubwordTextEncoder` with 8k vocab size\n    \"\"\",\n    homepage='http://ai.stanford.edu/~amaas/data/sentiment/',\n    data_path='/root/tensorflow_datasets/imdb_reviews/subwords8k/1.0.0',\n    download_size=80.23 MiB,\n    dataset_size=54.72 MiB,\n    features=FeaturesDict({\n        'label': ClassLabel(shape=(), dtype=tf.int64, num_classes=2),\n        'text': Text(shape=(None,), dtype=tf.int64, encoder=<SubwordTextEncoder vocab_size=8185>),\n    }),\n    supervised_keys=('text', 'label'),\n    disable_shuffling=False,\n    splits={\n        'test': <SplitInfo num_examples=25000, num_shards=1>,\n        'train': <SplitInfo num_examples=25000, num_shards=1>,\n        'unsupervised': <SplitInfo num_examples=50000, num_shards=1>,\n    },\n    citation=\"\"\"@InProceedings{maas-EtAl:2011:ACL-HLT2011,\n      author    = {Maas, Andrew L.  and  Daly, Raymond E.  and  Pham, Peter T.  and  Huang, Dan  and  Ng, Andrew Y.  and  Potts, Christopher},\n      title     = {Learning Word Vectors for Sentiment Analysis},\n      booktitle = {Proceedings of the 49th Annual Meeting of the Association for Computational Linguistics: Human Language Technologies},\n      month     = {June},\n      year      = {2011},\n      address   = {Portland, Oregon, USA},\n      publisher = {Association for Computational Linguistics},\n      pages     = {142--150},\n      url       = {http://www.aclweb.org/anthology/P11-1015}\n    }\"\"\",\n)\n",
     "output_type": "stream"
    }
   ]
  },
  {
   "cell_type": "code",
   "source": "tokenizer = info.features['text'].encoder\nprint(type(tokenizer))\nprint(f'vocabulary size:{tokenizer.vocab_size}')",
   "metadata": {
    "collapsed": false,
    "pycharm": {
     "name": "#%%\n"
    },
    "jupyter": {
     "outputs_hidden": false
    },
    "execution": {
     "iopub.status.busy": "2022-08-03T16:21:58.511533Z",
     "iopub.execute_input": "2022-08-03T16:21:58.512116Z",
     "iopub.status.idle": "2022-08-03T16:21:58.518486Z",
     "shell.execute_reply.started": "2022-08-03T16:21:58.512078Z",
     "shell.execute_reply": "2022-08-03T16:21:58.517526Z"
    },
    "trusted": true
   },
   "execution_count": 3,
   "outputs": [
    {
     "name": "stdout",
     "text": "<class 'tensorflow_datasets.core.deprecated.text.subword_text_encoder.SubwordTextEncoder'>\nvocabulary size:8185\n",
     "output_type": "stream"
    }
   ]
  },
  {
   "cell_type": "code",
   "source": "for i in train_dataset.take(1):\n    print(np.array(i[0]))\n    print(i[0].numpy())\n    print(len(i[0]))\n    print(tokenizer.decode(np.array(i[0])))",
   "metadata": {
    "collapsed": false,
    "pycharm": {
     "name": "#%%\n"
    },
    "jupyter": {
     "outputs_hidden": false
    },
    "execution": {
     "iopub.status.busy": "2022-08-03T16:21:58.521107Z",
     "iopub.execute_input": "2022-08-03T16:21:58.522190Z",
     "iopub.status.idle": "2022-08-03T16:21:58.620716Z",
     "shell.execute_reply.started": "2022-08-03T16:21:58.522148Z",
     "shell.execute_reply": "2022-08-03T16:21:58.619685Z"
    },
    "trusted": true
   },
   "execution_count": 4,
   "outputs": [
    {
     "name": "stdout",
     "text": "[  62   18   41  604  927   65    3  644 7968   21   35 5096   36   11\n   43 2948 5240  102   50  681 7862 1244    3 3266   29  122  640    2\n   26   14  279  438   35   79  349  384   11 1991    3  492   79  122\n  188  117   33 4047 4531   14   65 7968    8 1819 3947    3   62   27\n    9   41  577 5044 2629 2552 7193 7961 3642    3   19  107 3903  225\n   85  198   72    1 1512  738 2347  102 6245    8   85  308   79 6936\n 7961   23 4981 8044    3 6429 7961 1141 1335 1848 4848   55 3601 4217\n 8050    2    5   59 3831 1484 8040 7974  174 5773   22 5240  102   18\n  247   26    4 3903 1612 3902  291   11    4   27   13   18 4092 4008\n 7961    6  119  213 2774    3   12  258 2306   13   91   29  171   52\n  229    2 1245 5790  995 7968    8   52 2948 5240 8039 7968    8   74\n 1249    3   12  117 2438 1369  192   39 7975]\n[  62   18   41  604  927   65    3  644 7968   21   35 5096   36   11\n   43 2948 5240  102   50  681 7862 1244    3 3266   29  122  640    2\n   26   14  279  438   35   79  349  384   11 1991    3  492   79  122\n  188  117   33 4047 4531   14   65 7968    8 1819 3947    3   62   27\n    9   41  577 5044 2629 2552 7193 7961 3642    3   19  107 3903  225\n   85  198   72    1 1512  738 2347  102 6245    8   85  308   79 6936\n 7961   23 4981 8044    3 6429 7961 1141 1335 1848 4848   55 3601 4217\n 8050    2    5   59 3831 1484 8040 7974  174 5773   22 5240  102   18\n  247   26    4 3903 1612 3902  291   11    4   27   13   18 4092 4008\n 7961    6  119  213 2774    3   12  258 2306   13   91   29  171   52\n  229    2 1245 5790  995 7968    8   52 2948 5240 8039 7968    8   74\n 1249    3   12  117 2438 1369  192   39 7975]\n163\nThis was an absolutely terrible movie. Don't be lured in by Christopher Walken or Michael Ironside. Both are great actors, but this must simply be their worst role in history. Even their great acting could not redeem this movie's ridiculous storyline. This movie is an early nineties US propaganda piece. The most pathetic scenes were those when the Columbian rebels were making their cases for revolutions. Maria Conchita Alonso appeared phony, and her pseudo-love affair with Walken was nothing but a pathetic emotional plug in a movie that was devoid of any real meaning. I am disappointed that there are movies like this, ruining actor's like Christopher Walken's good name. I could barely sit through it.\n",
     "output_type": "stream"
    },
    {
     "name": "stderr",
     "text": "2022-08-03 16:21:58.560563: I tensorflow/compiler/mlir/mlir_graph_optimization_pass.cc:185] None of the MLIR Optimization Passes are enabled (registered 2)\n2022-08-03 16:21:58.610139: W tensorflow/core/kernels/data/cache_dataset_ops.cc:768] The calling iterator did not fully read the dataset being cached. In order to avoid unexpected truncation of the dataset, the partially cached contents of the dataset  will be discarded. This can happen if you have an input pipeline similar to `dataset.cache().take(k).repeat()`. You should use `dataset.take(k).cache().repeat()` instead.\n",
     "output_type": "stream"
    }
   ]
  },
  {
   "cell_type": "code",
   "source": "# subword level不可以去除标点符号\nsample_string = 'Tensorflow is cool.'\n# encode是变为index序列\ntokenized_string = tokenizer.encode(sample_string)\nprint(f'Tokenized string is {tokenized_string}')\nprint(type(tokenized_string))\n# decode解码为原来的字符串\noriginal_string = tokenizer.decode(tokenized_string)\nprint(f'Original string is {original_string}')",
   "metadata": {
    "collapsed": false,
    "pycharm": {
     "name": "#%%\n"
    },
    "jupyter": {
     "outputs_hidden": false
    },
    "execution": {
     "iopub.status.busy": "2022-08-03T16:21:58.622450Z",
     "iopub.execute_input": "2022-08-03T16:21:58.623182Z",
     "iopub.status.idle": "2022-08-03T16:21:58.630489Z",
     "shell.execute_reply.started": "2022-08-03T16:21:58.623145Z",
     "shell.execute_reply": "2022-08-03T16:21:58.629229Z"
    },
    "trusted": true
   },
   "execution_count": 5,
   "outputs": [
    {
     "name": "stdout",
     "text": "Tokenized string is [6307, 2327, 2934, 7961, 9, 2724, 7975]\n<class 'list'>\nOriginal string is Tensorflow is cool.\n",
     "output_type": "stream"
    }
   ]
  },
  {
   "cell_type": "code",
   "source": "# 对应关系\nfor token in tokenized_string:\n    print(f'{token} -->{tokenizer.decode([token])}---{len(tokenizer.decode([token]))}')",
   "metadata": {
    "collapsed": false,
    "pycharm": {
     "name": "#%%\n"
    },
    "jupyter": {
     "outputs_hidden": false
    },
    "execution": {
     "iopub.status.busy": "2022-08-03T16:21:58.632315Z",
     "iopub.execute_input": "2022-08-03T16:21:58.633088Z",
     "iopub.status.idle": "2022-08-03T16:21:58.641097Z",
     "shell.execute_reply.started": "2022-08-03T16:21:58.633051Z",
     "shell.execute_reply": "2022-08-03T16:21:58.639945Z"
    },
    "trusted": true
   },
   "execution_count": 6,
   "outputs": [
    {
     "name": "stdout",
     "text": "6307 -->Ten---3\n2327 -->sor---3\n2934 -->flow---4\n7961 --> ---1\n9 -->is ---3\n2724 -->cool---4\n7975 -->.---1\n",
     "output_type": "stream"
    }
   ]
  },
  {
   "cell_type": "code",
   "source": "print(train_dataset)\nprint('-' * 50)\nprint(test_dataset)",
   "metadata": {
    "collapsed": false,
    "pycharm": {
     "name": "#%%\n"
    },
    "jupyter": {
     "outputs_hidden": false
    },
    "execution": {
     "iopub.status.busy": "2022-08-03T16:21:58.643026Z",
     "iopub.execute_input": "2022-08-03T16:21:58.643717Z",
     "iopub.status.idle": "2022-08-03T16:21:58.651142Z",
     "shell.execute_reply.started": "2022-08-03T16:21:58.643680Z",
     "shell.execute_reply": "2022-08-03T16:21:58.650155Z"
    },
    "trusted": true
   },
   "execution_count": 7,
   "outputs": [
    {
     "name": "stdout",
     "text": "<PrefetchDataset shapes: ((None,), ()), types: (tf.int64, tf.int64)>\n--------------------------------------------------\n<PrefetchDataset shapes: ((None,), ()), types: (tf.int64, tf.int64)>\n",
     "output_type": "stream"
    }
   ]
  },
  {
   "cell_type": "code",
   "source": "buffer_size = 10000\nbatch_size = 64\n# 2.0版本代码 已弃用\n# print(train_dataset.output_shapes)\n# print(test_dataset.output_shapes)\n# train_dataset = train_dataset.shuffle(buffer_size)\n# train_dataset = train_dataset.padded_batch(batch_size, train_dataset.output_shapes)\n# test_dataset = test_dataset.padded_batch(batch_size, test_dataset.output_shapes)\n# 训练集的最大大小\npadded_shapes = tf.compat.v1.data.get_output_shapes(train_dataset)\nprint(train_dataset)\nprint(padded_shapes)\n# 测试集的最大大小\npadded_shapes_test = tf.compat.v1.data.get_output_shapes(test_dataset)\nprint(padded_shapes_test)\nprint(test_dataset)\ntrain_dataset = train_dataset.shuffle(buffer_size)\n# padded_batch是分批并对每批数据分别做padding填充成每批的最大大小（每批大小不同）\ntrain_dataset = train_dataset.padded_batch(batch_size,padded_shapes) \ntest_dataset = test_dataset.padded_batch(batch_size,padded_shapes_test)\nprint(train_dataset)\nprint('-' * 50)\nprint(test_dataset)",
   "metadata": {
    "collapsed": false,
    "pycharm": {
     "name": "#%%\n"
    },
    "jupyter": {
     "outputs_hidden": false
    },
    "execution": {
     "iopub.status.busy": "2022-08-03T16:21:58.652487Z",
     "iopub.execute_input": "2022-08-03T16:21:58.653862Z",
     "iopub.status.idle": "2022-08-03T16:21:58.670757Z",
     "shell.execute_reply.started": "2022-08-03T16:21:58.653823Z",
     "shell.execute_reply": "2022-08-03T16:21:58.669633Z"
    },
    "trusted": true
   },
   "execution_count": 8,
   "outputs": [
    {
     "name": "stdout",
     "text": "<PrefetchDataset shapes: ((None,), ()), types: (tf.int64, tf.int64)>\n(TensorShape([None]), TensorShape([]))\n(TensorShape([None]), TensorShape([]))\n<PrefetchDataset shapes: ((None,), ()), types: (tf.int64, tf.int64)>\n<PaddedBatchDataset shapes: ((None, None), (None,)), types: (tf.int64, tf.int64)>\n--------------------------------------------------\n<PaddedBatchDataset shapes: ((None, None), (None,)), types: (tf.int64, tf.int64)>\n",
     "output_type": "stream"
    }
   ]
  },
  {
   "cell_type": "code",
   "source": "for i in train_dataset.take(10):\n    print(i)",
   "metadata": {
    "collapsed": false,
    "pycharm": {
     "name": "#%%\n"
    },
    "jupyter": {
     "outputs_hidden": false
    },
    "execution": {
     "iopub.status.busy": "2022-08-03T16:21:58.672300Z",
     "iopub.execute_input": "2022-08-03T16:21:58.672744Z",
     "iopub.status.idle": "2022-08-03T16:21:59.488068Z",
     "shell.execute_reply.started": "2022-08-03T16:21:58.672710Z",
     "shell.execute_reply": "2022-08-03T16:21:59.487010Z"
    },
    "trusted": true
   },
   "execution_count": 9,
   "outputs": [
    {
     "name": "stdout",
     "text": "(<tf.Tensor: shape=(64, 1547), dtype=int64, numpy=\narray([[  12,   31,    7, ...,    0,    0,    0],\n       [2593, 3629, 3023, ...,    0,    0,    0],\n       [ 518, 1693,    1, ...,   33, 3473, 7975],\n       ...,\n       [  12,   31,    4, ...,    0,    0,    0],\n       [ 324,  406,  327, ...,    0,    0,    0],\n       [3431, 2791,   36, ...,    0,    0,    0]])>, <tf.Tensor: shape=(64,), dtype=int64, numpy=\narray([1, 1, 0, 1, 1, 0, 0, 1, 0, 0, 0, 0, 0, 0, 1, 0, 0, 0, 0, 0, 1, 1,\n       1, 1, 1, 0, 1, 1, 0, 0, 0, 0, 1, 0, 1, 1, 1, 0, 1, 1, 1, 1, 0, 1,\n       0, 0, 0, 1, 0, 1, 0, 0, 1, 1, 0, 1, 1, 1, 0, 1, 1, 1, 0, 1])>)\n(<tf.Tensor: shape=(64, 1647), dtype=int64, numpy=\narray([[2355, 6491, 5196, ...,    0,    0,    0],\n       [  12,  270,   14, ...,    0,    0,    0],\n       [2830, 7961,    7, ...,    0,    0,    0],\n       ...,\n       [5289,    2,  275, ...,    0,    0,    0],\n       [  12, 2689,   36, ...,    0,    0,    0],\n       [1566,  117, 1531, ...,    0,    0,    0]])>, <tf.Tensor: shape=(64,), dtype=int64, numpy=\narray([0, 0, 0, 0, 0, 1, 1, 0, 0, 0, 1, 0, 0, 1, 1, 1, 1, 1, 1, 0, 0, 1,\n       0, 1, 1, 0, 1, 1, 1, 0, 0, 1, 0, 0, 0, 1, 1, 1, 1, 1, 1, 1, 0, 1,\n       0, 1, 1, 0, 0, 1, 1, 0, 0, 1, 1, 0, 0, 0, 1, 0, 1, 0, 0, 0])>)\n(<tf.Tensor: shape=(64, 1165), dtype=int64, numpy=\narray([[  19, 6217, 3768, ...,    0,    0,    0],\n       [  12, 5913, 4679, ...,    0,    0,    0],\n       [7971, 1450, 8011, ...,    0,    0,    0],\n       ...,\n       [  12,  109, 7968, ...,    0,    0,    0],\n       [  12,  742,   14, ...,    0,    0,    0],\n       [  12,  393,   14, ...,    0,    0,    0]])>, <tf.Tensor: shape=(64,), dtype=int64, numpy=\narray([0, 1, 0, 1, 0, 0, 0, 0, 1, 1, 0, 0, 1, 1, 1, 0, 0, 0, 0, 1, 0, 1,\n       1, 1, 0, 0, 1, 1, 0, 0, 1, 1, 1, 0, 0, 0, 0, 1, 1, 1, 1, 0, 0, 0,\n       1, 1, 1, 1, 0, 0, 0, 1, 1, 0, 1, 1, 0, 1, 0, 1, 1, 1, 1, 0])>)\n(<tf.Tensor: shape=(64, 1536), dtype=int64, numpy=\narray([[  12,  284,   15, ...,    0,    0,    0],\n       [ 156,  151, 7968, ...,    0,    0,    0],\n       [  12,   81,  742, ...,    0,    0,    0],\n       ...,\n       [ 131, 1329,    7, ...,    0,    0,    0],\n       [8002, 7968,  111, ...,    0,    0,    0],\n       [2307, 2240, 7974, ...,    0,    0,    0]])>, <tf.Tensor: shape=(64,), dtype=int64, numpy=\narray([1, 1, 1, 1, 0, 0, 0, 0, 1, 1, 0, 0, 1, 1, 1, 1, 0, 0, 0, 0, 0, 1,\n       1, 1, 1, 0, 0, 1, 0, 0, 0, 1, 1, 1, 0, 1, 0, 0, 1, 0, 1, 0, 0, 0,\n       0, 1, 1, 0, 0, 0, 0, 0, 0, 1, 0, 0, 0, 1, 1, 1, 1, 0, 0, 1])>)\n(<tf.Tensor: shape=(64, 1554), dtype=int64, numpy=\narray([[  62,    9,    1, ...,    0,    0,    0],\n       [2457, 6716, 7961, ...,    0,    0,    0],\n       [1698,   95,   20, ...,    0,    0,    0],\n       ...,\n       [7963, 2216, 4341, ...,    0,    0,    0],\n       [4514, 1900, 4700, ...,    0,    0,    0],\n       [6691,  864,    1, ...,    0,    0,    0]])>, <tf.Tensor: shape=(64,), dtype=int64, numpy=\narray([1, 0, 1, 0, 1, 1, 1, 0, 0, 1, 1, 1, 1, 1, 1, 0, 1, 0, 1, 1, 1, 0,\n       1, 0, 1, 0, 1, 1, 1, 0, 1, 1, 1, 0, 0, 1, 0, 0, 0, 1, 0, 1, 0, 1,\n       1, 0, 0, 0, 0, 1, 0, 0, 0, 0, 1, 1, 1, 0, 1, 0, 1, 0, 0, 1])>)\n(<tf.Tensor: shape=(64, 1008), dtype=int64, numpy=\narray([[  12,  538, 7968, ...,    0,    0,    0],\n       [  14,   18,    1, ...,    0,    0,    0],\n       [  62,   27, 1056, ...,    0,    0,    0],\n       ...,\n       [  19, 2821, 1114, ...,    0,    0,    0],\n       [ 133,   27,  126, ...,    0,    0,    0],\n       [1976,  188,   25, ...,    0,    0,    0]])>, <tf.Tensor: shape=(64,), dtype=int64, numpy=\narray([1, 1, 0, 0, 1, 0, 1, 0, 0, 1, 0, 1, 0, 0, 1, 1, 1, 1, 1, 1, 1, 0,\n       1, 0, 0, 1, 0, 1, 0, 1, 0, 0, 0, 1, 0, 0, 0, 1, 0, 0, 0, 1, 1, 1,\n       0, 1, 0, 0, 0, 1, 1, 0, 0, 1, 0, 0, 0, 1, 0, 1, 0, 0, 1, 1])>)\n(<tf.Tensor: shape=(64, 947), dtype=int64, numpy=\narray([[5833, 5613,   47, ...,    0,    0,    0],\n       [  12,  258,   41, ...,    0,    0,    0],\n       [  62,    9,  926, ...,    0,    0,    0],\n       ...,\n       [ 634,  653,    2, ...,    0,    0,    0],\n       [5739,   46,  950, ...,    0,    0,    0],\n       [ 133,   74, 1945, ...,    0,    0,    0]])>, <tf.Tensor: shape=(64,), dtype=int64, numpy=\narray([1, 0, 0, 1, 1, 0, 1, 0, 0, 1, 0, 0, 1, 0, 0, 1, 0, 0, 1, 1, 0, 0,\n       1, 1, 0, 1, 1, 0, 0, 1, 0, 1, 1, 1, 0, 1, 0, 1, 0, 1, 1, 1, 1, 0,\n       1, 0, 1, 0, 0, 1, 0, 1, 1, 0, 1, 0, 1, 0, 0, 0, 1, 1, 1, 0])>)\n(<tf.Tensor: shape=(64, 829), dtype=int64, numpy=\narray([[  14,    9,    4, ...,    0,    0,    0],\n       [ 519,  198,   46, ...,    0,    0,    0],\n       [6953,  781,  712, ...,    0,    0,    0],\n       ...,\n       [  12, 1088,  142, ..., 3993,  737, 7975],\n       [  12,   18, 2362, ...,    0,    0,    0],\n       [ 387, 2042,  182, ...,    0,    0,    0]])>, <tf.Tensor: shape=(64,), dtype=int64, numpy=\narray([1, 1, 1, 1, 1, 1, 0, 0, 0, 0, 0, 1, 0, 1, 0, 1, 1, 0, 1, 1, 1, 0,\n       1, 0, 1, 1, 1, 0, 0, 1, 0, 0, 1, 1, 0, 1, 0, 1, 1, 1, 0, 0, 0, 1,\n       0, 1, 0, 0, 0, 0, 1, 0, 0, 0, 0, 0, 1, 0, 1, 1, 0, 0, 1, 0])>)\n(<tf.Tensor: shape=(64, 1274), dtype=int64, numpy=\narray([[1156,    1,  870, ...,    0,    0,    0],\n       [  12,   56, 5638, ...,    0,    0,    0],\n       [  62,   27, 2038, ...,    0,    0,    0],\n       ...,\n       [2960, 5184, 2960, ...,    0,    0,    0],\n       [ 373,    6,    1, ...,    0,    0,    0],\n       [  12,  456,    1, ...,    0,    0,    0]])>, <tf.Tensor: shape=(64,), dtype=int64, numpy=\narray([0, 0, 0, 1, 1, 0, 0, 0, 0, 0, 1, 0, 0, 1, 0, 1, 0, 0, 0, 0, 0, 1,\n       0, 0, 1, 1, 0, 0, 0, 1, 1, 1, 1, 1, 0, 1, 1, 1, 0, 0, 0, 0, 0, 1,\n       1, 0, 0, 1, 0, 1, 1, 1, 1, 0, 0, 0, 0, 1, 0, 1, 1, 0, 1, 0])>)\n(<tf.Tensor: shape=(64, 1207), dtype=int64, numpy=\narray([[5700, 1101,   89, ...,    0,    0,    0],\n       [  19, 7748,   48, ...,    0,    0,    0],\n       [  62,   32,   18, ...,    0,    0,    0],\n       ...,\n       [  12,  164,   13, ...,    0,    0,    0],\n       [ 592, 7109, 7961, ...,    0,    0,    0],\n       [1483, 4199, 7961, ...,    0,    0,    0]])>, <tf.Tensor: shape=(64,), dtype=int64, numpy=\narray([0, 0, 0, 1, 1, 1, 0, 0, 0, 1, 1, 1, 1, 0, 0, 0, 1, 0, 1, 0, 0, 0,\n       1, 1, 0, 0, 1, 0, 1, 0, 0, 1, 1, 1, 1, 1, 1, 1, 1, 0, 1, 0, 0, 1,\n       1, 1, 0, 0, 1, 0, 0, 0, 0, 0, 1, 0, 1, 1, 0, 1, 0, 0, 0, 1])>)\n",
     "output_type": "stream"
    },
    {
     "name": "stderr",
     "text": "2022-08-03 16:21:59.474276: W tensorflow/core/kernels/data/cache_dataset_ops.cc:768] The calling iterator did not fully read the dataset being cached. In order to avoid unexpected truncation of the dataset, the partially cached contents of the dataset  will be discarded. This can happen if you have an input pipeline similar to `dataset.cache().take(k).repeat()`. You should use `dataset.take(k).cache().repeat()` instead.\n",
     "output_type": "stream"
    }
   ]
  },
  {
   "cell_type": "code",
   "source": "vocab_size = tokenizer.vocab_size\nembedding_dim = 16\nbi_lstm_model = keras.models.Sequential([\n    keras.layers.Embedding(vocab_size, embedding_dim),\n    keras.layers.Bidirectional(\n        keras.layers.LSTM(\n            units=32, return_sequences=False)),\n    keras.layers.Dense(32, activation='relu'),\n    keras.layers.Dense(1, activation='sigmoid'), ])\nbi_lstm_model.compile(optimizer='adam', loss='binary_crossentropy', metrics=['accuracy'])\nprint(bi_lstm_model.summary())",
   "metadata": {
    "collapsed": false,
    "pycharm": {
     "name": "#%%\n"
    },
    "jupyter": {
     "outputs_hidden": false
    },
    "execution": {
     "iopub.status.busy": "2022-08-03T16:21:59.491751Z",
     "iopub.execute_input": "2022-08-03T16:21:59.492027Z",
     "iopub.status.idle": "2022-08-03T16:21:59.967161Z",
     "shell.execute_reply.started": "2022-08-03T16:21:59.492000Z",
     "shell.execute_reply": "2022-08-03T16:21:59.965525Z"
    },
    "trusted": true
   },
   "execution_count": 10,
   "outputs": [
    {
     "name": "stdout",
     "text": "Model: \"sequential\"\n_________________________________________________________________\nLayer (type)                 Output Shape              Param #   \n=================================================================\nembedding (Embedding)        (None, None, 16)          130960    \n_________________________________________________________________\nbidirectional (Bidirectional (None, 64)                12544     \n_________________________________________________________________\ndense (Dense)                (None, 32)                2080      \n_________________________________________________________________\ndense_1 (Dense)              (None, 1)                 33        \n=================================================================\nTotal params: 145,617\nTrainable params: 145,617\nNon-trainable params: 0\n_________________________________________________________________\nNone\n",
     "output_type": "stream"
    }
   ]
  },
  {
   "cell_type": "code",
   "source": "print(bi_lstm_model.variables)",
   "metadata": {
    "collapsed": true,
    "pycharm": {
     "name": "#%%\n"
    },
    "jupyter": {
     "outputs_hidden": true
    },
    "execution": {
     "iopub.status.busy": "2022-08-03T16:21:59.968632Z",
     "iopub.execute_input": "2022-08-03T16:21:59.968975Z",
     "iopub.status.idle": "2022-08-03T16:21:59.987113Z",
     "shell.execute_reply.started": "2022-08-03T16:21:59.968938Z",
     "shell.execute_reply": "2022-08-03T16:21:59.986168Z"
    },
    "trusted": true
   },
   "execution_count": 11,
   "outputs": [
    {
     "name": "stdout",
     "text": "[<tf.Variable 'embedding/embeddings:0' shape=(8185, 16) dtype=float32, numpy=\narray([[-0.01472497, -0.00349486, -0.04831262, ..., -0.01557326,\n        -0.01557537, -0.03543944],\n       [ 0.04262466,  0.04162376,  0.01152836, ...,  0.02071695,\n         0.0351886 , -0.02227517],\n       [ 0.03978833,  0.0307222 , -0.04555001, ..., -0.02289489,\n         0.04468062, -0.00439854],\n       ...,\n       [-0.04583174, -0.04218596,  0.02281412, ...,  0.00933534,\n        -0.02245295, -0.00308388],\n       [ 0.00836085, -0.03242023,  0.02765002, ...,  0.04146179,\n         0.00442469, -0.02496936],\n       [-0.01599701,  0.02800555,  0.00895519, ..., -0.01590924,\n        -0.03544768, -0.02914075]], dtype=float32)>, <tf.Variable 'bidirectional/forward_lstm/lstm_cell_1/kernel:0' shape=(16, 128) dtype=float32, numpy=\narray([[-0.00620918,  0.2039069 ,  0.00163347, ..., -0.17454402,\n         0.14482689,  0.1491324 ],\n       [ 0.14147407, -0.07372105,  0.0861963 , ..., -0.07222785,\n        -0.14895603, -0.09531703],\n       [-0.057381  , -0.16061401,  0.16801694, ..., -0.06378073,\n        -0.07800053, -0.06553696],\n       ...,\n       [-0.16493127, -0.07715461,  0.05542332, ...,  0.01515155,\n        -0.1069717 , -0.08205089],\n       [-0.0202391 ,  0.12557188, -0.17708594, ..., -0.08883088,\n         0.17180008,  0.18752682],\n       [-0.13132559,  0.01490656,  0.03833178, ..., -0.18453783,\n        -0.20048673,  0.06612438]], dtype=float32)>, <tf.Variable 'bidirectional/forward_lstm/lstm_cell_1/recurrent_kernel:0' shape=(32, 128) dtype=float32, numpy=\narray([[ 0.08199584, -0.01415435, -0.05659419, ...,  0.04658055,\n         0.11763701, -0.12119389],\n       [-0.00986904, -0.01890182,  0.01461675, ...,  0.14846702,\n        -0.04709491, -0.14242448],\n       [-0.0998285 , -0.01330326, -0.12930246, ...,  0.19386977,\n         0.18626344, -0.09982289],\n       ...,\n       [-0.0412962 , -0.06030566, -0.02407816, ..., -0.00598394,\n         0.04508348,  0.10113297],\n       [ 0.0155524 ,  0.06283715,  0.13639243, ...,  0.07533439,\n         0.12770553, -0.05763403],\n       [ 0.09632578, -0.02918037,  0.02066263, ...,  0.04458801,\n         0.10572363, -0.09080122]], dtype=float32)>, <tf.Variable 'bidirectional/forward_lstm/lstm_cell_1/bias:0' shape=(128,) dtype=float32, numpy=\narray([0., 0., 0., 0., 0., 0., 0., 0., 0., 0., 0., 0., 0., 0., 0., 0., 0.,\n       0., 0., 0., 0., 0., 0., 0., 0., 0., 0., 0., 0., 0., 0., 0., 1., 1.,\n       1., 1., 1., 1., 1., 1., 1., 1., 1., 1., 1., 1., 1., 1., 1., 1., 1.,\n       1., 1., 1., 1., 1., 1., 1., 1., 1., 1., 1., 1., 1., 0., 0., 0., 0.,\n       0., 0., 0., 0., 0., 0., 0., 0., 0., 0., 0., 0., 0., 0., 0., 0., 0.,\n       0., 0., 0., 0., 0., 0., 0., 0., 0., 0., 0., 0., 0., 0., 0., 0., 0.,\n       0., 0., 0., 0., 0., 0., 0., 0., 0., 0., 0., 0., 0., 0., 0., 0., 0.,\n       0., 0., 0., 0., 0., 0., 0., 0., 0.], dtype=float32)>, <tf.Variable 'bidirectional/backward_lstm/lstm_cell_2/kernel:0' shape=(16, 128) dtype=float32, numpy=\narray([[ 0.18424574, -0.09335511, -0.15601517, ...,  0.0479359 ,\n         0.11323622, -0.14814314],\n       [ 0.0225078 ,  0.0259746 ,  0.00128622, ...,  0.16238296,\n        -0.13886854, -0.16566905],\n       [-0.16439939,  0.04130381, -0.07790042, ...,  0.11671039,\n        -0.13873261,  0.11299729],\n       ...,\n       [ 0.11518571,  0.03917274, -0.13077259, ..., -0.16327254,\n         0.01789004, -0.1102959 ],\n       [ 0.15888366, -0.03645809,  0.01890503, ...,  0.0091968 ,\n         0.07615313,  0.02052219],\n       [ 0.16897184, -0.02114061,  0.19830641, ...,  0.08320969,\n        -0.12644862,  0.18530774]], dtype=float32)>, <tf.Variable 'bidirectional/backward_lstm/lstm_cell_2/recurrent_kernel:0' shape=(32, 128) dtype=float32, numpy=\narray([[-0.01257133,  0.07879339, -0.100276  , ..., -0.08083545,\n        -0.0126936 ,  0.12602751],\n       [ 0.14253199, -0.06173614,  0.04323312, ..., -0.122192  ,\n         0.08941712, -0.01722834],\n       [ 0.00874428,  0.14270698, -0.16142158, ...,  0.09713167,\n        -0.01566536, -0.05856151],\n       ...,\n       [ 0.01209106, -0.08781967,  0.06606328, ..., -0.0911259 ,\n        -0.11050337,  0.02853   ],\n       [-0.03601497,  0.03973777,  0.01255118, ..., -0.09046786,\n        -0.17205104,  0.03131016],\n       [-0.08134307,  0.07059359,  0.05577051, ..., -0.1285092 ,\n         0.01774469,  0.06821074]], dtype=float32)>, <tf.Variable 'bidirectional/backward_lstm/lstm_cell_2/bias:0' shape=(128,) dtype=float32, numpy=\narray([0., 0., 0., 0., 0., 0., 0., 0., 0., 0., 0., 0., 0., 0., 0., 0., 0.,\n       0., 0., 0., 0., 0., 0., 0., 0., 0., 0., 0., 0., 0., 0., 0., 1., 1.,\n       1., 1., 1., 1., 1., 1., 1., 1., 1., 1., 1., 1., 1., 1., 1., 1., 1.,\n       1., 1., 1., 1., 1., 1., 1., 1., 1., 1., 1., 1., 1., 0., 0., 0., 0.,\n       0., 0., 0., 0., 0., 0., 0., 0., 0., 0., 0., 0., 0., 0., 0., 0., 0.,\n       0., 0., 0., 0., 0., 0., 0., 0., 0., 0., 0., 0., 0., 0., 0., 0., 0.,\n       0., 0., 0., 0., 0., 0., 0., 0., 0., 0., 0., 0., 0., 0., 0., 0., 0.,\n       0., 0., 0., 0., 0., 0., 0., 0., 0.], dtype=float32)>, <tf.Variable 'dense/kernel:0' shape=(64, 32) dtype=float32, numpy=\narray([[-0.16996908,  0.02437258, -0.01064891, ...,  0.16372538,\n        -0.24374336, -0.11300963],\n       [-0.01949787, -0.23838294,  0.13538826, ..., -0.19620097,\n        -0.02170283,  0.17521733],\n       [ 0.18043464, -0.24388885,  0.05556792, ..., -0.0126853 ,\n        -0.0848738 , -0.01390797],\n       ...,\n       [-0.190516  ,  0.00609142,  0.04416335, ..., -0.12580377,\n        -0.13474423,  0.09610242],\n       [-0.02476496,  0.1562174 , -0.00564408, ..., -0.07116342,\n        -0.00773376,  0.15194553],\n       [-0.0099386 ,  0.14999014, -0.05566072, ...,  0.02461982,\n         0.01422048,  0.13444173]], dtype=float32)>, <tf.Variable 'dense/bias:0' shape=(32,) dtype=float32, numpy=\narray([0., 0., 0., 0., 0., 0., 0., 0., 0., 0., 0., 0., 0., 0., 0., 0., 0.,\n       0., 0., 0., 0., 0., 0., 0., 0., 0., 0., 0., 0., 0., 0., 0.],\n      dtype=float32)>, <tf.Variable 'dense_1/kernel:0' shape=(32, 1) dtype=float32, numpy=\narray([[ 0.33338434],\n       [-0.33425152],\n       [-0.32164106],\n       [-0.06811273],\n       [ 0.13766491],\n       [ 0.2314331 ],\n       [-0.02089509],\n       [-0.39191484],\n       [ 0.36516064],\n       [-0.15296078],\n       [ 0.11268038],\n       [ 0.15175164],\n       [ 0.41223574],\n       [-0.39975277],\n       [ 0.26222348],\n       [ 0.1442697 ],\n       [ 0.34697217],\n       [-0.08835456],\n       [ 0.09460324],\n       [-0.16953677],\n       [-0.27491882],\n       [ 0.21342295],\n       [-0.20580958],\n       [ 0.04862007],\n       [ 0.22094351],\n       [-0.00070533],\n       [-0.05418667],\n       [-0.408539  ],\n       [-0.42355582],\n       [ 0.28509367],\n       [-0.40653506],\n       [ 0.39773947]], dtype=float32)>, <tf.Variable 'dense_1/bias:0' shape=(1,) dtype=float32, numpy=array([0.], dtype=float32)>]\n",
     "output_type": "stream"
    }
   ]
  },
  {
   "cell_type": "code",
   "source": "history = bi_lstm_model.fit(train_dataset, epochs=10, validation_data=test_dataset)",
   "metadata": {
    "collapsed": false,
    "pycharm": {
     "name": "#%%\n"
    },
    "jupyter": {
     "outputs_hidden": false
    },
    "execution": {
     "iopub.status.busy": "2022-08-03T16:21:59.988694Z",
     "iopub.execute_input": "2022-08-03T16:21:59.989210Z",
     "iopub.status.idle": "2022-08-03T16:33:08.321389Z",
     "shell.execute_reply.started": "2022-08-03T16:21:59.989169Z",
     "shell.execute_reply": "2022-08-03T16:33:08.320394Z"
    },
    "trusted": true
   },
   "execution_count": 12,
   "outputs": [
    {
     "name": "stdout",
     "text": "Epoch 1/10\n",
     "output_type": "stream"
    },
    {
     "name": "stderr",
     "text": "2022-08-03 16:22:03.989991: I tensorflow/stream_executor/cuda/cuda_dnn.cc:369] Loaded cuDNN version 8005\n",
     "output_type": "stream"
    },
    {
     "name": "stdout",
     "text": "391/391 [==============================] - 57s 133ms/step - loss: 0.5331 - accuracy: 0.7227 - val_loss: 0.5276 - val_accuracy: 0.7624\nEpoch 2/10\n391/391 [==============================] - 50s 128ms/step - loss: 0.3602 - accuracy: 0.8536 - val_loss: 0.4434 - val_accuracy: 0.8100\nEpoch 3/10\n391/391 [==============================] - 51s 129ms/step - loss: 0.2674 - accuracy: 0.8986 - val_loss: 0.3976 - val_accuracy: 0.8527\nEpoch 4/10\n391/391 [==============================] - 55s 140ms/step - loss: 0.2374 - accuracy: 0.9113 - val_loss: 0.4766 - val_accuracy: 0.7728\nEpoch 5/10\n391/391 [==============================] - 50s 128ms/step - loss: 0.2910 - accuracy: 0.8880 - val_loss: 0.4112 - val_accuracy: 0.8521\nEpoch 6/10\n391/391 [==============================] - 50s 128ms/step - loss: 0.1966 - accuracy: 0.9296 - val_loss: 0.4193 - val_accuracy: 0.8333\nEpoch 7/10\n391/391 [==============================] - 50s 128ms/step - loss: 0.1521 - accuracy: 0.9483 - val_loss: 0.4484 - val_accuracy: 0.8449\nEpoch 8/10\n391/391 [==============================] - 50s 128ms/step - loss: 0.1285 - accuracy: 0.9579 - val_loss: 0.5167 - val_accuracy: 0.8145\nEpoch 9/10\n391/391 [==============================] - 50s 127ms/step - loss: 0.2256 - accuracy: 0.9163 - val_loss: 0.4843 - val_accuracy: 0.8287\nEpoch 10/10\n391/391 [==============================] - 50s 127ms/step - loss: 0.1300 - accuracy: 0.9565 - val_loss: 0.5171 - val_accuracy: 0.8377\n",
     "output_type": "stream"
    }
   ]
  },
  {
   "cell_type": "code",
   "source": "def plot_learning_curves(history, label, epochs, min_value, max_value):\n    data = {}\n    data[label] = history.history[label]\n    data['val_' + label] = history.history['val_' + label]\n    pd.DataFrame(data).plot(figsize=(8, 5))\n    plt.grid(True)\n    plt.axis([0, epochs, min_value, max_value])\n    plt.show()\n\n\nplot_learning_curves(history, 'accuracy', 10, 0, 1)\nplot_learning_curves(history, 'loss', 10, 0, 1)",
   "metadata": {
    "collapsed": false,
    "pycharm": {
     "name": "#%%\n"
    },
    "jupyter": {
     "outputs_hidden": false
    },
    "execution": {
     "iopub.status.busy": "2022-08-03T16:33:08.324938Z",
     "iopub.execute_input": "2022-08-03T16:33:08.325600Z",
     "iopub.status.idle": "2022-08-03T16:33:08.777679Z",
     "shell.execute_reply.started": "2022-08-03T16:33:08.325557Z",
     "shell.execute_reply": "2022-08-03T16:33:08.776661Z"
    },
    "trusted": true
   },
   "execution_count": 13,
   "outputs": [
    {
     "output_type": "display_data",
     "data": {
      "text/plain": "<Figure size 576x360 with 1 Axes>",
      "image/png": "[encoded data removed]"
     },
     "metadata": {
      "needs_background": "light"
     }
    },
    {
     "output_type": "display_data",
     "data": {
      "text/plain": "<Figure size 576x360 with 1 Axes>",
      "image/png": "[encoded data removed]"
     },
     "metadata": {
      "needs_background": "light"
     }
    }
   ]
  },
  {
   "cell_type": "code",
   "source": "print(bi_lstm_model.evaluate(test_dataset))",
   "metadata": {
    "collapsed": false,
    "pycharm": {
     "name": "#%%\n"
    },
    "jupyter": {
     "outputs_hidden": false
    },
    "execution": {
     "iopub.status.busy": "2022-08-03T16:33:08.779222Z",
     "iopub.execute_input": "2022-08-03T16:33:08.780293Z",
     "iopub.status.idle": "2022-08-03T16:33:24.952399Z",
     "shell.execute_reply.started": "2022-08-03T16:33:08.780255Z",
     "shell.execute_reply": "2022-08-03T16:33:24.951129Z"
    },
    "trusted": true
   },
   "execution_count": 14,
   "outputs": [
    {
     "name": "stdout",
     "text": "391/391 [==============================] - 16s 41ms/step - loss: 0.5171 - accuracy: 0.8377\n[0.517119824886322, 0.8376799821853638]\n",
     "output_type": "stream"
    }
   ]
  }
 ]
}
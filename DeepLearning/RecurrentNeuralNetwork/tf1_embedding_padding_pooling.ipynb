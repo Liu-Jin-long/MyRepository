{
 "cells": [
  {
   "cell_type": "code",
   "execution_count": 23,
   "metadata": {},
   "outputs": [
    {
     "name": "stdout",
     "output_type": "stream",
     "text": [
      "2.9.1\n",
      "sys.version_info(major=3, minor=9, micro=7, releaselevel='final', serial=0)\n",
      "matplotlib 3.5.2\n",
      "numpy 1.23.0\n",
      "pandas 1.4.3\n",
      "sklearn 1.1.1\n",
      "tensorflow 2.9.1\n",
      "tensorflow.keras 2.9.0\n"
     ]
    }
   ],
   "source": [
    "import matplotlib as mpl\n",
    "import matplotlib.pyplot as plt\n",
    "%matplotlib inline\n",
    "import numpy as np\n",
    "import sklearn\n",
    "import pandas as pd\n",
    "import os\n",
    "import sys\n",
    "import time\n",
    "import tensorflow as tf\n",
    "\n",
    "from tensorflow import keras\n",
    "\n",
    "print(tf.__version__)\n",
    "print(sys.version_info)\n",
    "for module in mpl, np, pd, sklearn, tf, keras:\n",
    "    print(module.__name__, module.__version__)"
   ]
  },
  {
   "cell_type": "code",
   "execution_count": 24,
   "metadata": {
    "pycharm": {
     "name": "#%%\n"
    }
   },
   "outputs": [],
   "source": [
    "imdb = keras.datasets.imdb\n",
    "vocab_size = 10000  # #词典大小，仅保留训练数据中前10000个最经常出现的单词，舍弃低频单词（作为特殊字符处理）\n",
    "index_from = 3  # index从1开始，截取的单词和对应索引,向后平移3个单位，空出0，1，2，3代表特殊字符\n",
    "(train_data, train_labels), (test_data, test_labels) = imdb.load_data(num_words=vocab_size, index_from=index_from)"
   ]
  },
  {
   "cell_type": "code",
   "execution_count": 25,
   "metadata": {
    "pycharm": {
     "name": "#%%\n"
    }
   },
   "outputs": [
    {
     "name": "stdout",
     "output_type": "stream",
     "text": [
      "(25000,) (25000,)\n",
      "<class 'numpy.ndarray'> <class 'numpy.ndarray'>\n",
      "25000 25000\n",
      "<class 'list'> <class 'numpy.int64'>\n",
      "[1, 14, 22, 16, 43, 530, 973, 1622, 1385, 65, 458, 4468, 66, 3941, 4, 173, 36, 256, 5, 25, 100, 43, 838, 112, 50, 670, 2, 9, 35, 480, 284, 5, 150, 4, 172, 112, 167, 2, 336, 385, 39, 4, 172, 4536, 1111, 17, 546, 38, 13, 447, 4, 192, 50, 16, 6, 147, 2025, 19, 14, 22, 4, 1920, 4613, 469, 4, 22, 71, 87, 12, 16, 43, 530, 38, 76, 15, 13, 1247, 4, 22, 17, 515, 17, 12, 16, 626, 18, 2, 5, 62, 386, 12, 8, 316, 8, 106, 5, 4, 2223, 5244, 16, 480, 66, 3785, 33, 4, 130, 12, 16, 38, 619, 5, 25, 124, 51, 36, 135, 48, 25, 1415, 33, 6, 22, 12, 215, 28, 77, 52, 5, 14, 407, 16, 82, 2, 8, 4, 107, 117, 5952, 15, 256, 4, 2, 7, 3766, 5, 723, 36, 71, 43, 530, 476, 26, 400, 317, 46, 7, 4, 2, 1029, 13, 104, 88, 4, 381, 15, 297, 98, 32, 2071, 56, 26, 141, 6, 194, 7486, 18, 4, 226, 22, 21, 134, 476, 26, 480, 5, 144, 30, 5535, 18, 51, 36, 28, 224, 92, 25, 104, 4, 226, 65, 16, 38, 1334, 88, 12, 16, 283, 5, 16, 4472, 113, 103, 32, 15, 16, 5345, 19, 178, 32] 1\n",
      "218 ()\n",
      "(25000,) (25000,)\n"
     ]
    }
   ],
   "source": [
    "# train_data每个样本都是一个向量（不等长）\n",
    "# train_labels的每个样本都是一个值，pos(positive)为1和neg(negative)为0\n",
    "\n",
    "print(train_data.shape, train_labels.shape)  # (25000,) (25000,)\n",
    "print(type(train_data), type(train_labels))  # <class 'numpy.ndarray'> <class 'numpy.ndarray'>\n",
    "print(len(train_data), len(train_labels))  # 25000 25000\n",
    "print(type(train_data[0]), type(train_labels[0]))  # <class 'list'> <class 'numpy.int64'> ndarray不支持不等长数组，list支持不等长列表\n",
    "print(train_data[0], train_labels[0])\n",
    "print(len(train_data[0]), train_labels[0].shape)  # 218 ()\n",
    "print(test_data.shape, test_labels.shape)  # (25000,) (25000,)"
   ]
  },
  {
   "cell_type": "code",
   "execution_count": 26,
   "metadata": {
    "pycharm": {
     "name": "#%%\n"
    }
   },
   "outputs": [
    {
     "name": "stdout",
     "output_type": "stream",
     "text": [
      "1\n",
      "0 1\n",
      "[0 1]\n"
     ]
    }
   ],
   "source": [
    "print(min([j for i in train_data for j in i]))  # 词的index是从1开始\n",
    "print(min(train_labels), max(train_labels))  # 0 1\n",
    "print(np.unique(train_labels))  # [0 1]"
   ]
  },
  {
   "cell_type": "code",
   "execution_count": 27,
   "metadata": {
    "pycharm": {
     "name": "#%%\n"
    }
   },
   "outputs": [
    {
     "name": "stdout",
     "output_type": "stream",
     "text": [
      "88584\n",
      "<class 'dict'>\n"
     ]
    }
   ],
   "source": [
    "# 拿到数据集索引和单词的对应关系\n",
    "word_index = imdb.get_word_index()\n",
    "print(len(word_index))  # 88584 现准备只载入最高频的1万词\n",
    "print(type(word_index))  # <class 'dict'>"
   ]
  },
  {
   "cell_type": "code",
   "execution_count": 28,
   "metadata": {
    "pycharm": {
     "name": "#%%\n"
    }
   },
   "outputs": [
    {
     "name": "stdout",
     "output_type": "stream",
     "text": [
      "fawn 34701\n"
     ]
    }
   ],
   "source": [
    "# key是单词，value是索引编号\n",
    "for key, value in word_index.items():\n",
    "    print(key, value)\n",
    "    break"
   ]
  },
  {
   "cell_type": "code",
   "execution_count": 29,
   "metadata": {
    "pycharm": {
     "name": "#%%\n"
    }
   },
   "outputs": [
    {
     "name": "stdout",
     "output_type": "stream",
     "text": [
      "<class 'dict'>\n",
      "the\n",
      "None\n"
     ]
    }
   ],
   "source": [
    "reverse_word_index = dict([(value, key) for key, value in word_index.items()])\n",
    "print(type(reverse_word_index))  # <class 'dict'>\n",
    "print(reverse_word_index.get(1))\n",
    "print(reverse_word_index.get(0))"
   ]
  },
  {
   "cell_type": "code",
   "execution_count": 30,
   "metadata": {
    "pycharm": {
     "name": "#%%\n"
    }
   },
   "outputs": [],
   "source": [
    "# index_from偏移3\n",
    "word_index = {key: (value + index_from) for key, value in word_index.items()}"
   ]
  },
  {
   "cell_type": "code",
   "execution_count": 31,
   "metadata": {
    "pycharm": {
     "name": "#%%\n"
    }
   },
   "outputs": [],
   "source": [
    "# 多余槽位我们给与新的释义\n",
    "word_index['<PAD>'] = 0  # padding填充的字符\n",
    "word_index['<START>'] = 1  # 起始\n",
    "word_index['<UNK>'] = 2  # 未找到就返回UNK未知，词频排名1万名后的词标记为UNK\n",
    "word_index['<END>'] = 3  # 每个句子末尾\n",
    "reverse_word_index = dict([(value, key) for key, value in word_index.items()])"
   ]
  },
  {
   "cell_type": "code",
   "execution_count": 32,
   "metadata": {
    "pycharm": {
     "name": "#%%\n"
    }
   },
   "outputs": [
    {
     "data": {
      "text/plain": [
       "\"<START> this has to be one of the worst films of the 1990s when my friends i were watching this film being the target audience it was aimed at we just sat watched the first half an hour with our jaws touching the floor at how bad it really was the rest of the time everyone else in the theatre just started talking to each other leaving or generally crying into their popcorn that they actually paid money they had <UNK> working to watch this feeble excuse for a film it must have looked like a great idea on paper but on film it looks like no one in the film has a clue what is going on crap acting crap costumes i can't get across how <UNK> this is to watch save yourself an hour a bit of your life\""
      ]
     },
     "execution_count": 32,
     "metadata": {},
     "output_type": "execute_result"
    }
   ],
   "source": [
    "def decode_review(text_ids):\n",
    "    return ' '.join(reverse_word_index.get(word_id, '<UNK>') for word_id in text_ids)\n",
    "\n",
    "\n",
    "decode_review(train_data[0])\n",
    "decode_review(train_data[1])\n",
    "decode_review(train_data[2])"
   ]
  },
  {
   "cell_type": "code",
   "execution_count": 33,
   "metadata": {
    "pycharm": {
     "name": "#%%\n"
    }
   },
   "outputs": [
    {
     "name": "stdout",
     "output_type": "stream",
     "text": [
      "(25000, 500)\n",
      "(25000, 500)\n"
     ]
    }
   ],
   "source": [
    "# 句子长度低于500会被补全，高于500会被截断\n",
    "max_length = 500\n",
    "train_data = keras.preprocessing.sequence.pad_sequences(\n",
    "    train_data,  # list of list\n",
    "    value=word_index['<PAD>'],  # 超出最大值的部分需填充的数据\n",
    "    padding='post',  # post在后填充 pre在前填充\n",
    "    maxlen=max_length)\n",
    "test_data = keras.preprocessing.sequence.pad_sequences(\n",
    "    test_data,\n",
    "    value=word_index['<PAD>'],\n",
    "    padding='post',\n",
    "    maxlen=max_length)\n",
    "print(train_data.shape)  # (25000, 500)\n",
    "print(test_data.shape)  # (25000, 500)"
   ]
  },
  {
   "cell_type": "code",
   "execution_count": 34,
   "metadata": {
    "pycharm": {
     "name": "#%%\n"
    }
   },
   "outputs": [
    {
     "name": "stdout",
     "output_type": "stream",
     "text": [
      "[   1   14   22   16   43  530  973 1622 1385   65  458 4468   66 3941\n",
      "    4  173   36  256    5   25  100   43  838  112   50  670    2    9\n",
      "   35  480  284    5  150    4  172  112  167    2  336  385   39    4\n",
      "  172 4536 1111   17  546   38   13  447    4  192   50   16    6  147\n",
      " 2025   19   14   22    4 1920 4613  469    4   22   71   87   12   16\n",
      "   43  530   38   76   15   13 1247    4   22   17  515   17   12   16\n",
      "  626   18    2    5   62  386   12    8  316    8  106    5    4 2223\n",
      " 5244   16  480   66 3785   33    4  130   12   16   38  619    5   25\n",
      "  124   51   36  135   48   25 1415   33    6   22   12  215   28   77\n",
      "   52    5   14  407   16   82    2    8    4  107  117 5952   15  256\n",
      "    4    2    7 3766    5  723   36   71   43  530  476   26  400  317\n",
      "   46    7    4    2 1029   13  104   88    4  381   15  297   98   32\n",
      " 2071   56   26  141    6  194 7486   18    4  226   22   21  134  476\n",
      "   26  480    5  144   30 5535   18   51   36   28  224   92   25  104\n",
      "    4  226   65   16   38 1334   88   12   16  283    5   16 4472  113\n",
      "  103   32   15   16 5345   19  178   32    0    0    0    0    0    0\n",
      "    0    0    0    0    0    0    0    0    0    0    0    0    0    0\n",
      "    0    0    0    0    0    0    0    0    0    0    0    0    0    0\n",
      "    0    0    0    0    0    0    0    0    0    0    0    0    0    0\n",
      "    0    0    0    0    0    0    0    0    0    0    0    0    0    0\n",
      "    0    0    0    0    0    0    0    0    0    0    0    0    0    0\n",
      "    0    0    0    0    0    0    0    0    0    0    0    0    0    0\n",
      "    0    0    0    0    0    0    0    0    0    0    0    0    0    0\n",
      "    0    0    0    0    0    0    0    0    0    0    0    0    0    0\n",
      "    0    0    0    0    0    0    0    0    0    0    0    0    0    0\n",
      "    0    0    0    0    0    0    0    0    0    0    0    0    0    0\n",
      "    0    0    0    0    0    0    0    0    0    0    0    0    0    0\n",
      "    0    0    0    0    0    0    0    0    0    0    0    0    0    0\n",
      "    0    0    0    0    0    0    0    0    0    0    0    0    0    0\n",
      "    0    0    0    0    0    0    0    0    0    0    0    0    0    0\n",
      "    0    0    0    0    0    0    0    0    0    0    0    0    0    0\n",
      "    0    0    0    0    0    0    0    0    0    0    0    0    0    0\n",
      "    0    0    0    0    0    0    0    0    0    0    0    0    0    0\n",
      "    0    0    0    0    0    0    0    0    0    0    0    0    0    0\n",
      "    0    0    0    0    0    0    0    0    0    0    0    0    0    0\n",
      "    0    0    0    0    0    0    0    0    0    0]\n",
      "[   1  591  202   14   31    6  717   10   10    2    2    5    4  360\n",
      "    7    4  177 5760  394  354    4  123    9 1035 1035 1035   10   10\n",
      "   13   92  124   89  488 7944  100   28 1668   14   31   23   27 7479\n",
      "   29  220  468    8  124   14  286  170    8  157   46    5   27  239\n",
      "   16  179    2   38   32   25 7944  451  202   14    6  717    0    0\n",
      "    0    0    0    0    0    0    0    0    0    0    0    0    0    0\n",
      "    0    0    0    0    0    0    0    0    0    0    0    0    0    0\n",
      "    0    0    0    0    0    0    0    0    0    0    0    0    0    0\n",
      "    0    0    0    0    0    0    0    0    0    0    0    0    0    0\n",
      "    0    0    0    0    0    0    0    0    0    0    0    0    0    0\n",
      "    0    0    0    0    0    0    0    0    0    0    0    0    0    0\n",
      "    0    0    0    0    0    0    0    0    0    0    0    0    0    0\n",
      "    0    0    0    0    0    0    0    0    0    0    0    0    0    0\n",
      "    0    0    0    0    0    0    0    0    0    0    0    0    0    0\n",
      "    0    0    0    0    0    0    0    0    0    0    0    0    0    0\n",
      "    0    0    0    0    0    0    0    0    0    0    0    0    0    0\n",
      "    0    0    0    0    0    0    0    0    0    0    0    0    0    0\n",
      "    0    0    0    0    0    0    0    0    0    0    0    0    0    0\n",
      "    0    0    0    0    0    0    0    0    0    0    0    0    0    0\n",
      "    0    0    0    0    0    0    0    0    0    0    0    0    0    0\n",
      "    0    0    0    0    0    0    0    0    0    0    0    0    0    0\n",
      "    0    0    0    0    0    0    0    0    0    0    0    0    0    0\n",
      "    0    0    0    0    0    0    0    0    0    0    0    0    0    0\n",
      "    0    0    0    0    0    0    0    0    0    0    0    0    0    0\n",
      "    0    0    0    0    0    0    0    0    0    0    0    0    0    0\n",
      "    0    0    0    0    0    0    0    0    0    0    0    0    0    0\n",
      "    0    0    0    0    0    0    0    0    0    0    0    0    0    0\n",
      "    0    0    0    0    0    0    0    0    0    0    0    0    0    0\n",
      "    0    0    0    0    0    0    0    0    0    0    0    0    0    0\n",
      "    0    0    0    0    0    0    0    0    0    0    0    0    0    0\n",
      "    0    0    0    0    0    0    0    0    0    0    0    0    0    0\n",
      "    0    0    0    0    0    0    0    0    0    0    0    0    0    0\n",
      "    0    0    0    0    0    0    0    0    0    0    0    0    0    0\n",
      "    0    0    0    0    0    0    0    0    0    0    0    0    0    0\n",
      "    0    0    0    0    0    0    0    0    0    0    0    0    0    0\n",
      "    0    0    0    0    0    0    0    0    0    0]\n"
     ]
    }
   ],
   "source": [
    "print(train_data[0])\n",
    "print(test_data[0])"
   ]
  },
  {
   "cell_type": "code",
   "execution_count": 35,
   "metadata": {
    "pycharm": {
     "name": "#%%"
    }
   },
   "outputs": [
    {
     "name": "stdout",
     "output_type": "stream",
     "text": [
      "tf.Tensor([1.0601315], shape=(1,), dtype=float32)\n",
      "[1.0601315]\n",
      "(1,)\n",
      "1.0601317681000455\n"
     ]
    }
   ],
   "source": [
    "# 交叉熵损失\n",
    "y_true = [[0, 1]]\n",
    "y_pred = [[0.6, 0.3]]\n",
    "loss = tf.keras.losses.binary_crossentropy(y_true, y_pred)\n",
    "print(loss)\n",
    "print(loss.numpy())\n",
    "print(loss.shape)\n",
    "print(-(np.log(1 - 0.6) + np.log(0.3))/2)"
   ]
  },
  {
   "cell_type": "code",
   "execution_count": 36,
   "metadata": {
    "pycharm": {
     "name": "#%%\n"
    }
   },
   "outputs": [
    {
     "name": "stdout",
     "output_type": "stream",
     "text": [
      "Model: \"sequential_3\"\n",
      "_________________________________________________________________\n",
      " Layer (type)                Output Shape              Param #   \n",
      "=================================================================\n",
      " embedding_3 (Embedding)     (None, 500, 16)           160000    \n",
      "                                                                 \n",
      " global_average_pooling1d_1   (None, 16)               0         \n",
      " (GlobalAveragePooling1D)                                        \n",
      "                                                                 \n",
      " dense_2 (Dense)             (None, 64)                1088      \n",
      "                                                                 \n",
      " dense_3 (Dense)             (None, 1)                 65        \n",
      "                                                                 \n",
      "=================================================================\n",
      "Total params: 161,153\n",
      "Trainable params: 161,153\n",
      "Non-trainable params: 0\n",
      "_________________________________________________________________\n",
      "None\n"
     ]
    }
   ],
   "source": [
    "embedding_dim = 16  # 降维后每个词的向量维度 密集向量\n",
    "batch_size = 128\n",
    "# 稀疏矩阵到密集矩阵的过程叫embedding，也叫查表\n",
    "model = keras.models.Sequential([\n",
    "    # [max_length, vocab_size] 每行one-hot编码\n",
    "    # [max_length, vocab_size] @ [vocab_size, embedding_dim] = [max_length, embedding_dim]\n",
    "    keras.layers.Embedding(vocab_size,  # 词袋大小\n",
    "                           embedding_dim, input_length=max_length),\n",
    "    # 输出[batch_size, max_length, embedding_dim]\n",
    "    # 全局平均值池化消除维度max_length变为[batch_size, embedding_dim]\n",
    "    keras.layers.GlobalAveragePooling1D(),  #抽象上 让一个词表示整篇文章\n",
    "    keras.layers.Dense(64, activation='relu'),\n",
    "    keras.layers.Dense(1, activation='sigmoid')])\n",
    "print(model.summary())\n",
    "model.compile(optimizer='adam', loss='binary_crossentropy', metrics=['accuracy'])"
   ]
  },
  {
   "cell_type": "code",
   "execution_count": 37,
   "metadata": {
    "pycharm": {
     "name": "#%%\n"
    }
   },
   "outputs": [
    {
     "name": "stdout",
     "output_type": "stream",
     "text": [
      "160000\n",
      "1088\n",
      "65\n"
     ]
    }
   ],
   "source": [
    "print(10000*16)\n",
    "print(16*64+64)\n",
    "print(64*1+1)"
   ]
  },
  {
   "cell_type": "code",
   "execution_count": 38,
   "metadata": {
    "pycharm": {
     "name": "#%%\n"
    }
   },
   "outputs": [
    {
     "name": "stdout",
     "output_type": "stream",
     "text": [
      "[<tf.Variable 'embedding_3/embeddings:0' shape=(10000, 16) dtype=float32, numpy=\n",
      "array([[-8.50819051e-04, -2.62744725e-05, -1.88692212e-02, ...,\n",
      "         3.79449837e-02, -3.28703672e-02,  2.59172954e-02],\n",
      "       [-1.17647648e-03, -4.43244092e-02,  3.56485359e-02, ...,\n",
      "         2.64543779e-02,  1.83495171e-02, -1.36750937e-02],\n",
      "       [-2.90280227e-02, -8.61221552e-03,  4.18451466e-02, ...,\n",
      "         1.16060749e-02, -1.25065818e-02,  4.34998758e-02],\n",
      "       ...,\n",
      "       [ 1.11441016e-02,  4.79198210e-02,  4.97940220e-02, ...,\n",
      "        -3.99131700e-03,  4.23131473e-02, -3.72671261e-02],\n",
      "       [-1.45261511e-02, -8.95857811e-05,  3.68540026e-02, ...,\n",
      "         1.02773905e-02,  1.91998519e-02, -1.37633309e-02],\n",
      "       [-3.92074510e-03, -8.90124589e-04,  4.22508977e-02, ...,\n",
      "        -2.79736649e-02,  4.72758152e-02,  2.88841017e-02]], dtype=float32)>, <tf.Variable 'dense_2/kernel:0' shape=(16, 64) dtype=float32, numpy=\n",
      "array([[ 0.27124548, -0.09873629,  0.09722102, ..., -0.09768526,\n",
      "         0.20061907,  0.18199238],\n",
      "       [ 0.19464323, -0.22424088, -0.00585169, ..., -0.19582915,\n",
      "         0.02620938, -0.1504254 ],\n",
      "       [ 0.10574642,  0.00162053,  0.05992597, ...,  0.14932567,\n",
      "         0.07061929, -0.15302585],\n",
      "       ...,\n",
      "       [ 0.10336632, -0.03438936, -0.21401492, ..., -0.03815295,\n",
      "         0.19463858, -0.07808334],\n",
      "       [ 0.16375196, -0.01948792,  0.19386792, ..., -0.04448643,\n",
      "        -0.18664959,  0.2533443 ],\n",
      "       [ 0.2514754 , -0.1016666 , -0.15660623, ..., -0.22504902,\n",
      "        -0.03820924, -0.02422491]], dtype=float32)>, <tf.Variable 'dense_2/bias:0' shape=(64,) dtype=float32, numpy=\n",
      "array([0., 0., 0., 0., 0., 0., 0., 0., 0., 0., 0., 0., 0., 0., 0., 0., 0.,\n",
      "       0., 0., 0., 0., 0., 0., 0., 0., 0., 0., 0., 0., 0., 0., 0., 0., 0.,\n",
      "       0., 0., 0., 0., 0., 0., 0., 0., 0., 0., 0., 0., 0., 0., 0., 0., 0.,\n",
      "       0., 0., 0., 0., 0., 0., 0., 0., 0., 0., 0., 0., 0.], dtype=float32)>, <tf.Variable 'dense_3/kernel:0' shape=(64, 1) dtype=float32, numpy=\n",
      "array([[-0.1966112 ],\n",
      "       [-0.06525691],\n",
      "       [ 0.12408042],\n",
      "       [-0.00224003],\n",
      "       [-0.28405774],\n",
      "       [ 0.2634651 ],\n",
      "       [ 0.06794351],\n",
      "       [ 0.17092773],\n",
      "       [-0.17938761],\n",
      "       [-0.2575737 ],\n",
      "       [-0.03201544],\n",
      "       [ 0.0314824 ],\n",
      "       [ 0.2719329 ],\n",
      "       [ 0.02072799],\n",
      "       [-0.29171464],\n",
      "       [-0.05078563],\n",
      "       [-0.03263444],\n",
      "       [-0.0094004 ],\n",
      "       [ 0.06798032],\n",
      "       [-0.17848918],\n",
      "       [-0.25129727],\n",
      "       [ 0.01088935],\n",
      "       [ 0.19305143],\n",
      "       [ 0.02370021],\n",
      "       [-0.14429896],\n",
      "       [-0.16387564],\n",
      "       [-0.2661011 ],\n",
      "       [-0.08454065],\n",
      "       [-0.09216897],\n",
      "       [-0.13399526],\n",
      "       [-0.01467577],\n",
      "       [ 0.05255288],\n",
      "       [ 0.03214663],\n",
      "       [ 0.13955912],\n",
      "       [-0.01361182],\n",
      "       [-0.15067506],\n",
      "       [-0.2654285 ],\n",
      "       [-0.27769727],\n",
      "       [-0.17356008],\n",
      "       [-0.12469083],\n",
      "       [ 0.1939424 ],\n",
      "       [ 0.24688655],\n",
      "       [-0.04650599],\n",
      "       [-0.05432358],\n",
      "       [-0.07455634],\n",
      "       [ 0.17991069],\n",
      "       [ 0.1141623 ],\n",
      "       [-0.00972891],\n",
      "       [ 0.0221971 ],\n",
      "       [ 0.04248127],\n",
      "       [-0.03366283],\n",
      "       [-0.04872039],\n",
      "       [-0.12466982],\n",
      "       [ 0.06017387],\n",
      "       [-0.21285753],\n",
      "       [ 0.09448954],\n",
      "       [-0.29836875],\n",
      "       [ 0.25921547],\n",
      "       [ 0.2431966 ],\n",
      "       [-0.10835272],\n",
      "       [-0.21153592],\n",
      "       [ 0.09397584],\n",
      "       [-0.04535222],\n",
      "       [-0.2596355 ]], dtype=float32)>, <tf.Variable 'dense_3/bias:0' shape=(1,) dtype=float32, numpy=array([0.], dtype=float32)>]\n"
     ]
    }
   ],
   "source": [
    "print(model.variables)"
   ]
  },
  {
   "cell_type": "code",
   "execution_count": 39,
   "metadata": {
    "pycharm": {
     "name": "#%%\n"
    }
   },
   "outputs": [
    {
     "name": "stdout",
     "output_type": "stream",
     "text": [
      "You must install pydot (`pip install pydot`) and install graphviz (see instructions at https://graphviz.gitlab.io/download/) for plot_model/model_to_dot to work.\n"
     ]
    }
   ],
   "source": [
    "from tensorflow.keras.utils import plot_model\n",
    "\n",
    "plot_model(model)"
   ]
  },
  {
   "cell_type": "code",
   "execution_count": 40,
   "metadata": {
    "pycharm": {
     "name": "#%%\n"
    }
   },
   "outputs": [
    {
     "name": "stdout",
     "output_type": "stream",
     "text": [
      "Epoch 1/30\n",
      "157/157 [==============================] - 2s 10ms/step - loss: 0.6863 - accuracy: 0.5810 - val_loss: 0.6539 - val_accuracy: 0.7634\n",
      "Epoch 2/30\n",
      "157/157 [==============================] - 1s 8ms/step - loss: 0.5419 - accuracy: 0.8013 - val_loss: 0.4284 - val_accuracy: 0.8528\n",
      "Epoch 3/30\n",
      "157/157 [==============================] - 1s 9ms/step - loss: 0.3507 - accuracy: 0.8765 - val_loss: 0.3369 - val_accuracy: 0.8704\n",
      "Epoch 4/30\n",
      "157/157 [==============================] - 1s 8ms/step - loss: 0.2760 - accuracy: 0.8964 - val_loss: 0.3041 - val_accuracy: 0.8820\n",
      "Epoch 5/30\n",
      "157/157 [==============================] - 1s 8ms/step - loss: 0.2364 - accuracy: 0.9137 - val_loss: 0.2904 - val_accuracy: 0.8870\n",
      "Epoch 6/30\n",
      "157/157 [==============================] - 1s 9ms/step - loss: 0.2074 - accuracy: 0.9258 - val_loss: 0.2844 - val_accuracy: 0.8898\n",
      "Epoch 7/30\n",
      "157/157 [==============================] - 1s 10ms/step - loss: 0.1859 - accuracy: 0.9324 - val_loss: 0.2876 - val_accuracy: 0.8880\n",
      "Epoch 8/30\n",
      "157/157 [==============================] - 1s 8ms/step - loss: 0.1674 - accuracy: 0.9410 - val_loss: 0.2824 - val_accuracy: 0.8942\n",
      "Epoch 9/30\n",
      "157/157 [==============================] - 1s 9ms/step - loss: 0.1517 - accuracy: 0.9482 - val_loss: 0.2877 - val_accuracy: 0.8952\n",
      "Epoch 10/30\n",
      "157/157 [==============================] - 1s 8ms/step - loss: 0.1445 - accuracy: 0.9485 - val_loss: 0.2934 - val_accuracy: 0.8932\n",
      "Epoch 11/30\n",
      "157/157 [==============================] - 1s 8ms/step - loss: 0.1288 - accuracy: 0.9565 - val_loss: 0.2985 - val_accuracy: 0.8948\n",
      "Epoch 12/30\n",
      "157/157 [==============================] - 1s 7ms/step - loss: 0.1172 - accuracy: 0.9618 - val_loss: 0.3089 - val_accuracy: 0.8928\n",
      "Epoch 13/30\n",
      "157/157 [==============================] - 1s 8ms/step - loss: 0.1074 - accuracy: 0.9654 - val_loss: 0.3242 - val_accuracy: 0.8940\n",
      "Epoch 14/30\n",
      "157/157 [==============================] - 1s 9ms/step - loss: 0.0985 - accuracy: 0.9685 - val_loss: 0.3380 - val_accuracy: 0.8874\n",
      "Epoch 15/30\n",
      "157/157 [==============================] - 1s 8ms/step - loss: 0.0906 - accuracy: 0.9714 - val_loss: 0.3441 - val_accuracy: 0.8904\n",
      "Epoch 16/30\n",
      "157/157 [==============================] - 1s 8ms/step - loss: 0.0823 - accuracy: 0.9754 - val_loss: 0.3645 - val_accuracy: 0.8848\n",
      "Epoch 17/30\n",
      "157/157 [==============================] - 1s 8ms/step - loss: 0.0767 - accuracy: 0.9763 - val_loss: 0.3744 - val_accuracy: 0.8874\n",
      "Epoch 18/30\n",
      "157/157 [==============================] - 1s 9ms/step - loss: 0.0685 - accuracy: 0.9809 - val_loss: 0.3929 - val_accuracy: 0.8846\n",
      "Epoch 19/30\n",
      "157/157 [==============================] - 1s 8ms/step - loss: 0.0621 - accuracy: 0.9823 - val_loss: 0.4077 - val_accuracy: 0.8850\n",
      "Epoch 20/30\n",
      "157/157 [==============================] - 1s 8ms/step - loss: 0.0575 - accuracy: 0.9842 - val_loss: 0.4314 - val_accuracy: 0.8850\n",
      "Epoch 21/30\n",
      "157/157 [==============================] - 1s 9ms/step - loss: 0.0513 - accuracy: 0.9862 - val_loss: 0.4439 - val_accuracy: 0.8854\n",
      "Epoch 22/30\n",
      "157/157 [==============================] - 1s 9ms/step - loss: 0.0465 - accuracy: 0.9883 - val_loss: 0.4684 - val_accuracy: 0.8834\n",
      "Epoch 23/30\n",
      "157/157 [==============================] - 1s 8ms/step - loss: 0.0420 - accuracy: 0.9901 - val_loss: 0.4870 - val_accuracy: 0.8826\n",
      "Epoch 24/30\n",
      "157/157 [==============================] - 1s 8ms/step - loss: 0.0375 - accuracy: 0.9914 - val_loss: 0.5043 - val_accuracy: 0.8836\n",
      "Epoch 25/30\n",
      "157/157 [==============================] - 1s 8ms/step - loss: 0.0331 - accuracy: 0.9929 - val_loss: 0.5301 - val_accuracy: 0.8806\n",
      "Epoch 26/30\n",
      "157/157 [==============================] - 1s 8ms/step - loss: 0.0319 - accuracy: 0.9929 - val_loss: 0.5494 - val_accuracy: 0.8798\n",
      "Epoch 27/30\n",
      "157/157 [==============================] - 1s 7ms/step - loss: 0.0269 - accuracy: 0.9944 - val_loss: 0.5727 - val_accuracy: 0.8788\n",
      "Epoch 28/30\n",
      "157/157 [==============================] - 1s 8ms/step - loss: 0.0242 - accuracy: 0.9954 - val_loss: 0.6010 - val_accuracy: 0.8780\n",
      "Epoch 29/30\n",
      "157/157 [==============================] - 1s 8ms/step - loss: 0.0211 - accuracy: 0.9966 - val_loss: 0.6325 - val_accuracy: 0.8760\n",
      "Epoch 30/30\n",
      "157/157 [==============================] - 1s 8ms/step - loss: 0.0197 - accuracy: 0.9962 - val_loss: 0.6455 - val_accuracy: 0.8768\n"
     ]
    }
   ],
   "source": [
    "history = model.fit(train_data, train_labels,\n",
    "                    epochs=30,\n",
    "                    batch_size=batch_size,\n",
    "                    validation_split=0.2)  # 训练集分划分为训练集和验证集的比例"
   ]
  },
  {
   "cell_type": "code",
   "execution_count": 41,
   "metadata": {},
   "outputs": [
    {
     "data": {
      "image/png": "[encoded data removed]",
      "text/plain": [
       "<Figure size 576x360 with 1 Axes>"
      ]
     },
     "metadata": {
      "needs_background": "light"
     },
     "output_type": "display_data"
    },
    {
     "data": {
      "image/png": "[encoded data removed]",
      "text/plain": [
       "<Figure size 576x360 with 1 Axes>"
      ]
     },
     "metadata": {
      "needs_background": "light"
     },
     "output_type": "display_data"
    }
   ],
   "source": [
    "def plot_learning_curves(history, label, epochs, min_value, max_value):\n",
    "    data = {}\n",
    "    data[label] = history.history[label]\n",
    "    data['val_' + label] = history.history['val_' + label]\n",
    "    pd.DataFrame(data).plot(figsize=(8, 5))\n",
    "    plt.grid(True)\n",
    "    plt.axis([0, epochs, min_value, max_value])\n",
    "    plt.show()\n",
    "plot_learning_curves(history, 'accuracy', 30, 0, 1)\n",
    "plot_learning_curves(history, 'loss', 30, 0, 1)"
   ]
  },
  {
   "cell_type": "code",
   "execution_count": 42,
   "metadata": {
    "pycharm": {
     "name": "#%%\n"
    }
   },
   "outputs": [
    {
     "data": {
      "text/plain": [
       "[0.6951668858528137, 0.8588799834251404]"
      ]
     },
     "execution_count": 42,
     "metadata": {},
     "output_type": "execute_result"
    }
   ],
   "source": [
    "model.evaluate(test_data,test_labels,batch_size=batch_size,verbose=0)"
   ]
  },
  {
   "cell_type": "code",
   "execution_count": 43,
   "metadata": {
    "pycharm": {
     "name": "#%%\n"
    }
   },
   "outputs": [
    {
     "name": "stdout",
     "output_type": "stream",
     "text": [
      "1/1 [==============================] - 0s 27ms/step\n",
      "(32, 10, 64)\n"
     ]
    }
   ],
   "source": [
    "model1=tf.keras.Sequential()\n",
    "model1.add(tf.keras.layers.Embedding(1000,64,input_length=10))\n",
    "input_array=np.random.randint(1000,size=(32,10))\n",
    "model1.compile('rmsprop','mse')\n",
    "output_array=model1.predict(input_array)\n",
    "print(output_array.shape)"
   ]
  }
 ],
 "metadata": {
  "kernelspec": {
   "display_name": "Python 3 (ipykernel)",
   "language": "python",
   "name": "python3"
  },
  "language_info": {
   "codemirror_mode": {
    "name": "ipython",
    "version": 3
   },
   "file_extension": ".py",
   "mimetype": "text/x-python",
   "name": "python",
   "nbconvert_exporter": "python",
   "pygments_lexer": "ipython3",
   "version": "3.9.7"
  }
 },
 "nbformat": 4,
 "nbformat_minor": 1
}

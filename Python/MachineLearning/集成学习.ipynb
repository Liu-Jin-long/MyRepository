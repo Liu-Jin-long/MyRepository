{
 "cells": [
  {
   "cell_type": "code",
   "execution_count": 8,
   "outputs": [
    {
     "name": "stdout",
     "output_type": "stream",
     "text": [
      "(50000, 2)\n",
      "[1 0 0 ... 1 0 0]\n",
      "0.85336\n",
      "0.91216\n",
      "0.87544\n"
     ]
    }
   ],
   "source": [
    "# 加油！！！\n",
    "import numpy as np\n",
    "import matplotlib.pyplot as plt\n",
    "from sklearn import datasets\n",
    "from sklearn.model_selection import train_test_split\n",
    "from sklearn.svm import SVC\n",
    "from sklearn.linear_model import LogisticRegression\n",
    "from sklearn.tree import DecisionTreeClassifier\n",
    "\n",
    "x, y = datasets.make_moons(n_samples=50000, noise=0.3, random_state=42)\n",
    "print(x.shape)\n",
    "print(y)\n",
    "\n",
    "# plt.scatter(x[y == 0, 0], x[y == 0, 1])  # 标签为0的样本中第一列特征数据作为横坐标第二列特征数据作为纵坐标\n",
    "# plt.scatter(x[y == 1, 0], x[y == 1, 1])  # 标签为1的样本中第一列特征数据作为横坐标第二列特征数据作为纵坐标\n",
    "# plt.show()\n",
    "# 默认分割比例是75%和25% test_size=0.25\n",
    "x_train, x_test, y_train, y_test = train_test_split(x, y, random_state=42)\n",
    "log_clf = LogisticRegression()\n",
    "log_clf.fit(x_train, y_train)\n",
    "print(log_clf.score(x_test, y_test))\n",
    "\n",
    "svm_clf = SVC()\n",
    "svm_clf.fit(x_train, y_train)\n",
    "print(svm_clf.score(x_test, y_test))\n",
    "\n",
    "df_clf = DecisionTreeClassifier()\n",
    "df_clf.fit(x_train, y_train)\n",
    "print(df_clf.score(x_test, y_test))\n",
    "\n",
    "y_predict1 = log_clf.predict(x_test)\n",
    "y_predict2 = svm_clf.predict(x_test)\n",
    "y_predict3 = df_clf.predict(x_test)"
   ],
   "metadata": {
    "collapsed": false,
    "pycharm": {
     "name": "#%%\n"
    }
   }
  },
  {
   "cell_type": "code",
   "execution_count": 9,
   "outputs": [
    {
     "name": "stdout",
     "output_type": "stream",
     "text": [
      "[1 1 1 0 0 0 0 0 0 1]\n"
     ]
    },
    {
     "data": {
      "text/plain": "array([1, 1, 1, 0, 0, 0, 0, 1, 0, 1], dtype=int64)"
     },
     "execution_count": 9,
     "metadata": {},
     "output_type": "execute_result"
    }
   ],
   "source": [
    "# 手动实现bagging原理\n",
    "y_predict = np.array((y_predict1 + y_predict2 + y_predict3) >= 2, dtype='int')\n",
    "print(y_predict[:10])\n",
    "print(y_test[:10])\n"
   ],
   "metadata": {
    "collapsed": false,
    "pycharm": {
     "name": "#%%\n"
    }
   }
  },
  {
   "cell_type": "code",
   "execution_count": 10,
   "outputs": [
    {
     "data": {
      "text/plain": "0.9044"
     },
     "execution_count": 10,
     "metadata": {},
     "output_type": "execute_result"
    }
   ],
   "source": [
    "from sklearn.ensemble import VotingClassifier\n",
    "\n",
    "#硬投票无权值\n",
    "voting_clf = VotingClassifier(\n",
    "    estimators=[('log_clf', LogisticRegression()), ('svm_clf', SVC()), ('dt_clf', DecisionTreeClassifier())],\n",
    "    voting='hard')\n",
    "voting_clf.fit(x_train, y_train)\n",
    "print(voting_clf.score(x_test, y_test))"
   ],
   "metadata": {
    "collapsed": false,
    "pycharm": {
     "name": "#%%\n"
    }
   }
  },
  {
   "cell_type": "code",
   "execution_count": 12,
   "outputs": [
    {
     "name": "stdout",
     "output_type": "stream",
     "text": [
      "0.90376\n"
     ]
    }
   ],
   "source": [
    "#硬投票无权值\n",
    "voting_clf = VotingClassifier(\n",
    "    estimators=[('log_clf', LogisticRegression()), ('svm_clf', SVC(probability=True)),  #SVC默认不输出概率值\n",
    "                ('dt_clf', DecisionTreeClassifier())],\n",
    "    voting='soft')\n",
    "voting_clf.fit(x_train, y_train)\n",
    "print(voting_clf.score(x_test, y_test))"
   ],
   "metadata": {
    "collapsed": false,
    "pycharm": {
     "name": "#%%\n"
    }
   }
  },
  {
   "cell_type": "code",
   "execution_count": 17,
   "outputs": [],
   "source": [
    "from sklearn.tree import DecisionTreeClassifier\n",
    "from sklearn.ensemble import BaggingClassifier"
   ],
   "metadata": {
    "collapsed": false,
    "pycharm": {
     "name": "#%%\n"
    }
   }
  },
  {
   "cell_type": "code",
   "execution_count": 18,
   "outputs": [
    {
     "name": "stdout",
     "output_type": "stream",
     "text": [
      "0.91224\n",
      "CPU times: total: 3.22 s\n",
      "Wall time: 3.26 s\n"
     ]
    }
   ],
   "source": [
    "% % time\n",
    "#cpu time是实际cpu运行算法时间，wall time是墙上真实时间，就是real time（包含了进程启动时间，I/O等待时间等）\n",
    "#有放回抽样bootstrap\n",
    "bagging_clf = BaggingClassifier(DecisionTreeClassifier(), n_estimators=500, max_samples=2000, bootstrap=True)\n",
    "bagging_clf.fit(x_train, y_train)\n",
    "print(bagging_clf.score(x_test, y_test))"
   ],
   "metadata": {
    "collapsed": false,
    "pycharm": {
     "name": "#%%\n"
    }
   }
  },
  {
   "cell_type": "code",
   "execution_count": 19,
   "outputs": [
    {
     "name": "stdout",
     "output_type": "stream",
     "text": [
      "CPU times: total: 391 ms\n",
      "Wall time: 2.95 s\n"
     ]
    },
    {
     "data": {
      "text/plain": "0.91336"
     },
     "execution_count": 19,
     "metadata": {},
     "output_type": "execute_result"
    }
   ],
   "source": [
    "% % time\n",
    "#n_jobs使用多核的耗时更少\n",
    "bagging_clf = BaggingClassifier(DecisionTreeClassifier(),\n",
    "                                n_estimators=500, max_samples=2000,\n",
    "                                bootstrap=True, n_jobs=-1)\n",
    "bagging_clf.fit(x_train, y_train)\n",
    "bagging_clf.score(x_test, y_test)"
   ],
   "metadata": {
    "collapsed": false,
    "pycharm": {
     "name": "#%%\n"
    }
   }
  },
  {
   "cell_type": "code",
   "execution_count": 20,
   "outputs": [
    {
     "name": "stdout",
     "output_type": "stream",
     "text": [
      "0.88824\n"
     ]
    }
   ],
   "source": [
    "#bootstrap_features  对特征进行采样\n",
    "#因只有两个特征 较少 max_features设置为1\n",
    "#oob_score_ out of bag 不使用测试数据集，而是使用没有取到的样本作为测试/验证\n",
    "random_subspaces_clf = BaggingClassifier(DecisionTreeClassifier(),\n",
    "                                         n_estimators=500, max_samples=500, oob_score=True,\n",
    "                                         bootstrap=True, n_jobs=-1,\n",
    "                                         max_features=1, bootstrap_features=True)\n",
    "random_subspaces_clf.fit(x, y)\n",
    "print(random_subspaces_clf.oob_score_)"
   ],
   "metadata": {
    "collapsed": false,
    "pycharm": {
     "name": "#%%\n"
    }
   }
  },
  {
   "cell_type": "code",
   "execution_count": 21,
   "outputs": [
    {
     "name": "stdout",
     "output_type": "stream",
     "text": [
      "0.81756\n"
     ]
    }
   ],
   "source": [
    "# 总的抽样的样本数需小于训练集的数目\n",
    "# 也可叫随机森林\n",
    "random_patches_clf = BaggingClassifier(DecisionTreeClassifier(),\n",
    "                                       n_estimators=500, max_samples=40000, oob_score=True,\n",
    "                                       bootstrap=True, n_jobs=-1,\n",
    "                                       max_features=1, bootstrap_features=True)\n",
    "random_patches_clf.fit(x, y)  #整个样本作为训练集\n",
    "print(random_patches_clf.oob_score_)"
   ],
   "metadata": {
    "collapsed": false,
    "pycharm": {
     "name": "#%%\n"
    }
   }
  },
  {
   "cell_type": "code",
   "execution_count": 22,
   "outputs": [],
   "source": [
    "from sklearn.ensemble import RandomForestClassifier"
   ],
   "metadata": {
    "collapsed": false,
    "pycharm": {
     "name": "#%%\n"
    }
   }
  },
  {
   "cell_type": "code",
   "execution_count": 25,
   "outputs": [
    {
     "name": "stdout",
     "output_type": "stream",
     "text": [
      "0.90322\n",
      "CPU times: total: 41.6 s\n",
      "Wall time: 8.05 s\n"
     ]
    }
   ],
   "source": [
    "% % time\n",
    "rf_clf = RandomForestClassifier(n_estimators=500, random_state=666, oob_score=True, n_jobs=-1)\n",
    "rf_clf.fit(x, y)\n",
    "print(rf_clf.oob_score_)\n"
   ],
   "metadata": {
    "collapsed": false,
    "pycharm": {
     "name": "#%%\n"
    }
   }
  },
  {
   "cell_type": "code",
   "execution_count": null,
   "outputs": [],
   "source": [
    "% % time\n",
    "rf_clf = RandomForestClassifier(max_samples=37500, n_jobs=-1)\n",
    "rf_clf.fit(x_train, y_train)\n",
    "print(rf_clf.score(x_test, y_test))"
   ],
   "metadata": {
    "collapsed": false,
    "pycharm": {
     "name": "#%%\n"
    }
   }
  },
  {
   "cell_type": "code",
   "execution_count": 27,
   "outputs": [
    {
     "name": "stdout",
     "output_type": "stream",
     "text": [
      "0.90962\n",
      "CPU times: total: 22.5 s\n",
      "Wall time: 4.85 s\n"
     ]
    }
   ],
   "source": [
    "% % time\n",
    "rf_clf2 = RandomForestClassifier(n_estimators=500, max_leaf_nodes=16, random_state=666, oob_score=True, n_jobs=-1)\n",
    "rf_clf2.fit(x, y)\n",
    "print(rf_clf2.oob_score_)"
   ],
   "metadata": {
    "collapsed": false,
    "pycharm": {
     "name": "#%%\n"
    }
   }
  },
  {
   "cell_type": "code",
   "execution_count": 28,
   "outputs": [
    {
     "name": "stdout",
     "output_type": "stream",
     "text": [
      "0.90656\n",
      "CPU times: total: 15.8 s\n",
      "Wall time: 5.79 s\n"
     ]
    }
   ],
   "source": [
    "% % time\n",
    "#Extra-Trees\n",
    "from sklearn.ensemble import ExtraTreesClassifier\n",
    "\n",
    "et_clf = ExtraTreesClassifier(n_estimators=500, oob_score=True, bootstrap=True, n_jobs=-1)\n",
    "et_clf.fit(x, y)\n",
    "print(et_clf.oob_score_)"
   ],
   "metadata": {
    "collapsed": false,
    "pycharm": {
     "name": "#%%\n"
    }
   }
  },
  {
   "cell_type": "code",
   "execution_count": null,
   "outputs": [],
   "source": [
    "#Boosting\n",
    "from sklearn.ensemble import AdaBoostClassifier\n",
    "from sklearn.tree import DecisionTreeClassifier"
   ],
   "metadata": {
    "collapsed": false,
    "pycharm": {
     "name": "#%%\n"
    }
   }
  },
  {
   "cell_type": "code",
   "execution_count": null,
   "outputs": [],
   "source": [
    "% % time\n",
    "ada_clf = AdaBoostClassifier(DecisionTreeClassifier(), n_estimators=500)\n",
    "ada_clf.fit(x_train, y_train)\n",
    "print(ada_clf.score(x_test, y_test))"
   ],
   "metadata": {
    "collapsed": false,
    "pycharm": {
     "name": "#%%\n"
    }
   }
  },
  {
   "cell_type": "code",
   "execution_count": 30,
   "outputs": [
    {
     "name": "stdout",
     "output_type": "stream",
     "text": [
      "0.91144\n"
     ]
    }
   ],
   "source": [
    "from sklearn.ensemble import GradientBoostingClassifier\n",
    "\n",
    "gb_clf = GradientBoostingClassifier(max_depth=2, n_estimators=500)\n",
    "gb_clf.fit(x_train, y_train)\n",
    "print(gb_clf.score(x_test, y_test))"
   ],
   "metadata": {
    "collapsed": false,
    "pycharm": {
     "name": "#%%\n"
    }
   }
  }
 ],
 "metadata": {
  "kernelspec": {
   "display_name": "Python 3",
   "language": "python",
   "name": "python3"
  },
  "language_info": {
   "codemirror_mode": {
    "name": "ipython",
    "version": 2
   },
   "file_extension": ".py",
   "mimetype": "text/x-python",
   "name": "python",
   "nbconvert_exporter": "python",
   "pygments_lexer": "ipython2",
   "version": "2.7.6"
  }
 },
 "nbformat": 4,
 "nbformat_minor": 0
}
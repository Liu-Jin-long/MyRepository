{
 "cells": [
  {
   "cell_type": "code",
   "execution_count": null,
   "metadata": {
    "collapsed": true,
    "id": "2R0FwQNlYGF0"
   },
   "outputs": [],
   "source": [
    "# colab上运行 kaggle参赛CIFAR-10 - Object Recognition in Images"
   ]
  },
  {
   "cell_type": "code",
   "execution_count": 2,
   "outputs": [
    {
     "output_type": "stream",
     "name": "stdout",
     "text": [
      "2.8.2\n",
      "sys.version_info(major=3, minor=7, micro=13, releaselevel='final', serial=0)\n",
      "matplotlib 3.2.2\n",
      "numpy 1.21.6\n",
      "pandas 1.3.5\n",
      "sklearn 1.0.2\n",
      "tensorflow 2.8.2\n",
      "keras.api._v2.keras 2.8.0\n"
     ]
    }
   ],
   "source": [
    "%matplotlib inline\n",
    "import matplotlib as mpl\n",
    "import matplotlib.pyplot as plt\n",
    "import numpy as np\n",
    "import os\n",
    "import pandas as pd\n",
    "import sklearn\n",
    "import sys\n",
    "import tensorflow as tf\n",
    "import time\n",
    "\n",
    "from tensorflow import keras\n",
    "\n",
    "print(tf.__version__)\n",
    "print(sys.version_info)\n",
    "for module in mpl, np, pd, sklearn, tf, keras:\n",
    "    print(module.__name__, module.__version__)"
   ],
   "metadata": {
    "pycharm": {
     "name": "#%%\n"
    },
    "colab": {
     "base_uri": "https://localhost:8080/"
    },
    "id": "-iMjAqH4YGF3",
    "outputId": "715a1b1d-5ac1-4ccb-e7ac-ffa28a19e4d4"
   }
  },
  {
   "cell_type": "code",
   "execution_count": 3,
   "outputs": [
    {
     "output_type": "stream",
     "name": "stdout",
     "text": [
      "processor\t: 0\n",
      "vendor_id\t: GenuineIntel\n",
      "cpu family\t: 6\n",
      "model\t\t: 79\n",
      "model name\t: Intel(R) Xeon(R) CPU @ 2.20GHz\n",
      "stepping\t: 0\n",
      "microcode\t: 0x1\n",
      "cpu MHz\t\t: 2199.998\n",
      "cache size\t: 56320 KB\n",
      "physical id\t: 0\n",
      "siblings\t: 2\n",
      "core id\t\t: 0\n",
      "cpu cores\t: 1\n",
      "apicid\t\t: 0\n",
      "initial apicid\t: 0\n",
      "fpu\t\t: yes\n",
      "fpu_exception\t: yes\n",
      "cpuid level\t: 13\n",
      "wp\t\t: yes\n",
      "flags\t\t: fpu vme de pse tsc msr pae mce cx8 apic sep mtrr pge mca cmov pat pse36 clflush mmx fxsr sse sse2 ss ht syscall nx pdpe1gb rdtscp lm constant_tsc rep_good nopl xtopology nonstop_tsc cpuid tsc_known_freq pni pclmulqdq ssse3 fma cx16 pcid sse4_1 sse4_2 x2apic movbe popcnt aes xsave avx f16c rdrand hypervisor lahf_lm abm 3dnowprefetch invpcid_single ssbd ibrs ibpb stibp fsgsbase tsc_adjust bmi1 hle avx2 smep bmi2 erms invpcid rtm rdseed adx smap xsaveopt arat md_clear arch_capabilities\n",
      "bugs\t\t: cpu_meltdown spectre_v1 spectre_v2 spec_store_bypass l1tf mds swapgs taa\n",
      "bogomips\t: 4399.99\n",
      "clflush size\t: 64\n",
      "cache_alignment\t: 64\n",
      "address sizes\t: 46 bits physical, 48 bits virtual\n",
      "power management:\n",
      "\n",
      "processor\t: 1\n",
      "vendor_id\t: GenuineIntel\n",
      "cpu family\t: 6\n",
      "model\t\t: 79\n",
      "model name\t: Intel(R) Xeon(R) CPU @ 2.20GHz\n",
      "stepping\t: 0\n",
      "microcode\t: 0x1\n",
      "cpu MHz\t\t: 2199.998\n",
      "cache size\t: 56320 KB\n",
      "physical id\t: 0\n",
      "siblings\t: 2\n",
      "core id\t\t: 0\n",
      "cpu cores\t: 1\n",
      "apicid\t\t: 1\n",
      "initial apicid\t: 1\n",
      "fpu\t\t: yes\n",
      "fpu_exception\t: yes\n",
      "cpuid level\t: 13\n",
      "wp\t\t: yes\n",
      "flags\t\t: fpu vme de pse tsc msr pae mce cx8 apic sep mtrr pge mca cmov pat pse36 clflush mmx fxsr sse sse2 ss ht syscall nx pdpe1gb rdtscp lm constant_tsc rep_good nopl xtopology nonstop_tsc cpuid tsc_known_freq pni pclmulqdq ssse3 fma cx16 pcid sse4_1 sse4_2 x2apic movbe popcnt aes xsave avx f16c rdrand hypervisor lahf_lm abm 3dnowprefetch invpcid_single ssbd ibrs ibpb stibp fsgsbase tsc_adjust bmi1 hle avx2 smep bmi2 erms invpcid rtm rdseed adx smap xsaveopt arat md_clear arch_capabilities\n",
      "bugs\t\t: cpu_meltdown spectre_v1 spectre_v2 spec_store_bypass l1tf mds swapgs taa\n",
      "bogomips\t: 4399.99\n",
      "clflush size\t: 64\n",
      "cache_alignment\t: 64\n",
      "address sizes\t: 46 bits physical, 48 bits virtual\n",
      "power management:\n",
      "\n",
      "Wed Jul 27 06:40:05 2022       \n",
      "+-----------------------------------------------------------------------------+\n",
      "| NVIDIA-SMI 460.32.03    Driver Version: 460.32.03    CUDA Version: 11.2     |\n",
      "|-------------------------------+----------------------+----------------------+\n",
      "| GPU  Name        Persistence-M| Bus-Id        Disp.A | Volatile Uncorr. ECC |\n",
      "| Fan  Temp  Perf  Pwr:Usage/Cap|         Memory-Usage | GPU-Util  Compute M. |\n",
      "|                               |                      |               MIG M. |\n",
      "|===============================+======================+======================|\n",
      "|   0  Tesla T4            Off  | 00000000:00:04.0 Off |                    0 |\n",
      "| N/A   33C    P8     9W /  70W |      0MiB / 15109MiB |      0%      Default |\n",
      "|                               |                      |                  N/A |\n",
      "+-------------------------------+----------------------+----------------------+\n",
      "                                                                               \n",
      "+-----------------------------------------------------------------------------+\n",
      "| Processes:                                                                  |\n",
      "|  GPU   GI   CI        PID   Type   Process name                  GPU Memory |\n",
      "|        ID   ID                                                   Usage      |\n",
      "|=============================================================================|\n",
      "|  No running processes found                                                 |\n",
      "+-----------------------------------------------------------------------------+\n"
     ]
    }
   ],
   "source": [
    "!cat /proc/cpuinfo\n",
    "!nvidia-smi"
   ],
   "metadata": {
    "pycharm": {
     "name": "#%%\n"
    },
    "colab": {
     "base_uri": "https://localhost:8080/"
    },
    "id": "z70Ac5bJYGF4",
    "outputId": "85bdf155-e923-4c89-8b8d-0eb6f83cf4b1"
   }
  },
  {
   "cell_type": "code",
   "execution_count": 4,
   "outputs": [
    {
     "output_type": "stream",
     "name": "stdout",
     "text": [
      "Looking in indexes: https://pypi.org/simple, https://us-python.pkg.dev/colab-wheels/public/simple/\n",
      "Requirement already satisfied: kaggle in /usr/local/lib/python3.7/dist-packages (1.5.12)\n",
      "Requirement already satisfied: certifi in /usr/local/lib/python3.7/dist-packages (from kaggle) (2022.6.15)\n",
      "Requirement already satisfied: python-slugify in /usr/local/lib/python3.7/dist-packages (from kaggle) (6.1.2)\n",
      "Requirement already satisfied: tqdm in /usr/local/lib/python3.7/dist-packages (from kaggle) (4.64.0)\n",
      "Requirement already satisfied: python-dateutil in /usr/local/lib/python3.7/dist-packages (from kaggle) (2.8.2)\n",
      "Requirement already satisfied: requests in /usr/local/lib/python3.7/dist-packages (from kaggle) (2.23.0)\n",
      "Requirement already satisfied: urllib3 in /usr/local/lib/python3.7/dist-packages (from kaggle) (1.24.3)\n",
      "Requirement already satisfied: six>=1.10 in /usr/local/lib/python3.7/dist-packages (from kaggle) (1.15.0)\n",
      "Requirement already satisfied: text-unidecode>=1.3 in /usr/local/lib/python3.7/dist-packages (from python-slugify->kaggle) (1.3)\n",
      "Requirement already satisfied: chardet<4,>=3.0.2 in /usr/local/lib/python3.7/dist-packages (from requests->kaggle) (3.0.4)\n",
      "Requirement already satisfied: idna<3,>=2.5 in /usr/local/lib/python3.7/dist-packages (from requests->kaggle) (2.10)\n"
     ]
    }
   ],
   "source": [
    "!pip install kaggle"
   ],
   "metadata": {
    "pycharm": {
     "name": "#%%\n"
    },
    "colab": {
     "base_uri": "https://localhost:8080/"
    },
    "id": "Uw-uysy4YGF5",
    "outputId": "37382f70-d11e-4198-b9d3-8f7532870d14"
   }
  },
  {
   "cell_type": "code",
   "execution_count": 5,
   "outputs": [],
   "source": [
    "import json\n",
    "\n",
    "token = {\"username\": \"liumars\", \"key\": \"95ab3c9193f271bf8e3bfe6c7f3d8f5a\"}\n",
    "with open('/content/kaggle.json', 'w') as file:\n",
    "    json.dump(token, file)"
   ],
   "metadata": {
    "pycharm": {
     "name": "#%%\n"
    },
    "id": "0HkHX-gdYGF5"
   }
  },
  {
   "cell_type": "code",
   "execution_count": 11,
   "outputs": [
    {
     "output_type": "stream",
     "name": "stdout",
     "text": [
      "{\"username\": \"liumars\", \"key\": \"95ab3c9193f271bf8e3bfe6c7f3d8f5a\"}/content\n"
     ]
    }
   ],
   "source": [
    "!cat /content/kaggle.json\n",
    "!pwd"
   ],
   "metadata": {
    "pycharm": {
     "name": "#%%\n"
    },
    "colab": {
     "base_uri": "https://localhost:8080/"
    },
    "id": "qmDnZ_VhYGF6",
    "outputId": "9b4fc000-4118-45c7-f726-65fd32133747"
   }
  },
  {
   "cell_type": "code",
   "execution_count": 18,
   "outputs": [
    {
     "output_type": "stream",
     "name": "stdout",
     "text": [
      "- path is now set to: /content\n"
     ]
    }
   ],
   "source": [
    "!mkdir -p ~/.kaggle\n",
    "!cp /content/kaggle.json ~/.kaggle/\n",
    "!chmod 600 ~/.kaggle/kaggle.json\n",
    "!kaggle config set -n path -v /content"
   ],
   "metadata": {
    "pycharm": {
     "name": "#%%\n"
    },
    "colab": {
     "base_uri": "https://localhost:8080/"
    },
    "id": "x-Un1X8rYGF6",
    "outputId": "51621af3-bb3c-4cdd-ec82-55c4af12def2"
   }
  },
  {
   "cell_type": "code",
   "execution_count": 20,
   "outputs": [
    {
     "output_type": "stream",
     "name": "stdout",
     "text": [
      "Downloading cifar-10.zip to /content/competitions/cifar-10\n",
      " 96% 689M/715M [00:17<00:01, 26.9MB/s]\n",
      "100% 715M/715M [00:17<00:00, 42.8MB/s]\n"
     ]
    }
   ],
   "source": [
    "# !kaggle datasets download -d slothkong/10-monkey-species\n",
    "!kaggle competitions download -c cifar-10"
   ],
   "metadata": {
    "pycharm": {
     "name": "#%%\n"
    },
    "colab": {
     "base_uri": "https://localhost:8080/"
    },
    "id": "-zpTnB9nYGF6",
    "outputId": "d775c317-d65e-4811-aa71-25af6286e401"
   }
  },
  {
   "cell_type": "code",
   "execution_count": 29,
   "outputs": [
    {
     "output_type": "stream",
     "name": "stdout",
     "text": [
      "cifar-10.zip\n",
      "Archive:  /content/competitions/cifar-10/cifar-10.zip\n",
      "  inflating: sampleSubmission.csv    \n",
      "  inflating: test.7z                 \n",
      "  inflating: train.7z                \n",
      "  inflating: trainLabels.csv         \n"
     ]
    }
   ],
   "source": [
    "!ls /content/competitions/cifar-10\n",
    "!unzip /content/competitions/cifar-10/cifar-10.zip"
   ],
   "metadata": {
    "pycharm": {
     "name": "#%%\n"
    },
    "colab": {
     "base_uri": "https://localhost:8080/"
    },
    "id": "tb85RnosYGF7",
    "outputId": "1dd03cee-264e-4098-9291-7b5fc013692e"
   }
  },
  {
   "cell_type": "code",
   "execution_count": 30,
   "outputs": [
    {
     "output_type": "stream",
     "name": "stdout",
     "text": [
      "Looking in indexes: https://pypi.org/simple, https://us-python.pkg.dev/colab-wheels/public/simple/\n",
      "Requirement already satisfied: py7zr in /usr/local/lib/python3.7/dist-packages (0.19.0)\n",
      "Requirement already satisfied: pybcj>=0.6.0 in /usr/local/lib/python3.7/dist-packages (from py7zr) (0.6.1)\n",
      "Requirement already satisfied: multivolumefile>=0.2.3 in /usr/local/lib/python3.7/dist-packages (from py7zr) (0.2.3)\n",
      "Requirement already satisfied: pyppmd<0.19.0,>=0.18.1 in /usr/local/lib/python3.7/dist-packages (from py7zr) (0.18.3)\n",
      "Requirement already satisfied: brotli>=1.0.9 in /usr/local/lib/python3.7/dist-packages (from py7zr) (1.0.9)\n",
      "Requirement already satisfied: importlib-metadata in /usr/local/lib/python3.7/dist-packages (from py7zr) (4.12.0)\n",
      "Requirement already satisfied: pyzstd>=0.14.4 in /usr/local/lib/python3.7/dist-packages (from py7zr) (0.15.2)\n",
      "Requirement already satisfied: inflate64>=0.1.2 in /usr/local/lib/python3.7/dist-packages (from py7zr) (0.1.4)\n",
      "Requirement already satisfied: texttable in /usr/local/lib/python3.7/dist-packages (from py7zr) (1.6.4)\n",
      "Requirement already satisfied: psutil in /usr/local/lib/python3.7/dist-packages (from py7zr) (5.4.8)\n",
      "Requirement already satisfied: pycryptodomex>=3.6.6 in /usr/local/lib/python3.7/dist-packages (from py7zr) (3.15.0)\n",
      "Requirement already satisfied: typing-extensions>=3.6.4 in /usr/local/lib/python3.7/dist-packages (from importlib-metadata->py7zr) (4.1.1)\n",
      "Requirement already satisfied: zipp>=0.5 in /usr/local/lib/python3.7/dist-packages (from importlib-metadata->py7zr) (3.8.1)\n",
      "50000\n"
     ]
    }
   ],
   "source": [
    "%pip install py7zr\n",
    "import py7zr\n",
    "\n",
    "a = py7zr.SevenZipFile(r'./train.7z', 'r')\n",
    "a.extractall(path=r'./competitions/cifar-10/')\n",
    "a.close()\n",
    "!ls /content/competitions/cifar-10/train |wc -l"
   ],
   "metadata": {
    "pycharm": {
     "name": "#%%\n"
    },
    "colab": {
     "base_uri": "https://localhost:8080/"
    },
    "id": "dE7orqWVYGF7",
    "outputId": "e65db5e5-7128-40d6-d2b9-74a4c46f70dd"
   }
  },
  {
   "cell_type": "code",
   "execution_count": 31,
   "outputs": [
    {
     "output_type": "stream",
     "name": "stdout",
     "text": [
      "300000\n"
     ]
    }
   ],
   "source": [
    "a = py7zr.SevenZipFile(r'./test.7z', 'r')\n",
    "a.extractall(path=r'./competitions/cifar-10/')\n",
    "a.close()\n",
    "!ls /content/competitions/cifar-10/test |wc -l"
   ],
   "metadata": {
    "pycharm": {
     "name": "#%%\n"
    },
    "colab": {
     "base_uri": "https://localhost:8080/"
    },
    "id": "SPxzz7akYGF7",
    "outputId": "4991d1d6-689c-4b84-822b-373acc93b3ad"
   }
  },
  {
   "cell_type": "code",
   "execution_count": 32,
   "outputs": [
    {
     "output_type": "stream",
     "name": "stdout",
     "text": [
      "cifar-10.zip  sampleSubmission.csv  test  train  trainLabels.csv\n"
     ]
    }
   ],
   "source": [
    "!cp sampleSubmission.csv trainLabels.csv /content/competitions/cifar-10\n",
    "!ls /content/competitions/cifar-10"
   ],
   "metadata": {
    "pycharm": {
     "name": "#%%\n"
    },
    "colab": {
     "base_uri": "https://localhost:8080/"
    },
    "id": "gY1imvqJYGF8",
    "outputId": "1edc2bb7-1b5a-4b10-bfd8-8ed05e2eb97f"
   }
  },
  {
   "cell_type": "code",
   "execution_count": 37,
   "outputs": [],
   "source": [
    "# 所有类别\n",
    "class_names = [\n",
    "    'airplane',\n",
    "    'automobile',\n",
    "    'bird',\n",
    "    'cat',\n",
    "    'deer',\n",
    "    'dog',\n",
    "    'frog',\n",
    "    'horse',\n",
    "    'ship',\n",
    "    'truck', ]\n",
    "train_labels_file = '/content/competitions/cifar-10/trainLabels.csv'\n",
    "test_csv_file = '/content/competitions/cifar-10/sampleSubmission.csv'\n",
    "train_folder = '/content/competitions/cifar-10/train'\n",
    "test_folder = '/content/competitions/cifar-10/test'\n",
    "\n",
    "\n",
    "def parse_csv_file(filepath, folder):\n",
    "    results = []  # [(filename(path), label)] flow_from_dataframe要求格式\n",
    "    # 读取所有行\n",
    "    with open(filepath, 'r') as f:\n",
    "        lines = f.readlines()[1:]\n",
    "    for line in lines:\n",
    "        image_id, label_str = line.strip('\\n').split(',')\n",
    "        image_full_path = os.path.join(folder, image_id + '.png')\n",
    "        results.append((image_full_path, label_str))\n",
    "    return results\n",
    "\n",
    "# 解析对应的文件夹\n",
    "train_labels_info = parse_csv_file(train_labels_file, train_folder)\n",
    "test_csv_info = parse_csv_file(test_csv_file, test_folder)"
   ],
   "metadata": {
    "pycharm": {
     "name": "#%%\n"
    },
    "id": "OsvSfKglYGF8"
   }
  },
  {
   "cell_type": "code",
   "execution_count": 38,
   "outputs": [
    {
     "output_type": "stream",
     "name": "stdout",
     "text": [
      "[('/content/competitions/cifar-10/train/1.png', 'frog'),\n",
      " ('/content/competitions/cifar-10/train/2.png', 'truck'),\n",
      " ('/content/competitions/cifar-10/train/3.png', 'truck'),\n",
      " ('/content/competitions/cifar-10/train/4.png', 'deer'),\n",
      " ('/content/competitions/cifar-10/train/5.png', 'automobile')]\n",
      "[('/content/competitions/cifar-10/test/1.png', 'cat'),\n",
      " ('/content/competitions/cifar-10/test/2.png', 'cat'),\n",
      " ('/content/competitions/cifar-10/test/3.png', 'cat'),\n",
      " ('/content/competitions/cifar-10/test/4.png', 'cat'),\n",
      " ('/content/competitions/cifar-10/test/5.png', 'cat')]\n",
      "50000 51\n"
     ]
    }
   ],
   "source": [
    "import pprint\n",
    "pprint.pprint(train_labels_info[:5])\n",
    "pprint.pprint(test_csv_info[:5])\n",
    "print(len(train_labels_info), len(test_csv_file))"
   ],
   "metadata": {
    "pycharm": {
     "name": "#%%\n"
    },
    "colab": {
     "base_uri": "https://localhost:8080/"
    },
    "id": "TmSSd4xzYGF9",
    "outputId": "1ac633b2-44f7-4a5f-f64b-7b4b6a736e5b"
   }
  },
  {
   "cell_type": "code",
   "execution_count": 39,
   "outputs": [
    {
     "output_type": "stream",
     "name": "stdout",
     "text": [
      "                                     filepath       class\n",
      "0  /content/competitions/cifar-10/train/1.png        frog\n",
      "1  /content/competitions/cifar-10/train/2.png       truck\n",
      "2  /content/competitions/cifar-10/train/3.png       truck\n",
      "3  /content/competitions/cifar-10/train/4.png        deer\n",
      "4  /content/competitions/cifar-10/train/5.png  automobile\n",
      "                                         filepath       class\n",
      "0  /content/competitions/cifar-10/train/45001.png       horse\n",
      "1  /content/competitions/cifar-10/train/45002.png  automobile\n",
      "2  /content/competitions/cifar-10/train/45003.png        deer\n",
      "3  /content/competitions/cifar-10/train/45004.png  automobile\n",
      "4  /content/competitions/cifar-10/train/45005.png    airplane\n",
      "                                    filepath class\n",
      "0  /content/competitions/cifar-10/test/1.png   cat\n",
      "1  /content/competitions/cifar-10/test/2.png   cat\n",
      "2  /content/competitions/cifar-10/test/3.png   cat\n",
      "3  /content/competitions/cifar-10/test/4.png   cat\n",
      "4  /content/competitions/cifar-10/test/5.png   cat\n"
     ]
    }
   ],
   "source": [
    "train_df = pd.DataFrame(train_labels_info[:45000])\n",
    "valid_df = pd.DataFrame(train_labels_info[45000:])\n",
    "test_df = pd.DataFrame(test_csv_info)\n",
    "# 给df赋列索引名\n",
    "train_df.columns = ['filepath', 'class']\n",
    "valid_df.columns = ['filepath', 'class']\n",
    "test_df.columns = ['filepath', 'class']\n",
    "print(train_df.head())\n",
    "print(valid_df.head())\n",
    "print(test_df.head())"
   ],
   "metadata": {
    "pycharm": {
     "name": "#%%\n"
    },
    "colab": {
     "base_uri": "https://localhost:8080/"
    },
    "id": "f8M5QlNgYGF9",
    "outputId": "cd5e5167-f705-4f8a-a2a4-dad53e50831c"
   }
  },
  {
   "cell_type": "code",
   "execution_count": 40,
   "outputs": [
    {
     "output_type": "stream",
     "name": "stdout",
     "text": [
      "competitions/cifar-10/train/1.png\n"
     ]
    }
   ],
   "source": [
    "!ls competitions/cifar-10/train/1.png"
   ],
   "metadata": {
    "pycharm": {
     "name": "#%%\n"
    },
    "colab": {
     "base_uri": "https://localhost:8080/"
    },
    "id": "6Mg9HQb2YGF-",
    "outputId": "fb14c203-a8c4-4067-9286-8f1ea04d67f0"
   }
  },
  {
   "cell_type": "code",
   "execution_count": 41,
   "outputs": [
    {
     "output_type": "stream",
     "name": "stdout",
     "text": [
      "Found 45000 validated image filenames belonging to 10 classes.\n"
     ]
    }
   ],
   "source": [
    "height = 32\n",
    "width = 32\n",
    "channels = 3\n",
    "batch_size = 32\n",
    "num_classes = 10\n",
    "# 超参数\n",
    "train_data_gene = keras.preprocessing.image.ImageDataGenerator(\n",
    "    rescale=1. / 255,\n",
    "    rotation_range=40,\n",
    "    width_shift_range=0.2,\n",
    "    height_shift_range=0.2,\n",
    "    shear_range=0.2,\n",
    "    zoom_range=0.2,\n",
    "    horizontal_flip=True,\n",
    "    fill_mode='nearest')\n",
    "train_generator = train_data_gene.flow_from_dataframe(\n",
    "    train_df,\n",
    "    directory='./',\n",
    "    x_col='filepath',\n",
    "    y_col='class',\n",
    "    classes=class_names,\n",
    "    target_size=(height, width),\n",
    "    batch_size=batch_size,\n",
    "    seed=7, shuffle=True,\n",
    "    class_mode='sparse')"
   ],
   "metadata": {
    "pycharm": {
     "name": "#%%\n"
    },
    "colab": {
     "base_uri": "https://localhost:8080/"
    },
    "id": "ZK0k_8beYGF-",
    "outputId": "62efde1a-55da-45b0-bd8a-bc2635bf1d56"
   }
  },
  {
   "cell_type": "code",
   "execution_count": 44,
   "outputs": [
    {
     "output_type": "stream",
     "name": "stdout",
     "text": [
      "Found 5000 validated image filenames belonging to 10 classes.\n",
      "45000 5000\n"
     ]
    }
   ],
   "source": [
    "valid_data_gene = keras.preprocessing.image.ImageDataGenerator(rescale=1./255)\n",
    "valid_generator = valid_data_gene.flow_from_dataframe(\n",
    "    valid_df,\n",
    "    directory='./',\n",
    "    x_col='filepath',\n",
    "    y_col='class',\n",
    "    classes=class_names,\n",
    "    target_size=(height, width),\n",
    "    batch_size=batch_size,\n",
    "    seed=7, shuffle=True,\n",
    "    class_mode='sparse')\n",
    "train_num = train_generator.samples\n",
    "valid_num = valid_generator.samples\n",
    "print(train_num, valid_num)"
   ],
   "metadata": {
    "pycharm": {
     "name": "#%%\n"
    },
    "colab": {
     "base_uri": "https://localhost:8080/"
    },
    "id": "gC07OH35YGF-",
    "outputId": "862f9fc6-5291-41f5-a0f0-336b513dd129"
   }
  },
  {
   "cell_type": "code",
   "execution_count": 47,
   "outputs": [
    {
     "output_type": "stream",
     "name": "stdout",
     "text": [
      "(32, 32, 32, 3) (32,)\n",
      "[2. 1. 4. 4. 4. 4. 6. 5. 2. 8. 4. 6. 6. 3. 7. 1. 7. 2. 8. 8. 3. 0. 5. 3.\n",
      " 9. 1. 4. 5. 6. 7. 9. 2.]\n",
      "(32, 32, 32, 3) (32,)\n",
      "[0. 7. 2. 7. 5. 5. 7. 0. 5. 4. 9. 7. 6. 3. 0. 4. 4. 4. 6. 3. 5. 4. 6. 6.\n",
      " 4. 1. 8. 2. 4. 4. 3. 0.]\n"
     ]
    }
   ],
   "source": [
    "for _ in range(2):\n",
    "    x, y = train_generator.next()\n",
    "    print(x.shape, y.shape)\n",
    "    print(y)"
   ],
   "metadata": {
    "pycharm": {
     "name": "#%%\n"
    },
    "colab": {
     "base_uri": "https://localhost:8080/"
    },
    "id": "KQhAN7l-YGF-",
    "outputId": "8467b484-6d82-4c45-f10e-7fe89f1761ae"
   }
  },
  {
   "cell_type": "code",
   "execution_count": 49,
   "outputs": [],
   "source": [
    "model = keras.models.Sequential([\n",
    "    keras.layers.Conv2D(filters=128, kernel_size=3,padding='same',\n",
    "                        activation='selu', input_shape=[height, width, channels]),  \n",
    "    keras.layers.BatchNormalization(),# 加快模型的收敛速度\n",
    "    keras.layers.Conv2D(filters=128, kernel_size=3, padding='same',\n",
    "                        activation='selu'),\n",
    "    keras.layers.BatchNormalization(),\n",
    "    keras.layers.MaxPool2D(pool_size=2),\n",
    "    keras.layers.Conv2D(filters=256, kernel_size=3, padding='same',\n",
    "                        activation='selu'),\n",
    "    keras.layers.BatchNormalization(),\n",
    "    keras.layers.Conv2D(filters=256, kernel_size=3, padding='same',\n",
    "                        activation='selu'),\n",
    "    keras.layers.BatchNormalization(),\n",
    "    keras.layers.MaxPool2D(pool_size=2),\n",
    "    keras.layers.Conv2D(filters=512, kernel_size=3, padding='same',\n",
    "                        activation='selu'),\n",
    "    keras.layers.BatchNormalization(),\n",
    "    keras.layers.Conv2D(filters=512, kernel_size=3, padding='same',\n",
    "                        activation='selu'),\n",
    "    keras.layers.BatchNormalization(),\n",
    "    keras.layers.MaxPool2D(pool_size=2),\n",
    "    keras.layers.Flatten(),\n",
    "    keras.layers.Dense(512, activation='relu'),\n",
    "    keras.layers.Dense(num_classes, activation='softmax'), ])\n",
    "model.compile(loss='sparse_categorical_crossentropy',\n",
    "              optimizer='Adam', metrics=['accuracy'])"
   ],
   "metadata": {
    "pycharm": {
     "name": "#%%\n"
    },
    "id": "OrLbBl87YGF_"
   }
  },
  {
   "cell_type": "code",
   "execution_count": 50,
   "outputs": [
    {
     "output_type": "stream",
     "name": "stdout",
     "text": [
      "Model: \"sequential\"\n",
      "_________________________________________________________________\n",
      " Layer (type)                Output Shape              Param #   \n",
      "=================================================================\n",
      " conv2d (Conv2D)             (None, 32, 32, 128)       3584      \n",
      "                                                                 \n",
      " batch_normalization (BatchN  (None, 32, 32, 128)      512       \n",
      " ormalization)                                                   \n",
      "                                                                 \n",
      " conv2d_1 (Conv2D)           (None, 32, 32, 128)       147584    \n",
      "                                                                 \n",
      " batch_normalization_1 (Batc  (None, 32, 32, 128)      512       \n",
      " hNormalization)                                                 \n",
      "                                                                 \n",
      " max_pooling2d (MaxPooling2D  (None, 16, 16, 128)      0         \n",
      " )                                                               \n",
      "                                                                 \n",
      " conv2d_2 (Conv2D)           (None, 16, 16, 256)       295168    \n",
      "                                                                 \n",
      " batch_normalization_2 (Batc  (None, 16, 16, 256)      1024      \n",
      " hNormalization)                                                 \n",
      "                                                                 \n",
      " conv2d_3 (Conv2D)           (None, 16, 16, 256)       590080    \n",
      "                                                                 \n",
      " batch_normalization_3 (Batc  (None, 16, 16, 256)      1024      \n",
      " hNormalization)                                                 \n",
      "                                                                 \n",
      " max_pooling2d_1 (MaxPooling  (None, 8, 8, 256)        0         \n",
      " 2D)                                                             \n",
      "                                                                 \n",
      " conv2d_4 (Conv2D)           (None, 8, 8, 512)         1180160   \n",
      "                                                                 \n",
      " batch_normalization_4 (Batc  (None, 8, 8, 512)        2048      \n",
      " hNormalization)                                                 \n",
      "                                                                 \n",
      " conv2d_5 (Conv2D)           (None, 8, 8, 512)         2359808   \n",
      "                                                                 \n",
      " batch_normalization_5 (Batc  (None, 8, 8, 512)        2048      \n",
      " hNormalization)                                                 \n",
      "                                                                 \n",
      " max_pooling2d_2 (MaxPooling  (None, 4, 4, 512)        0         \n",
      " 2D)                                                             \n",
      "                                                                 \n",
      " flatten (Flatten)           (None, 8192)              0         \n",
      "                                                                 \n",
      " dense (Dense)               (None, 512)               4194816   \n",
      "                                                                 \n",
      " dense_1 (Dense)             (None, 10)                5130      \n",
      "                                                                 \n",
      "=================================================================\n",
      "Total params: 8,783,498\n",
      "Trainable params: 8,779,914\n",
      "Non-trainable params: 3,584\n",
      "_________________________________________________________________\n",
      "None\n"
     ]
    }
   ],
   "source": [
    "print(model.summary())"
   ],
   "metadata": {
    "pycharm": {
     "name": "#%%\n"
    },
    "colab": {
     "base_uri": "https://localhost:8080/"
    },
    "id": "8exButxWYGF_",
    "outputId": "f6378ec9-9526-4339-a0ef-743dbcd23cd2"
   }
  },
  {
   "cell_type": "code",
   "execution_count": 51,
   "outputs": [
    {
     "output_type": "stream",
     "name": "stderr",
     "text": [
      "/usr/local/lib/python3.7/dist-packages/ipykernel_launcher.py:6: UserWarning: `Model.fit_generator` is deprecated and will be removed in a future version. Please use `Model.fit`, which supports generators.\n",
      "  \n"
     ]
    },
    {
     "output_type": "stream",
     "name": "stdout",
     "text": [
      "Epoch 1/100\n",
      "1406/1406 [==============================] - 68s 40ms/step - loss: 1.9453 - accuracy: 0.3456 - val_loss: 1.4477 - val_accuracy: 0.4840\n",
      "Epoch 2/100\n",
      "1406/1406 [==============================] - 50s 36ms/step - loss: 1.4774 - accuracy: 0.4693 - val_loss: 1.4051 - val_accuracy: 0.5144\n",
      "Epoch 3/100\n",
      "1406/1406 [==============================] - 51s 37ms/step - loss: 1.2866 - accuracy: 0.5426 - val_loss: 1.2599 - val_accuracy: 0.5913\n",
      "Epoch 4/100\n",
      "1406/1406 [==============================] - 52s 37ms/step - loss: 1.1213 - accuracy: 0.6075 - val_loss: 0.9442 - val_accuracy: 0.6911\n",
      "Epoch 5/100\n",
      "1406/1406 [==============================] - 52s 37ms/step - loss: 0.9912 - accuracy: 0.6553 - val_loss: 0.8308 - val_accuracy: 0.7334\n",
      "Epoch 6/100\n",
      "1406/1406 [==============================] - 51s 36ms/step - loss: 0.8960 - accuracy: 0.6936 - val_loss: 0.8391 - val_accuracy: 0.7384\n",
      "Epoch 7/100\n",
      "1406/1406 [==============================] - 52s 37ms/step - loss: 0.8174 - accuracy: 0.7210 - val_loss: 0.6537 - val_accuracy: 0.7821\n",
      "Epoch 8/100\n",
      "1406/1406 [==============================] - 51s 36ms/step - loss: 0.7626 - accuracy: 0.7410 - val_loss: 0.8955 - val_accuracy: 0.7256\n",
      "Epoch 9/100\n",
      "1406/1406 [==============================] - 52s 37ms/step - loss: 0.7081 - accuracy: 0.7590 - val_loss: 0.7371 - val_accuracy: 0.7718\n",
      "Epoch 10/100\n",
      "1406/1406 [==============================] - 52s 37ms/step - loss: 0.6682 - accuracy: 0.7729 - val_loss: 0.6014 - val_accuracy: 0.8063\n",
      "Epoch 11/100\n",
      "1406/1406 [==============================] - 52s 37ms/step - loss: 0.6372 - accuracy: 0.7845 - val_loss: 0.6911 - val_accuracy: 0.7925\n",
      "Epoch 12/100\n",
      "1406/1406 [==============================] - 51s 37ms/step - loss: 0.5935 - accuracy: 0.7984 - val_loss: 0.5600 - val_accuracy: 0.8233\n",
      "Epoch 13/100\n",
      "1406/1406 [==============================] - 52s 37ms/step - loss: 0.5744 - accuracy: 0.8038 - val_loss: 0.5795 - val_accuracy: 0.8229\n",
      "Epoch 14/100\n",
      "1406/1406 [==============================] - 50s 36ms/step - loss: 0.5455 - accuracy: 0.8157 - val_loss: 0.5728 - val_accuracy: 0.8215\n",
      "Epoch 15/100\n",
      "1406/1406 [==============================] - 51s 36ms/step - loss: 0.5302 - accuracy: 0.8202 - val_loss: 0.5671 - val_accuracy: 0.8205\n",
      "Epoch 16/100\n",
      "1406/1406 [==============================] - 50s 35ms/step - loss: 0.5042 - accuracy: 0.8279 - val_loss: 0.5270 - val_accuracy: 0.8301\n",
      "Epoch 17/100\n",
      "1406/1406 [==============================] - 51s 36ms/step - loss: 0.4865 - accuracy: 0.8340 - val_loss: 0.5136 - val_accuracy: 0.8440\n",
      "Epoch 18/100\n",
      "1406/1406 [==============================] - 52s 37ms/step - loss: 0.4765 - accuracy: 0.8377 - val_loss: 0.4848 - val_accuracy: 0.8518\n",
      "Epoch 19/100\n",
      "1406/1406 [==============================] - 51s 37ms/step - loss: 0.4611 - accuracy: 0.8430 - val_loss: 0.4971 - val_accuracy: 0.8488\n",
      "Epoch 20/100\n",
      "1406/1406 [==============================] - 52s 37ms/step - loss: 0.4516 - accuracy: 0.8471 - val_loss: 0.5340 - val_accuracy: 0.8405\n",
      "Epoch 21/100\n",
      "1406/1406 [==============================] - 50s 36ms/step - loss: 0.4353 - accuracy: 0.8537 - val_loss: 0.5083 - val_accuracy: 0.8506\n",
      "Epoch 22/100\n",
      "1406/1406 [==============================] - 50s 36ms/step - loss: 0.4264 - accuracy: 0.8554 - val_loss: 0.4822 - val_accuracy: 0.8550\n",
      "Epoch 23/100\n",
      "1406/1406 [==============================] - 50s 36ms/step - loss: 0.4098 - accuracy: 0.8614 - val_loss: 0.5212 - val_accuracy: 0.8508\n",
      "Epoch 24/100\n",
      "1406/1406 [==============================] - 51s 36ms/step - loss: 0.3965 - accuracy: 0.8661 - val_loss: 0.4977 - val_accuracy: 0.8578\n",
      "Epoch 25/100\n",
      "1406/1406 [==============================] - 51s 36ms/step - loss: 0.3905 - accuracy: 0.8676 - val_loss: 0.4276 - val_accuracy: 0.8730\n",
      "Epoch 26/100\n",
      "1406/1406 [==============================] - 50s 36ms/step - loss: 0.3835 - accuracy: 0.8701 - val_loss: 0.4537 - val_accuracy: 0.8682\n",
      "Epoch 27/100\n",
      "1406/1406 [==============================] - 52s 37ms/step - loss: 0.3744 - accuracy: 0.8721 - val_loss: 0.4698 - val_accuracy: 0.8592\n",
      "Epoch 28/100\n",
      "1406/1406 [==============================] - 51s 36ms/step - loss: 0.3629 - accuracy: 0.8776 - val_loss: 0.4136 - val_accuracy: 0.8750\n",
      "Epoch 29/100\n",
      "1406/1406 [==============================] - 51s 36ms/step - loss: 0.3606 - accuracy: 0.8778 - val_loss: 0.3907 - val_accuracy: 0.8750\n",
      "Epoch 30/100\n",
      "1406/1406 [==============================] - 50s 35ms/step - loss: 0.3529 - accuracy: 0.8808 - val_loss: 0.4432 - val_accuracy: 0.8678\n",
      "Epoch 31/100\n",
      "1406/1406 [==============================] - 51s 36ms/step - loss: 0.3454 - accuracy: 0.8821 - val_loss: 0.3972 - val_accuracy: 0.8752\n",
      "Epoch 32/100\n",
      "1406/1406 [==============================] - 50s 35ms/step - loss: 0.3377 - accuracy: 0.8846 - val_loss: 0.4189 - val_accuracy: 0.8816\n",
      "Epoch 33/100\n",
      "1406/1406 [==============================] - 51s 36ms/step - loss: 0.3262 - accuracy: 0.8884 - val_loss: 0.4694 - val_accuracy: 0.8686\n",
      "Epoch 34/100\n",
      "1406/1406 [==============================] - 51s 36ms/step - loss: 0.3178 - accuracy: 0.8917 - val_loss: 0.4569 - val_accuracy: 0.8722\n",
      "Epoch 35/100\n",
      "1406/1406 [==============================] - 50s 35ms/step - loss: 0.3140 - accuracy: 0.8927 - val_loss: 0.4557 - val_accuracy: 0.8686\n",
      "Epoch 36/100\n",
      "1406/1406 [==============================] - 51s 36ms/step - loss: 0.3108 - accuracy: 0.8955 - val_loss: 0.4715 - val_accuracy: 0.8634\n",
      "Epoch 37/100\n",
      "1406/1406 [==============================] - 51s 36ms/step - loss: 0.3033 - accuracy: 0.8969 - val_loss: 0.4064 - val_accuracy: 0.8838\n",
      "Epoch 38/100\n",
      "1406/1406 [==============================] - 51s 36ms/step - loss: 0.2970 - accuracy: 0.8980 - val_loss: 0.4804 - val_accuracy: 0.8678\n",
      "Epoch 39/100\n",
      "1406/1406 [==============================] - 51s 36ms/step - loss: 0.2900 - accuracy: 0.8998 - val_loss: 0.5126 - val_accuracy: 0.8634\n",
      "Epoch 40/100\n",
      "1406/1406 [==============================] - 50s 36ms/step - loss: 0.2895 - accuracy: 0.9020 - val_loss: 0.5230 - val_accuracy: 0.8560\n",
      "Epoch 41/100\n",
      "1406/1406 [==============================] - 51s 36ms/step - loss: 0.2813 - accuracy: 0.9042 - val_loss: 0.4109 - val_accuracy: 0.8884\n",
      "Epoch 42/100\n",
      "1406/1406 [==============================] - 50s 36ms/step - loss: 0.2778 - accuracy: 0.9059 - val_loss: 0.4053 - val_accuracy: 0.8904\n",
      "Epoch 43/100\n",
      "1406/1406 [==============================] - 51s 36ms/step - loss: 0.2776 - accuracy: 0.9059 - val_loss: 0.3867 - val_accuracy: 0.8884\n",
      "Epoch 44/100\n",
      "1406/1406 [==============================] - 50s 36ms/step - loss: 0.2644 - accuracy: 0.9105 - val_loss: 0.4407 - val_accuracy: 0.8762\n",
      "Epoch 45/100\n",
      "1406/1406 [==============================] - 52s 37ms/step - loss: 0.2671 - accuracy: 0.9090 - val_loss: 0.4621 - val_accuracy: 0.8754\n",
      "Epoch 46/100\n",
      "1406/1406 [==============================] - 50s 35ms/step - loss: 0.2617 - accuracy: 0.9111 - val_loss: 0.3805 - val_accuracy: 0.8892\n",
      "Epoch 47/100\n",
      "1406/1406 [==============================] - 51s 36ms/step - loss: 0.2571 - accuracy: 0.9127 - val_loss: 0.3896 - val_accuracy: 0.8882\n",
      "Epoch 48/100\n",
      "1406/1406 [==============================] - 50s 35ms/step - loss: 0.2524 - accuracy: 0.9140 - val_loss: 0.3889 - val_accuracy: 0.8890\n",
      "Epoch 49/100\n",
      "1406/1406 [==============================] - 51s 36ms/step - loss: 0.2466 - accuracy: 0.9168 - val_loss: 0.4410 - val_accuracy: 0.8788\n",
      "Epoch 50/100\n",
      "1406/1406 [==============================] - 51s 36ms/step - loss: 0.2452 - accuracy: 0.9179 - val_loss: 0.3916 - val_accuracy: 0.8904\n",
      "Epoch 51/100\n",
      "1406/1406 [==============================] - 51s 36ms/step - loss: 0.2386 - accuracy: 0.9180 - val_loss: 0.4119 - val_accuracy: 0.8856\n",
      "Epoch 52/100\n",
      "1406/1406 [==============================] - 50s 35ms/step - loss: 0.2380 - accuracy: 0.9184 - val_loss: 0.3971 - val_accuracy: 0.8904\n",
      "Epoch 53/100\n",
      "1406/1406 [==============================] - 50s 36ms/step - loss: 0.2355 - accuracy: 0.9199 - val_loss: 0.4143 - val_accuracy: 0.8924\n",
      "Epoch 54/100\n",
      "1406/1406 [==============================] - 51s 36ms/step - loss: 0.2274 - accuracy: 0.9218 - val_loss: 0.4911 - val_accuracy: 0.8696\n",
      "Epoch 55/100\n",
      "1406/1406 [==============================] - 50s 36ms/step - loss: 0.2281 - accuracy: 0.9229 - val_loss: 0.3768 - val_accuracy: 0.8980\n",
      "Epoch 56/100\n",
      "1406/1406 [==============================] - 51s 36ms/step - loss: 0.2260 - accuracy: 0.9230 - val_loss: 0.4100 - val_accuracy: 0.8904\n",
      "Epoch 57/100\n",
      "1406/1406 [==============================] - 50s 36ms/step - loss: 0.2190 - accuracy: 0.9247 - val_loss: 0.4129 - val_accuracy: 0.8930\n",
      "Epoch 58/100\n",
      "1406/1406 [==============================] - 51s 36ms/step - loss: 0.2207 - accuracy: 0.9253 - val_loss: 0.4432 - val_accuracy: 0.8870\n",
      "Epoch 59/100\n",
      "1406/1406 [==============================] - 50s 35ms/step - loss: 0.2172 - accuracy: 0.9256 - val_loss: 0.4048 - val_accuracy: 0.8956\n",
      "Epoch 60/100\n",
      "1406/1406 [==============================] - 50s 35ms/step - loss: 0.2131 - accuracy: 0.9269 - val_loss: 0.4455 - val_accuracy: 0.8846\n",
      "Epoch 61/100\n",
      "1406/1406 [==============================] - 50s 35ms/step - loss: 0.2112 - accuracy: 0.9283 - val_loss: 0.4523 - val_accuracy: 0.8862\n",
      "Epoch 62/100\n",
      "1406/1406 [==============================] - 50s 35ms/step - loss: 0.2098 - accuracy: 0.9277 - val_loss: 0.3770 - val_accuracy: 0.8982\n",
      "Epoch 63/100\n",
      "1406/1406 [==============================] - 51s 36ms/step - loss: 0.2020 - accuracy: 0.9317 - val_loss: 0.3974 - val_accuracy: 0.8932\n",
      "Epoch 64/100\n",
      "1406/1406 [==============================] - 51s 36ms/step - loss: 0.1994 - accuracy: 0.9324 - val_loss: 0.3973 - val_accuracy: 0.8918\n",
      "Epoch 65/100\n",
      "1406/1406 [==============================] - 50s 35ms/step - loss: 0.2027 - accuracy: 0.9309 - val_loss: 0.4678 - val_accuracy: 0.8804\n",
      "Epoch 66/100\n",
      "1406/1406 [==============================] - 50s 35ms/step - loss: 0.1990 - accuracy: 0.9330 - val_loss: 0.3769 - val_accuracy: 0.8998\n",
      "Epoch 67/100\n",
      "1406/1406 [==============================] - 51s 36ms/step - loss: 0.2011 - accuracy: 0.9312 - val_loss: 0.4435 - val_accuracy: 0.8856\n",
      "Epoch 68/100\n",
      "1406/1406 [==============================] - 50s 35ms/step - loss: 0.1917 - accuracy: 0.9341 - val_loss: 0.4487 - val_accuracy: 0.8826\n",
      "Epoch 69/100\n",
      "1406/1406 [==============================] - 51s 36ms/step - loss: 0.1931 - accuracy: 0.9358 - val_loss: 0.4754 - val_accuracy: 0.8788\n",
      "Epoch 70/100\n",
      "1406/1406 [==============================] - 50s 35ms/step - loss: 0.1895 - accuracy: 0.9356 - val_loss: 0.4198 - val_accuracy: 0.8908\n",
      "Epoch 71/100\n",
      "1406/1406 [==============================] - 50s 35ms/step - loss: 0.1849 - accuracy: 0.9355 - val_loss: 0.4063 - val_accuracy: 0.8964\n",
      "Epoch 72/100\n",
      "1406/1406 [==============================] - 50s 35ms/step - loss: 0.1889 - accuracy: 0.9363 - val_loss: 0.4065 - val_accuracy: 0.9026\n",
      "Epoch 73/100\n",
      "1406/1406 [==============================] - 51s 36ms/step - loss: 0.1814 - accuracy: 0.9375 - val_loss: 0.3982 - val_accuracy: 0.8978\n",
      "Epoch 74/100\n",
      "1406/1406 [==============================] - 50s 35ms/step - loss: 0.1837 - accuracy: 0.9369 - val_loss: 0.4180 - val_accuracy: 0.8988\n",
      "Epoch 75/100\n",
      "1406/1406 [==============================] - 51s 36ms/step - loss: 0.1775 - accuracy: 0.9405 - val_loss: 0.4199 - val_accuracy: 0.8936\n",
      "Epoch 76/100\n",
      "1406/1406 [==============================] - 50s 35ms/step - loss: 0.1828 - accuracy: 0.9387 - val_loss: 0.4711 - val_accuracy: 0.8850\n",
      "Epoch 77/100\n",
      "1406/1406 [==============================] - 50s 35ms/step - loss: 0.1796 - accuracy: 0.9387 - val_loss: 0.4590 - val_accuracy: 0.8932\n",
      "Epoch 78/100\n",
      "1406/1406 [==============================] - 51s 36ms/step - loss: 0.1744 - accuracy: 0.9404 - val_loss: 0.4071 - val_accuracy: 0.9002\n",
      "Epoch 79/100\n",
      "1406/1406 [==============================] - 50s 36ms/step - loss: 0.1695 - accuracy: 0.9423 - val_loss: 0.4153 - val_accuracy: 0.8978\n",
      "Epoch 80/100\n",
      "1406/1406 [==============================] - 49s 35ms/step - loss: 0.1734 - accuracy: 0.9404 - val_loss: 0.4077 - val_accuracy: 0.8990\n",
      "Epoch 81/100\n",
      "1406/1406 [==============================] - 50s 36ms/step - loss: 0.1683 - accuracy: 0.9425 - val_loss: 0.5164 - val_accuracy: 0.8800\n",
      "Epoch 82/100\n",
      "1406/1406 [==============================] - 49s 35ms/step - loss: 0.1709 - accuracy: 0.9420 - val_loss: 0.4236 - val_accuracy: 0.8994\n",
      "Epoch 83/100\n",
      "1406/1406 [==============================] - 50s 36ms/step - loss: 0.1682 - accuracy: 0.9431 - val_loss: 0.4257 - val_accuracy: 0.8976\n",
      "Epoch 84/100\n",
      "1406/1406 [==============================] - 50s 36ms/step - loss: 0.1660 - accuracy: 0.9430 - val_loss: 0.4559 - val_accuracy: 0.8960\n",
      "Epoch 85/100\n",
      "1406/1406 [==============================] - 50s 35ms/step - loss: 0.1674 - accuracy: 0.9428 - val_loss: 0.4144 - val_accuracy: 0.8976\n",
      "Epoch 86/100\n",
      "1406/1406 [==============================] - 50s 36ms/step - loss: 0.1628 - accuracy: 0.9438 - val_loss: 0.4520 - val_accuracy: 0.8948\n",
      "Epoch 87/100\n",
      "1406/1406 [==============================] - 49s 35ms/step - loss: 0.1585 - accuracy: 0.9467 - val_loss: 0.5104 - val_accuracy: 0.8796\n",
      "Epoch 88/100\n",
      "1406/1406 [==============================] - 51s 36ms/step - loss: 0.1549 - accuracy: 0.9470 - val_loss: 0.5091 - val_accuracy: 0.8864\n",
      "Epoch 89/100\n",
      "1406/1406 [==============================] - 49s 35ms/step - loss: 0.1538 - accuracy: 0.9483 - val_loss: 0.3969 - val_accuracy: 0.9034\n",
      "Epoch 90/100\n",
      "1406/1406 [==============================] - 51s 36ms/step - loss: 0.1548 - accuracy: 0.9476 - val_loss: 0.4290 - val_accuracy: 0.9022\n",
      "Epoch 91/100\n",
      "1406/1406 [==============================] - 49s 35ms/step - loss: 0.1555 - accuracy: 0.9465 - val_loss: 0.4509 - val_accuracy: 0.8920\n",
      "Epoch 92/100\n",
      "1406/1406 [==============================] - 49s 35ms/step - loss: 0.1514 - accuracy: 0.9493 - val_loss: 0.4516 - val_accuracy: 0.8946\n",
      "Epoch 93/100\n",
      "1406/1406 [==============================] - 50s 36ms/step - loss: 0.1545 - accuracy: 0.9472 - val_loss: 0.4734 - val_accuracy: 0.8892\n",
      "Epoch 94/100\n",
      "1406/1406 [==============================] - 49s 35ms/step - loss: 0.1512 - accuracy: 0.9486 - val_loss: 0.5121 - val_accuracy: 0.8856\n",
      "Epoch 95/100\n",
      "1406/1406 [==============================] - 49s 35ms/step - loss: 0.1478 - accuracy: 0.9499 - val_loss: 0.4756 - val_accuracy: 0.8954\n",
      "Epoch 96/100\n",
      "1406/1406 [==============================] - 49s 35ms/step - loss: 0.1476 - accuracy: 0.9509 - val_loss: 0.4215 - val_accuracy: 0.8996\n",
      "Epoch 97/100\n",
      "1406/1406 [==============================] - 50s 36ms/step - loss: 0.1512 - accuracy: 0.9491 - val_loss: 0.4979 - val_accuracy: 0.8922\n",
      "Epoch 98/100\n",
      "1406/1406 [==============================] - 49s 35ms/step - loss: 0.1459 - accuracy: 0.9496 - val_loss: 0.4759 - val_accuracy: 0.8926\n",
      "Epoch 99/100\n",
      "1406/1406 [==============================] - 50s 36ms/step - loss: 0.1471 - accuracy: 0.9501 - val_loss: 0.5328 - val_accuracy: 0.8846\n",
      "Epoch 100/100\n",
      "1406/1406 [==============================] - 51s 36ms/step - loss: 0.1426 - accuracy: 0.9506 - val_loss: 0.4404 - val_accuracy: 0.8988\n"
     ]
    }
   ],
   "source": [
    "epochs = 100\n",
    "history = model.fit_generator(train_generator,\n",
    "                              steps_per_epoch=train_num // batch_size,\n",
    "                              epochs=epochs,\n",
    "                              validation_data=valid_generator,\n",
    "                              validation_steps=valid_num // batch_size, )"
   ],
   "metadata": {
    "pycharm": {
     "name": "#%%\n"
    },
    "colab": {
     "base_uri": "https://localhost:8080/"
    },
    "id": "OuEoQtmpYGF_",
    "outputId": "cb450238-9d08-4619-a490-5adb501fbf01"
   }
  },
  {
   "cell_type": "code",
   "execution_count": 52,
   "outputs": [
    {
     "output_type": "stream",
     "name": "stdout",
     "text": [
      "{'loss': [1.9453173875808716, 1.477442979812622, 1.2866032123565674, 1.121250033378601, 0.9911822080612183, 0.8959681391716003, 0.8174168467521667, 0.7625849843025208, 0.7081366181373596, 0.6682456731796265, 0.6372206211090088, 0.5935348868370056, 0.5743998885154724, 0.5455139875411987, 0.530177891254425, 0.5042279362678528, 0.48654237389564514, 0.4764849841594696, 0.4611413776874542, 0.4515669345855713, 0.4352932572364807, 0.4263518750667572, 0.4097957909107208, 0.39650943875312805, 0.3904576003551483, 0.38351938128471375, 0.37436044216156006, 0.3628559112548828, 0.3605751097202301, 0.3528996407985687, 0.3454456031322479, 0.3376850187778473, 0.3262384235858917, 0.3178013563156128, 0.314008891582489, 0.31076017022132874, 0.30328625440597534, 0.2970265746116638, 0.2900237441062927, 0.28946584463119507, 0.28125518560409546, 0.2777513563632965, 0.2775837182998657, 0.2643892765045166, 0.26713111996650696, 0.26167017221450806, 0.2570858597755432, 0.2523505687713623, 0.24655455350875854, 0.24520611763000488, 0.23862415552139282, 0.23803965747356415, 0.23553548753261566, 0.22740016877651215, 0.22806695103645325, 0.22603757679462433, 0.21903759241104126, 0.22072862088680267, 0.21715472638607025, 0.21309977769851685, 0.21116028726100922, 0.20978032052516937, 0.2019982933998108, 0.1994016021490097, 0.20274022221565247, 0.19899052381515503, 0.20107732713222504, 0.1916784942150116, 0.19309814274311066, 0.18950285017490387, 0.18489482998847961, 0.1888592541217804, 0.1814417988061905, 0.18369486927986145, 0.17745916545391083, 0.18277274072170258, 0.17962810397148132, 0.17436915636062622, 0.16947586834430695, 0.17335385084152222, 0.16834890842437744, 0.17094647884368896, 0.16824936866760254, 0.16602076590061188, 0.16736362874507904, 0.16277381777763367, 0.15851950645446777, 0.15490403771400452, 0.15384043753147125, 0.15480273962020874, 0.1555493324995041, 0.1514049768447876, 0.15454323589801788, 0.1511521190404892, 0.1478104144334793, 0.14757686853408813, 0.15120454132556915, 0.14588198065757751, 0.14712809026241302, 0.1425645798444748], 'accuracy': [0.34560132026672363, 0.4693337380886078, 0.5425636172294617, 0.6074541807174683, 0.6553104519844055, 0.6935598850250244, 0.7210016250610352, 0.7409936189651489, 0.7590286135673523, 0.7729274034500122, 0.784468948841095, 0.7983899712562561, 0.803838312625885, 0.8156689405441284, 0.8201832175254822, 0.8279443383216858, 0.8340153098106384, 0.8377290368080139, 0.8430439233779907, 0.8471357226371765, 0.8537404537200928, 0.8553860783576965, 0.8614125847816467, 0.8661270141601562, 0.8676169514656067, 0.8700631856918335, 0.8720645904541016, 0.8775796294212341, 0.8777574896812439, 0.8808041214942932, 0.8821384310722351, 0.8846068382263184, 0.8883650302886963, 0.8917452692985535, 0.8927014470100403, 0.8955479264259338, 0.8968822360038757, 0.8980163931846619, 0.8997509479522705, 0.9019747376441956, 0.904242992401123, 0.9058663845062256, 0.905910849571228, 0.9105364084243774, 0.9090019464492798, 0.9110923409461975, 0.9126935005187988, 0.9139610528945923, 0.9168297648429871, 0.9178971648216248, 0.9179860949516296, 0.9184086322784424, 0.91994309425354, 0.9218332767486572, 0.9228562712669373, 0.9230118989944458, 0.9247465133666992, 0.9252579808235168, 0.9256359934806824, 0.926948070526123, 0.9283267855644226, 0.9276596903800964, 0.9316624999046326, 0.9323963522911072, 0.930928647518158, 0.9330190420150757, 0.9311510324478149, 0.9341086745262146, 0.9357987642288208, 0.9355764389038086, 0.9354874491691589, 0.936265766620636, 0.937488853931427, 0.9368884563446045, 0.9405132532119751, 0.9386674761772156, 0.938734233379364, 0.9404465556144714, 0.942270040512085, 0.940402090549469, 0.9425146579742432, 0.9419587254524231, 0.9431151151657104, 0.9430484175682068, 0.9427592754364014, 0.9437822699546814, 0.946739912033081, 0.9470067620277405, 0.9483187794685364, 0.9475626945495605, 0.9464508295059204, 0.9493417739868164, 0.9472291469573975, 0.948630154132843, 0.949853241443634, 0.9509206414222717, 0.949052631855011, 0.9495863914489746, 0.9501423239707947, 0.9506315588951111], 'val_loss': [1.4477349519729614, 1.4051238298416138, 1.259856939315796, 0.9441671967506409, 0.8307847380638123, 0.8391019105911255, 0.6536875367164612, 0.8955234885215759, 0.7371470332145691, 0.6013513207435608, 0.6911113858222961, 0.5600357055664062, 0.5794501900672913, 0.5727783441543579, 0.5671204924583435, 0.5269861817359924, 0.5136234164237976, 0.48478323221206665, 0.4971410930156708, 0.5340250730514526, 0.508325457572937, 0.4822375476360321, 0.521160900592804, 0.497738778591156, 0.42764046788215637, 0.45369088649749756, 0.4698304831981659, 0.41360870003700256, 0.3907136619091034, 0.4432115852832794, 0.39721599221229553, 0.4189459979534149, 0.4694276452064514, 0.45691564679145813, 0.45574960112571716, 0.4715355634689331, 0.4063957929611206, 0.48038217425346375, 0.5125913023948669, 0.5229915976524353, 0.41085386276245117, 0.40531444549560547, 0.3867378532886505, 0.4407122731208801, 0.4620548188686371, 0.38051432371139526, 0.3895932734012604, 0.3888971507549286, 0.4410003125667572, 0.39158400893211365, 0.4118759334087372, 0.3971026837825775, 0.41426125168800354, 0.4910823702812195, 0.37679314613342285, 0.4099927246570587, 0.41288504004478455, 0.44317275285720825, 0.40479180216789246, 0.44550254940986633, 0.45233285427093506, 0.3770405352115631, 0.3973991572856903, 0.39734962582588196, 0.46783339977264404, 0.3768777847290039, 0.4434664249420166, 0.4486643373966217, 0.4754445552825928, 0.4198477268218994, 0.40631240606307983, 0.40651801228523254, 0.3982032239437103, 0.4180472791194916, 0.41990137100219727, 0.47112205624580383, 0.4589637219905853, 0.4070819616317749, 0.4153178632259369, 0.40768593549728394, 0.5163501501083374, 0.4235741198062897, 0.4257417321205139, 0.45592260360717773, 0.41443726420402527, 0.4519698917865753, 0.510409951210022, 0.5091082453727722, 0.3968881666660309, 0.4290217459201813, 0.450930118560791, 0.4516013264656067, 0.4734383225440979, 0.5121481418609619, 0.47557127475738525, 0.42154166102409363, 0.4979163408279419, 0.4759240746498108, 0.5327891111373901, 0.4403683543205261], 'val_accuracy': [0.4839743673801422, 0.5144230723381042, 0.5913461446762085, 0.6911057829856873, 0.7333734035491943, 0.7383813858032227, 0.7820512652397156, 0.7255609035491943, 0.7718349099159241, 0.8062900900840759, 0.7924679517745972, 0.823317289352417, 0.8229166865348816, 0.8215144276618958, 0.8205128312110901, 0.8301281929016113, 0.8439503312110901, 0.8517628312110901, 0.8487580418586731, 0.8405448794364929, 0.8505609035491943, 0.8549679517745972, 0.8507612347602844, 0.8577724099159241, 0.8729968070983887, 0.8681890964508057, 0.8591746687889099, 0.875, 0.875, 0.8677884340286255, 0.8752003312110901, 0.8816105723381042, 0.8685897588729858, 0.8721955418586731, 0.8685897588729858, 0.8633813858032227, 0.8838140964508057, 0.8677884340286255, 0.8633813858032227, 0.8559695482254028, 0.8884214758872986, 0.8904246687889099, 0.8884214758872986, 0.8762019276618958, 0.8754006624221802, 0.8892227411270142, 0.8882211446762085, 0.8890224099159241, 0.8788061141967773, 0.8904246687889099, 0.8856169581413269, 0.8904246687889099, 0.8924278616905212, 0.8695913553237915, 0.8980368375778198, 0.8904246687889099, 0.8930288553237915, 0.8870192170143127, 0.8956330418586731, 0.8846153616905212, 0.8862179517745972, 0.8982371687889099, 0.8932291865348816, 0.8918269276618958, 0.8804086446762085, 0.8998397588729858, 0.8856169581413269, 0.8826121687889099, 0.8788061141967773, 0.8908253312110901, 0.8964343070983887, 0.9026442170143127, 0.8978365659713745, 0.8988381624221802, 0.893629789352417, 0.8850160241127014, 0.8932291865348816, 0.9002403616905212, 0.8978365659713745, 0.8990384340286255, 0.8800080418586731, 0.8994390964508057, 0.8976362347602844, 0.8960336446762085, 0.8976362347602844, 0.8948317170143127, 0.8796073794364929, 0.8864182829856873, 0.9034455418586731, 0.9022436141967773, 0.8920272588729858, 0.8946313858032227, 0.8892227411270142, 0.8856169581413269, 0.895432710647583, 0.8996394276618958, 0.8922275900840759, 0.8926281929016113, 0.8846153616905212, 0.8988381624221802]}\n"
     ]
    }
   ],
   "source": [
    "print(history.history)"
   ],
   "metadata": {
    "pycharm": {
     "name": "#%%\n"
    },
    "colab": {
     "base_uri": "https://localhost:8080/"
    },
    "id": "qQRDIZwiYGF_",
    "outputId": "dafd47db-b624-49d0-d3f0-85fd521a5aff"
   }
  },
  {
   "cell_type": "code",
   "execution_count": 53,
   "outputs": [
    {
     "output_type": "display_data",
     "data": {
      "text/plain": [
       "<Figure size 576x360 with 1 Axes>"
      ],
      "image/png": "[encoded data removed]"
     },
     "metadata": {
      "needs_background": "light"
     }
    },
    {
     "output_type": "display_data",
     "data": {
      "text/plain": [
       "<Figure size 576x360 with 1 Axes>"
      ],
      "image/png": "[encoded data removed]"
     },
     "metadata": {
      "needs_background": "light"
     }
    }
   ],
   "source": [
    "def plot_learning_curves(history, label, epochs, min_value, max_value):\n",
    "    data = {}\n",
    "    data[label] = history.history[label]\n",
    "    data['val_' + label] = history.history['val_' + label]\n",
    "    pd.DataFrame(data).plot(figsize=(8, 5))\n",
    "    plt.grid(True)\n",
    "    plt.axis([0, epochs, min_value, max_value])\n",
    "    plt.show()\n",
    "\n",
    "\n",
    "plot_learning_curves(history, 'accuracy', epochs, 0, 1)\n",
    "plot_learning_curves(history, 'loss', epochs, 0, 2)"
   ],
   "metadata": {
    "pycharm": {
     "name": "#%%\n"
    },
    "colab": {
     "base_uri": "https://localhost:8080/",
     "height": 631
    },
    "id": "CXQit9ILYGGA",
    "outputId": "69d26a59-7a6f-4dd8-81ff-72c728589421"
   }
  },
  {
   "cell_type": "code",
   "execution_count": 54,
   "outputs": [
    {
     "output_type": "stream",
     "name": "stdout",
     "text": [
      "Found 300000 validated image filenames belonging to 10 classes.\n",
      "300000\n"
     ]
    }
   ],
   "source": [
    "# 测试集\n",
    "test_data_gene = keras.preprocessing.image.ImageDataGenerator(rescale=1. / 255)\n",
    "test_generator = test_data_gene.flow_from_dataframe(\n",
    "    test_df,\n",
    "    directory='./',\n",
    "    x_col='filepath',\n",
    "    y_col='class',\n",
    "    classes=class_names,\n",
    "    target_size=(height, width),\n",
    "    batch_size=batch_size,\n",
    "    seed=7, shuffle=False,\n",
    "    class_mode=\"sparse\")\n",
    "test_num = test_generator.samples\n",
    "print(test_num)"
   ],
   "metadata": {
    "pycharm": {
     "name": "#%%\n"
    },
    "colab": {
     "base_uri": "https://localhost:8080/"
    },
    "id": "aovi4GtTYGGA",
    "outputId": "004d5b70-96f8-49a3-facd-fa61a5a26cdd"
   }
  },
  {
   "cell_type": "code",
   "execution_count": 55,
   "outputs": [
    {
     "output_type": "stream",
     "name": "stderr",
     "text": [
      "/usr/local/lib/python3.7/dist-packages/ipykernel_launcher.py:3: UserWarning: `Model.predict_generator` is deprecated and will be removed in a future version. Please use `Model.predict`, which supports generators.\n",
      "  This is separate from the ipykernel package so we can avoid doing imports until\n"
     ]
    }
   ],
   "source": [
    "test_predict = model.predict_generator(test_generator,\n",
    "                                       workers=-1,\n",
    "                                       use_multiprocessing=True)"
   ],
   "metadata": {
    "pycharm": {
     "name": "#%%\n"
    },
    "colab": {
     "base_uri": "https://localhost:8080/"
    },
    "id": "AUNm5Y7YYGGA",
    "outputId": "c27d46be-ef9a-4efc-ad52-344f2df062b5"
   }
  },
  {
   "cell_type": "code",
   "execution_count": 56,
   "outputs": [
    {
     "output_type": "stream",
     "name": "stdout",
     "text": [
      "(300000, 10)\n",
      "[[5.4774823e-04 3.0908056e-02 1.0418328e-04 1.7762645e-04 2.5695163e-05\n",
      "  6.3072883e-05 2.0423498e-04 4.7239049e-05 1.9138951e-04 9.6773082e-01]\n",
      " [1.7332546e-01 1.8664385e-01 1.0161486e-01 1.0153587e-02 2.5270123e-03\n",
      "  4.7812201e-03 2.4184436e-03 4.4260528e-03 4.9327430e-01 2.0835212e-02]\n",
      " [4.9563744e-13 9.9999988e-01 2.3630165e-16 2.9359330e-17 2.4769321e-22\n",
      "  2.6790963e-18 3.0708362e-19 1.1679799e-18 2.0690970e-14 6.9782239e-08]\n",
      " [2.2184689e-04 2.1802462e-07 5.8774681e-08 9.9416035e-08 6.7232437e-09\n",
      "  5.4190405e-08 7.8998417e-09 2.4562087e-08 9.9977738e-01 3.9673344e-07]\n",
      " [9.9999392e-01 1.0534560e-07 5.5124974e-07 6.8075806e-08 7.4662758e-08\n",
      "  1.8272824e-07 2.6879505e-07 2.0157945e-07 3.8274757e-06 7.8496618e-07]]\n"
     ]
    }
   ],
   "source": [
    "print(test_predict.shape)\n",
    "print(test_predict[:5])"
   ],
   "metadata": {
    "pycharm": {
     "name": "#%%\n"
    },
    "colab": {
     "base_uri": "https://localhost:8080/"
    },
    "id": "c-5C7Bb8YGGA",
    "outputId": "e85ecf17-95aa-4d68-ad20-fc50064adb8c"
   }
  },
  {
   "cell_type": "code",
   "execution_count": 57,
   "outputs": [
    {
     "output_type": "stream",
     "name": "stdout",
     "text": [
      "[9 8 1 8 0]\n"
     ]
    }
   ],
   "source": [
    "# 最大值的下标\n",
    "test_predict_class_indices = np.argmax(test_predict, axis=1)\n",
    "print(test_predict_class_indices[:5])"
   ],
   "metadata": {
    "pycharm": {
     "name": "#%%\n"
    },
    "colab": {
     "base_uri": "https://localhost:8080/"
    },
    "id": "CZJeGAvXYGGA",
    "outputId": "ca2c716e-bbf9-41f0-9d73-787517d741f1"
   }
  },
  {
   "cell_type": "code",
   "execution_count": 58,
   "outputs": [
    {
     "output_type": "stream",
     "name": "stdout",
     "text": [
      "['truck', 'ship', 'automobile', 'ship', 'airplane']\n"
     ]
    }
   ],
   "source": [
    "test_predict_class = [class_names[index] for index in test_predict_class_indices]\n",
    "print(test_predict_class[:5])"
   ],
   "metadata": {
    "pycharm": {
     "name": "#%%\n"
    },
    "colab": {
     "base_uri": "https://localhost:8080/"
    },
    "id": "sqpzYIkUYGGA",
    "outputId": "2f9403f3-93af-4607-b35f-bf8d278b2f0f"
   }
  },
  {
   "cell_type": "code",
   "execution_count": 61,
   "outputs": [],
   "source": [
    "# 最终提交结果\n",
    "def generate_submissions(filename, predict_class):\n",
    "    with open(filename, 'w') as f:\n",
    "        f.write('id,label\\n')\n",
    "        for i in range(len(predict_class)):\n",
    "            f.write(f'{i + 1},{predict_class[i]}\\n')\n",
    "\n",
    "\n",
    "output_file = './submission.csv'\n",
    "generate_submissions(output_file, test_predict_class)"
   ],
   "metadata": {
    "pycharm": {
     "name": "#%%\n"
    },
    "id": "EBB4NtieYGGA"
   }
  },
  {
   "cell_type": "code",
   "source": [
    "!kaggle competitions submit -c cifar-10 -f submission.csv -m \"Liu\""
   ],
   "metadata": {
    "colab": {
     "base_uri": "https://localhost:8080/"
    },
    "id": "5z_v322JCN4O",
    "outputId": "59571191-aebb-436a-f6b0-a9dad4f5c1c3"
   },
   "execution_count": 62,
   "outputs": [
    {
     "output_type": "stream",
     "name": "stdout",
     "text": [
      "100% 3.59M/3.59M [00:04<00:00, 843kB/s] \n",
      "Successfully submitted to CIFAR-10 - Object Recognition in Images"
     ]
    }
   ]
  }
 ],
 "metadata": {
  "kernelspec": {
   "display_name": "Python 3",
   "language": "python",
   "name": "python3"
  },
  "language_info": {
   "codemirror_mode": {
    "name": "ipython",
    "version": 2
   },
   "file_extension": ".py",
   "mimetype": "text/x-python",
   "name": "python",
   "nbconvert_exporter": "python",
   "pygments_lexer": "ipython2",
   "version": "2.7.6"
  },
  "colab": {
   "name": "tf6_cifar10_model_1.ipynb",
   "provenance": [],
   "collapsed_sections": []
  },
  "accelerator": "GPU",
  "gpuClass": "standard"
 },
 "nbformat": 4,
 "nbformat_minor": 0
}
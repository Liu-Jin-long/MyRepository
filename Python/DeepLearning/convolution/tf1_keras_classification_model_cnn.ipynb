{
 "cells": [
  {
   "cell_type": "code",
   "execution_count": 1,
   "id": "20462223",
   "metadata": {
    "execution": {
     "iopub.execute_input": "2022-07-31T13:01:57.061649Z",
     "iopub.status.busy": "2022-07-31T13:01:57.060663Z",
     "iopub.status.idle": "2022-07-31T13:01:57.066777Z",
     "shell.execute_reply": "2022-07-31T13:01:57.065860Z"
    },
    "papermill": {
     "duration": 0.016597,
     "end_time": "2022-07-31T13:01:57.069824",
     "exception": false,
     "start_time": "2022-07-31T13:01:57.053227",
     "status": "completed"
    },
    "tags": []
   },
   "outputs": [],
   "source": [
    "# 卷积神经网络"
   ]
  },
  {
   "cell_type": "code",
   "execution_count": 2,
   "id": "66e66c17",
   "metadata": {
    "collapsed": false,
    "execution": {
     "iopub.execute_input": "2022-07-31T13:01:57.081658Z",
     "iopub.status.busy": "2022-07-31T13:01:57.080966Z",
     "iopub.status.idle": "2022-07-31T13:02:03.041924Z",
     "shell.execute_reply": "2022-07-31T13:02:03.039885Z"
    },
    "jupyter": {
     "outputs_hidden": false
    },
    "papermill": {
     "duration": 5.969136,
     "end_time": "2022-07-31T13:02:03.044242",
     "exception": false,
     "start_time": "2022-07-31T13:01:57.075106",
     "status": "completed"
    },
    "pycharm": {
     "name": "#%%\n"
    },
    "tags": []
   },
   "outputs": [
    {
     "name": "stdout",
     "output_type": "stream",
     "text": [
      "2.6.4\n",
      "sys.version_info(major=3, minor=7, micro=12, releaselevel='final', serial=0)\n",
      "matplotlib 3.5.2\n",
      "numpy 1.21.6\n",
      "pandas 1.3.5\n",
      "sklearn 1.0.2\n",
      "tensorflow 2.6.4\n",
      "keras.api._v2.keras 2.6.0\n"
     ]
    }
   ],
   "source": [
    "import matplotlib as mpl\n",
    "import matplotlib.pyplot as plt\n",
    "%matplotlib inline\n",
    "import numpy as np\n",
    "import sklearn\n",
    "import pandas as pd\n",
    "import os\n",
    "import sys\n",
    "import time\n",
    "import tensorflow as tf\n",
    "\n",
    "from tensorflow import keras\n",
    "\n",
    "print(tf.__version__)\n",
    "print(sys.version_info)\n",
    "for module in mpl, np, pd, sklearn, tf, keras:\n",
    "    print(module.__name__, module.__version__)"
   ]
  },
  {
   "cell_type": "code",
   "execution_count": 3,
   "id": "3f6ba49f",
   "metadata": {
    "collapsed": false,
    "execution": {
     "iopub.execute_input": "2022-07-31T13:02:03.056520Z",
     "iopub.status.busy": "2022-07-31T13:02:03.055979Z",
     "iopub.status.idle": "2022-07-31T13:02:03.776204Z",
     "shell.execute_reply": "2022-07-31T13:02:03.775119Z"
    },
    "jupyter": {
     "outputs_hidden": false
    },
    "papermill": {
     "duration": 0.729095,
     "end_time": "2022-07-31T13:02:03.778808",
     "exception": false,
     "start_time": "2022-07-31T13:02:03.049713",
     "status": "completed"
    },
    "pycharm": {
     "name": "#%%\n"
    },
    "tags": []
   },
   "outputs": [
    {
     "name": "stdout",
     "output_type": "stream",
     "text": [
      "Sun Jul 31 13:02:03 2022       \r\n",
      "+-----------------------------------------------------------------------------+\r\n",
      "| NVIDIA-SMI 470.82.01    Driver Version: 470.82.01    CUDA Version: 11.4     |\r\n",
      "|-------------------------------+----------------------+----------------------+\r\n",
      "| GPU  Name        Persistence-M| Bus-Id        Disp.A | Volatile Uncorr. ECC |\r\n",
      "| Fan  Temp  Perf  Pwr:Usage/Cap|         Memory-Usage | GPU-Util  Compute M. |\r\n",
      "|                               |                      |               MIG M. |\r\n",
      "|===============================+======================+======================|\r\n",
      "|   0  Tesla P100-PCIE...  Off  | 00000000:00:04.0 Off |                    0 |\r\n",
      "| N/A   39C    P0    28W / 250W |      0MiB / 16280MiB |      0%      Default |\r\n",
      "|                               |                      |                  N/A |\r\n",
      "+-------------------------------+----------------------+----------------------+\r\n",
      "                                                                               \r\n",
      "+-----------------------------------------------------------------------------+\r\n",
      "| Processes:                                                                  |\r\n",
      "|  GPU   GI   CI        PID   Type   Process name                  GPU Memory |\r\n",
      "|        ID   ID                                                   Usage      |\r\n",
      "|=============================================================================|\r\n",
      "|  No running processes found                                                 |\r\n",
      "+-----------------------------------------------------------------------------+\r\n"
     ]
    }
   ],
   "source": [
    "# 查看英伟达GPU显卡型号信息\n",
    "!nvidia-smi"
   ]
  },
  {
   "cell_type": "code",
   "execution_count": 4,
   "id": "dd0b3a2c",
   "metadata": {
    "collapsed": false,
    "execution": {
     "iopub.execute_input": "2022-07-31T13:02:03.791391Z",
     "iopub.status.busy": "2022-07-31T13:02:03.791052Z",
     "iopub.status.idle": "2022-07-31T13:02:05.058308Z",
     "shell.execute_reply": "2022-07-31T13:02:05.057229Z"
    },
    "jupyter": {
     "outputs_hidden": false
    },
    "papermill": {
     "duration": 1.276276,
     "end_time": "2022-07-31T13:02:05.060757",
     "exception": false,
     "start_time": "2022-07-31T13:02:03.784481",
     "status": "completed"
    },
    "pycharm": {
     "name": "#%%\n"
    },
    "tags": []
   },
   "outputs": [
    {
     "name": "stdout",
     "output_type": "stream",
     "text": [
      "Downloading data from https://storage.googleapis.com/tensorflow/tf-keras-datasets/train-labels-idx1-ubyte.gz\n",
      "32768/29515 [=================================] - 0s 0us/step\n",
      "40960/29515 [=========================================] - 0s 0us/step\n",
      "Downloading data from https://storage.googleapis.com/tensorflow/tf-keras-datasets/train-images-idx3-ubyte.gz\n",
      "26427392/26421880 [==============================] - 0s 0us/step\n",
      "26435584/26421880 [==============================] - 0s 0us/step\n",
      "Downloading data from https://storage.googleapis.com/tensorflow/tf-keras-datasets/t10k-labels-idx1-ubyte.gz\n",
      "16384/5148 [===============================================================================================] - 0s 0us/step\n",
      "Downloading data from https://storage.googleapis.com/tensorflow/tf-keras-datasets/t10k-images-idx3-ubyte.gz\n",
      "4423680/4422102 [==============================] - 0s 0us/step\n",
      "4431872/4422102 [==============================] - 0s 0us/step\n",
      "(5000, 28, 28) (5000,)\n",
      "(55000, 28, 28) (55000,)\n",
      "(10000, 28, 28) (10000,)\n"
     ]
    }
   ],
   "source": [
    "fashion_mnist = keras.datasets.fashion_mnist\n",
    "(x_train_all, y_train_all), (x_test, y_test) = fashion_mnist.load_data()\n",
    "x_valid, x_train = x_train_all[:5000], x_train_all[5000:]\n",
    "y_valid, y_train = y_train_all[:5000], y_train_all[5000:]\n",
    "\n",
    "print(x_valid.shape, y_valid.shape)\n",
    "print(x_train.shape, y_train.shape)\n",
    "print(x_test.shape, y_test.shape)"
   ]
  },
  {
   "cell_type": "code",
   "execution_count": 5,
   "id": "19ade84c",
   "metadata": {
    "collapsed": false,
    "execution": {
     "iopub.execute_input": "2022-07-31T13:02:05.077499Z",
     "iopub.status.busy": "2022-07-31T13:02:05.076847Z",
     "iopub.status.idle": "2022-07-31T13:02:05.799857Z",
     "shell.execute_reply": "2022-07-31T13:02:05.798276Z"
    },
    "jupyter": {
     "outputs_hidden": false
    },
    "papermill": {
     "duration": 0.7345,
     "end_time": "2022-07-31T13:02:05.802943",
     "exception": false,
     "start_time": "2022-07-31T13:02:05.068443",
     "status": "completed"
    },
    "pycharm": {
     "name": "#%%\n"
    },
    "tags": []
   },
   "outputs": [],
   "source": [
    "from sklearn.preprocessing import StandardScaler\n",
    "\n",
    "scaler = StandardScaler()\n",
    "x_train_scaled = scaler.fit_transform(\n",
    "    x_train.astype(np.float32).reshape(-1, 1)).reshape(-1, 28, 28, 1)\n",
    "x_valid_scaled = scaler.transform(\n",
    "    x_valid.astype(np.float32).reshape(-1, 1)).reshape(-1, 28, 28, 1)\n",
    "x_test_scaled = scaler.transform(\n",
    "    x_test.astype(np.float32).reshape(-1, 1)).reshape(-1, 28, 28, 1)"
   ]
  },
  {
   "cell_type": "code",
   "execution_count": 6,
   "id": "734d1bc4",
   "metadata": {
    "collapsed": false,
    "execution": {
     "iopub.execute_input": "2022-07-31T13:02:05.820106Z",
     "iopub.status.busy": "2022-07-31T13:02:05.818400Z",
     "iopub.status.idle": "2022-07-31T13:02:05.827458Z",
     "shell.execute_reply": "2022-07-31T13:02:05.826330Z"
    },
    "jupyter": {
     "outputs_hidden": false
    },
    "papermill": {
     "duration": 0.020137,
     "end_time": "2022-07-31T13:02:05.830324",
     "exception": false,
     "start_time": "2022-07-31T13:02:05.810187",
     "status": "completed"
    },
    "pycharm": {
     "name": "#%%\n"
    },
    "tags": []
   },
   "outputs": [
    {
     "name": "stdout",
     "output_type": "stream",
     "text": [
      "[[1 2 3]\n",
      " [4 5 6]\n",
      " [7 8 9]]\n",
      "[[[1]\n",
      "  [2]\n",
      "  [3]]\n",
      "\n",
      " [[4]\n",
      "  [5]\n",
      "  [6]]\n",
      "\n",
      " [[7]\n",
      "  [8]\n",
      "  [9]]]\n"
     ]
    }
   ],
   "source": [
    "a = np.arange(1, 10).reshape(3, 3)\n",
    "print(a)\n",
    "b = a.reshape(3, 3, 1)\n",
    "print(b)"
   ]
  },
  {
   "cell_type": "code",
   "execution_count": 7,
   "id": "986c5b19",
   "metadata": {
    "collapsed": false,
    "execution": {
     "iopub.execute_input": "2022-07-31T13:02:05.846358Z",
     "iopub.status.busy": "2022-07-31T13:02:05.845975Z",
     "iopub.status.idle": "2022-07-31T13:02:05.851965Z",
     "shell.execute_reply": "2022-07-31T13:02:05.850919Z"
    },
    "jupyter": {
     "outputs_hidden": false
    },
    "papermill": {
     "duration": 0.016807,
     "end_time": "2022-07-31T13:02:05.854229",
     "exception": false,
     "start_time": "2022-07-31T13:02:05.837422",
     "status": "completed"
    },
    "pycharm": {
     "name": "#%%\n"
    },
    "tags": []
   },
   "outputs": [],
   "source": [
    "# model = keras.models.Sequential()\n",
    "# # 添加卷积层 filters卷积核数目(输出的通道数目)  kernel_size卷积核大小\n",
    "# # padding='same'表示进行填充，填充的值由算法内部根据卷积核大小计算，目的是让输出尺寸和输入相等；\n",
    "# # padding='valid'表示不进行填充，即是padding=0，只使用有效的窗口位置，这是默认的选项\n",
    "# # 步幅stride是一个一维的向量，长度为4，在tensorflow中，stride的一般形式是[1，x，y，1]\n",
    "# # stride形式是[a,x,y,z]，分别代表[batch滑动步长，水平滑动步长，垂直滑动步长，通道滑动步长]\n",
    "# model.add(keras.layers.Conv2D(filters=32, kernel_size=3,\n",
    "#                               padding='same',\n",
    "#                               activation='relu',\n",
    "#                               input_shape=(28, 28, 1)))\n",
    "# model.add(keras.layers.Conv2D(filters=32, kernel_size=3,\n",
    "#                               padding='same',\n",
    "#                               activation='relu'))\n",
    "# # 添加池化层 pool_size是窗口大小，步长默认和窗口大小相等\n",
    "# model.add(keras.layers.MaxPool2D(pool_size=2))\n",
    "# # 缓解前面池化带来的信息损失，filters翻倍增加维度信息\n",
    "# model.add(keras.layers.Conv2D(filters=64, kernel_size=3,\n",
    "#                               padding='same',\n",
    "#                               activation='relu'))\n",
    "# model.add(keras.layers.Conv2D(filters=64, kernel_size=3,\n",
    "#                               padding='same',\n",
    "#                               activation='relu'))\n",
    "# model.add(keras.layers.MaxPool2D(pool_size=(2, 2)))\n",
    "# model.add(keras.layers.Conv2D(filters=128, kernel_size=3,\n",
    "#                               padding='same',\n",
    "#                               activation='relu'))\n",
    "# model.add(keras.layers.Conv2D(filters=128, kernel_size=3,\n",
    "#                               padding='same',\n",
    "#                               activation='relu'))\n",
    "# model.add(keras.layers.MaxPool2D(pool_size=2))\n",
    "# model.add(keras.layers.Flatten())\n",
    "# model.add(keras.layers.Dense(128, activation='relu'))\n",
    "# model.add(keras.layers.Dense(10, activation=\"softmax\"))\n",
    "# model.compile(loss='sparse_categorical_crossentropy',\n",
    "#               optimizer='sgd',\n",
    "#               metrics=['accuracy'])\n",
    "# print(model.summary())"
   ]
  },
  {
   "cell_type": "code",
   "execution_count": 8,
   "id": "26725abf",
   "metadata": {
    "collapsed": false,
    "execution": {
     "iopub.execute_input": "2022-07-31T13:02:05.871972Z",
     "iopub.status.busy": "2022-07-31T13:02:05.870264Z",
     "iopub.status.idle": "2022-07-31T13:02:05.877495Z",
     "shell.execute_reply": "2022-07-31T13:02:05.876396Z"
    },
    "jupyter": {
     "outputs_hidden": false
    },
    "papermill": {
     "duration": 0.018756,
     "end_time": "2022-07-31T13:02:05.880370",
     "exception": false,
     "start_time": "2022-07-31T13:02:05.861614",
     "status": "completed"
    },
    "pycharm": {
     "name": "#%%\n"
    },
    "tags": []
   },
   "outputs": [
    {
     "name": "stdout",
     "output_type": "stream",
     "text": [
      "9248\n",
      "36928\n"
     ]
    }
   ],
   "source": [
    "print(3 * 3 * 32 * 32 + 32)\n",
    "print(3 * 3 * 64 * 64 + 64)"
   ]
  },
  {
   "cell_type": "code",
   "execution_count": 9,
   "id": "665e8045",
   "metadata": {
    "collapsed": false,
    "execution": {
     "iopub.execute_input": "2022-07-31T13:02:05.896182Z",
     "iopub.status.busy": "2022-07-31T13:02:05.895897Z",
     "iopub.status.idle": "2022-07-31T13:02:08.894531Z",
     "shell.execute_reply": "2022-07-31T13:02:08.893512Z"
    },
    "jupyter": {
     "outputs_hidden": false
    },
    "papermill": {
     "duration": 3.009587,
     "end_time": "2022-07-31T13:02:08.897218",
     "exception": false,
     "start_time": "2022-07-31T13:02:05.887631",
     "status": "completed"
    },
    "pycharm": {
     "name": "#%%\n"
    },
    "tags": []
   },
   "outputs": [
    {
     "name": "stderr",
     "output_type": "stream",
     "text": [
      "2022-07-31 13:02:05.994137: I tensorflow/stream_executor/cuda/cuda_gpu_executor.cc:937] successful NUMA node read from SysFS had negative value (-1), but there must be at least one NUMA node, so returning NUMA node zero\n",
      "2022-07-31 13:02:06.105258: I tensorflow/stream_executor/cuda/cuda_gpu_executor.cc:937] successful NUMA node read from SysFS had negative value (-1), but there must be at least one NUMA node, so returning NUMA node zero\n",
      "2022-07-31 13:02:06.106147: I tensorflow/stream_executor/cuda/cuda_gpu_executor.cc:937] successful NUMA node read from SysFS had negative value (-1), but there must be at least one NUMA node, so returning NUMA node zero\n",
      "2022-07-31 13:02:06.107604: I tensorflow/core/platform/cpu_feature_guard.cc:142] This TensorFlow binary is optimized with oneAPI Deep Neural Network Library (oneDNN) to use the following CPU instructions in performance-critical operations:  AVX2 AVX512F FMA\n",
      "To enable them in other operations, rebuild TensorFlow with the appropriate compiler flags.\n",
      "2022-07-31 13:02:06.107949: I tensorflow/stream_executor/cuda/cuda_gpu_executor.cc:937] successful NUMA node read from SysFS had negative value (-1), but there must be at least one NUMA node, so returning NUMA node zero\n",
      "2022-07-31 13:02:06.108677: I tensorflow/stream_executor/cuda/cuda_gpu_executor.cc:937] successful NUMA node read from SysFS had negative value (-1), but there must be at least one NUMA node, so returning NUMA node zero\n",
      "2022-07-31 13:02:06.109390: I tensorflow/stream_executor/cuda/cuda_gpu_executor.cc:937] successful NUMA node read from SysFS had negative value (-1), but there must be at least one NUMA node, so returning NUMA node zero\n",
      "2022-07-31 13:02:08.358930: I tensorflow/stream_executor/cuda/cuda_gpu_executor.cc:937] successful NUMA node read from SysFS had negative value (-1), but there must be at least one NUMA node, so returning NUMA node zero\n",
      "2022-07-31 13:02:08.360186: I tensorflow/stream_executor/cuda/cuda_gpu_executor.cc:937] successful NUMA node read from SysFS had negative value (-1), but there must be at least one NUMA node, so returning NUMA node zero\n",
      "2022-07-31 13:02:08.361300: I tensorflow/stream_executor/cuda/cuda_gpu_executor.cc:937] successful NUMA node read from SysFS had negative value (-1), but there must be at least one NUMA node, so returning NUMA node zero\n",
      "2022-07-31 13:02:08.362333: I tensorflow/core/common_runtime/gpu/gpu_device.cc:1510] Created device /job:localhost/replica:0/task:0/device:GPU:0 with 15403 MB memory:  -> device: 0, name: Tesla P100-PCIE-16GB, pci bus id: 0000:00:04.0, compute capability: 6.0\n"
     ]
    },
    {
     "name": "stdout",
     "output_type": "stream",
     "text": [
      "Model: \"sequential\"\n",
      "_________________________________________________________________\n",
      "Layer (type)                 Output Shape              Param #   \n",
      "=================================================================\n",
      "conv2d (Conv2D)              (None, 28, 28, 32)        320       \n",
      "_________________________________________________________________\n",
      "conv2d_1 (Conv2D)            (None, 28, 28, 32)        9248      \n",
      "_________________________________________________________________\n",
      "max_pooling2d (MaxPooling2D) (None, 14, 14, 32)        0         \n",
      "_________________________________________________________________\n",
      "flatten (Flatten)            (None, 6272)              0         \n",
      "_________________________________________________________________\n",
      "dense (Dense)                (None, 128)               802944    \n",
      "_________________________________________________________________\n",
      "dense_1 (Dense)              (None, 10)                1290      \n",
      "=================================================================\n",
      "Total params: 813,802\n",
      "Trainable params: 813,802\n",
      "Non-trainable params: 0\n",
      "_________________________________________________________________\n",
      "None\n"
     ]
    }
   ],
   "source": [
    "# 简化 与上面进行对比\n",
    "model = keras.models.Sequential()\n",
    "model.add(keras.layers.Conv2D(filters=32,kernel_size=3,\n",
    "                              padding='same',\n",
    "                              activation='relu',\n",
    "                              input_shape=(28,28,1)))\n",
    "model.add(keras.layers.Conv2D(filters=32,kernel_size=3,\n",
    "                              padding='same',\n",
    "                              activation='relu'))\n",
    "model.add(keras.layers.MaxPool2D(pool_size=2))\n",
    "model.add(keras.layers.Flatten())\n",
    "model.add(keras.layers.Dense(128,activation='relu'))\n",
    "model.add(keras.layers.Dense(10,activation=\"softmax\"))\n",
    "model.compile(loss='sparse_categorical_crossentropy',\n",
    "              optimizer='sgd',\n",
    "              metrics=['accuracy'])\n",
    "print(model.summary())"
   ]
  },
  {
   "cell_type": "code",
   "execution_count": 10,
   "id": "e216c43a",
   "metadata": {
    "collapsed": false,
    "execution": {
     "iopub.execute_input": "2022-07-31T13:02:08.914000Z",
     "iopub.status.busy": "2022-07-31T13:02:08.913188Z",
     "iopub.status.idle": "2022-07-31T13:03:46.707916Z",
     "shell.execute_reply": "2022-07-31T13:03:46.706905Z"
    },
    "jupyter": {
     "outputs_hidden": false
    },
    "papermill": {
     "duration": 97.805315,
     "end_time": "2022-07-31T13:03:46.710159",
     "exception": false,
     "start_time": "2022-07-31T13:02:08.904844",
     "status": "completed"
    },
    "pycharm": {
     "name": "#%%\n"
    },
    "tags": []
   },
   "outputs": [
    {
     "name": "stderr",
     "output_type": "stream",
     "text": [
      "2022-07-31 13:02:08.921240: I tensorflow/core/profiler/lib/profiler_session.cc:131] Profiler session initializing.\n",
      "2022-07-31 13:02:08.921281: I tensorflow/core/profiler/lib/profiler_session.cc:146] Profiler session started.\n",
      "2022-07-31 13:02:08.923668: I tensorflow/core/profiler/internal/gpu/cupti_tracer.cc:1614] Profiler found 1 GPUs\n",
      "2022-07-31 13:02:09.143574: I tensorflow/core/profiler/lib/profiler_session.cc:164] Profiler session tear down.\n",
      "2022-07-31 13:02:09.143748: I tensorflow/core/profiler/internal/gpu/cupti_tracer.cc:1748] CUPTI activity buffer flushed\n",
      "2022-07-31 13:02:09.662733: I tensorflow/compiler/mlir/mlir_graph_optimization_pass.cc:185] None of the MLIR Optimization Passes are enabled (registered 2)\n"
     ]
    },
    {
     "name": "stdout",
     "output_type": "stream",
     "text": [
      "Epoch 1/100\n"
     ]
    },
    {
     "name": "stderr",
     "output_type": "stream",
     "text": [
      "2022-07-31 13:02:10.952707: I tensorflow/stream_executor/cuda/cuda_dnn.cc:369] Loaded cuDNN version 8005\n"
     ]
    },
    {
     "name": "stdout",
     "output_type": "stream",
     "text": [
      "   1/1719 [..............................] - ETA: 3:23:47 - loss: 2.3105 - accuracy: 0.0625"
     ]
    },
    {
     "name": "stderr",
     "output_type": "stream",
     "text": [
      "2022-07-31 13:02:16.846346: I tensorflow/core/profiler/lib/profiler_session.cc:131] Profiler session initializing.\n",
      "2022-07-31 13:02:16.846389: I tensorflow/core/profiler/lib/profiler_session.cc:146] Profiler session started.\n"
     ]
    },
    {
     "name": "stdout",
     "output_type": "stream",
     "text": [
      "   3/1719 [..............................] - ETA: 6:44 - loss: 2.2836 - accuracy: 0.0938"
     ]
    },
    {
     "name": "stderr",
     "output_type": "stream",
     "text": [
      "2022-07-31 13:02:17.124728: I tensorflow/core/profiler/lib/profiler_session.cc:66] Profiler session collecting data.\n",
      "2022-07-31 13:02:17.125144: I tensorflow/core/profiler/internal/gpu/cupti_tracer.cc:1748] CUPTI activity buffer flushed\n",
      "2022-07-31 13:02:17.260935: I tensorflow/core/profiler/internal/gpu/cupti_collector.cc:673]  GpuTracer has collected 101 callback api events and 98 activity events. \n",
      "2022-07-31 13:02:17.267862: I tensorflow/core/profiler/lib/profiler_session.cc:164] Profiler session tear down.\n",
      "2022-07-31 13:02:17.279914: I tensorflow/core/profiler/rpc/client/save_profile.cc:136] Creating directory: ./cnn-relu-callbacks/train/plugins/profile/2022_07_31_13_02_17\n",
      "\n",
      "2022-07-31 13:02:17.283242: I tensorflow/core/profiler/rpc/client/save_profile.cc:142] Dumped gzipped tool data for trace.json.gz to ./cnn-relu-callbacks/train/plugins/profile/2022_07_31_13_02_17/d1a5969a7cff.trace.json.gz\n",
      "2022-07-31 13:02:17.298156: I tensorflow/core/profiler/rpc/client/save_profile.cc:136] Creating directory: ./cnn-relu-callbacks/train/plugins/profile/2022_07_31_13_02_17\n",
      "\n",
      "2022-07-31 13:02:17.299392: I tensorflow/core/profiler/rpc/client/save_profile.cc:142] Dumped gzipped tool data for memory_profile.json.gz to ./cnn-relu-callbacks/train/plugins/profile/2022_07_31_13_02_17/d1a5969a7cff.memory_profile.json.gz\n",
      "2022-07-31 13:02:17.299995: I tensorflow/core/profiler/rpc/client/capture_profile.cc:251] Creating directory: ./cnn-relu-callbacks/train/plugins/profile/2022_07_31_13_02_17\n",
      "Dumped tool data for xplane.pb to ./cnn-relu-callbacks/train/plugins/profile/2022_07_31_13_02_17/d1a5969a7cff.xplane.pb\n",
      "Dumped tool data for overview_page.pb to ./cnn-relu-callbacks/train/plugins/profile/2022_07_31_13_02_17/d1a5969a7cff.overview_page.pb\n",
      "Dumped tool data for input_pipeline.pb to ./cnn-relu-callbacks/train/plugins/profile/2022_07_31_13_02_17/d1a5969a7cff.input_pipeline.pb\n",
      "Dumped tool data for tensorflow_stats.pb to ./cnn-relu-callbacks/train/plugins/profile/2022_07_31_13_02_17/d1a5969a7cff.tensorflow_stats.pb\n",
      "Dumped tool data for kernel_stats.pb to ./cnn-relu-callbacks/train/plugins/profile/2022_07_31_13_02_17/d1a5969a7cff.kernel_stats.pb\n",
      "\n"
     ]
    },
    {
     "name": "stdout",
     "output_type": "stream",
     "text": [
      "1719/1719 [==============================] - 13s 3ms/step - loss: 0.5732 - accuracy: 0.7984 - val_loss: 0.4148 - val_accuracy: 0.8534\n",
      "Epoch 2/100\n",
      "1719/1719 [==============================] - 5s 3ms/step - loss: 0.3619 - accuracy: 0.8696 - val_loss: 0.3487 - val_accuracy: 0.8798\n",
      "Epoch 3/100\n",
      "1719/1719 [==============================] - 5s 3ms/step - loss: 0.3117 - accuracy: 0.8878 - val_loss: 0.3178 - val_accuracy: 0.8890\n",
      "Epoch 4/100\n",
      "1719/1719 [==============================] - 5s 3ms/step - loss: 0.2789 - accuracy: 0.8983 - val_loss: 0.2880 - val_accuracy: 0.8994\n",
      "Epoch 5/100\n",
      "1719/1719 [==============================] - 5s 3ms/step - loss: 0.2555 - accuracy: 0.9074 - val_loss: 0.2927 - val_accuracy: 0.8956\n",
      "Epoch 6/100\n",
      "1719/1719 [==============================] - 5s 3ms/step - loss: 0.2362 - accuracy: 0.9133 - val_loss: 0.2534 - val_accuracy: 0.9076\n",
      "Epoch 7/100\n",
      "1719/1719 [==============================] - 5s 3ms/step - loss: 0.2191 - accuracy: 0.9197 - val_loss: 0.2578 - val_accuracy: 0.9116\n",
      "Epoch 8/100\n",
      "1719/1719 [==============================] - 6s 3ms/step - loss: 0.2049 - accuracy: 0.9249 - val_loss: 0.2472 - val_accuracy: 0.9104\n",
      "Epoch 9/100\n",
      "1719/1719 [==============================] - 5s 3ms/step - loss: 0.1923 - accuracy: 0.9298 - val_loss: 0.2626 - val_accuracy: 0.9052\n",
      "Epoch 10/100\n",
      "1719/1719 [==============================] - 5s 3ms/step - loss: 0.1788 - accuracy: 0.9349 - val_loss: 0.2523 - val_accuracy: 0.9108\n",
      "Epoch 11/100\n",
      "1719/1719 [==============================] - 5s 3ms/step - loss: 0.1682 - accuracy: 0.9398 - val_loss: 0.2394 - val_accuracy: 0.9134\n",
      "Epoch 12/100\n",
      "1719/1719 [==============================] - 5s 3ms/step - loss: 0.1564 - accuracy: 0.9429 - val_loss: 0.2352 - val_accuracy: 0.9154\n",
      "Epoch 13/100\n",
      "1719/1719 [==============================] - 5s 3ms/step - loss: 0.1461 - accuracy: 0.9468 - val_loss: 0.2367 - val_accuracy: 0.9186\n",
      "Epoch 14/100\n",
      "1719/1719 [==============================] - 5s 3ms/step - loss: 0.1364 - accuracy: 0.9504 - val_loss: 0.2352 - val_accuracy: 0.9204\n",
      "Epoch 15/100\n",
      "1719/1719 [==============================] - 5s 3ms/step - loss: 0.1267 - accuracy: 0.9548 - val_loss: 0.2893 - val_accuracy: 0.9034\n",
      "Epoch 16/100\n",
      "1719/1719 [==============================] - 5s 3ms/step - loss: 0.1180 - accuracy: 0.9579 - val_loss: 0.2402 - val_accuracy: 0.9212\n",
      "Epoch 17/100\n",
      "1719/1719 [==============================] - 5s 3ms/step - loss: 0.1091 - accuracy: 0.9610 - val_loss: 0.2449 - val_accuracy: 0.9186\n"
     ]
    }
   ],
   "source": [
    "logdir = './cnn-relu-callbacks'\n",
    "if not os.path.exists(logdir):\n",
    "    os.mkdir(logdir)\n",
    "output_model_file = os.path.join(logdir,\n",
    "                                 \"fashion_mnist_model.h5\")\n",
    "callbacks = [\n",
    "    keras.callbacks.TensorBoard(logdir),\n",
    "    keras.callbacks.ModelCheckpoint(output_model_file, save_best_only=True),\n",
    "    keras.callbacks.EarlyStopping(patience=5, min_delta=1e-3), ]\n",
    "history = model.fit(x_train_scaled, y_train, epochs=100,\n",
    "                    validation_data=(x_valid_scaled, y_valid),\n",
    "                    callbacks=callbacks)"
   ]
  },
  {
   "cell_type": "code",
   "execution_count": 11,
   "id": "5fc49666",
   "metadata": {
    "collapsed": false,
    "execution": {
     "iopub.execute_input": "2022-07-31T13:03:46.965434Z",
     "iopub.status.busy": "2022-07-31T13:03:46.964518Z",
     "iopub.status.idle": "2022-07-31T13:04:32.248919Z",
     "shell.execute_reply": "2022-07-31T13:04:32.247794Z"
    },
    "jupyter": {
     "outputs_hidden": false
    },
    "papermill": {
     "duration": 45.542026,
     "end_time": "2022-07-31T13:04:32.379538",
     "exception": false,
     "start_time": "2022-07-31T13:03:46.837512",
     "status": "completed"
    },
    "pycharm": {
     "name": "#%%\n"
    },
    "tags": []
   },
   "outputs": [
    {
     "data": {
      "image/png": "[encoded data removed]",
      "text/plain": [
       "<Figure size 576x360 with 1 Axes>"
      ]
     },
     "metadata": {
      "needs_background": "light"
     },
     "output_type": "display_data"
    }
   ],
   "source": [
    "def plot_learning_curves(history):\n",
    "    pd.DataFrame(history.history).plot(figsize=(8, 5))\n",
    "    plt.grid(True)\n",
    "    plt.gca().set_ylim(0, 1)\n",
    "    plt.show()\n",
    "\n",
    "\n",
    "plot_learning_curves(history)"
   ]
  },
  {
   "cell_type": "code",
   "execution_count": 12,
   "id": "86f1237b",
   "metadata": {
    "collapsed": false,
    "execution": {
     "iopub.execute_input": "2022-07-31T13:04:32.633458Z",
     "iopub.status.busy": "2022-07-31T13:04:32.633098Z",
     "iopub.status.idle": "2022-07-31T13:04:33.211711Z",
     "shell.execute_reply": "2022-07-31T13:04:33.209312Z"
    },
    "jupyter": {
     "outputs_hidden": false
    },
    "papermill": {
     "duration": 0.708082,
     "end_time": "2022-07-31T13:04:33.214543",
     "exception": false,
     "start_time": "2022-07-31T13:04:32.506461",
     "status": "completed"
    },
    "pycharm": {
     "name": "#%%\n"
    },
    "tags": []
   },
   "outputs": [
    {
     "name": "stdout",
     "output_type": "stream",
     "text": [
      "[0.2710089087486267, 0.9136000275611877]\n"
     ]
    }
   ],
   "source": [
    "print(model.evaluate(x_test_scaled, y_test, verbose=0))"
   ]
  },
  {
   "cell_type": "code",
   "execution_count": 13,
   "id": "adf1ecec",
   "metadata": {
    "collapsed": false,
    "execution": {
     "iopub.execute_input": "2022-07-31T13:04:33.470221Z",
     "iopub.status.busy": "2022-07-31T13:04:33.469849Z",
     "iopub.status.idle": "2022-07-31T13:04:33.487864Z",
     "shell.execute_reply": "2022-07-31T13:04:33.486913Z"
    },
    "jupyter": {
     "outputs_hidden": false
    },
    "papermill": {
     "duration": 0.148069,
     "end_time": "2022-07-31T13:04:33.489935",
     "exception": false,
     "start_time": "2022-07-31T13:04:33.341866",
     "status": "completed"
    },
    "pycharm": {
     "name": "#%%\n"
    },
    "tags": []
   },
   "outputs": [
    {
     "name": "stdout",
     "output_type": "stream",
     "text": [
      "(3, 3)\n",
      "tf.Tensor(\n",
      "[[[[1.]\n",
      "   [2.]\n",
      "   [3.]]\n",
      "\n",
      "  [[4.]\n",
      "   [5.]\n",
      "   [6.]]\n",
      "\n",
      "  [[7.]\n",
      "   [8.]\n",
      "   [9.]]]], shape=(1, 3, 3, 1), dtype=float32)\n"
     ]
    },
    {
     "data": {
      "text/plain": [
       "<tf.Tensor: shape=(1, 1), dtype=float32, numpy=array([[9.]], dtype=float32)>"
      ]
     },
     "execution_count": 13,
     "metadata": {},
     "output_type": "execute_result"
    }
   ],
   "source": [
    "# 通过下面方法来确定某一层输出尺寸\n",
    "x = tf.constant([[1., 2., 3.],\n",
    "                 [4., 5., 6.],\n",
    "                 [7., 8., 9.]])\n",
    "print(x.shape)\n",
    "x = tf.reshape(x, [1, 3, 3, 1])\n",
    "max_pool_2d=tf.keras.layers.MaxPooling2D(pool_size=(2,2),\n",
    "                                         strides=(1,1),padding='valid')\n",
    "print(x)\n",
    "max_pool_2d(x)\n",
    "gmp=tf.keras.layers.GlobalMaxPooling2D()\n",
    "gmp(x)"
   ]
  }
 ],
 "metadata": {
  "kernelspec": {
   "display_name": "Python 3",
   "language": "python",
   "name": "python3"
  },
  "language_info": {
   "codemirror_mode": {
    "name": "ipython",
    "version": 3
   },
   "file_extension": ".py",
   "mimetype": "text/x-python",
   "name": "python",
   "nbconvert_exporter": "python",
   "pygments_lexer": "ipython3",
   "version": "3.7.12"
  },
  "papermill": {
   "default_parameters": {},
   "duration": 169.509846,
   "end_time": "2022-07-31T13:04:37.338179",
   "environment_variables": {},
   "exception": null,
   "input_path": "__notebook__.ipynb",
   "output_path": "__notebook__.ipynb",
   "parameters": {},
   "start_time": "2022-07-31T13:01:47.828333",
   "version": "2.3.4"
  }
 },
 "nbformat": 4,
 "nbformat_minor": 5
}

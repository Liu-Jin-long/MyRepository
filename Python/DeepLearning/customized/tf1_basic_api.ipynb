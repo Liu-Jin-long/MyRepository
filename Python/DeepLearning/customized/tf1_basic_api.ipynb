{
 "cells": [
  {
   "cell_type": "code",
   "execution_count": 114,
   "metadata": {},
   "outputs": [],
   "source": [
    "# TensorFlow的一些简单接口"
   ]
  },
  {
   "cell_type": "code",
   "execution_count": null,
   "outputs": [],
   "source": [
    "import numpy as np\n",
    "import pandas as pd\n",
    "import time\n",
    "import tensorflow as tf"
   ],
   "metadata": {
    "collapsed": false,
    "pycharm": {
     "name": "#%%\n"
    }
   }
  },
  {
   "cell_type": "code",
   "execution_count": 115,
   "metadata": {
    "pycharm": {
     "name": "#%%\n"
    }
   },
   "outputs": [
    {
     "name": "stdout",
     "output_type": "stream",
     "text": [
      "tf.Tensor(\n",
      "[[1. 2. 3.]\n",
      " [4. 5. 6.]], shape=(2, 3), dtype=float32)\n",
      "tf.Tensor(\n",
      "[[2. 3.]\n",
      " [5. 6.]], shape=(2, 2), dtype=float32)\n",
      "tf.Tensor([2. 5.], shape=(2,), dtype=float32)\n",
      "<class 'numpy.ndarray'>\n"
     ]
    }
   ],
   "source": [
    "# constant是常量张量\n",
    "c = tf.constant([[1., 2., 3.], [4., 5., 6.]])\n",
    "# 高版本能够直接获取值是因为execution默认打开的\n",
    "print(c)\n",
    "print(c[:,1:])\n",
    "print(c[...,1])\n",
    "# c.assign(1) # 对常量不能再次assign进行设置\n",
    "print(type(c.numpy())) # 转为ndarray"
   ]
  },
  {
   "cell_type": "code",
   "execution_count": 116,
   "metadata": {},
   "outputs": [
    {
     "name": "stdout",
     "output_type": "stream",
     "text": [
      "tf.Tensor(\n",
      "[[1. 2. 3.]\n",
      " [4. 5. 6.]], shape=(2, 3), dtype=float32)\n",
      "<class 'tensorflow.python.framework.ops.EagerTensor'>\n"
     ]
    }
   ],
   "source": [
    "nd=c.numpy()\n",
    "t1=tf.constant(nd) # 把ndarray变为张量\n",
    "print(t1)\n",
    "print(type(t1))"
   ]
  },
  {
   "cell_type": "code",
   "execution_count": 117,
   "metadata": {},
   "outputs": [
    {
     "name": "stdout",
     "output_type": "stream",
     "text": [
      "tf.Tensor(\n",
      "[[1. 2. 3.]\n",
      " [4. 5. 6.]], shape=(2, 3), dtype=float32)\n",
      "tf.Tensor(\n",
      "[[11. 12. 13.]\n",
      " [14. 15. 16.]], shape=(2, 3), dtype=float32)\n",
      "tf.Tensor(\n",
      "[[ 1.  4.  9.]\n",
      " [16. 25. 36.]], shape=(2, 3), dtype=float32)\n",
      "tf.Tensor(\n",
      "[[1. 2. 3.]\n",
      " [4. 5. 6.]], shape=(2, 3), dtype=float32)\n",
      "tf.Tensor(\n",
      "[[1. 4.]\n",
      " [2. 5.]\n",
      " [3. 6.]], shape=(3, 2), dtype=float32)\n",
      "tf.Tensor(\n",
      "[[14. 32.]\n",
      " [32. 77.]], shape=(2, 2), dtype=float32)\n",
      "tf.Tensor(\n",
      "[[ 1.  8. 21.]\n",
      " [ 8. 25. 48.]\n",
      " [21. 48. 81.]], shape=(3, 3), dtype=float32)\n",
      "tf.Tensor(\n",
      "[[1. 2. 3.]\n",
      " [4. 5. 6.]], shape=(2, 3), dtype=float32)\n"
     ]
    }
   ],
   "source": [
    "# ops 使用tf本身的math接口对Tensor进行计算\n",
    "print(c)\n",
    "print(c+10)\n",
    "print(tf.square(c))\n",
    "print(c)\n",
    "print(tf.transpose(c))\n",
    "# 矩阵乘以自己的转置矩阵\n",
    "# @是矩阵乘法  *是对应位置元素相乘运算\n",
    "print(c@tf.transpose(c))\n",
    "C = tf.constant([[1., 2., 3.], [4., 5., 6.],[7, 8, 9]])\n",
    "print(C*tf.transpose(C))\n",
    "print(c)"
   ]
  },
  {
   "cell_type": "code",
   "execution_count": 118,
   "metadata": {},
   "outputs": [
    {
     "name": "stdout",
     "output_type": "stream",
     "text": [
      "tf.Tensor(\n",
      "[[1.        1.4142135 1.7320508]\n",
      " [2.        2.236068  2.4494898]], shape=(2, 3), dtype=float32)\n",
      "tf.Tensor(\n",
      "[[1.        1.4142135 1.7320508]\n",
      " [2.        2.236068  2.4494898]], shape=(2, 3), dtype=float32)\n",
      "tf.Tensor(\n",
      "[[0.        0.6931472 1.0986123]\n",
      " [1.3862944 1.609438  1.7917595]], shape=(2, 3), dtype=float32)\n"
     ]
    }
   ],
   "source": [
    "print(tf.sqrt(c))\n",
    "print(tf.math.sqrt(c))\n",
    "print(tf.math.log(c))"
   ]
  },
  {
   "cell_type": "code",
   "execution_count": 119,
   "metadata": {
    "scrolled": true
   },
   "outputs": [
    {
     "name": "stdout",
     "output_type": "stream",
     "text": [
      "[[1. 2. 3.]\n",
      " [4. 5. 6.]]\n",
      "[[1.0, 2.0, 3.0], [4.0, 5.0, 6.0]]\n",
      "<class 'numpy.ndarray'>\n",
      "[[ 1.  4.  9.]\n",
      " [16. 25. 36.]]\n",
      "<class 'numpy.ndarray'>\n",
      "tf.Tensor(\n",
      "[[1. 2. 3.]\n",
      " [4. 5. 6.]], shape=(2, 3), dtype=float64)\n",
      "<class 'tensorflow.python.framework.ops.EagerTensor'>\n"
     ]
    }
   ],
   "source": [
    "# numpy conversion\n",
    "print(c.numpy()) # 可以直接通过numpy取出来\n",
    "print(c.numpy().tolist())\n",
    "print(type(c.numpy())) # <class 'numpy.ndarray'>\n",
    "print(np.square(c))\n",
    "print(type(np.square(c))) # <class 'numpy.ndarray'>\n",
    "np_t = np.array([[1., 2., 3.], [4., 5., 6.]])\n",
    "print(tf.constant(np_t))\n",
    "print(type(tf.constant(np_t)))"
   ]
  },
  {
   "cell_type": "code",
   "execution_count": 120,
   "metadata": {},
   "outputs": [
    {
     "name": "stdout",
     "output_type": "stream",
     "text": [
      "tf.Tensor(3.1415927, shape=(), dtype=float32)\n",
      "3.1415927\n",
      "()\n"
     ]
    }
   ],
   "source": [
    "# 标量 scalar\n",
    "s=tf.constant(3.14159265)\n",
    "print(s)\n",
    "print(s.numpy())\n",
    "print(s.shape)"
   ]
  },
  {
   "cell_type": "code",
   "execution_count": 121,
   "metadata": {},
   "outputs": [
    {
     "name": "stdout",
     "output_type": "stream",
     "text": [
      "tf.Tensor(b'cafe', shape=(), dtype=string)\n",
      "tf.Tensor(4, shape=(), dtype=int32)\n",
      "tf.Tensor(4, shape=(), dtype=int32)\n",
      "tf.Tensor([ 99  97 102 101], shape=(4,), dtype=int32)\n"
     ]
    }
   ],
   "source": [
    "# strings\n",
    "t_str=tf.constant('cafe')\n",
    "print(t_str)\n",
    "print(tf.strings.length(t_str))\n",
    "print(tf.strings.length(t_str,unit='UTF8_CHAR'))\n",
    "print(tf.strings.unicode_decode(t_str,'UTF8'))\n"
   ]
  },
  {
   "cell_type": "code",
   "execution_count": 122,
   "metadata": {},
   "outputs": [
    {
     "name": "stdout",
     "output_type": "stream",
     "text": [
      "tf.Tensor([4 6 6], shape=(3,), dtype=int32)\n",
      "tf.Tensor([4 6 2], shape=(3,), dtype=int32)\n",
      "tf.Tensor([4 6 6], shape=(3,), dtype=int32)\n",
      "<tf.RaggedTensor [[99, 97, 102, 101], [99, 111, 102, 102, 101, 101], [21654, 21857]]>\n"
     ]
    }
   ],
   "source": [
    "# string array\n",
    "t_str_arr = tf.constant([\"cafe\", \"coffee\", \"咖啡\"])\n",
    "# 自动求出数组中每一个字符的长度\n",
    "print(tf.strings.length(t_str_arr)) # 实际字节存储的长度\n",
    "print(tf.strings.length(t_str_arr,unit='UTF8_CHAR'))\n",
    "print(tf.strings.length(t_str_arr,unit='BYTE'))\n",
    "# https://tool.chinaz.com/tools/unicode.aspx  汉字转的是unicode编码\n",
    "r=tf.strings.unicode_decode(t_str_arr,'UTF8')\n",
    "print(r)"
   ]
  },
  {
   "cell_type": "code",
   "execution_count": 123,
   "metadata": {
    "scrolled": true
   },
   "outputs": [
    {
     "name": "stdout",
     "output_type": "stream",
     "text": [
      "<tf.RaggedTensor [[11, 12], [21, 22, 23], [0], [41]]>\n",
      "(4, None)\n",
      "tf.Tensor([21 22 23], shape=(3,), dtype=int32)\n",
      "<class 'tensorflow.python.framework.ops.EagerTensor'>\n",
      "<tf.RaggedTensor [[0]]>\n",
      "<class 'tensorflow.python.ops.ragged.ragged_tensor.RaggedTensor'>\n",
      "--------------------------------------------------\n",
      "tf.Tensor(22, shape=(), dtype=int32)\n"
     ]
    }
   ],
   "source": [
    "# TensorFlow2.0新增 RaggedTensor 是指形状分布不固定的（行元素个数不相等）\n",
    "# ragged tensor\n",
    "r = tf.ragged.constant([[11, 12], [21, 22, 23], [0], [41]])\n",
    "print(r)\n",
    "print(r.shape)\n",
    "print(r[1])\n",
    "print(type(r[2])) # <class 'tensorflow.python.framework.ops.EagerTensor'>\n",
    "print(r[2:3])\n",
    "print(type(r[2:3])) # <class 'tensorflow.python.ops.ragged.ragged_tensor.RaggedTensor'>\n",
    "print('-'*50)\n",
    "print(r[1,1])\n",
    "# print(r[:,0]) # 不能取列索引"
   ]
  },
  {
   "cell_type": "code",
   "execution_count": 124,
   "metadata": {},
   "outputs": [
    {
     "name": "stdout",
     "output_type": "stream",
     "text": [
      "<tf.RaggedTensor [[11, 12], [21, 22, 23], [0], [41], [51, 52], [], [], [71]]>\n",
      "<tf.RaggedTensor [[11, 12, 51, 52], [21, 22, 23], [0], [41, 71]]>\n"
     ]
    }
   ],
   "source": [
    "# ops on ragged tensor\n",
    "r2 = tf.ragged.constant([[51, 52],[], [], [71]])\n",
    "print(tf.concat([r,r2],axis=0))\n",
    "print(tf.concat([r,r2],axis=1)) # 注意行数不相等不可以拼接"
   ]
  },
  {
   "cell_type": "code",
   "execution_count": 125,
   "metadata": {},
   "outputs": [
    {
     "name": "stdout",
     "output_type": "stream",
     "text": [
      "<tf.RaggedTensor [[11, 12], [21, 22, 23], [0], [41]]>\n",
      "tf.Tensor(\n",
      "[[11 12  0]\n",
      " [21 22 23]\n",
      " [ 0  0  0]\n",
      " [41  0  0]], shape=(4, 3), dtype=int32)\n"
     ]
    }
   ],
   "source": [
    "print(r)\n",
    "# 各种深度学习模型必须输入一个tensor\n",
    "print(r.to_tensor()) # 空位往后补0"
   ]
  },
  {
   "cell_type": "code",
   "execution_count": 126,
   "metadata": {},
   "outputs": [
    {
     "name": "stdout",
     "output_type": "stream",
     "text": [
      "SparseTensor(indices=tf.Tensor(\n",
      "[[0 1]\n",
      " [1 0]\n",
      " [2 3]\n",
      " [3 2]], shape=(4, 2), dtype=int64), values=tf.Tensor([1. 2. 3. 5.], shape=(4,), dtype=float32), dense_shape=tf.Tensor([4 4], shape=(2,), dtype=int64))\n",
      "tf.Tensor(\n",
      "[[0. 1. 0. 0.]\n",
      " [2. 0. 0. 0.]\n",
      " [0. 0. 0. 3.]\n",
      " [0. 0. 5. 0.]], shape=(4, 4), dtype=float32)\n"
     ]
    }
   ],
   "source": [
    "# sparse tensor 可以往前面补零,sparse tensor从第一行依次往下填位置\n",
    "# sparese tensor存储节省内存空间，磁盘空间\n",
    "s=tf.SparseTensor(indices=[[0, 1], [1, 0], [2, 3],[3, 2]], # 位置\n",
    "                 values=[1, 2, 3., 5], # 值\n",
    "                 dense_shape=[4, 4]) # 维数\n",
    "print(s)\n",
    "tt=tf.sparse.to_dense(s)\n",
    "print(tt)"
   ]
  },
  {
   "cell_type": "code",
   "execution_count": 127,
   "metadata": {},
   "outputs": [
    {
     "name": "stdout",
     "output_type": "stream",
     "text": [
      "SparseTensor(indices=tf.Tensor(\n",
      "[[0 1]\n",
      " [1 0]\n",
      " [2 3]\n",
      " [3 2]], shape=(4, 2), dtype=int64), values=tf.Tensor([ 2.  4.  6. 10.], shape=(4,), dtype=float32), dense_shape=tf.Tensor([4 4], shape=(2,), dtype=int64))\n",
      "unsupported operand type(s) for +: 'SparseTensor' and 'SparseTensor'\n",
      "tf.Tensor(\n",
      "[[ 30.  40.]\n",
      " [ 20.  40.]\n",
      " [210. 240.]\n",
      " [250. 300.]], shape=(4, 2), dtype=float32)\n",
      "tf.Tensor(\n",
      "[[ 30.  40.]\n",
      " [ 20.  40.]\n",
      " [210. 240.]\n",
      " [250. 300.]], shape=(4, 2), dtype=float32)\n"
     ]
    }
   ],
   "source": [
    "s2=s*2.\n",
    "print(s2)\n",
    "# SparseTensor不支持加法\n",
    "try:\n",
    "    s3=s+s2\n",
    "except TypeError as ex:\n",
    "    print(ex)\n",
    "t = tf.constant([[10., 20.],\n",
    "                  [30., 40.],\n",
    "                  [50., 60.],\n",
    "                  [70., 80.]])\n",
    "# SparseTensor和Tensor相乘\n",
    "print(tf.sparse.to_dense(s)@t)\n",
    "print(tf.sparse.sparse_dense_matmul(s,t))"
   ]
  },
  {
   "cell_type": "code",
   "execution_count": 128,
   "metadata": {
    "scrolled": true
   },
   "outputs": [
    {
     "name": "stdout",
     "output_type": "stream",
     "text": [
      "SparseTensor(indices=tf.Tensor(\n",
      "[[0 2]\n",
      " [2 3]\n",
      " [1 2]\n",
      " [0 1]], shape=(4, 2), dtype=int64), values=tf.Tensor([1. 2. 3. 4.], shape=(4,), dtype=float32), dense_shape=tf.Tensor([3 4], shape=(2,), dtype=int64))\n",
      "SparseTensor(indices=tf.Tensor(\n",
      "[[0 1]\n",
      " [0 2]\n",
      " [1 2]\n",
      " [2 3]], shape=(4, 2), dtype=int64), values=tf.Tensor([4. 1. 3. 2.], shape=(4,), dtype=float32), dense_shape=tf.Tensor([3 4], shape=(2,), dtype=int64))\n",
      "tf.Tensor(\n",
      "[[0. 4. 1. 0.]\n",
      " [0. 0. 3. 0.]\n",
      " [0. 0. 0. 2.]], shape=(3, 4), dtype=float32)\n"
     ]
    }
   ],
   "source": [
    "s = tf.SparseTensor(indices = [[0, 2], [2, 3], [1, 2], [0, 1]],\n",
    "                    values = [1., 2., 3., 4],\n",
    "                    dense_shape = [3, 4])\n",
    "# print(tf.sparse.to_dense(s)) # SparseTensor的indices无序时，不能转为tensor\n",
    "print(s)\n",
    "ss=tf.sparse.reorder(s)\n",
    "print(ss)\n",
    "print(tf.sparse.to_dense(ss))\n"
   ]
  },
  {
   "cell_type": "code",
   "execution_count": 129,
   "metadata": {},
   "outputs": [
    {
     "name": "stdout",
     "output_type": "stream",
     "text": [
      "<tf.Variable 'Variable:0' shape=(2, 3) dtype=float32, numpy=\n",
      "array([[1., 2., 3.],\n",
      "       [4., 5., 6.]], dtype=float32)>\n",
      "<class 'tensorflow.python.ops.resource_variable_ops.ResourceVariable'>\n",
      "tf.Tensor(\n",
      "[[1. 2. 3.]\n",
      " [4. 5. 6.]], shape=(2, 3), dtype=float32)\n",
      "[[1. 2. 3.]\n",
      " [4. 5. 6.]]\n"
     ]
    }
   ],
   "source": [
    "# Variables\n",
    "v = tf.Variable([[1., 2., 3.], [4., 5.,6.]])\n",
    "print(v)\n",
    "print(type(v)) # <class 'tensorflow.python.ops.resource_variable_ops.ResourceVariable'>\n",
    "print(v.value())\n",
    "print(v.numpy())"
   ]
  },
  {
   "cell_type": "code",
   "execution_count": 130,
   "metadata": {},
   "outputs": [
    {
     "name": "stdout",
     "output_type": "stream",
     "text": [
      "1445085386592\n",
      "[[ 2.  4.  6.]\n",
      " [ 8. 10. 12.]]\n",
      "--------------------------------------------------\n",
      "[[ 2. 66.  6.]\n",
      " [ 8. 10. 12.]]\n",
      "1445085386592\n",
      "--------------------------------------------------\n",
      "[[ 2. 66.  6.]\n",
      " [ 7.  8.  9.]]\n",
      "1445085386592\n",
      "<class 'tensorflow.python.ops.resource_variable_ops.ResourceVariable'>\n"
     ]
    }
   ],
   "source": [
    "# 修改变量时要用assign，会在原地址空间改变tensor内某个值\n",
    "print(id(v))\n",
    "v.assign(v*2)\n",
    "print(v.numpy())\n",
    "print('-'*50)\n",
    "v[0,1].assign(66)\n",
    "print(v.numpy())\n",
    "print(id(v))\n",
    "print('-'*50)\n",
    "v[1].assign([7., 8., 9.])\n",
    "print(v.numpy())\n",
    "print(id(v))\n",
    "print(type(v))"
   ]
  },
  {
   "cell_type": "code",
   "execution_count": 131,
   "metadata": {
    "scrolled": true
   },
   "outputs": [
    {
     "name": "stdout",
     "output_type": "stream",
     "text": [
      "'ResourceVariable' object does not support item assignment\n"
     ]
    }
   ],
   "source": [
    "try:\n",
    "    v[1]=[7,8,9.]\n",
    "except TypeError as ex:\n",
    "    print(ex)"
   ]
  },
  {
   "cell_type": "code",
   "execution_count": 132,
   "metadata": {},
   "outputs": [
    {
     "name": "stdout",
     "output_type": "stream",
     "text": [
      "tf.Tensor(\n",
      "[[  4. 132.  12.]\n",
      " [ 14.  16.  18.]], shape=(2, 3), dtype=float32)\n",
      "1445007212608\n",
      "<class 'tensorflow.python.framework.ops.EagerTensor'>\n"
     ]
    }
   ],
   "source": [
    "\n",
    "v=2*v\n",
    "print(v)\n",
    "print(id(v))\n",
    "print(type(v)) # <class 'tensorflow.python.framework.ops.EagerTensor'>"
   ]
  },
  {
   "cell_type": "code",
   "execution_count": 133,
   "metadata": {},
   "outputs": [
    {
     "name": "stdout",
     "output_type": "stream",
     "text": [
      "tf.Tensor([1.5 1.5], shape=(2,), dtype=float32)\n",
      "tf.Tensor([1. 2.], shape=(2,), dtype=float32)\n"
     ]
    }
   ],
   "source": [
    "x = tf.constant([[1., 1.], [2., 2.]])\n",
    "# 计算张量tensor沿着指定的数轴（tensor的某一维度）上的平均值\n",
    "print(tf.reduce_mean(x, axis=0))\n",
    "print(tf.reduce_mean(x, axis=1))"
   ]
  }
 ],
 "metadata": {
  "kernelspec": {
   "display_name": "Python 3 (ipykernel)",
   "language": "python",
   "name": "python3"
  },
  "language_info": {
   "codemirror_mode": {
    "name": "ipython",
    "version": 3
   },
   "file_extension": ".py",
   "mimetype": "text/x-python",
   "name": "python",
   "nbconvert_exporter": "python",
   "pygments_lexer": "ipython3",
   "version": "3.9.7"
  }
 },
 "nbformat": 4,
 "nbformat_minor": 1
}
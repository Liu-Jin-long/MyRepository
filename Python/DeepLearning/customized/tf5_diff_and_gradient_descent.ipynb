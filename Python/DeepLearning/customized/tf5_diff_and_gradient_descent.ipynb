{
 "cells": [
  {
   "cell_type": "code",
   "execution_count": 107,
   "metadata": {},
   "outputs": [],
   "source": [
    "# 手动近似求导 实现梯度下降\n",
    "# diff求导函数 Difference and approximate derivative"
   ]
  },
  {
   "cell_type": "code",
   "execution_count": null,
   "outputs": [],
   "source": [
    "import numpy as np\n",
    "import pandas as pd\n",
    "import tensorflow as tf\n",
    "from tensorflow import keras"
   ],
   "metadata": {
    "collapsed": false,
    "pycharm": {
     "name": "#%%\n"
    }
   }
  },
  {
   "cell_type": "code",
   "execution_count": 108,
   "metadata": {
    "pycharm": {
     "name": "#%%\n"
    }
   },
   "outputs": [
    {
     "name": "stdout",
     "output_type": "stream",
     "text": [
      "7.999999999994678\n"
     ]
    }
   ],
   "source": [
    "# 近似求导\n",
    "def f(x):\n",
    "    return 3. * x ** 2 + 2. * x - 1\n",
    "    # 6x + 2\n",
    "\n",
    "\n",
    "def approximate_derivative(f, x, eps=1e-4):\n",
    "    return (f(x + eps) - f(x - eps)) / (2. * eps)\n",
    "\n",
    "\n",
    "print(approximate_derivative(f, 1.))"
   ]
  },
  {
   "cell_type": "code",
   "execution_count": 109,
   "metadata": {
    "pycharm": {
     "name": "#%%\n"
    }
   },
   "outputs": [
    {
     "name": "stdout",
     "output_type": "stream",
     "text": [
      "(8.999999999993236, 41.999999999994486)\n"
     ]
    }
   ],
   "source": [
    "# 求偏导\n",
    "def g(x, y):\n",
    "    return (x + 5) * (y ** 2)\n",
    "\n",
    "\n",
    "def approximate_gradient(g, x, y, eps=1e-3):\n",
    "    dg_dx = approximate_derivative(lambda a: g(a, y), x, eps)\n",
    "    dg_dy = approximate_derivative(lambda a: g(x, a), y, eps)\n",
    "    return dg_dx, dg_dy\n",
    "\n",
    "\n",
    "print(approximate_gradient(g, 2, 3))"
   ]
  },
  {
   "cell_type": "code",
   "execution_count": 110,
   "metadata": {
    "pycharm": {
     "name": "#%%\n"
    }
   },
   "outputs": [
    {
     "name": "stdout",
     "output_type": "stream",
     "text": [
      "[<tf.Tensor: shape=(), dtype=float32, numpy=9.0>, <tf.Tensor: shape=(), dtype=float32, numpy=42.0>]\n",
      "--------------------------------------------------\n",
      "<tf.Variable 'Variable:0' shape=() dtype=float32, numpy=2.0>\n",
      "--------------------------------------------------\n",
      "A non-persistent GradientTape can only be used to compute one set of gradients (or jacobians)\n"
     ]
    }
   ],
   "source": [
    "# tensorflow提供的近似求导\n",
    "x = tf.Variable(2.)\n",
    "y = tf.Variable(3.)\n",
    "# tape只能使用一次\n",
    "with tf.GradientTape() as tape:\n",
    "    z = g(x, y)\n",
    "# 求偏导\n",
    "dz_dx = tape.gradient(z, [x, y])  ##############\n",
    "print(dz_dx)\n",
    "print('-' * 50)\n",
    "print(x)\n",
    "print('-' * 50)\n",
    "try:\n",
    "    dz_dy = tape.gradient(z, y)\n",
    "except RuntimeError as ex:\n",
    "    print(ex)"
   ]
  },
  {
   "cell_type": "code",
   "execution_count": 111,
   "metadata": {
    "pycharm": {
     "name": "#%%\n"
    }
   },
   "outputs": [
    {
     "name": "stdout",
     "output_type": "stream",
     "text": [
      "tf.Tensor(9.0, shape=(), dtype=float32) tf.Tensor(42.0, shape=(), dtype=float32)\n",
      "--------------------------------------------------\n",
      "[<tf.Tensor: shape=(), dtype=float32, numpy=9.0>, <tf.Tensor: shape=(), dtype=float32, numpy=42.0>]\n",
      "--------------------------------------------------\n",
      "<class 'list'>\n"
     ]
    }
   ],
   "source": [
    "# 进行多次求导 tape使用多次\n",
    "x = tf.Variable(2.)\n",
    "y = tf.Variable(3.)\n",
    "# tape设置persistent使用后不释放 需要自己手动释放\n",
    "with tf.GradientTape(persistent=True) as tape:\n",
    "    z = g(x, y)\n",
    "dz_x = tape.gradient(z, x)\n",
    "dz_y = tape.gradient(z, y)\n",
    "print(dz_x, dz_y)\n",
    "print('-' * 50)\n",
    "dz_dx_dy = tape.gradient(z, [x, y])  # 方便损失对多个w进行求导\n",
    "print(dz_dx_dy)\n",
    "print('-' * 50)\n",
    "print(type(dz_dx_dy))\n",
    "del tape"
   ]
  },
  {
   "cell_type": "code",
   "execution_count": 112,
   "metadata": {
    "pycharm": {
     "name": "#%%\n"
    }
   },
   "outputs": [
    {
     "name": "stdout",
     "output_type": "stream",
     "text": [
      "tf.Tensor(1134.0, shape=(), dtype=float32)\n"
     ]
    }
   ],
   "source": [
    "#同时求偏导，传入列表，可以在with中编写多个公式\n",
    "x1 = tf.Variable(2.0)\n",
    "x2 = tf.Variable(3.0)\n",
    "with tf.GradientTape() as tape:\n",
    "    z = g(x, y)\n",
    "    z1 = z * z\n",
    "dz1_x1 = tape.gradient(z1, x)\n",
    "print(dz1_x1)"
   ]
  },
  {
   "cell_type": "code",
   "execution_count": 113,
   "metadata": {
    "pycharm": {
     "name": "#%%\n"
    }
   },
   "outputs": [
    {
     "name": "stdout",
     "output_type": "stream",
     "text": [
      "[None, None]\n"
     ]
    }
   ],
   "source": [
    "# 对常量求偏导\n",
    "x = tf.constant(2.0)\n",
    "y = tf.constant(3.0)\n",
    "with tf.GradientTape() as tape:\n",
    "    z = g(x, y)\n",
    "dz_dx_dy = tape.gradient(z, [x, y])\n",
    "print(dz_dx_dy)"
   ]
  },
  {
   "cell_type": "code",
   "execution_count": 114,
   "metadata": {
    "pycharm": {
     "name": "#%%\n"
    }
   },
   "outputs": [
    {
     "name": "stdout",
     "output_type": "stream",
     "text": [
      "[<tf.Tensor: shape=(), dtype=float32, numpy=9.0>, <tf.Tensor: shape=(), dtype=float32, numpy=42.0>]\n"
     ]
    }
   ],
   "source": [
    "# 对常量求偏导 一般关注常量的导数\n",
    "x = tf.constant(2.0)\n",
    "y = tf.constant(3.0)\n",
    "with tf.GradientTape() as tape:\n",
    "    tape.watch(x)  #增加watch\n",
    "    tape.watch(y)\n",
    "    z = g(x, y)\n",
    "dz_dx_dy = tape.gradient(z, [x, y])\n",
    "print(dz_dx_dy)"
   ]
  },
  {
   "cell_type": "code",
   "execution_count": 115,
   "metadata": {
    "pycharm": {
     "name": "#%%\n"
    }
   },
   "outputs": [
    {
     "name": "stdout",
     "output_type": "stream",
     "text": [
      "tf.Tensor(88.0, shape=(), dtype=float32)\n"
     ]
    }
   ],
   "source": [
    "x = tf.Variable(5.)\n",
    "with tf.GradientTape() as tape:\n",
    "    z1 = 3 * x\n",
    "    z2 = x ** 2\n",
    "    z3 = x ** 3\n",
    "print(tape.gradient([z1, z2, z3], x))  # 3+10+75"
   ]
  },
  {
   "cell_type": "code",
   "execution_count": 116,
   "metadata": {
    "pycharm": {
     "name": "#%%\n"
    }
   },
   "outputs": [
    {
     "name": "stdout",
     "output_type": "stream",
     "text": [
      "[[None, <tf.Tensor: shape=(), dtype=float32, numpy=6.0>], [<tf.Tensor: shape=(), dtype=float32, numpy=6.0>, <tf.Tensor: shape=(), dtype=float32, numpy=14.0>]]\n"
     ]
    }
   ],
   "source": [
    "# 求二阶导\n",
    "x = tf.Variable(2.0)\n",
    "y = tf.Variable(3.0)\n",
    "with tf.GradientTape(persistent=True) as outer_tape:\n",
    "    with tf.GradientTape(persistent=True) as inner_tape:\n",
    "        z = g(x, y)\n",
    "    inner_grads = inner_tape.gradient(z, [x, y])\n",
    "outer_grads = [outer_tape.gradient(inner_grad, [x, y]) for inner_grad in inner_grads]\n",
    "# 结果依次是 d²z/dx² d²z/dxdy d²z/dydx d²z/dydy\n",
    "print(outer_grads)\n",
    "del inner_tape\n",
    "del outer_tape"
   ]
  },
  {
   "cell_type": "code",
   "execution_count": 117,
   "metadata": {
    "pycharm": {
     "name": "#%%\n"
    }
   },
   "outputs": [
    {
     "name": "stdout",
     "output_type": "stream",
     "text": [
      "<tf.Variable 'Variable:0' shape=() dtype=float32, numpy=-0.33333334>\n"
     ]
    }
   ],
   "source": [
    "# 模拟梯度下降算法 SGD\n",
    "learning_rate = 0.1\n",
    "# 随意一个x 如glorot均匀分布后的w值\n",
    "x = tf.Variable(-1.)\n",
    "for _ in range(100):\n",
    "    with tf.GradientTape() as tape:\n",
    "        z = f(x)\n",
    "    dz_dx = tape.gradient(z, x)\n",
    "    x.assign_sub(learning_rate * dz_dx)\n",
    "print(x)"
   ]
  },
  {
   "cell_type": "code",
   "execution_count": 118,
   "metadata": {
    "pycharm": {
     "name": "#%%\n"
    }
   },
   "outputs": [
    {
     "name": "stdout",
     "output_type": "stream",
     "text": [
      "<tf.Variable 'Variable:0' shape=() dtype=float32, numpy=-0.3333333>\n"
     ]
    }
   ],
   "source": [
    "# GradientTape与optimizer（优化器）结合使用\n",
    "learning_rate = 0.1\n",
    "x = tf.Variable(2.0)\n",
    "# 使用随机梯度下降\n",
    "optimizer = keras.optimizers.SGD(lr=learning_rate)\n",
    "for _ in range(100):\n",
    "    with tf.GradientTape() as tape:\n",
    "        z = f(x)\n",
    "    dz_dx = tape.gradient(z, x)\n",
    "    optimizer.apply_gradients([(dz_dx, x)])  # 支持批量矩阵运算 这和上面x.assign_sub是等价的效果相同，前面是梯度，后面是x\n",
    "print(x)\n",
    "# 不同优化器的主要区别在于learning_rate的变化规律不同"
   ]
  }
 ],
 "metadata": {
  "kernelspec": {
   "display_name": "Python 3 (ipykernel)",
   "language": "python",
   "name": "python3"
  },
  "language_info": {
   "codemirror_mode": {
    "name": "ipython",
    "version": 3
   },
   "file_extension": ".py",
   "mimetype": "text/x-python",
   "name": "python",
   "nbconvert_exporter": "python",
   "pygments_lexer": "ipython3",
   "version": "3.9.7"
  }
 },
 "nbformat": 4,
 "nbformat_minor": 1
}
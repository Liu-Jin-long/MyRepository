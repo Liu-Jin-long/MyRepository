{
 "cells": [
  {
   "cell_type": "code",
   "execution_count": 9,
   "id": "c5cf2a0c",
   "metadata": {},
   "outputs": [
    {
     "name": "stdout",
     "output_type": "stream",
     "text": [
      "2.6.2\n",
      "sys.version_info(major=3, minor=6, micro=9, releaselevel='final', serial=0)\n",
      "matplotlib 3.3.4\n",
      "numpy 1.19.5\n",
      "pandas 1.1.5\n",
      "sklearn 0.24.2\n",
      "tensorflow 2.6.2\n",
      "keras.api._v2.keras 2.6.0\n"
     ]
    }
   ],
   "source": [
    "# 正则化"
   ]
  },
  {
   "cell_type": "code",
   "execution_count": null,
   "outputs": [],
   "source": [
    "import matplotlib as mpl\n",
    "import matplotlib.pyplot as plt\n",
    "%matplotlib inline\n",
    "import numpy as np\n",
    "import sklearn\n",
    "import pandas as pd\n",
    "import os\n",
    "import sys\n",
    "import time\n",
    "import tensorflow as tf\n",
    "\n",
    "from tensorflow import keras\n",
    "\n",
    "print(tf.__version__)\n",
    "print(sys.version_info)\n",
    "for module in mpl, np, pd, sklearn, tf, keras:\n",
    "    print(module.__name__, module.__version__)"
   ],
   "metadata": {
    "collapsed": false,
    "pycharm": {
     "name": "#%%\n"
    }
   }
  },
  {
   "cell_type": "code",
   "execution_count": 10,
   "id": "db5004ee",
   "metadata": {},
   "outputs": [
    {
     "name": "stdout",
     "output_type": "stream",
     "text": [
      "(5000, 28, 28) (5000,)\n",
      "(55000, 28, 28) (55000,)\n",
      "(10000, 28, 28) (10000,)\n"
     ]
    }
   ],
   "source": [
    "fashion_mnist = keras.datasets.fashion_mnist\n",
    "(x_train_all, y_train_all), (x_test, y_test) = fashion_mnist.load_data()\n",
    "x_valid, x_train = x_train_all[:5000], x_train_all[5000:]\n",
    "y_valid, y_train = y_train_all[:5000], y_train_all[5000:]\n",
    "\n",
    "print(x_valid.shape, y_valid.shape)\n",
    "print(x_train.shape, y_train.shape)\n",
    "print(x_test.shape, y_test.shape)"
   ]
  },
  {
   "cell_type": "code",
   "execution_count": 11,
   "id": "875ab48c",
   "metadata": {},
   "outputs": [
    {
     "name": "stdout",
     "output_type": "stream",
     "text": [
      "255 0\n"
     ]
    }
   ],
   "source": [
    "print(np.max(x_train), np.min(x_train))"
   ]
  },
  {
   "cell_type": "code",
   "execution_count": 12,
   "id": "54e7f505",
   "metadata": {},
   "outputs": [
    {
     "name": "stdout",
     "output_type": "stream",
     "text": [
      "(43120000, 1)\n"
     ]
    }
   ],
   "source": [
    "print(x_train.reshape(-1, 1).shape)"
   ]
  },
  {
   "cell_type": "code",
   "execution_count": 13,
   "id": "47fb5b4b",
   "metadata": {},
   "outputs": [],
   "source": [
    "#通过sklearn的标准化进行处理\n",
    "from sklearn.preprocessing import StandardScaler\n",
    "scaler=StandardScaler()\n",
    "# x_train: [None, 28, 28] -> [None, 784]\n",
    "# 先reshape变为二维（相当于1列）的目的是对每一个像素点进行标准化（让其等价）\n",
    "x_train_scaled=scaler.fit_transform(x_train.astype(np.float32).reshape(-1,1)).reshape(-1,28,28)\n",
    "# 验证集用的也是训练集的均值和方差\n",
    "x_valid_scaled=scaler.transform(x_valid.astype(np.float32).reshape(-1, 1)).reshape(-1, 28, 28)\n",
    "# 测试集\n",
    "x_test_scaled = scaler.transform(\n",
    "    x_test.astype(np.float32).reshape(-1, 1)).reshape(-1, 28, 28)"
   ]
  },
  {
   "cell_type": "code",
   "execution_count": 14,
   "id": "382dca18",
   "metadata": {},
   "outputs": [
    {
     "name": "stdout",
     "output_type": "stream",
     "text": [
      "2.0231433 -0.8105136\n"
     ]
    }
   ],
   "source": [
    "print(np.max(x_train_scaled), np.min(x_train_scaled))"
   ]
  },
  {
   "cell_type": "code",
   "execution_count": 15,
   "id": "d23f4fbf",
   "metadata": {},
   "outputs": [],
   "source": [
    "model = keras.models.Sequential([\n",
    "    keras.layers.Flatten(input_shape=[28, 28]),\n",
    "    keras.layers.Dense(300, activation='relu'),\n",
    "    keras.layers.Dense(100, activation='relu'),\n",
    "    keras.layers.Dense(10, activation='softmax')\n",
    "])\n",
    "model.compile(loss=\"sparse_categorical_crossentropy\",\n",
    "              optimizer = keras.optimizers.SGD(0.001),\n",
    "              metrics = [\"accuracy\"])"
   ]
  },
  {
   "cell_type": "code",
   "execution_count": 16,
   "id": "1df89c35",
   "metadata": {},
   "outputs": [
    {
     "name": "stdout",
     "output_type": "stream",
     "text": [
      "Epoch 1/20\n",
      "1719/1719 [==============================] - 4s 2ms/step - loss: 0.8892 - accuracy: 0.7067 - val_loss: 0.6106 - val_accuracy: 0.7946\n",
      "Epoch 2/20\n",
      "1719/1719 [==============================] - 4s 2ms/step - loss: 0.5720 - accuracy: 0.7996 - val_loss: 0.5186 - val_accuracy: 0.8218\n",
      "Epoch 3/20\n",
      "1719/1719 [==============================] - 4s 2ms/step - loss: 0.5079 - accuracy: 0.8198 - val_loss: 0.4798 - val_accuracy: 0.8338\n",
      "Epoch 4/20\n",
      "1719/1719 [==============================] - 4s 2ms/step - loss: 0.4730 - accuracy: 0.8324 - val_loss: 0.4567 - val_accuracy: 0.8416\n",
      "Epoch 5/20\n",
      "1719/1719 [==============================] - 4s 2ms/step - loss: 0.4502 - accuracy: 0.8395 - val_loss: 0.4399 - val_accuracy: 0.8496\n",
      "Epoch 6/20\n",
      "1719/1719 [==============================] - 4s 2ms/step - loss: 0.4328 - accuracy: 0.8468 - val_loss: 0.4251 - val_accuracy: 0.8510\n",
      "Epoch 7/20\n",
      "1719/1719 [==============================] - 4s 2ms/step - loss: 0.4190 - accuracy: 0.8507 - val_loss: 0.4142 - val_accuracy: 0.8550\n",
      "Epoch 8/20\n",
      "1719/1719 [==============================] - 4s 2ms/step - loss: 0.4075 - accuracy: 0.8555 - val_loss: 0.4065 - val_accuracy: 0.8584\n",
      "Epoch 9/20\n",
      "1719/1719 [==============================] - 4s 3ms/step - loss: 0.3983 - accuracy: 0.8591 - val_loss: 0.3987 - val_accuracy: 0.8608\n",
      "Epoch 10/20\n",
      "1719/1719 [==============================] - 4s 2ms/step - loss: 0.3896 - accuracy: 0.8611 - val_loss: 0.3956 - val_accuracy: 0.8610\n",
      "Epoch 11/20\n",
      "1719/1719 [==============================] - 4s 2ms/step - loss: 0.3822 - accuracy: 0.8646 - val_loss: 0.3876 - val_accuracy: 0.8626\n",
      "Epoch 12/20\n",
      "1719/1719 [==============================] - 4s 2ms/step - loss: 0.3754 - accuracy: 0.8669 - val_loss: 0.3861 - val_accuracy: 0.8652\n",
      "Epoch 13/20\n",
      "1719/1719 [==============================] - 4s 2ms/step - loss: 0.3692 - accuracy: 0.8689 - val_loss: 0.3796 - val_accuracy: 0.8662\n",
      "Epoch 14/20\n",
      "1719/1719 [==============================] - 4s 2ms/step - loss: 0.3640 - accuracy: 0.8712 - val_loss: 0.3771 - val_accuracy: 0.8660\n",
      "Epoch 15/20\n",
      "1719/1719 [==============================] - 4s 2ms/step - loss: 0.3583 - accuracy: 0.8730 - val_loss: 0.3724 - val_accuracy: 0.8690\n",
      "Epoch 16/20\n",
      "1719/1719 [==============================] - 4s 2ms/step - loss: 0.3536 - accuracy: 0.8748 - val_loss: 0.3675 - val_accuracy: 0.8732\n",
      "Epoch 17/20\n",
      "1719/1719 [==============================] - 4s 2ms/step - loss: 0.3490 - accuracy: 0.8756 - val_loss: 0.3675 - val_accuracy: 0.8734\n",
      "Epoch 18/20\n",
      "1719/1719 [==============================] - 4s 2ms/step - loss: 0.3447 - accuracy: 0.8781 - val_loss: 0.3619 - val_accuracy: 0.8710\n",
      "Epoch 19/20\n",
      "1719/1719 [==============================] - 4s 2ms/step - loss: 0.3410 - accuracy: 0.8792 - val_loss: 0.3618 - val_accuracy: 0.8720\n",
      "Epoch 20/20\n",
      "1719/1719 [==============================] - 4s 2ms/step - loss: 0.3369 - accuracy: 0.8801 - val_loss: 0.3620 - val_accuracy: 0.8730\n"
     ]
    }
   ],
   "source": [
    "history = model.fit(x_train_scaled, y_train, epochs=20,\n",
    "                    validation_data=(x_valid_scaled, y_valid))"
   ]
  },
  {
   "cell_type": "code",
   "execution_count": 17,
   "id": "a3838ff4",
   "metadata": {},
   "outputs": [
    {
     "name": "stdout",
     "output_type": "stream",
     "text": [
      "<class 'dict'>\n",
      "{'loss': [0.8891944885253906, 0.5720195174217224, 0.5078689455986023, 0.47303706407546997, 0.4501884877681732, 0.43283697962760925, 0.41900578141212463, 0.40752479434013367, 0.39830929040908813, 0.38959893584251404, 0.3821693956851959, 0.37541842460632324, 0.3692367970943451, 0.3639506697654724, 0.3583492040634155, 0.3535769283771515, 0.34902000427246094, 0.3446715176105499, 0.34096530079841614, 0.33690279722213745], 'accuracy': [0.706709086894989, 0.7995636463165283, 0.8198000192642212, 0.8323636651039124, 0.8395090699195862, 0.8467817902565002, 0.850745439529419, 0.8554545640945435, 0.8591272830963135, 0.861090898513794, 0.864581823348999, 0.8668909072875977, 0.8689454793930054, 0.8712363839149475, 0.87298184633255, 0.8747818470001221, 0.8756181597709656, 0.8780909180641174, 0.8791818022727966, 0.8800727128982544], 'val_loss': [0.6106095910072327, 0.5185838937759399, 0.47983622550964355, 0.45673155784606934, 0.4399296045303345, 0.4250944256782532, 0.41415640711784363, 0.40645819902420044, 0.39873334765434265, 0.3955627381801605, 0.38764017820358276, 0.38607901334762573, 0.37964221835136414, 0.37709230184555054, 0.37239861488342285, 0.3675021231174469, 0.3674846291542053, 0.3619256317615509, 0.36180052161216736, 0.36195018887519836], 'val_accuracy': [0.7946000099182129, 0.8217999935150146, 0.8338000178337097, 0.8416000008583069, 0.8496000170707703, 0.8510000109672546, 0.8550000190734863, 0.8583999872207642, 0.86080002784729, 0.8610000014305115, 0.8626000285148621, 0.8651999831199646, 0.8661999702453613, 0.8659999966621399, 0.8690000176429749, 0.873199999332428, 0.8733999729156494, 0.8709999918937683, 0.871999979019165, 0.8730000257492065]}\n"
     ]
    }
   ],
   "source": [
    "print(type(history.history))\n",
    "print(history.history)"
   ]
  },
  {
   "cell_type": "code",
   "execution_count": 18,
   "id": "b5eb7900",
   "metadata": {},
   "outputs": [
    {
     "data": {
      "image/png": "[encoded data removed]",
      "text/plain": [
       "<Figure size 576x360 with 1 Axes>"
      ]
     },
     "metadata": {
      "needs_background": "light"
     },
     "output_type": "display_data"
    }
   ],
   "source": [
    "def plot_learning_curves(history):\n",
    "    pd.DataFrame(history.history).plot(figsize=(8, 5))\n",
    "    plt.grid(True)\n",
    "    plt.gca().set_ylim(0, 1)\n",
    "    plt.show()\n",
    "\n",
    "plot_learning_curves(history)"
   ]
  },
  {
   "cell_type": "code",
   "execution_count": 19,
   "id": "f18e98a6",
   "metadata": {},
   "outputs": [
    {
     "data": {
      "text/plain": [
       "[0.3920561373233795, 0.8590999841690063]"
      ]
     },
     "execution_count": 19,
     "metadata": {},
     "output_type": "execute_result"
    }
   ],
   "source": [
    "model.evaluate(x_test_scaled, y_test, verbose=0)"
   ]
  }
 ],
 "metadata": {
  "kernelspec": {
   "display_name": "Python 3",
   "language": "python",
   "name": "python3"
  },
  "language_info": {
   "codemirror_mode": {
    "name": "ipython",
    "version": 3
   },
   "file_extension": ".py",
   "mimetype": "text/x-python",
   "name": "python",
   "nbconvert_exporter": "python",
   "pygments_lexer": "ipython3",
   "version": "3.6.9"
  }
 },
 "nbformat": 4,
 "nbformat_minor": 5
}
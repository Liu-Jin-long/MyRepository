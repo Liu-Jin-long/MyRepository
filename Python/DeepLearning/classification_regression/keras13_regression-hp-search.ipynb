{
 "cells": [
  {
   "cell_type": "code",
   "execution_count": 7,
   "metadata": {},
   "outputs": [
    {
     "name": "stdout",
     "output_type": "stream",
     "text": [
      "2.9.1\n",
      "sys.version_info(major=3, minor=9, micro=7, releaselevel='final', serial=0)\n",
      "matplotlib 3.5.2\n",
      "numpy 1.23.0\n",
      "pandas 1.4.3\n",
      "sklearn 1.1.1\n",
      "tensorflow 2.9.1\n",
      "keras.api._v2.keras 2.9.0\n"
     ]
    }
   ],
   "source": [
    "# 超参数（Hyperparameter）"
   ]
  },
  {
   "cell_type": "code",
   "execution_count": null,
   "outputs": [],
   "source": [
    "import matplotlib as mpl\n",
    "import matplotlib.pyplot as plt\n",
    "%matplotlib inline\n",
    "import numpy as np\n",
    "import sklearn\n",
    "import pandas as pd\n",
    "import os\n",
    "import sys\n",
    "import time\n",
    "import tensorflow as tf\n",
    "\n",
    "from tensorflow import keras\n",
    "\n",
    "print(tf.__version__)\n",
    "print(sys.version_info)\n",
    "for module in mpl, np, pd, sklearn, tf, keras:\n",
    "    print(module.__name__, module.__version__)"
   ],
   "metadata": {
    "collapsed": false,
    "pycharm": {
     "name": "#%%\n"
    }
   }
  },
  {
   "cell_type": "code",
   "execution_count": 8,
   "metadata": {
    "pycharm": {
     "name": "#%%\n"
    }
   },
   "outputs": [
    {
     "name": "stdout",
     "output_type": "stream",
     "text": [
      ".. _california_housing_dataset:\n",
      "\n",
      "California Housing dataset\n",
      "--------------------------\n",
      "\n",
      "**Data Set Characteristics:**\n",
      "\n",
      "    :Number of Instances: 20640\n",
      "\n",
      "    :Number of Attributes: 8 numeric, predictive attributes and the target\n",
      "\n",
      "    :Attribute Information:\n",
      "        - MedInc        median income in block group\n",
      "        - HouseAge      median house age in block group\n",
      "        - AveRooms      average number of rooms per household\n",
      "        - AveBedrms     average number of bedrooms per household\n",
      "        - Population    block group population\n",
      "        - AveOccup      average number of household members\n",
      "        - Latitude      block group latitude\n",
      "        - Longitude     block group longitude\n",
      "\n",
      "    :Missing Attribute Values: None\n",
      "\n",
      "This dataset was obtained from the StatLib repository.\n",
      "https://www.dcc.fc.up.pt/~ltorgo/Regression/cal_housing.html\n",
      "\n",
      "The target variable is the median house value for California districts,\n",
      "expressed in hundreds of thousands of dollars ($100,000).\n",
      "\n",
      "This dataset was derived from the 1990 U.S. census, using one row per census\n",
      "block group. A block group is the smallest geographical unit for which the U.S.\n",
      "Census Bureau publishes sample data (a block group typically has a population\n",
      "of 600 to 3,000 people).\n",
      "\n",
      "An household is a group of people residing within a home. Since the average\n",
      "number of rooms and bedrooms in this dataset are provided per household, these\n",
      "columns may take surpinsingly large values for block groups with few households\n",
      "and many empty houses, such as vacation resorts.\n",
      "\n",
      "It can be downloaded/loaded using the\n",
      ":func:`sklearn.datasets.fetch_california_housing` function.\n",
      "\n",
      ".. topic:: References\n",
      "\n",
      "    - Pace, R. Kelley and Ronald Barry, Sparse Spatial Autoregressions,\n",
      "      Statistics and Probability Letters, 33 (1997) 291-297\n",
      "\n",
      "(20640, 8)\n",
      "(20640,)\n"
     ]
    }
   ],
   "source": [
    "from sklearn.datasets import fetch_california_housing\n",
    "\n",
    "housing = fetch_california_housing()\n",
    "print(housing.DESCR)\n",
    "print(housing.data.shape)\n",
    "print(housing.target.shape)"
   ]
  },
  {
   "cell_type": "code",
   "execution_count": 9,
   "metadata": {
    "pycharm": {
     "name": "#%%\n"
    }
   },
   "outputs": [
    {
     "name": "stdout",
     "output_type": "stream",
     "text": [
      "(11610, 8) (11610,)\n",
      "(3870, 8) (3870,)\n",
      "(5160, 8) (5160,)\n"
     ]
    }
   ],
   "source": [
    "from sklearn.model_selection import train_test_split\n",
    "\n",
    "x_train_all, x_test, y_train_all, y_test = train_test_split(\n",
    "    housing.data, housing.target, random_state=7)\n",
    "x_train, x_valid, y_train, y_valid = train_test_split(\n",
    "    x_train_all, y_train_all, random_state=11)\n",
    "print(x_train.shape, y_train.shape)\n",
    "print(x_valid.shape, y_valid.shape)\n",
    "print(x_test.shape, y_test.shape)"
   ]
  },
  {
   "cell_type": "code",
   "execution_count": 10,
   "metadata": {
    "pycharm": {
     "name": "#%%\n"
    }
   },
   "outputs": [],
   "source": [
    "from sklearn.preprocessing import StandardScaler\n",
    "\n",
    "scaler = StandardScaler()\n",
    "x_train_scaled = scaler.fit_transform(x_train)\n",
    "x_valid_scaled = scaler.transform(x_valid)\n",
    "x_test_scaled = scaler.transform(x_test)"
   ]
  },
  {
   "cell_type": "code",
   "execution_count": 11,
   "metadata": {
    "pycharm": {
     "name": "#%%\n"
    }
   },
   "outputs": [
    {
     "name": "stdout",
     "output_type": "stream",
     "text": [
      "Epoch 1/20\n",
      "363/363 [==============================] - 1s 1ms/step - loss: 0.9379 - val_loss: 0.8460\n",
      "Epoch 2/20\n",
      "363/363 [==============================] - 0s 998us/step - loss: 0.8287 - val_loss: 0.4947\n",
      "Epoch 3/20\n",
      "363/363 [==============================] - 0s 1ms/step - loss: 0.4474 - val_loss: 0.4503\n",
      "Epoch 4/20\n",
      "363/363 [==============================] - 0s 1ms/step - loss: 0.4162 - val_loss: 0.4293\n",
      "Epoch 5/20\n",
      "363/363 [==============================] - 0s 1ms/step - loss: 0.4021 - val_loss: 0.4152\n",
      "Epoch 6/20\n",
      "363/363 [==============================] - 0s 1ms/step - loss: 0.3918 - val_loss: 0.4056\n",
      "Epoch 7/20\n",
      "363/363 [==============================] - 0s 995us/step - loss: 0.3913 - val_loss: 0.3988\n",
      "Epoch 8/20\n",
      "363/363 [==============================] - 0s 1ms/step - loss: 0.3787 - val_loss: 0.3947\n",
      "Epoch 9/20\n",
      "363/363 [==============================] - 0s 1ms/step - loss: 0.3731 - val_loss: 0.5577\n",
      "Epoch 10/20\n",
      "363/363 [==============================] - 0s 982us/step - loss: 0.3718 - val_loss: 0.3830\n",
      "Epoch 11/20\n",
      "363/363 [==============================] - 0s 1ms/step - loss: 0.3640 - val_loss: 0.3965\n",
      "Epoch 12/20\n",
      "363/363 [==============================] - 0s 1ms/step - loss: 0.3655 - val_loss: 0.3812\n",
      "Epoch 13/20\n",
      "363/363 [==============================] - 0s 970us/step - loss: 0.3596 - val_loss: 0.3873\n",
      "Epoch 14/20\n",
      "363/363 [==============================] - 0s 1ms/step - loss: 0.3571 - val_loss: 0.3710\n",
      "Epoch 15/20\n",
      "363/363 [==============================] - 0s 1ms/step - loss: 0.3552 - val_loss: 0.3677\n",
      "Epoch 16/20\n",
      "363/363 [==============================] - 0s 995us/step - loss: 0.3539 - val_loss: 0.3654\n",
      "Epoch 17/20\n",
      "363/363 [==============================] - 0s 1ms/step - loss: 0.3516 - val_loss: 0.3668\n",
      "Epoch 18/20\n",
      "363/363 [==============================] - 0s 978us/step - loss: 0.3519 - val_loss: 0.3639\n",
      "Epoch 19/20\n",
      "363/363 [==============================] - 0s 978us/step - loss: 0.3473 - val_loss: 0.3614\n",
      "Epoch 1/20\n",
      "363/363 [==============================] - 1s 1ms/step - loss: 0.8708 - val_loss: 0.8099\n",
      "Epoch 2/20\n",
      "363/363 [==============================] - 0s 992us/step - loss: 0.9993 - val_loss: 0.4220\n",
      "Epoch 3/20\n",
      "363/363 [==============================] - 0s 1ms/step - loss: 0.3947 - val_loss: 0.4047\n",
      "Epoch 4/20\n",
      "363/363 [==============================] - 0s 989us/step - loss: 0.3819 - val_loss: 0.3915\n",
      "Epoch 5/20\n",
      "363/363 [==============================] - 0s 982us/step - loss: 0.4342 - val_loss: 0.4199\n",
      "Epoch 6/20\n",
      "363/363 [==============================] - 0s 1ms/step - loss: 0.3741 - val_loss: 0.4053\n",
      "Epoch 7/20\n",
      "363/363 [==============================] - 0s 977us/step - loss: 0.4105 - val_loss: 0.4036\n",
      "Epoch 8/20\n",
      "363/363 [==============================] - 0s 1ms/step - loss: 0.3757 - val_loss: 0.3925\n",
      "Epoch 9/20\n",
      "363/363 [==============================] - 0s 1ms/step - loss: 0.3675 - val_loss: 0.3784\n",
      "Epoch 10/20\n",
      "363/363 [==============================] - 0s 993us/step - loss: 0.3837 - val_loss: 0.3889\n",
      "Epoch 11/20\n",
      "363/363 [==============================] - 0s 990us/step - loss: 0.3583 - val_loss: 0.3713\n",
      "Epoch 12/20\n",
      "363/363 [==============================] - 0s 1ms/step - loss: 0.4601 - val_loss: 0.4160\n",
      "Epoch 13/20\n",
      "363/363 [==============================] - 0s 995us/step - loss: 0.4063 - val_loss: 0.3949\n",
      "Epoch 14/20\n",
      "363/363 [==============================] - 0s 1ms/step - loss: 0.3755 - val_loss: 0.3911\n",
      "Epoch 1/20\n",
      "363/363 [==============================] - 1s 2ms/step - loss: nan - val_loss: nan\n",
      "Epoch 2/20\n",
      "363/363 [==============================] - 0s 1ms/step - loss: nan - val_loss: nan\n",
      "Epoch 3/20\n",
      "363/363 [==============================] - 0s 1ms/step - loss: nan - val_loss: nan\n",
      "Epoch 4/20\n",
      "363/363 [==============================] - 0s 978us/step - loss: nan - val_loss: nan\n",
      "Epoch 5/20\n",
      "363/363 [==============================] - 0s 986us/step - loss: nan - val_loss: nan\n",
      "Epoch 1/20\n",
      "363/363 [==============================] - 1s 1ms/step - loss: 2.3999 - val_loss: 1.0500\n",
      "Epoch 2/20\n",
      "363/363 [==============================] - 0s 1ms/step - loss: 0.7767 - val_loss: 0.7533\n",
      "Epoch 3/20\n",
      "363/363 [==============================] - 0s 978us/step - loss: 0.6500 - val_loss: 0.6911\n",
      "Epoch 4/20\n",
      "363/363 [==============================] - 0s 986us/step - loss: 0.6149 - val_loss: 0.6629\n",
      "Epoch 5/20\n",
      "363/363 [==============================] - 0s 1ms/step - loss: 0.5910 - val_loss: 0.6361\n",
      "Epoch 6/20\n",
      "363/363 [==============================] - 0s 1ms/step - loss: 0.5720 - val_loss: 0.6189\n",
      "Epoch 7/20\n",
      "363/363 [==============================] - 0s 976us/step - loss: 0.5565 - val_loss: 0.5996\n",
      "Epoch 8/20\n",
      "363/363 [==============================] - 0s 1ms/step - loss: 0.5439 - val_loss: 0.5883\n",
      "Epoch 9/20\n",
      "363/363 [==============================] - 0s 1ms/step - loss: 0.5328 - val_loss: 0.5752\n",
      "Epoch 10/20\n",
      "363/363 [==============================] - 0s 1ms/step - loss: 0.5234 - val_loss: 0.5671\n",
      "Epoch 11/20\n",
      "363/363 [==============================] - 0s 1ms/step - loss: 0.5155 - val_loss: 0.5571\n",
      "Epoch 12/20\n",
      "363/363 [==============================] - 0s 979us/step - loss: 0.5085 - val_loss: 0.5476\n",
      "Epoch 13/20\n",
      "363/363 [==============================] - 0s 987us/step - loss: 0.5033 - val_loss: 0.5403\n",
      "Epoch 14/20\n",
      "363/363 [==============================] - 0s 998us/step - loss: 0.4976 - val_loss: 0.5359\n",
      "Epoch 15/20\n",
      "363/363 [==============================] - 0s 989us/step - loss: 0.4925 - val_loss: 0.5291\n",
      "Epoch 16/20\n",
      "363/363 [==============================] - 0s 973us/step - loss: 0.4887 - val_loss: 0.5244\n",
      "Epoch 17/20\n",
      "363/363 [==============================] - 0s 956us/step - loss: 0.4847 - val_loss: 0.5207\n",
      "Epoch 18/20\n",
      "363/363 [==============================] - 0s 1ms/step - loss: 0.4809 - val_loss: 0.5177\n",
      "Epoch 19/20\n",
      "363/363 [==============================] - 0s 1ms/step - loss: 0.4777 - val_loss: 0.5134\n",
      "Epoch 20/20\n",
      "363/363 [==============================] - 0s 992us/step - loss: 0.4744 - val_loss: 0.5108\n"
     ]
    }
   ],
   "source": [
    "# 超参数：学习率learning_rate\n",
    "# 权重值更新w = w + gradient * learning_rate\n",
    "# learning_rates = [1e-4, 3e-4, 1e-3, 3e-3, 1e-2, 3e-2, 3e-1]\n",
    "learning_rates = [1e-2, 3e-2, 3e-1, 1e-3]\n",
    "histories=[]\n",
    "for lr in learning_rates:\n",
    "    model=keras.models.Sequential([keras.layers.Dense(30,activation='relu',input_shape=x_train.shape[1:]),\n",
    "                                   keras.layers.Dense(1),])\n",
    "    optimizer=keras.optimizers.SGD(lr)\n",
    "    model.compile(loss='mean_squared_error',optimizer=optimizer)\n",
    "    callbacks = [keras.callbacks.EarlyStopping(\n",
    "        patience=5, min_delta=1e-2)]\n",
    "    history = model.fit(x_train_scaled, y_train,\n",
    "                        validation_data = (x_valid_scaled, y_valid),\n",
    "                        epochs = 20,\n",
    "                        callbacks = callbacks)\n",
    "    histories.append(history)"
   ]
  },
  {
   "cell_type": "code",
   "execution_count": 13,
   "metadata": {
    "pycharm": {
     "name": "#%%\n"
    }
   },
   "outputs": [
    {
     "name": "stdout",
     "output_type": "stream",
     "text": [
      "Learning rate:  0.01\n",
      "0.347261518239975 0.361363023519516\n"
     ]
    },
    {
     "data": {
      "image/png": "[encoded data removed]",
      "text/plain": [
       "<Figure size 576x360 with 1 Axes>"
      ]
     },
     "metadata": {
      "needs_background": "light"
     },
     "output_type": "display_data"
    },
    {
     "name": "stdout",
     "output_type": "stream",
     "text": [
      "Learning rate:  0.03\n",
      "0.3755470812320709 0.3911360204219818\n"
     ]
    },
    {
     "data": {
      "image/png": "[encoded data removed]",
      "text/plain": [
       "<Figure size 576x360 with 1 Axes>"
      ]
     },
     "metadata": {
      "needs_background": "light"
     },
     "output_type": "display_data"
    },
    {
     "name": "stdout",
     "output_type": "stream",
     "text": [
      "Learning rate:  0.3\n",
      "nan nan\n"
     ]
    },
    {
     "data": {
      "image/png": "[encoded data removed]",
      "text/plain": [
       "<Figure size 576x360 with 1 Axes>"
      ]
     },
     "metadata": {
      "needs_background": "light"
     },
     "output_type": "display_data"
    },
    {
     "name": "stdout",
     "output_type": "stream",
     "text": [
      "Learning rate:  0.001\n",
      "0.47441065311431885 0.5108294486999512\n"
     ]
    },
    {
     "data": {
      "image/png": "[encoded data removed]",
      "text/plain": [
       "<Figure size 576x360 with 1 Axes>"
      ]
     },
     "metadata": {
      "needs_background": "light"
     },
     "output_type": "display_data"
    }
   ],
   "source": [
    "def plot_learning_curves(history):\n",
    "    pd.DataFrame(history.history).plot(figsize=(8, 5))\n",
    "    plt.grid(True)\n",
    "    plt.gca().set_ylim(0, 3)\n",
    "    plt.show()\n",
    "for lr,history in zip(learning_rates,histories):\n",
    "    print(\"Learning rate: \", lr)\n",
    "    print(history.history['loss'][-1],history.history['val_loss'][-1])\n",
    "    plot_learning_curves(history)\n"
   ]
  },
  {
   "cell_type": "code",
   "execution_count": 15,
   "metadata": {},
   "outputs": [
    {
     "data": {
      "text/plain": [
       "{'loss': [2.3999183177948,\n",
       "  0.7766619324684143,\n",
       "  0.6500069499015808,\n",
       "  0.6148788928985596,\n",
       "  0.5909883379936218,\n",
       "  0.5719935297966003,\n",
       "  0.5565072894096375,\n",
       "  0.5439029335975647,\n",
       "  0.5327558517456055,\n",
       "  0.5234098434448242,\n",
       "  0.5155250430107117,\n",
       "  0.5084549188613892,\n",
       "  0.5032752752304077,\n",
       "  0.4976213872432709,\n",
       "  0.4924612045288086,\n",
       "  0.4887167811393738,\n",
       "  0.4847090542316437,\n",
       "  0.4808705151081085,\n",
       "  0.47773802280426025,\n",
       "  0.47441065311431885],\n",
       " 'val_loss': [1.0500051975250244,\n",
       "  0.7533324956893921,\n",
       "  0.6911115050315857,\n",
       "  0.6628966927528381,\n",
       "  0.6361475586891174,\n",
       "  0.6188620328903198,\n",
       "  0.5996335744857788,\n",
       "  0.5883262753486633,\n",
       "  0.5751690864562988,\n",
       "  0.5671418905258179,\n",
       "  0.5571475625038147,\n",
       "  0.5476455688476562,\n",
       "  0.5402964353561401,\n",
       "  0.5359436869621277,\n",
       "  0.529076099395752,\n",
       "  0.5243598222732544,\n",
       "  0.5207354426383972,\n",
       "  0.5176740884780884,\n",
       "  0.5134351849555969,\n",
       "  0.5108294486999512]}"
      ]
     },
     "execution_count": 15,
     "metadata": {},
     "output_type": "execute_result"
    }
   ],
   "source": [
    "# print(history.history)\n",
    "history.history"
   ]
  }
 ],
 "metadata": {
  "kernelspec": {
   "display_name": "Python 3 (ipykernel)",
   "language": "python",
   "name": "python3"
  },
  "language_info": {
   "codemirror_mode": {
    "name": "ipython",
    "version": 3
   },
   "file_extension": ".py",
   "mimetype": "text/x-python",
   "name": "python",
   "nbconvert_exporter": "python",
   "pygments_lexer": "ipython3",
   "version": "3.9.7"
  }
 },
 "nbformat": 4,
 "nbformat_minor": 1
}
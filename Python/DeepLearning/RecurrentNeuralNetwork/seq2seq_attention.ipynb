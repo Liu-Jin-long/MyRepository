{
 "metadata": {
  "kernelspec": {
   "language": "python",
   "display_name": "Python 3",
   "name": "python3"
  },
  "language_info": {
   "name": "python",
   "version": "3.7.12",
   "mimetype": "text/x-python",
   "codemirror_mode": {
    "name": "ipython",
    "version": 3
   },
   "pygments_lexer": "ipython3",
   "nbconvert_exporter": "python",
   "file_extension": ".py"
  }
 },
 "nbformat_minor": 4,
 "nbformat": 4,
 "cells": [
  {
   "cell_type": "code",
   "source": [
    "# Encoder-Decoder结构的思想\n",
    "# encoder将一个句子的信息压缩成一个向量  decoder利用向量来进行预测"
   ],
   "metadata": {
    "execution": {
     "iopub.status.busy": "2022-08-06T06:38:28.692208Z",
     "iopub.execute_input": "2022-08-06T06:38:28.693251Z",
     "iopub.status.idle": "2022-08-06T06:38:28.698345Z",
     "shell.execute_reply.started": "2022-08-06T06:38:28.693166Z",
     "shell.execute_reply": "2022-08-06T06:38:28.697352Z"
    },
    "trusted": true
   },
   "execution_count": 1,
   "outputs": []
  },
  {
   "cell_type": "code",
   "source": "%matplotlib inline\nimport matplotlib as mpl\nimport matplotlib.pyplot as plt\nimport numpy as np\nimport os\nimport pandas as pd\nimport sklearn\nimport sys\nimport tensorflow as tf\nimport time\n\nfrom tensorflow import keras\nimport unicodedata\nimport re\nfrom sklearn.model_selection import train_test_split\n\nprint(tf.__version__)\nprint(sys.version_info)\nfor module in mpl, np, pd, sklearn, tf, keras:\n    print(module.__name__, module.__version__)",
   "metadata": {
    "collapsed": false,
    "pycharm": {
     "name": "#%%\n"
    },
    "jupyter": {
     "outputs_hidden": false
    },
    "execution": {
     "iopub.status.busy": "2022-08-06T06:38:28.704937Z",
     "iopub.execute_input": "2022-08-06T06:38:28.705285Z",
     "iopub.status.idle": "2022-08-06T06:38:30.767930Z",
     "shell.execute_reply.started": "2022-08-06T06:38:28.705250Z",
     "shell.execute_reply": "2022-08-06T06:38:30.766747Z"
    },
    "trusted": true
   },
   "execution_count": 2,
   "outputs": [
    {
     "name": "stdout",
     "text": "2.6.4\nsys.version_info(major=3, minor=7, micro=12, releaselevel='final', serial=0)\nmatplotlib 3.5.2\nnumpy 1.21.6\npandas 1.3.5\nsklearn 1.0.2\ntensorflow 2.6.4\nkeras.api._v2.keras 2.6.0\n",
     "output_type": "stream"
    }
   ]
  },
  {
   "cell_type": "code",
   "source": "# unicode转换成ascii 去除西班牙语中的一些特殊字符\ndef unicode_to_ascii(s):\n    # 转换方法NFD 将每一个字符拆开 去除重音Mn\n    return ''.join(c for c in unicodedata.normalize('NFD', s) if unicodedata.category(c) != 'Mn')\n\n\n# 测试\nen_sequence = u'May I borrow this book?'\nsp_sequence = u'¿Puedo tomar prestado este libro?'\nprint(unicode_to_ascii(en_sequence))\nprint(unicode_to_ascii(sp_sequence))\n\n\ndef preprocess_sentence(w: str):\n    # 变为小写并去掉多余空格\n    w = unicode_to_ascii((w.lower().strip()))\n    # 替换 标点符号前后添加空格\n    w = re.sub(r'([?.!,¿])', r' \\1 ', w)\n    # 连续空格处理\n    w = re.sub(r'[\" \"]+', ' ', w)\n    # 将除a-zA-Z?.!,¿的所有字符替换成空格\n    w = re.sub(r'[^a-zA-Z?.!,¿]+', ' ', w)\n    w = w.strip()\n    w = '<start> ' + w + ' <end>'\n    # 在句子中添加开始和结束标记，以便模型知道何时开始和停止预测\n    return w\n\n\nprint(preprocess_sentence(en_sequence))\nprint(preprocess_sentence(sp_sequence))\nprint(preprocess_sentence(sp_sequence).encode('utf_8'))",
   "metadata": {
    "collapsed": false,
    "pycharm": {
     "name": "#%%\n"
    },
    "jupyter": {
     "outputs_hidden": false
    },
    "execution": {
     "iopub.status.busy": "2022-08-06T06:38:30.769893Z",
     "iopub.execute_input": "2022-08-06T06:38:30.770600Z",
     "iopub.status.idle": "2022-08-06T06:38:30.780598Z",
     "shell.execute_reply.started": "2022-08-06T06:38:30.770559Z",
     "shell.execute_reply": "2022-08-06T06:38:30.779456Z"
    },
    "trusted": true
   },
   "execution_count": 3,
   "outputs": [
    {
     "name": "stdout",
     "text": "May I borrow this book?\n¿Puedo tomar prestado este libro?\n<start> may i borrow this book ? <end>\n<start> ¿ puedo tomar prestado este libro ? <end>\nb'<start> \\xc2\\xbf puedo tomar prestado este libro ? <end>'\n",
     "output_type": "stream"
    }
   ]
  },
  {
   "cell_type": "code",
   "source": "data_path = '../input/spatxt/spa.txt'\n\n\ndef create_dataset(path, num_examples):\n    lines = open(path, encoding='utf-8').read().strip().split('\\n')\n    word_pairs = [[preprocess_sentence(w) for w in l.split('\\t')] for l in lines[:num_examples]]  # [ENGLISH, SPANISH]\n    return zip(*word_pairs)\n\n\nen, sp = create_dataset(data_path, 30000)\nprint(type(en))\nprint(type(sp))\nprint(len(en))\nprint(en[-1])\nprint(sp[-1])",
   "metadata": {
    "collapsed": false,
    "pycharm": {
     "name": "#%%\n"
    },
    "jupyter": {
     "outputs_hidden": false
    },
    "execution": {
     "iopub.status.busy": "2022-08-06T06:38:30.784461Z",
     "iopub.execute_input": "2022-08-06T06:38:30.785133Z",
     "iopub.status.idle": "2022-08-06T06:38:31.837148Z",
     "shell.execute_reply.started": "2022-08-06T06:38:30.785094Z",
     "shell.execute_reply": "2022-08-06T06:38:31.836071Z"
    },
    "trusted": true
   },
   "execution_count": 4,
   "outputs": [
    {
     "name": "stdout",
     "text": "<class 'tuple'>\n<class 'tuple'>\n30000\n<start> we ll see you at . <end>\n<start> te veremos a las dos y media . <end>\n",
     "output_type": "stream"
    }
   ]
  },
  {
   "cell_type": "code",
   "source": "def max_length(tensor):\n    return max(len(t) for t in tensor)\n\n\ndef tokenize(language):\n    # 生成对应词语index  filters过滤\n    language_tokenizer = tf.keras.preprocessing.text.Tokenizer(filters='')\n    language_tokenizer.fit_on_texts(language)  # 提取\n    tensor = language_tokenizer.texts_to_sequences(language)  # 单词换为id\n    tensor = tf.keras.preprocessing.sequence.pad_sequences(tensor, padding='post')\n    return tensor, language_tokenizer\n\n\ndef load_dataset(path, num_examples=None):\n    target_language, input_language = create_dataset(path, num_examples)\n    input_tensor, input_language_tokenizer = tokenize(input_language)\n    target_tensor, target_language_tokenizer = tokenize(target_language)\n    return input_tensor, target_tensor, input_language_tokenizer, target_language_tokenizer\n\n\nnum_examples = 30000\ninput_tensor, target_tensor, input_language_tokenizer, target_language_tokenizer\\\n    = load_dataset(data_path, num_examples)",
   "metadata": {
    "collapsed": false,
    "pycharm": {
     "name": "#%%\n"
    },
    "jupyter": {
     "outputs_hidden": false
    },
    "execution": {
     "iopub.status.busy": "2022-08-06T06:38:31.838590Z",
     "iopub.execute_input": "2022-08-06T06:38:31.839521Z",
     "iopub.status.idle": "2022-08-06T06:38:33.914450Z",
     "shell.execute_reply.started": "2022-08-06T06:38:31.839489Z",
     "shell.execute_reply": "2022-08-06T06:38:33.913420Z"
    },
    "trusted": true
   },
   "execution_count": 5,
   "outputs": []
  },
  {
   "cell_type": "code",
   "source": "print(target_language_tokenizer.word_index['<start>'])\nprint(target_language_tokenizer.word_index['<end>'])\nprint(target_language_tokenizer.index_word[1])\nprint(target_language_tokenizer.index_word[2])\nprint(target_language_tokenizer.index_word[666])\nprint(input_language_tokenizer.index_word[55])\nprint(input_language_tokenizer.word_index['frio'])",
   "metadata": {
    "execution": {
     "iopub.status.busy": "2022-08-06T06:38:33.916040Z",
     "iopub.execute_input": "2022-08-06T06:38:33.916884Z",
     "iopub.status.idle": "2022-08-06T06:38:33.926868Z",
     "shell.execute_reply.started": "2022-08-06T06:38:33.916839Z",
     "shell.execute_reply": "2022-08-06T06:38:33.925850Z"
    },
    "trusted": true
   },
   "execution_count": 6,
   "outputs": [
    {
     "name": "stdout",
     "text": "1\n2\n<start>\n<end>\nfinish\nfue\n228\n",
     "output_type": "stream"
    }
   ]
  },
  {
   "cell_type": "code",
   "source": "print(input_tensor.shape, target_tensor.shape, input_language_tokenizer, target_language_tokenizer)\nprint('-' * 50)\nprint(input_tensor[0])\nprint(target_tensor[0])\nprint('-' * 50)\nprint(input_tensor[29999])\nprint(target_tensor[29999])\nprint('-' * 50)\n# 最大样本长度\ntarget_max_length, input_max_length = max_length(target_tensor), max_length(input_tensor)\nprint(input_max_length, target_max_length)",
   "metadata": {
    "collapsed": false,
    "pycharm": {
     "name": "#%%\n"
    },
    "jupyter": {
     "outputs_hidden": false
    },
    "execution": {
     "iopub.status.busy": "2022-08-06T06:38:33.928188Z",
     "iopub.execute_input": "2022-08-06T06:38:33.928524Z",
     "iopub.status.idle": "2022-08-06T06:38:33.951238Z",
     "shell.execute_reply.started": "2022-08-06T06:38:33.928487Z",
     "shell.execute_reply": "2022-08-06T06:38:33.950346Z"
    },
    "trusted": true
   },
   "execution_count": 7,
   "outputs": [
    {
     "name": "stdout",
     "text": "(30000, 16) (30000, 11) <keras_preprocessing.text.Tokenizer object at 0x7f09e52d8610> <keras_preprocessing.text.Tokenizer object at 0x7f09e2eaefd0>\n--------------------------------------------------\n[  1 135   3   2   0   0   0   0   0   0   0   0   0   0   0   0]\n[ 1 36  3  2  0  0  0  0  0  0  0]\n--------------------------------------------------\n[   1   23 2175   10   39   98   87  314    3    2    0    0    0    0\n    0    0]\n[ 1 16 38 72  6 55  3  2  0  0  0]\n--------------------------------------------------\n16 11\n",
     "output_type": "stream"
    }
   ]
  },
  {
   "cell_type": "code",
   "source": "# 分训练集和验证集\ninput_tensor_train, input_tensor_val, target_tensor_train, target_tensor_val\\\n    = train_test_split(input_tensor, target_tensor, test_size=0.2, random_state=1)\nprint(len(input_tensor_train), len(input_tensor_val))\nprint(len(target_tensor_train), len(target_tensor_val))",
   "metadata": {
    "collapsed": false,
    "pycharm": {
     "name": "#%%\n"
    },
    "jupyter": {
     "outputs_hidden": false
    },
    "execution": {
     "iopub.status.busy": "2022-08-06T06:38:33.952588Z",
     "iopub.execute_input": "2022-08-06T06:38:33.953079Z",
     "iopub.status.idle": "2022-08-06T06:38:33.968368Z",
     "shell.execute_reply.started": "2022-08-06T06:38:33.953039Z",
     "shell.execute_reply": "2022-08-06T06:38:33.967350Z"
    },
    "trusted": true
   },
   "execution_count": 8,
   "outputs": [
    {
     "name": "stdout",
     "text": "24000 6000\n24000 6000\n",
     "output_type": "stream"
    }
   ]
  },
  {
   "cell_type": "code",
   "source": "# 通过index看原单词\ndef convert(tokenizer, tensor):\n    for t in tensor:\n        if t != 0:\n            print(f'{t}-->{tokenizer.index_word[t]}-->{len(tokenizer.index_word[t])}')\n\n\nprint(\"Input Language; index to word mapping\")\nconvert(input_language_tokenizer, input_tensor_train[0])\nprint('-' * 50)\nprint(\"Target Language; index to word mapping\")\nconvert(target_language_tokenizer, target_tensor_train[0])",
   "metadata": {
    "collapsed": false,
    "pycharm": {
     "name": "#%%\n"
    },
    "jupyter": {
     "outputs_hidden": false
    },
    "execution": {
     "iopub.status.busy": "2022-08-06T06:38:33.969693Z",
     "iopub.execute_input": "2022-08-06T06:38:33.970650Z",
     "iopub.status.idle": "2022-08-06T06:38:33.980320Z",
     "shell.execute_reply.started": "2022-08-06T06:38:33.970613Z",
     "shell.execute_reply": "2022-08-06T06:38:33.979023Z"
    },
    "trusted": true
   },
   "execution_count": 9,
   "outputs": [
    {
     "name": "stdout",
     "text": "Input Language; index to word mapping\n1--><start>-->7\n53-->quiero-->6\n72-->ir-->2\n269-->contigo-->7\n3-->.-->1\n2--><end>-->5\n--------------------------------------------------\nTarget Language; index to word mapping\n1--><start>-->7\n4-->i-->1\n47-->want-->4\n15-->to-->2\n36-->go-->2\n80-->with-->4\n6-->you-->3\n3-->.-->1\n2--><end>-->5\n",
     "output_type": "stream"
    }
   ]
  },
  {
   "cell_type": "code",
   "source": "BUFFERSIZE = len(input_tensor_train)\nBATCHSIZE = 64\nsteps_per_epoch = len(input_tensor_train) // BATCHSIZE\nembedding_dim = 256\nunits = 1024\n# +1是新用0进行了填充\ninput_vocab_size = len(input_language_tokenizer.word_index) + 1\nprint('input_vocab_size:', input_vocab_size)\ntarget_vocab_size = len(target_language_tokenizer.word_index) + 1\nprint('target_vocab_size:', target_vocab_size)\n# 训练集\ndataset = tf.data.Dataset.from_tensor_slices((input_tensor_train, target_tensor_train)).shuffle(BUFFERSIZE)\ndataset = dataset.batch(BATCHSIZE, drop_remainder=True)\nprint(dataset)",
   "metadata": {
    "collapsed": false,
    "pycharm": {
     "name": "#%%\n"
    },
    "jupyter": {
     "outputs_hidden": false
    },
    "execution": {
     "iopub.status.busy": "2022-08-06T06:38:33.981691Z",
     "iopub.execute_input": "2022-08-06T06:38:33.982303Z",
     "iopub.status.idle": "2022-08-06T06:38:35.068469Z",
     "shell.execute_reply.started": "2022-08-06T06:38:33.982250Z",
     "shell.execute_reply": "2022-08-06T06:38:35.067433Z"
    },
    "trusted": true
   },
   "execution_count": 10,
   "outputs": [
    {
     "name": "stdout",
     "text": "input_vocab_size: 9414\ntarget_vocab_size: 4935\n",
     "output_type": "stream"
    },
    {
     "name": "stderr",
     "text": "2022-08-06 06:38:34.031806: I tensorflow/stream_executor/cuda/cuda_gpu_executor.cc:937] successful NUMA node read from SysFS had negative value (-1), but there must be at least one NUMA node, so returning NUMA node zero\n2022-08-06 06:38:34.042252: I tensorflow/stream_executor/cuda/cuda_gpu_executor.cc:937] successful NUMA node read from SysFS had negative value (-1), but there must be at least one NUMA node, so returning NUMA node zero\n2022-08-06 06:38:34.043002: I tensorflow/stream_executor/cuda/cuda_gpu_executor.cc:937] successful NUMA node read from SysFS had negative value (-1), but there must be at least one NUMA node, so returning NUMA node zero\n2022-08-06 06:38:34.044424: I tensorflow/core/platform/cpu_feature_guard.cc:142] This TensorFlow binary is optimized with oneAPI Deep Neural Network Library (oneDNN) to use the following CPU instructions in performance-critical operations:  AVX2 AVX512F FMA\nTo enable them in other operations, rebuild TensorFlow with the appropriate compiler flags.\n2022-08-06 06:38:34.044740: I tensorflow/stream_executor/cuda/cuda_gpu_executor.cc:937] successful NUMA node read from SysFS had negative value (-1), but there must be at least one NUMA node, so returning NUMA node zero\n2022-08-06 06:38:34.045461: I tensorflow/stream_executor/cuda/cuda_gpu_executor.cc:937] successful NUMA node read from SysFS had negative value (-1), but there must be at least one NUMA node, so returning NUMA node zero\n2022-08-06 06:38:34.046110: I tensorflow/stream_executor/cuda/cuda_gpu_executor.cc:937] successful NUMA node read from SysFS had negative value (-1), but there must be at least one NUMA node, so returning NUMA node zero\n2022-08-06 06:38:34.708943: I tensorflow/stream_executor/cuda/cuda_gpu_executor.cc:937] successful NUMA node read from SysFS had negative value (-1), but there must be at least one NUMA node, so returning NUMA node zero\n2022-08-06 06:38:34.709795: I tensorflow/stream_executor/cuda/cuda_gpu_executor.cc:937] successful NUMA node read from SysFS had negative value (-1), but there must be at least one NUMA node, so returning NUMA node zero\n2022-08-06 06:38:34.710518: I tensorflow/stream_executor/cuda/cuda_gpu_executor.cc:937] successful NUMA node read from SysFS had negative value (-1), but there must be at least one NUMA node, so returning NUMA node zero\n2022-08-06 06:38:34.711127: I tensorflow/core/common_runtime/gpu/gpu_device.cc:1510] Created device /job:localhost/replica:0/task:0/device:GPU:0 with 15403 MB memory:  -> device: 0, name: Tesla P100-PCIE-16GB, pci bus id: 0000:00:04.0, compute capability: 6.0\n",
     "output_type": "stream"
    },
    {
     "name": "stdout",
     "text": "<BatchDataset shapes: ((64, 16), (64, 11)), types: (tf.int32, tf.int32)>\n",
     "output_type": "stream"
    }
   ]
  },
  {
   "cell_type": "code",
   "source": "example_input_batch, example_target_batch = next(iter(dataset))\nprint(example_input_batch)\nprint('-' * 50)\nprint(example_target_batch)\nprint('-' * 50)",
   "metadata": {
    "collapsed": false,
    "pycharm": {
     "name": "#%%\n"
    },
    "jupyter": {
     "outputs_hidden": false
    },
    "execution": {
     "iopub.status.busy": "2022-08-06T06:38:35.069900Z",
     "iopub.execute_input": "2022-08-06T06:38:35.070503Z",
     "iopub.status.idle": "2022-08-06T06:38:35.118613Z",
     "shell.execute_reply.started": "2022-08-06T06:38:35.070464Z",
     "shell.execute_reply": "2022-08-06T06:38:35.117571Z"
    },
    "trusted": true
   },
   "execution_count": 11,
   "outputs": [
    {
     "name": "stdout",
     "text": "tf.Tensor(\n[[   1 7664   11 ...    0    0    0]\n [   1   13 7056 ...    0    0    0]\n [   1   24   14 ...    0    0    0]\n ...\n [   1    6  646 ...    0    0    0]\n [   1    8   69 ...    0    0    0]\n [   1 1040 3978 ...    0    0    0]], shape=(64, 16), dtype=int32)\n--------------------------------------------------\ntf.Tensor(\n[[   1    4 4115   15   93    3    2    0    0    0    0]\n [   1   68 3877    8  141    3    2    0    0    0    0]\n [   1    4   18   91    3    2    0    0    0    0    0]\n [   1  254   24   21 1906    3    2    0    0    0    0]\n [   1  205   91   49   56    3    2    0    0    0    0]\n [   1   16 1547    5    3    2    0    0    0    0    0]\n [   1   30   12   73    5    3    2    0    0    0    0]\n [   1  207  162  258    3    2    0    0    0    0    0]\n [   1    5    8   78 1240    3    2    0    0    0    0]\n [   1    8   20   32   14  180    7    2    0    0    0]\n [   1   30   12  802  662   10    3    2    0    0    0]\n [   1    5  106  105  239    3    2    0    0    0    0]\n [   1    6   92 1267    3    2    0    0    0    0    0]\n [   1   13 1140    8  953    3    2    0    0    0    0]\n [   1   46   11  161  742    3    2    0    0    0    0]\n [   1   22    6   43   68    7    2    0    0    0    0]\n [   1    5   75  541    3    2    0    0    0    0    0]\n [   1  188  982   85    3    2    0    0    0    0    0]\n [   1    4  117 1231    3    2    0    0    0    0    0]\n [   1    6  692    3    2    0    0    0    0    0    0]\n [   1   64  109  284   37    2    0    0    0    0    0]\n [   1    4  106   98   50    3    2    0    0    0    0]\n [   1    4   30   12  574 1124    3    2    0    0    0]\n [   1    4   18   48  101   58    3    2    0    0    0]\n [   1    5    8  219  138  219   45    3    2    0    0]\n [   1    5   75   73    3    2    0    0    0    0    0]\n [   1    4   63   31   73    3    2    0    0    0    0]\n [   1    6   92   85  101    3    2    0    0    0    0]\n [   1   30   12  802   53   91    3    2    0    0    0]\n [   1  188  480   17    3    2    0    0    0    0    0]\n [   1    5    8   34  101    3    2    0    0    0    0]\n [   1   40    9   69  350    3    2    0    0    0    0]\n [   1   10    8    9 1714    3    2    0    0    0    0]\n [   1    4   35  266    3    2    0    0    0    0    0]\n [   1    4   62   34  690    6    3    2    0    0    0]\n [   1    5  476   45    3    2    0    0    0    0    0]\n [   1  255   17   13  115    3    2    0    0    0    0]\n [   1    6 4593   41    3    2    0    0    0    0    0]\n [   1    4   29  160   15 1579    3    2    0    0    0]\n [   1   20   90   12   21  298    3    2    0    0    0]\n [   1    6   38  135  249    3    2    0    0    0    0]\n [   1    5  100   12  149    3    2    0    0    0    0]\n [   1    6   23  641    3    2    0    0    0    0    0]\n [   1    4   18   34  634    3    2    0    0    0    0]\n [   1   10   11    9 1714    3    2    0    0    0    0]\n [   1   29    9   69   97    3    2    0    0    0    0]\n [   1   20   11  223  138    3    2    0    0    0    0]\n [   1   14    8  337    3    2    0    0    0    0    0]\n [   1   16   24   67  483  319    3    2    0    0    0]\n [   1    4  209   95   41  389    3    2    0    0    0]\n [   1   16  111  208 1570    3    2    0    0    0    0]\n [   1    6   65 1600  374    3    2    0    0    0    0]\n [   1    8    5   44   61  196    7    2    0    0    0]\n [   1   24    6   50    7    2    0    0    0    0    0]\n [   1   10   11   58    3    2    0    0    0    0    0]\n [   1    4   43   52   20  815    3    2    0    0    0]\n [   1    4   26   48  241    3    2    0    0    0    0]\n [   1  365  519   75   22    3    2    0    0    0    0]\n [   1    5    8   48 1373    3    2    0    0    0    0]\n [   1   28   99    9   69 2146    3    2    0    0    0]\n [   1   24    6  405    7    2    0    0    0    0    0]\n [   1   42    6   72   20    7    2    0    0    0    0]\n [   1   34   67  755   25  496    3    2    0    0    0]\n [   1    4  751 2619    3    2    0    0    0    0    0]], shape=(64, 11), dtype=int32)\n--------------------------------------------------\n",
     "output_type": "stream"
    }
   ]
  },
  {
   "cell_type": "code",
   "source": "# 搭建encoder\nclass Encoder(tf.keras.Model):\n    def __init__(self, vocab_size, embedding_dim, encoding_units, batch_size):\n        super(Encoder, self).__init__()\n        self.vocab_size = vocab_size\n        self.batch_size = batch_size\n        # 编码单元\n        self.encoding_units = encoding_units\n        # 创建Embedding层\n        self.embedding = keras.layers.Embedding(vocab_size, embedding_dim)\n        self.gru = keras.layers.GRU(self.encoding_units,  # 输出空间的维度\n                                    return_sequences=True,\n                                    return_state=True,  # 拿到最后一个单词的状态输出\n                                    recurrent_initializer='glorot_uniform')\n\n    def call(self, x, hidden_state):\n        x = self.embedding(x)\n        output, state = self.gru(x, initial_state=hidden_state)\n        return output, state\n\n    def initialize_hidden_state(self):\n        return tf.zeros((self.batch_size, self.encoding_units))  # 初始状态尺寸固定\n\n\nencoder = Encoder(input_vocab_size, embedding_dim, units, BATCHSIZE)\n# 获取初始化的hidden_state\nsample_hidden_state_init = encoder.initialize_hidden_state()\n# 获取输出和隐含状态\nsample_out, sample_hidden_state = encoder(example_input_batch, sample_hidden_state_init)\nprint(f'Encoder output shape: (batch size, sequence length, units) {sample_out.shape}')  # 注意return_sequences=True\nprint(f'Encoder Hidden state shape: (batch size, units) {sample_hidden_state.shape}')  # 注意return_state=True",
   "metadata": {
    "collapsed": false,
    "pycharm": {
     "name": "#%%\n"
    },
    "jupyter": {
     "outputs_hidden": false
    },
    "execution": {
     "iopub.status.busy": "2022-08-06T06:38:35.119959Z",
     "iopub.execute_input": "2022-08-06T06:38:35.120919Z",
     "iopub.status.idle": "2022-08-06T06:38:35.692217Z",
     "shell.execute_reply.started": "2022-08-06T06:38:35.120882Z",
     "shell.execute_reply": "2022-08-06T06:38:35.691185Z"
    },
    "trusted": true
   },
   "execution_count": 12,
   "outputs": [
    {
     "name": "stdout",
     "text": "Encoder output shape: (batch size, sequence length, units) (64, 16, 1024)\nEncoder Hidden state shape: (batch size, units) (64, 1024)\n",
     "output_type": "stream"
    },
    {
     "name": "stderr",
     "text": "2022-08-06 06:38:35.585117: I tensorflow/stream_executor/cuda/cuda_dnn.cc:369] Loaded cuDNN version 8005\n",
     "output_type": "stream"
    }
   ]
  },
  {
   "cell_type": "code",
   "source": "print(encoder.variables)",
   "metadata": {
    "collapsed": false,
    "pycharm": {
     "name": "#%%\n"
    },
    "jupyter": {
     "outputs_hidden": false
    },
    "execution": {
     "iopub.status.busy": "2022-08-06T06:38:35.696665Z",
     "iopub.execute_input": "2022-08-06T06:38:35.697592Z",
     "iopub.status.idle": "2022-08-06T06:38:35.727261Z",
     "shell.execute_reply.started": "2022-08-06T06:38:35.697551Z",
     "shell.execute_reply": "2022-08-06T06:38:35.726414Z"
    },
    "trusted": true
   },
   "execution_count": 13,
   "outputs": [
    {
     "name": "stdout",
     "text": "[<tf.Variable 'encoder/embedding/embeddings:0' shape=(9414, 256) dtype=float32, numpy=\narray([[ 0.02479453, -0.00656884,  0.03070227, ..., -0.00421714,\n        -0.01283332, -0.00456945],\n       [ 0.01489869, -0.01955741,  0.04307946, ...,  0.00624095,\n         0.02940681, -0.02672064],\n       [ 0.02062241,  0.00179011, -0.0182432 , ..., -0.0400409 ,\n         0.03043202,  0.02011161],\n       ...,\n       [ 0.03835589, -0.02317623, -0.02383479, ...,  0.00942641,\n         0.04622019, -0.02529624],\n       [-0.00346304,  0.02111051, -0.01528226, ..., -0.04228038,\n         0.01410631,  0.02722896],\n       [-0.02324914,  0.01997249, -0.00810594, ...,  0.01325066,\n        -0.01930857,  0.0226344 ]], dtype=float32)>, <tf.Variable 'encoder/gru/gru_cell/kernel:0' shape=(256, 3072) dtype=float32, numpy=\narray([[-0.00604244,  0.01577269, -0.03123333, ...,  0.03556404,\n        -0.01036665,  0.03502395],\n       [ 0.02018598,  0.00340389,  0.03885472, ..., -0.00451618,\n        -0.03184653,  0.01470157],\n       [-0.01296514, -0.02933788, -0.020612  , ...,  0.03221515,\n        -0.00410983, -0.03429001],\n       ...,\n       [-0.02383318, -0.02910979,  0.00539692, ...,  0.02327604,\n         0.03432268,  0.02216611],\n       [ 0.01620922, -0.02943807, -0.00587703, ..., -0.01778791,\n         0.03085047,  0.00774667],\n       [ 0.02045961,  0.03370906,  0.01709746, ...,  0.01729275,\n         0.02315458,  0.02833347]], dtype=float32)>, <tf.Variable 'encoder/gru/gru_cell/recurrent_kernel:0' shape=(1024, 3072) dtype=float32, numpy=\narray([[ 0.01339147,  0.02945591, -0.01138641, ...,  0.00565389,\n        -0.03681199, -0.02667368],\n       [-0.01260021,  0.03323692,  0.01703406, ..., -0.01536443,\n         0.01410041, -0.03194742],\n       [ 0.03772827, -0.02126476, -0.02932196, ..., -0.01225254,\n        -0.03178977,  0.03570049],\n       ...,\n       [-0.0373241 ,  0.01597856,  0.00172018, ...,  0.03599669,\n        -0.02080048,  0.02986807],\n       [-0.00025922, -0.00413598,  0.00861098, ...,  0.01462359,\n         0.03731317, -0.02821043],\n       [ 0.01957795, -0.00729996, -0.01143752, ...,  0.00596711,\n         0.00955335, -0.00051437]], dtype=float32)>, <tf.Variable 'encoder/gru/gru_cell/bias:0' shape=(2, 3072) dtype=float32, numpy=\narray([[0., 0., 0., ..., 0., 0., 0.],\n       [0., 0., 0., ..., 0., 0., 0.]], dtype=float32)>]\n",
     "output_type": "stream"
    }
   ]
  },
  {
   "cell_type": "code",
   "source": "# 计算BahdanauAttention  score = FC(tanh(FC(EO) + FC(H))\nclass BahdanauAttention(tf.keras.Model):\n    def __init__(self, units):\n        super(BahdanauAttention, self).__init__()\n        # 三个全连接层\n        self.W1 = tf.keras.layers.Dense(units)\n        self.W2 = tf.keras.layers.Dense(units)\n        self.V = tf.keras.layers.Dense(1)\n\n    # query是decoder_hidden_state  values是EO(encoder_outputs)\n    def call(self, query, values):\n        # deocoder_hidden_shape: (batch_size, units)\n        # encoder_outputs.shape: (batch_size, length, units)\n        # 维度拓展\n        # hidden_state shape == (batch_size, hidden_size) hidden_size实际就是decoder的units\n        # hidden_with_time_axis shape == (batch_size, 1, hidden_size)\n        hidden_with_time_axis = tf.expand_dims(query, 1)\n        # 全连接层只处理最后一维\n        # beforeV:(batch_ size, length, units)\n        # afterV:(batch_ size, length, 1)\n        # score shape == (batch_size, max_length, 1)\n        score = self.V(tf.nn.tanh(self.W1(values) + self.W2(hidden_with_time_axis)))\n        # attention_weights shape==(batch_size, max_length, 1)\n        attention_weights = tf.nn.softmax(score, axis=1)\n        # context_vector shape==(batch_size, length, units)\n        context_vector = attention_weights * values\n        # print(context_vector)\n        # (batch_size, length, units)-->(batch_size, hidden_size)\n        context_vector = tf.reduce_sum(context_vector, axis=1)\n        return context_vector, attention_weights",
   "metadata": {
    "collapsed": false,
    "pycharm": {
     "name": "#%%\n"
    },
    "jupyter": {
     "outputs_hidden": false
    },
    "execution": {
     "iopub.status.busy": "2022-08-06T06:38:35.730984Z",
     "iopub.execute_input": "2022-08-06T06:38:35.733430Z",
     "iopub.status.idle": "2022-08-06T06:38:35.743580Z",
     "shell.execute_reply.started": "2022-08-06T06:38:35.733391Z",
     "shell.execute_reply": "2022-08-06T06:38:35.742218Z"
    },
    "trusted": true
   },
   "execution_count": 14,
   "outputs": []
  },
  {
   "cell_type": "code",
   "source": "# 测试BahdanauAttention\nattention_layer = BahdanauAttention(10)\n# 还未搭建decoder没有decoder_hidden_state  先用形状相同的encoder的sample_hidden\nattention_result, attention_weights = attention_layer(sample_hidden_state, sample_out)\nprint(f\"Attention result shape: (batch size, units) {attention_result.shape}\")\nprint(f\"Attention weights shape: (batch_size, sequence_length, 1) {attention_weights.shape}\")\nprint(attention_layer.variables)",
   "metadata": {
    "collapsed": false,
    "pycharm": {
     "name": "#%%\n"
    },
    "jupyter": {
     "outputs_hidden": false
    },
    "execution": {
     "iopub.status.busy": "2022-08-06T06:38:35.744811Z",
     "iopub.execute_input": "2022-08-06T06:38:35.745491Z",
     "iopub.status.idle": "2022-08-06T06:38:36.029790Z",
     "shell.execute_reply.started": "2022-08-06T06:38:35.745455Z",
     "shell.execute_reply": "2022-08-06T06:38:36.028424Z"
    },
    "trusted": true
   },
   "execution_count": 15,
   "outputs": [
    {
     "name": "stdout",
     "text": "Attention result shape: (batch size, units) (64, 1024)\nAttention weights shape: (batch_size, sequence_length, 1) (64, 16, 1)\n[<tf.Variable 'bahdanau_attention/dense/kernel:0' shape=(1024, 10) dtype=float32, numpy=\narray([[-0.05452409,  0.03634037, -0.01941674, ..., -0.01416415,\n        -0.04115767, -0.02246584],\n       [ 0.01561897, -0.06676763, -0.0159099 , ...,  0.03151598,\n        -0.05833726,  0.04790556],\n       [-0.0655017 , -0.01814462,  0.01244057, ..., -0.02355582,\n         0.05131865,  0.00124213],\n       ...,\n       [ 0.07461359,  0.07066715,  0.0401039 , ...,  0.0129366 ,\n        -0.03237152,  0.05134384],\n       [ 0.03092721,  0.06394853, -0.03966588, ...,  0.06963676,\n        -0.01282787,  0.03146627],\n       [-0.04731143,  0.04295183,  0.0393362 , ...,  0.01422859,\n         0.01739714, -0.00439756]], dtype=float32)>, <tf.Variable 'bahdanau_attention/dense/bias:0' shape=(10,) dtype=float32, numpy=array([0., 0., 0., 0., 0., 0., 0., 0., 0., 0.], dtype=float32)>, <tf.Variable 'bahdanau_attention/dense_1/kernel:0' shape=(1024, 10) dtype=float32, numpy=\narray([[ 0.05046572, -0.03902259, -0.02065565, ..., -0.06671872,\n        -0.00232469,  0.02494378],\n       [ 0.03442813, -0.00308781, -0.06780361, ...,  0.01472364,\n        -0.05932569, -0.02647321],\n       [-0.07310125,  0.06787692,  0.04025994, ...,  0.03399593,\n        -0.0354673 ,  0.04765637],\n       ...,\n       [ 0.06559722,  0.07256614,  0.07045661, ..., -0.04123306,\n        -0.03966473,  0.04245852],\n       [-0.06512169, -0.07268958, -0.00898316, ..., -0.06100059,\n         0.05523451,  0.04309834],\n       [ 0.00902226, -0.00492254, -0.00799057, ..., -0.06694906,\n         0.02698307,  0.05382058]], dtype=float32)>, <tf.Variable 'bahdanau_attention/dense_1/bias:0' shape=(10,) dtype=float32, numpy=array([0., 0., 0., 0., 0., 0., 0., 0., 0., 0.], dtype=float32)>, <tf.Variable 'bahdanau_attention/dense_2/kernel:0' shape=(10, 1) dtype=float32, numpy=\narray([[-0.16656643],\n       [ 0.05442327],\n       [ 0.44063026],\n       [-0.14395362],\n       [-0.33388743],\n       [ 0.0919587 ],\n       [-0.73377955],\n       [-0.06059623],\n       [-0.17451715],\n       [-0.5470286 ]], dtype=float32)>, <tf.Variable 'bahdanau_attention/dense_2/bias:0' shape=(1,) dtype=float32, numpy=array([0.], dtype=float32)>]\n",
     "output_type": "stream"
    }
   ]
  },
  {
   "cell_type": "code",
   "source": "# 搭建decoder\nclass Decoder(tf.keras.Model):\n    def __init__(self, vocab_size, embedding_dim, decoding_units, batch_size):\n        super(Decoder, self).__init__()\n        self.batch_size = batch_size\n        self.decoding_units = decoding_units\n        self.embedding = keras.layers.Embedding(vocab_size, embedding_dim)\n        self.gru = keras.layers.GRU(self.decoding_units,\n                                    return_sequences=True,\n                                    return_state=True,\n                                    recurrent_initializer='glorot_uniform')\n        self.fc = keras.layers.Dense(vocab_size)\n        self.attention = BahdanauAttention(self.decoding_units)\n\n    def call(self, x, hidden_state, encoding_output):\n        # context_vector shape == (batch_size, units）\n        # encoding_output shape == (batch_size, max_length, hidden_size)\n        content_vector, attention_weights = self.attention(hidden_state, encoding_output)\n        x = self.embedding(x)  # (batch_size, 1, target_vocab_size)-->(batch size, 1, embedding units)\n        # print(content_vector.shape,x.shape)\n        x = tf.concat([tf.expand_dims(content_vector, 1), x], axis=-1)  # (batch_size, 1, embedding_dim+hidden_size)\n        # print(x.shape)\n        output, state = self.gru(x)\n        # output shape:[batch_size, 1, decoding_units]\n        # state shape:[batch_size, decoding_units]\n        # print(output.shape, state.shape)\n        output = tf.reshape(output, (-1, output.shape[2]))  # (batch_size * 1, hidden_size)\n        x = self.fc(output)  # (batch_size, target_vocab_size)\n        return x, state, attention_weights\n\n\ndecoder = Decoder(target_vocab_size, embedding_dim, units, BATCHSIZE)\nsample_decoder_output, sample_decoder_hidden_state, sample_decoder_attention_weights\\\n    = decoder(tf.random.uniform((BATCHSIZE, 1)), sample_hidden_state, sample_out)\nprint(f'Decoder output shape: (batch_size, vocab size) {sample_decoder_output.shape}')\nprint(f'Decoder_hidden_state shape: {sample_decoder_hidden_state.shape}')\nprint(f'Decoder_attention_weights shape: {sample_decoder_attention_weights.shape}')",
   "metadata": {
    "collapsed": false,
    "pycharm": {
     "name": "#%%\n"
    },
    "jupyter": {
     "outputs_hidden": false
    },
    "execution": {
     "iopub.status.busy": "2022-08-06T06:38:36.031492Z",
     "iopub.execute_input": "2022-08-06T06:38:36.032042Z",
     "iopub.status.idle": "2022-08-06T06:38:36.074410Z",
     "shell.execute_reply.started": "2022-08-06T06:38:36.031999Z",
     "shell.execute_reply": "2022-08-06T06:38:36.073355Z"
    },
    "trusted": true
   },
   "execution_count": 16,
   "outputs": [
    {
     "name": "stdout",
     "text": "Decoder output shape: (batch_size, vocab size) (64, 4935)\nDecoder_hidden_state shape: (64, 1024)\nDecoder_attention_weights shape: (64, 16, 1)\n",
     "output_type": "stream"
    }
   ]
  },
  {
   "cell_type": "code",
   "source": "print(decoder.variables)",
   "metadata": {
    "collapsed": false,
    "pycharm": {
     "name": "#%%\n"
    },
    "jupyter": {
     "outputs_hidden": false
    },
    "execution": {
     "iopub.status.busy": "2022-08-06T06:38:36.076146Z",
     "iopub.execute_input": "2022-08-06T06:38:36.076628Z",
     "iopub.status.idle": "2022-08-06T06:38:36.126422Z",
     "shell.execute_reply.started": "2022-08-06T06:38:36.076588Z",
     "shell.execute_reply": "2022-08-06T06:38:36.125418Z"
    },
    "trusted": true
   },
   "execution_count": 17,
   "outputs": [
    {
     "name": "stdout",
     "text": "[<tf.Variable 'decoder/embedding_1/embeddings:0' shape=(4935, 256) dtype=float32, numpy=\narray([[-0.03619157,  0.03081055,  0.00657636, ..., -0.02501837,\n         0.01696769,  0.03880769],\n       [-0.03814666, -0.0035568 , -0.00135779, ..., -0.04268292,\n        -0.01842256,  0.03763684],\n       [ 0.02751945, -0.04003215,  0.01284773, ...,  0.03375078,\n         0.03086804,  0.04002087],\n       ...,\n       [-0.02334558,  0.04868786,  0.01865346, ...,  0.02105942,\n        -0.01230638,  0.02874892],\n       [ 0.04149277,  0.00086193,  0.02702521, ..., -0.04617977,\n        -0.0286041 , -0.03011402],\n       [ 0.04629287, -0.0153592 ,  0.02501719, ..., -0.04546112,\n        -0.03585851, -0.01708777]], dtype=float32)>, <tf.Variable 'decoder/gru_1/gru_cell_1/kernel:0' shape=(1280, 3072) dtype=float32, numpy=\narray([[-0.034711  ,  0.02239491,  0.01923913, ...,  0.03465782,\n         0.03512245,  0.02517879],\n       [-0.03345551, -0.00478633,  0.00010258, ...,  0.01892601,\n         0.01812701, -0.00698525],\n       [-0.01097748,  0.0201496 ,  0.01447656, ..., -0.03087727,\n        -0.00199311,  0.02093653],\n       ...,\n       [ 0.03100869, -0.01465321,  0.03436823, ..., -0.00571235,\n        -0.01428936, -0.00276094],\n       [-0.00503244, -0.00893218, -0.02440211, ..., -0.00263312,\n        -0.02094186,  0.0301842 ],\n       [-0.03039906, -0.02743107, -0.02710827, ..., -0.03567749,\n        -0.00270595,  0.00418523]], dtype=float32)>, <tf.Variable 'decoder/gru_1/gru_cell_1/recurrent_kernel:0' shape=(1024, 3072) dtype=float32, numpy=\narray([[ 0.01870765, -0.03575647,  0.0027508 , ..., -0.00111501,\n        -0.01943655,  0.02780503],\n       [ 0.03097932, -0.01873414, -0.004185  , ..., -0.0181978 ,\n        -0.01678027,  0.03014594],\n       [ 0.00893474, -0.03417294, -0.0270287 , ...,  0.01346403,\n        -0.02114905,  0.03443509],\n       ...,\n       [-0.00435289,  0.02141398,  0.01294014, ...,  0.01078313,\n         0.00370141, -0.02542024],\n       [ 0.00467299,  0.02971673,  0.02547302, ...,  0.01334331,\n        -0.01135897,  0.00969655],\n       [ 0.00798996, -0.02133269,  0.00282297, ...,  0.0084477 ,\n         0.0335343 , -0.01637768]], dtype=float32)>, <tf.Variable 'decoder/gru_1/gru_cell_1/bias:0' shape=(2, 3072) dtype=float32, numpy=\narray([[0., 0., 0., ..., 0., 0., 0.],\n       [0., 0., 0., ..., 0., 0., 0.]], dtype=float32)>, <tf.Variable 'decoder/dense_3/kernel:0' shape=(1024, 4935) dtype=float32, numpy=\narray([[-0.00227308,  0.00718536,  0.01110636, ..., -0.01250145,\n        -0.00078112,  0.01593601],\n       [ 0.03038643, -0.0293505 , -0.01421679, ..., -0.00814977,\n         0.02167249,  0.03124687],\n       [-0.02826436, -0.0061457 ,  0.01740278, ...,  0.00858087,\n         0.00889164,  0.02282039],\n       ...,\n       [-0.02833895, -0.0213631 , -0.00250822, ...,  0.02958441,\n        -0.02030689, -0.00785417],\n       [ 0.0285294 ,  0.02042721, -0.02363786, ..., -0.03149165,\n        -0.00891216,  0.01850425],\n       [ 0.01657166, -0.03041577, -0.02566683, ..., -0.00551687,\n         0.01256766,  0.03093354]], dtype=float32)>, <tf.Variable 'decoder/dense_3/bias:0' shape=(4935,) dtype=float32, numpy=array([0., 0., 0., ..., 0., 0., 0.], dtype=float32)>, <tf.Variable 'decoder/bahdanau_attention_1/dense_4/kernel:0' shape=(1024, 1024) dtype=float32, numpy=\narray([[-0.04051938, -0.05137664,  0.00526245, ..., -0.04879249,\n         0.02924613,  0.01841181],\n       [-0.0088552 ,  0.0511943 , -0.00679906, ...,  0.00583619,\n        -0.03960099,  0.01097861],\n       [-0.0230652 , -0.05166688, -0.02013396, ..., -0.00755518,\n        -0.02864298, -0.02730034],\n       ...,\n       [-0.0126499 , -0.00819102, -0.01578429, ...,  0.04269816,\n        -0.0441775 ,  0.04956709],\n       [ 0.05278787, -0.00483132,  0.03165057, ..., -0.0210081 ,\n         0.0147192 , -0.02810268],\n       [-0.01006756,  0.04787377,  0.01172445, ...,  0.02324298,\n         0.03469781,  0.02327903]], dtype=float32)>, <tf.Variable 'decoder/bahdanau_attention_1/dense_4/bias:0' shape=(1024,) dtype=float32, numpy=array([0., 0., 0., ..., 0., 0., 0.], dtype=float32)>, <tf.Variable 'decoder/bahdanau_attention_1/dense_5/kernel:0' shape=(1024, 1024) dtype=float32, numpy=\narray([[-0.03402772, -0.026959  , -0.00758115, ..., -0.00965678,\n         0.02058509, -0.02992799],\n       [ 0.03330634,  0.03975474,  0.00561864, ..., -0.04679127,\n        -0.03029759, -0.00715045],\n       [-0.03582049,  0.04363212,  0.04502783, ...,  0.00193321,\n         0.04596755, -0.05343731],\n       ...,\n       [ 0.02872681, -0.01210514,  0.02640843, ...,  0.04597433,\n        -0.00752771,  0.04873995],\n       [-0.0250765 ,  0.00013975,  0.008942  , ...,  0.01251077,\n         0.05409956,  0.02999886],\n       [ 0.01253076, -0.03900851,  0.03845677, ...,  0.03608094,\n         0.01083936, -0.02324659]], dtype=float32)>, <tf.Variable 'decoder/bahdanau_attention_1/dense_5/bias:0' shape=(1024,) dtype=float32, numpy=array([0., 0., 0., ..., 0., 0., 0.], dtype=float32)>, <tf.Variable 'decoder/bahdanau_attention_1/dense_6/kernel:0' shape=(1024, 1) dtype=float32, numpy=\narray([[-0.00803673],\n       [ 0.06701098],\n       [-0.0057431 ],\n       ...,\n       [-0.00802123],\n       [-0.02776922],\n       [-0.03569645]], dtype=float32)>, <tf.Variable 'decoder/bahdanau_attention_1/dense_6/bias:0' shape=(1,) dtype=float32, numpy=array([0.], dtype=float32)>]\n",
     "output_type": "stream"
    }
   ]
  },
  {
   "cell_type": "code",
   "source": "optimizer = keras.optimizers.Adam()\n# 分类问题往往用SparseCategoricalCrossentropy\n# 全连接层未加激活函数直接输出from_logits=True  reduction是对损失的聚合(reduce)操作\nloss_object = keras.losses.SparseCategoricalCrossentropy(from_logits=True, reduction='none')\n\n\ndef loss_function(real, pred):\n    # real.shape=[batch_size,max_length] 每句话的每个词sparse表示 后面补零\n    # 不需要去计算padding填充部分的损失\n    mask = tf.math.logical_not(tf.math.equal(real, 0))\n    loss_ = loss_object(real, pred)\n    # 掩码张量和损失类型保持一致float类型\n    mask = tf.cast(mask, dtype=loss_.dtype)\n    loss_ *= mask\n    return tf.reduce_mean(loss_)\n\n\ncheckpoint_dir = './seq2seq_checkpoint'\nif not os.path.exists(checkpoint_dir):\n    os.mkdir(checkpoint_dir)\ncheckpoint_prefix = os.path.join(checkpoint_dir, 'ckpt')\ncheckpoint = tf.train.Checkpoint(optimizer=optimizer, encoder=encoder, decoder=decoder)",
   "metadata": {
    "collapsed": false,
    "pycharm": {
     "name": "#%%\n"
    },
    "jupyter": {
     "outputs_hidden": false
    },
    "execution": {
     "iopub.status.busy": "2022-08-06T06:38:36.128050Z",
     "iopub.execute_input": "2022-08-06T06:38:36.128579Z",
     "iopub.status.idle": "2022-08-06T06:38:36.137322Z",
     "shell.execute_reply.started": "2022-08-06T06:38:36.128543Z",
     "shell.execute_reply": "2022-08-06T06:38:36.136351Z"
    },
    "trusted": true
   },
   "execution_count": 18,
   "outputs": []
  },
  {
   "cell_type": "code",
   "source": "@tf.function\ndef train_step(input, target, encoding_hidden):\n    loss = 0\n    with tf.GradientTape() as tape:\n        encoding_output, encoding_hidden_state = encoder(input, encoding_hidden)\n        #把encoding_hidden——state(encoder的最后一个词的状态输出)作为decoding_hidden_state，计算注意力时使用decoding_hidden\n        decoding_hidden_state = encoding_hidden_state\n        # 初始隐含状态输入\n        decoding_input = tf.expand_dims([target_language_tokenizer.word_index['<start>']] * BATCHSIZE, 1)\n        for t in range(1, target.shape[1]):\n            predictions, decoding_hidden_state, _ = decoder(decoding_input, decoding_hidden_state, encoding_output)\n            loss += loss_function(target[:, t], predictions)\n            # 输入真实值 不用预测值\n            decoding_input = tf.expand_dims(target[:, t], 1)\n    batch_loss = (loss / int(target.shape[1]))\n    variables = encoder.trainable_variables + decoder.trainable_variables\n    # 求梯度\n    gradients = tape.gradient(loss, variables)\n    optimizer.apply_gradients(zip(gradients, variables))\n    return batch_loss",
   "metadata": {
    "collapsed": false,
    "pycharm": {
     "name": "#%%\n"
    },
    "jupyter": {
     "outputs_hidden": false
    },
    "execution": {
     "iopub.status.busy": "2022-08-06T06:38:36.138826Z",
     "iopub.execute_input": "2022-08-06T06:38:36.139272Z",
     "iopub.status.idle": "2022-08-06T06:38:36.149658Z",
     "shell.execute_reply.started": "2022-08-06T06:38:36.139214Z",
     "shell.execute_reply": "2022-08-06T06:38:36.148684Z"
    },
    "trusted": true
   },
   "execution_count": 19,
   "outputs": []
  },
  {
   "cell_type": "code",
   "source": "EPOCHS = 10\nfor epoch in range(EPOCHS):\n    start = time.time()\n    encoding_hidden_state = encoder.initialize_hidden_state()\n    total_loss = 0\n    # 每次取dataset.take(steps_per_epoch)的数据\n    for batch, (input, target) in enumerate(dataset.take(steps_per_epoch)):\n        batch_loss = train_step(input, target, encoding_hidden_state)\n        total_loss += batch_loss\n        if batch % 100 == 0:\n            print('Epoch {} Batch {} Loss {:.4f}'.format(epoch + 1, batch, batch_loss.numpy()))\n    if (epoch + 1) % 2 == 0:\n        checkpoint.save(file_prefix=checkpoint_prefix)\n    print('Epoch {} Loss {:.4f}'.format(epoch + 1, total_loss / steps_per_epoch))\n    print('Time taken for 1 epoch {}s\\n'.format(time.time() - start))",
   "metadata": {
    "collapsed": false,
    "pycharm": {
     "name": "#%%\n"
    },
    "jupyter": {
     "outputs_hidden": false
    },
    "execution": {
     "iopub.status.busy": "2022-08-06T06:38:36.152672Z",
     "iopub.execute_input": "2022-08-06T06:38:36.152958Z",
     "iopub.status.idle": "2022-08-06T06:42:05.553654Z",
     "shell.execute_reply.started": "2022-08-06T06:38:36.152933Z",
     "shell.execute_reply": "2022-08-06T06:42:05.552435Z"
    },
    "trusted": true
   },
   "execution_count": 20,
   "outputs": [
    {
     "name": "stderr",
     "text": "2022-08-06 06:38:45.961377: I tensorflow/compiler/mlir/mlir_graph_optimization_pass.cc:185] None of the MLIR Optimization Passes are enabled (registered 2)\n",
     "output_type": "stream"
    },
    {
     "name": "stdout",
     "text": "Epoch 1 Batch 0 Loss 4.6746\nEpoch 1 Batch 100 Loss 2.1463\nEpoch 1 Batch 200 Loss 1.7042\nEpoch 1 Batch 300 Loss 1.7718\nEpoch 1 Loss 2.0080\nTime taken for 1 epoch 32.00051474571228s\n\nEpoch 2 Batch 0 Loss 1.5606\nEpoch 2 Batch 100 Loss 1.4075\nEpoch 2 Batch 200 Loss 1.4135\nEpoch 2 Batch 300 Loss 1.3682\nEpoch 2 Loss 1.3516\nTime taken for 1 epoch 20.261008262634277s\n\nEpoch 3 Batch 0 Loss 0.9523\nEpoch 3 Batch 100 Loss 0.9731\nEpoch 3 Batch 200 Loss 0.8237\nEpoch 3 Batch 300 Loss 0.8266\nEpoch 3 Loss 0.9182\nTime taken for 1 epoch 19.34232258796692s\n\nEpoch 4 Batch 0 Loss 0.5641\nEpoch 4 Batch 100 Loss 0.6513\nEpoch 4 Batch 200 Loss 0.7032\nEpoch 4 Batch 300 Loss 0.5634\nEpoch 4 Loss 0.6156\nTime taken for 1 epoch 19.99747657775879s\n\nEpoch 5 Batch 0 Loss 0.4004\nEpoch 5 Batch 100 Loss 0.3806\nEpoch 5 Batch 200 Loss 0.4142\nEpoch 5 Batch 300 Loss 0.4484\nEpoch 5 Loss 0.4192\nTime taken for 1 epoch 19.30445146560669s\n\nEpoch 6 Batch 0 Loss 0.2732\nEpoch 6 Batch 100 Loss 0.3426\nEpoch 6 Batch 200 Loss 0.3311\nEpoch 6 Batch 300 Loss 0.2855\nEpoch 6 Loss 0.2899\nTime taken for 1 epoch 19.93464207649231s\n\nEpoch 7 Batch 0 Loss 0.2379\nEpoch 7 Batch 100 Loss 0.1742\nEpoch 7 Batch 200 Loss 0.1842\nEpoch 7 Batch 300 Loss 0.2152\nEpoch 7 Loss 0.2086\nTime taken for 1 epoch 19.344122648239136s\n\nEpoch 8 Batch 0 Loss 0.1355\nEpoch 8 Batch 100 Loss 0.1499\nEpoch 8 Batch 200 Loss 0.1660\nEpoch 8 Batch 300 Loss 0.1607\nEpoch 8 Loss 0.1567\nTime taken for 1 epoch 19.926320552825928s\n\nEpoch 9 Batch 0 Loss 0.0892\nEpoch 9 Batch 100 Loss 0.0952\nEpoch 9 Batch 200 Loss 0.1207\nEpoch 9 Batch 300 Loss 0.1267\nEpoch 9 Loss 0.1212\nTime taken for 1 epoch 19.311468839645386s\n\nEpoch 10 Batch 0 Loss 0.0688\nEpoch 10 Batch 100 Loss 0.0892\nEpoch 10 Batch 200 Loss 0.0977\nEpoch 10 Batch 300 Loss 0.1181\nEpoch 10 Loss 0.1001\nTime taken for 1 epoch 19.966899871826172s\n\n",
     "output_type": "stream"
    }
   ]
  },
  {
   "cell_type": "code",
   "source": "# 接收字符串，并进行翻译编码\ndef evaluate(sentence):\n    attention_plot = np.zeros((target_max_length, input_max_length))\n    sentence = preprocess_sentence(sentence)\n    inputs = [input_language_tokenizer.word_index[i] for i in sentence.split(' ')]\n    inputs = keras.preprocessing.sequence.pad_sequences([inputs], maxlen=input_max_length, padding='post')\n    inputs = tf.convert_to_tensor(inputs)\n\n    result = ''\n    hidden_state = [tf.zeros((1, units))]\n    encoding_output, encoding_hidden_state = encoder(inputs, hidden_state)\n    decoding_hidden_state = encoding_hidden_state\n    decoding_input = tf.expand_dims([target_language_tokenizer.word_index['<start>']], 0)\n    for t in range(target_max_length):\n        predictions, decoding_hidden_state, attention_weights = decoder(decoding_input, decoding_hidden_state,\n                                                                        encoding_output)\n        # attention weights. shape: (batch size, input length, 1)  (1， 16， 1 )需要变为长度为16的向量\n        attention_weights = tf.reshape(attention_weights, (-1,))\n        # 画图\n        attention_plot[t] = attention_weights.numpy()\n        # predictions.shape: (batch_ size, vocab_ size) (1， 4935)\n        predicted_index = tf.argmax(predictions[0]).numpy()\n        result += target_language_tokenizer.index_word[predicted_index] + ' '\n        if target_language_tokenizer.index_word[predicted_index] == '<end>':\n            return result, sentence, attention_plot\n        decoding_input = tf.expand_dims([predicted_index], 0)\n    return result, sentence, attention_plot\n\n\n# 注意力关系完成可视化\ndef plot_attention(attention, sentence, predicted_sentence):\n    fig = plt.figure(figsize=(10, 10))\n    ax = fig.add_subplot(1, 1, 1)\n    print('attention:',attention)\n    ax.matshow(attention, cmap='viridis')\n    fontdict = {'fontsize': 14}\n    ax.set_xticklabels([''] + sentence, fontdict=fontdict, rotation=90)\n    ax.set_yticklabels([''] + predicted_sentence, fontdict=fontdict)\n    plt.show()\n\n\ndef translate(sentence):\n    result, sentence, attention_plot = evaluate(sentence)\n    print(f'Input: {sentence}')\n    print(f'Predicted translation: {result}')\n    attention_plot = attention_plot[:len(result.split(' ')), :len(sentence.split(' '))]\n    plot_attention(attention_plot, sentence.split(' '), result.split(' '))\n\n\n# 加载已完成的模型参数\ncheckpoint.restore(tf.train.latest_checkpoint(checkpoint_dir))",
   "metadata": {
    "collapsed": false,
    "pycharm": {
     "name": "#%%\n"
    },
    "jupyter": {
     "outputs_hidden": false
    },
    "execution": {
     "iopub.status.busy": "2022-08-06T06:42:05.555478Z",
     "iopub.execute_input": "2022-08-06T06:42:05.555829Z",
     "iopub.status.idle": "2022-08-06T06:42:05.785980Z",
     "shell.execute_reply.started": "2022-08-06T06:42:05.555793Z",
     "shell.execute_reply": "2022-08-06T06:42:05.785039Z"
    },
    "trusted": true
   },
   "execution_count": 21,
   "outputs": [
    {
     "execution_count": 21,
     "output_type": "execute_result",
     "data": {
      "text/plain": "<tensorflow.python.training.tracking.util.CheckpointLoadStatus at 0x7f09e39b1550>"
     },
     "metadata": {}
    }
   ]
  },
  {
   "cell_type": "code",
   "source": "translate(u'hace mucho frio aqui.')",
   "metadata": {
    "collapsed": false,
    "pycharm": {
     "name": "#%%\n"
    },
    "jupyter": {
     "outputs_hidden": false
    },
    "execution": {
     "iopub.status.busy": "2022-08-06T06:42:05.787440Z",
     "iopub.execute_input": "2022-08-06T06:42:05.787806Z",
     "iopub.status.idle": "2022-08-06T06:42:06.172421Z",
     "shell.execute_reply.started": "2022-08-06T06:42:05.787759Z",
     "shell.execute_reply": "2022-08-06T06:42:06.171122Z"
    },
    "trusted": true
   },
   "execution_count": 22,
   "outputs": [
    {
     "name": "stdout",
     "text": "Input: <start> hace mucho frio aqui . <end>\nPredicted translation: it s very cold here . <end> \nattention: [[9.27340960e-09 1.95733207e-09 1.40498050e-05 3.44977598e-05\n  1.17560077e-04 4.03497252e-04 2.79022511e-02]\n [8.19989741e-02 5.90630889e-01 1.90828070e-01 8.62943456e-02\n  2.85698678e-02 8.14605877e-03 2.25570425e-03]\n [3.22541967e-02 5.58329262e-02 5.77551246e-01 3.10608774e-01\n  1.70475300e-02 3.28579685e-03 7.08952779e-04]\n [2.41656951e-03 1.30542132e-04 1.23446077e-01 7.92240322e-01\n  7.74844736e-02 4.03446844e-03 5.93814511e-05]\n [2.06114555e-06 6.62381717e-06 1.99742790e-04 1.57531872e-02\n  9.26777422e-01 5.55604212e-02 1.05088204e-03]\n [6.55936844e-07 1.03452408e-06 4.73577762e-04 1.23836109e-02\n  1.81330591e-01 7.24865377e-01 7.29807168e-02]\n [1.27244846e-06 2.79715664e-06 3.02143220e-04 1.95871107e-03\n  3.49664353e-02 6.96689308e-01 2.38580689e-01]\n [0.00000000e+00 0.00000000e+00 0.00000000e+00 0.00000000e+00\n  0.00000000e+00 0.00000000e+00 0.00000000e+00]]\n",
     "output_type": "stream"
    },
    {
     "name": "stderr",
     "text": "/opt/conda/lib/python3.7/site-packages/ipykernel_launcher.py:37: UserWarning: FixedFormatter should only be used together with FixedLocator\n/opt/conda/lib/python3.7/site-packages/ipykernel_launcher.py:38: UserWarning: FixedFormatter should only be used together with FixedLocator\n",
     "output_type": "stream"
    },
    {
     "output_type": "display_data",
     "data": {
      "text/plain": "<Figure size 720x720 with 1 Axes>",
      "image/png": "[encoded data removed]"
     },
     "metadata": {
      "needs_background": "light"
     }
    }
   ]
  },
  {
   "cell_type": "code",
   "source": "translate(u'¿todavia estan en casa?')",
   "metadata": {
    "collapsed": false,
    "pycharm": {
     "name": "#%%\n"
    },
    "jupyter": {
     "outputs_hidden": false
    },
    "execution": {
     "iopub.status.busy": "2022-08-06T06:42:06.178902Z",
     "iopub.execute_input": "2022-08-06T06:42:06.179483Z",
     "iopub.status.idle": "2022-08-06T06:42:06.545630Z",
     "shell.execute_reply.started": "2022-08-06T06:42:06.179427Z",
     "shell.execute_reply": "2022-08-06T06:42:06.544226Z"
    },
    "trusted": true
   },
   "execution_count": 23,
   "outputs": [
    {
     "name": "stdout",
     "text": "Input: <start> ¿ todavia estan en casa ? <end>\nPredicted translation: are you still home ? <end> \nattention: [[6.62068587e-08 2.47933780e-08 1.59883416e-06 2.21478094e-05\n  9.49876121e-05 2.46817013e-04 4.21969307e-04 3.66130448e-03]\n [4.93196659e-02 1.72590092e-01 3.65979671e-01 2.89863795e-01\n  2.22617052e-02 5.33931516e-02 1.06403362e-02 5.33037074e-03]\n [1.10103935e-02 1.75075140e-03 8.62743855e-02 5.41734397e-01\n  1.60997435e-01 1.68533430e-01 2.31946949e-02 2.28816480e-03]\n [3.16572748e-03 1.91932180e-04 7.34440284e-03 3.65624577e-02\n  3.96508545e-01 4.29737389e-01 1.17541037e-01 5.51432837e-03]\n [1.25328488e-05 1.21754533e-06 9.94062357e-05 1.72473912e-04\n  8.24575685e-03 6.61692768e-02 8.16466987e-01 1.00564972e-01]\n [3.78808772e-06 3.16633350e-06 1.32863221e-04 5.35423460e-04\n  7.86582590e-04 1.78453897e-03 8.05904046e-02 8.43507826e-01]\n [0.00000000e+00 0.00000000e+00 0.00000000e+00 0.00000000e+00\n  0.00000000e+00 0.00000000e+00 0.00000000e+00 0.00000000e+00]]\n",
     "output_type": "stream"
    },
    {
     "name": "stderr",
     "text": "/opt/conda/lib/python3.7/site-packages/ipykernel_launcher.py:37: UserWarning: FixedFormatter should only be used together with FixedLocator\n/opt/conda/lib/python3.7/site-packages/ipykernel_launcher.py:38: UserWarning: FixedFormatter should only be used together with FixedLocator\n",
     "output_type": "stream"
    },
    {
     "output_type": "display_data",
     "data": {
      "text/plain": "<Figure size 720x720 with 1 Axes>",
      "image/png": "[encoded data removed]"
     },
     "metadata": {
      "needs_background": "light"
     }
    }
   ]
  },
  {
   "cell_type": "code",
   "source": "translate(u'trata de averiguarlo.')",
   "metadata": {
    "collapsed": false,
    "pycharm": {
     "name": "#%%\n"
    },
    "jupyter": {
     "outputs_hidden": false
    },
    "execution": {
     "iopub.status.busy": "2022-08-06T06:42:06.547350Z",
     "iopub.execute_input": "2022-08-06T06:42:06.547722Z",
     "iopub.status.idle": "2022-08-06T06:42:06.903342Z",
     "shell.execute_reply.started": "2022-08-06T06:42:06.547686Z",
     "shell.execute_reply": "2022-08-06T06:42:06.902072Z"
    },
    "trusted": true
   },
   "execution_count": 24,
   "outputs": [
    {
     "name": "stdout",
     "text": "Input: <start> trata de averiguarlo . <end>\nPredicted translation: try to figure it out . <end> \nattention: [[2.22983914e-07 3.39824766e-07 3.07997325e-05 2.54529179e-04\n  4.26648767e-04 1.96011714e-03]\n [1.39340665e-02 1.30822882e-01 1.26960620e-01 6.70492828e-01\n  5.37340380e-02 8.29963537e-04]\n [2.63865851e-03 3.13970516e-03 3.56183611e-02 2.83892035e-01\n  6.48595154e-01 1.98222492e-02]\n [1.43608646e-04 4.01154830e-04 3.33824684e-03 4.42230068e-02\n  8.74479771e-01 7.08262399e-02]\n [1.48866136e-04 7.90633436e-04 7.67326867e-03 3.82829756e-02\n  6.68570817e-01 2.78350085e-01]\n [7.98678320e-06 1.58606141e-04 2.66589690e-03 8.29505827e-03\n  1.93675324e-01 7.68196225e-01]\n [1.57832824e-06 1.91509862e-05 1.02077967e-04 2.80172448e-04\n  2.19502649e-03 9.82447922e-01]\n [0.00000000e+00 0.00000000e+00 0.00000000e+00 0.00000000e+00\n  0.00000000e+00 0.00000000e+00]]\n",
     "output_type": "stream"
    },
    {
     "name": "stderr",
     "text": "/opt/conda/lib/python3.7/site-packages/ipykernel_launcher.py:37: UserWarning: FixedFormatter should only be used together with FixedLocator\n/opt/conda/lib/python3.7/site-packages/ipykernel_launcher.py:38: UserWarning: FixedFormatter should only be used together with FixedLocator\n",
     "output_type": "stream"
    },
    {
     "output_type": "display_data",
     "data": {
      "text/plain": "<Figure size 720x720 with 1 Axes>",
      "image/png": "[encoded data removed]"
     },
     "metadata": {
      "needs_background": "light"
     }
    }
   ]
  },
  {
   "cell_type": "code",
   "source": "translate(u'Hoy es un buen día')",
   "metadata": {
    "collapsed": false,
    "pycharm": {
     "name": "#%%\n"
    },
    "jupyter": {
     "outputs_hidden": false
    },
    "execution": {
     "iopub.status.busy": "2022-08-06T06:42:06.909383Z",
     "iopub.execute_input": "2022-08-06T06:42:06.909970Z",
     "iopub.status.idle": "2022-08-06T06:42:07.295249Z",
     "shell.execute_reply.started": "2022-08-06T06:42:06.909916Z",
     "shell.execute_reply": "2022-08-06T06:42:07.294066Z"
    },
    "trusted": true
   },
   "execution_count": 25,
   "outputs": [
    {
     "name": "stdout",
     "text": "Input: <start> hoy es un buen dia <end>\nPredicted translation: today is a good day today . <end> \nattention: [[1.57010547e-08 2.77362460e-07 7.78438516e-06 9.03220207e-05\n  3.97872762e-04 1.79320094e-04 5.42211579e-04]\n [1.16676703e-01 4.13557217e-02 5.58556318e-01 6.34799600e-02\n  4.61940207e-02 4.71900739e-02 5.94654642e-02]\n [2.82278960e-03 6.30152877e-03 1.78579930e-02 3.68370324e-01\n  3.67117971e-01 7.95012042e-02 5.62949590e-02]\n [4.32124252e-05 1.90695166e-04 3.93201946e-04 8.98599997e-03\n  4.35277253e-01 4.99001175e-01 3.79688703e-02]\n [1.28970802e-04 4.33929090e-04 1.51772122e-03 3.34510650e-03\n  1.09495841e-01 5.37094355e-01 2.97152698e-01]\n [2.74827789e-06 3.06475613e-06 8.27277108e-05 1.08714587e-04\n  1.10065029e-03 2.74420017e-03 2.67940402e-01]\n [3.71537226e-06 1.14571376e-05 1.16156021e-04 3.46446264e-04\n  2.33348971e-03 3.17954551e-03 2.77973771e-01]\n [2.84564953e-06 5.26602389e-06 1.60706855e-04 3.01673863e-04\n  1.31143350e-03 2.24175490e-03 3.52491945e-01]\n [0.00000000e+00 0.00000000e+00 0.00000000e+00 0.00000000e+00\n  0.00000000e+00 0.00000000e+00 0.00000000e+00]]\n",
     "output_type": "stream"
    },
    {
     "name": "stderr",
     "text": "/opt/conda/lib/python3.7/site-packages/ipykernel_launcher.py:37: UserWarning: FixedFormatter should only be used together with FixedLocator\n/opt/conda/lib/python3.7/site-packages/ipykernel_launcher.py:38: UserWarning: FixedFormatter should only be used together with FixedLocator\n",
     "output_type": "stream"
    },
    {
     "output_type": "display_data",
     "data": {
      "text/plain": "<Figure size 720x720 with 1 Axes>",
      "image/png": "[encoded data removed]"
     },
     "metadata": {
      "needs_background": "light"
     }
    }
   ]
  },
  {
   "cell_type": "code",
   "source": "",
   "metadata": {},
   "execution_count": null,
   "outputs": []
  }
 ]
}
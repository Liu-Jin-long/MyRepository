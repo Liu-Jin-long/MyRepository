{
 "metadata": {
  "kernelspec": {
   "language": "python",
   "display_name": "Python 3",
   "name": "python3"
  },
  "language_info": {
   "name": "python",
   "version": "3.7.12",
   "mimetype": "text/x-python",
   "codemirror_mode": {
    "name": "ipython",
    "version": 3
   },
   "pygments_lexer": "ipython3",
   "nbconvert_exporter": "python",
   "file_extension": ".py"
  }
 },
 "nbformat_minor": 4,
 "nbformat": 4,
 "cells": [
  {
   "cell_type": "code",
   "source": "import matplotlib as mpl\nimport matplotlib.pyplot as plt\n%matplotlib inline\nimport numpy as np\nimport sklearn\nimport pandas as pd\nimport os\nimport sys\nimport time\nimport tensorflow as tf\n\nfrom tensorflow import keras\n\nprint(tf.__version__)\nprint(sys.version_info)\nfor module in mpl, np, pd, sklearn, tf, keras:\n    print(module.__name__, module.__version__)",
   "metadata": {
    "collapsed": false,
    "pycharm": {
     "name": "#%%\n"
    },
    "jupyter": {
     "outputs_hidden": false
    },
    "execution": {
     "iopub.status.busy": "2022-08-03T14:27:41.520579Z",
     "iopub.execute_input": "2022-08-03T14:27:41.520965Z",
     "iopub.status.idle": "2022-08-03T14:27:41.877401Z",
     "shell.execute_reply.started": "2022-08-03T14:27:41.520934Z",
     "shell.execute_reply": "2022-08-03T14:27:41.876398Z"
    },
    "trusted": true
   },
   "execution_count": 2,
   "outputs": [
    {
     "name": "stdout",
     "text": "2.6.4\nsys.version_info(major=3, minor=7, micro=12, releaselevel='final', serial=0)\nmatplotlib 3.5.2\nnumpy 1.21.6\npandas 1.3.5\nsklearn 1.0.2\ntensorflow 2.6.4\nkeras.api._v2.keras 2.6.0\n",
     "output_type": "stream"
    }
   ]
  },
  {
   "cell_type": "code",
   "source": "input_filepath = '../input/shakespeare/shakespeare.txt'\ntext = open(input_filepath, 'r').read()\nprint(len(text))\nprint(text[:100])",
   "metadata": {
    "collapsed": false,
    "pycharm": {
     "name": "#%%\n"
    },
    "jupyter": {
     "outputs_hidden": false
    },
    "execution": {
     "iopub.status.busy": "2022-08-03T14:27:41.880592Z",
     "iopub.execute_input": "2022-08-03T14:27:41.881692Z",
     "iopub.status.idle": "2022-08-03T14:27:41.895561Z",
     "shell.execute_reply.started": "2022-08-03T14:27:41.881650Z",
     "shell.execute_reply": "2022-08-03T14:27:41.894272Z"
    },
    "trusted": true
   },
   "execution_count": 3,
   "outputs": [
    {
     "name": "stdout",
     "text": "1115394\nFirst Citizen:\nBefore we proceed any further, hear me speak.\n\nAll:\nSpeak, speak.\n\nFirst Citizen:\nYou\n",
     "output_type": "stream"
    }
   ]
  },
  {
   "cell_type": "code",
   "source": "vocab = sorted(set(text))\nprint(len(vocab))\nprint(vocab)",
   "metadata": {
    "collapsed": false,
    "pycharm": {
     "name": "#%%\n"
    },
    "jupyter": {
     "outputs_hidden": false
    },
    "execution": {
     "iopub.status.busy": "2022-08-03T14:27:41.897350Z",
     "iopub.execute_input": "2022-08-03T14:27:41.897798Z",
     "iopub.status.idle": "2022-08-03T14:27:41.919632Z",
     "shell.execute_reply.started": "2022-08-03T14:27:41.897760Z",
     "shell.execute_reply": "2022-08-03T14:27:41.918405Z"
    },
    "trusted": true
   },
   "execution_count": 4,
   "outputs": [
    {
     "name": "stdout",
     "text": "65\n['\\n', ' ', '!', '$', '&', \"'\", ',', '-', '.', '3', ':', ';', '?', 'A', 'B', 'C', 'D', 'E', 'F', 'G', 'H', 'I', 'J', 'K', 'L', 'M', 'N', 'O', 'P', 'Q', 'R', 'S', 'T', 'U', 'V', 'W', 'X', 'Y', 'Z', 'a', 'b', 'c', 'd', 'e', 'f', 'g', 'h', 'i', 'j', 'k', 'l', 'm', 'n', 'o', 'p', 'q', 'r', 's', 't', 'u', 'v', 'w', 'x', 'y', 'z']\n",
     "output_type": "stream"
    }
   ]
  },
  {
   "cell_type": "code",
   "source": "char2index = {char: index for index, char in enumerate(vocab)}\nprint(char2index)",
   "metadata": {
    "collapsed": false,
    "pycharm": {
     "name": "#%%\n"
    },
    "jupyter": {
     "outputs_hidden": false
    },
    "execution": {
     "iopub.status.busy": "2022-08-03T14:27:41.923689Z",
     "iopub.execute_input": "2022-08-03T14:27:41.924573Z",
     "iopub.status.idle": "2022-08-03T14:27:41.931267Z",
     "shell.execute_reply.started": "2022-08-03T14:27:41.924530Z",
     "shell.execute_reply": "2022-08-03T14:27:41.930044Z"
    },
    "trusted": true
   },
   "execution_count": 5,
   "outputs": [
    {
     "name": "stdout",
     "text": "{'\\n': 0, ' ': 1, '!': 2, '$': 3, '&': 4, \"'\": 5, ',': 6, '-': 7, '.': 8, '3': 9, ':': 10, ';': 11, '?': 12, 'A': 13, 'B': 14, 'C': 15, 'D': 16, 'E': 17, 'F': 18, 'G': 19, 'H': 20, 'I': 21, 'J': 22, 'K': 23, 'L': 24, 'M': 25, 'N': 26, 'O': 27, 'P': 28, 'Q': 29, 'R': 30, 'S': 31, 'T': 32, 'U': 33, 'V': 34, 'W': 35, 'X': 36, 'Y': 37, 'Z': 38, 'a': 39, 'b': 40, 'c': 41, 'd': 42, 'e': 43, 'f': 44, 'g': 45, 'h': 46, 'i': 47, 'j': 48, 'k': 49, 'l': 50, 'm': 51, 'n': 52, 'o': 53, 'p': 54, 'q': 55, 'r': 56, 's': 57, 't': 58, 'u': 59, 'v': 60, 'w': 61, 'x': 62, 'y': 63, 'z': 64}\n",
     "output_type": "stream"
    }
   ]
  },
  {
   "cell_type": "code",
   "source": "index2char = np.array(vocab)\nprint(index2char)",
   "metadata": {
    "collapsed": false,
    "pycharm": {
     "name": "#%%\n"
    },
    "jupyter": {
     "outputs_hidden": false
    },
    "execution": {
     "iopub.status.busy": "2022-08-03T14:27:41.933306Z",
     "iopub.execute_input": "2022-08-03T14:27:41.934065Z",
     "iopub.status.idle": "2022-08-03T14:27:41.940826Z",
     "shell.execute_reply.started": "2022-08-03T14:27:41.934029Z",
     "shell.execute_reply": "2022-08-03T14:27:41.939719Z"
    },
    "trusted": true
   },
   "execution_count": 6,
   "outputs": [
    {
     "name": "stdout",
     "text": "['\\n' ' ' '!' '$' '&' \"'\" ',' '-' '.' '3' ':' ';' '?' 'A' 'B' 'C' 'D' 'E'\n 'F' 'G' 'H' 'I' 'J' 'K' 'L' 'M' 'N' 'O' 'P' 'Q' 'R' 'S' 'T' 'U' 'V' 'W'\n 'X' 'Y' 'Z' 'a' 'b' 'c' 'd' 'e' 'f' 'g' 'h' 'i' 'j' 'k' 'l' 'm' 'n' 'o'\n 'p' 'q' 'r' 's' 't' 'u' 'v' 'w' 'x' 'y' 'z']\n",
     "output_type": "stream"
    }
   ]
  },
  {
   "cell_type": "code",
   "source": "text_as_int = np.array([char2index[c] for c in text])\nprint(text_as_int.shape)\nprint(len(text_as_int))\nprint(text_as_int[:10])\nprint(text[:10])",
   "metadata": {
    "collapsed": false,
    "pycharm": {
     "name": "#%%\n"
    },
    "jupyter": {
     "outputs_hidden": false
    },
    "execution": {
     "iopub.status.busy": "2022-08-03T14:27:41.942796Z",
     "iopub.execute_input": "2022-08-03T14:27:41.943581Z",
     "iopub.status.idle": "2022-08-03T14:27:42.108641Z",
     "shell.execute_reply.started": "2022-08-03T14:27:41.943547Z",
     "shell.execute_reply": "2022-08-03T14:27:42.107569Z"
    },
    "trusted": true
   },
   "execution_count": 7,
   "outputs": [
    {
     "name": "stdout",
     "text": "(1115394,)\n1115394\n[18 47 56 57 58  1 15 47 58 47]\nFirst Citi\n",
     "output_type": "stream"
    }
   ]
  },
  {
   "cell_type": "code",
   "source": "def split_input_target(id_text):\n    \"\"\"abcde -> abcd,bcde  输入是abcd，输出是bcde\"\"\"\n    return id_text[0:-1], id_text[1:]",
   "metadata": {
    "collapsed": false,
    "pycharm": {
     "name": "#%%\n"
    },
    "jupyter": {
     "outputs_hidden": false
    },
    "execution": {
     "iopub.status.busy": "2022-08-03T14:27:42.110405Z",
     "iopub.execute_input": "2022-08-03T14:27:42.111102Z",
     "iopub.status.idle": "2022-08-03T14:27:42.118046Z",
     "shell.execute_reply.started": "2022-08-03T14:27:42.111060Z",
     "shell.execute_reply": "2022-08-03T14:27:42.116648Z"
    },
    "trusted": true
   },
   "execution_count": 8,
   "outputs": []
  },
  {
   "cell_type": "code",
   "source": "char_dataset = tf.data.Dataset.from_tensor_slices(text_as_int)\nsequence_length = 100\n# 输入sequence_length+1各字符 返回sequence_length个字符\n# batch将字符转换为句子序列  drop_remainder丢掉最后不足一批的余数\nsequence_dataset = char_dataset.batch(sequence_length + 1, drop_remainder=True)\n\nfor char_id in char_dataset.take(2):\n    print(char_id, index2char[char_id.numpy()])\nfor sequence_id in sequence_dataset.take(2):\n    print(sequence_id)\n    print(repr(''.join(index2char[sequence_id.numpy()])))",
   "metadata": {
    "collapsed": false,
    "pycharm": {
     "name": "#%%\n"
    },
    "jupyter": {
     "outputs_hidden": false
    },
    "execution": {
     "iopub.status.busy": "2022-08-03T14:27:42.119819Z",
     "iopub.execute_input": "2022-08-03T14:27:42.120529Z",
     "iopub.status.idle": "2022-08-03T14:27:43.206170Z",
     "shell.execute_reply.started": "2022-08-03T14:27:42.120492Z",
     "shell.execute_reply": "2022-08-03T14:27:43.205149Z"
    },
    "trusted": true
   },
   "execution_count": 9,
   "outputs": [
    {
     "name": "stderr",
     "text": "2022-08-03 14:27:42.159834: I tensorflow/stream_executor/cuda/cuda_gpu_executor.cc:937] successful NUMA node read from SysFS had negative value (-1), but there must be at least one NUMA node, so returning NUMA node zero\n2022-08-03 14:27:42.168578: I tensorflow/stream_executor/cuda/cuda_gpu_executor.cc:937] successful NUMA node read from SysFS had negative value (-1), but there must be at least one NUMA node, so returning NUMA node zero\n2022-08-03 14:27:42.169317: I tensorflow/stream_executor/cuda/cuda_gpu_executor.cc:937] successful NUMA node read from SysFS had negative value (-1), but there must be at least one NUMA node, so returning NUMA node zero\n2022-08-03 14:27:42.170895: I tensorflow/core/platform/cpu_feature_guard.cc:142] This TensorFlow binary is optimized with oneAPI Deep Neural Network Library (oneDNN) to use the following CPU instructions in performance-critical operations:  AVX2 AVX512F FMA\nTo enable them in other operations, rebuild TensorFlow with the appropriate compiler flags.\n2022-08-03 14:27:42.171241: I tensorflow/stream_executor/cuda/cuda_gpu_executor.cc:937] successful NUMA node read from SysFS had negative value (-1), but there must be at least one NUMA node, so returning NUMA node zero\n2022-08-03 14:27:42.171926: I tensorflow/stream_executor/cuda/cuda_gpu_executor.cc:937] successful NUMA node read from SysFS had negative value (-1), but there must be at least one NUMA node, so returning NUMA node zero\n2022-08-03 14:27:42.172565: I tensorflow/stream_executor/cuda/cuda_gpu_executor.cc:937] successful NUMA node read from SysFS had negative value (-1), but there must be at least one NUMA node, so returning NUMA node zero\n2022-08-03 14:27:42.821503: I tensorflow/stream_executor/cuda/cuda_gpu_executor.cc:937] successful NUMA node read from SysFS had negative value (-1), but there must be at least one NUMA node, so returning NUMA node zero\n2022-08-03 14:27:42.822327: I tensorflow/stream_executor/cuda/cuda_gpu_executor.cc:937] successful NUMA node read from SysFS had negative value (-1), but there must be at least one NUMA node, so returning NUMA node zero\n2022-08-03 14:27:42.822995: I tensorflow/stream_executor/cuda/cuda_gpu_executor.cc:937] successful NUMA node read from SysFS had negative value (-1), but there must be at least one NUMA node, so returning NUMA node zero\n2022-08-03 14:27:42.823602: I tensorflow/core/common_runtime/gpu/gpu_device.cc:1510] Created device /job:localhost/replica:0/task:0/device:GPU:0 with 15403 MB memory:  -> device: 0, name: Tesla P100-PCIE-16GB, pci bus id: 0000:00:04.0, compute capability: 6.0\n",
     "output_type": "stream"
    },
    {
     "name": "stdout",
     "text": "tf.Tensor(18, shape=(), dtype=int64) F\ntf.Tensor(47, shape=(), dtype=int64) i\ntf.Tensor(\n[18 47 56 57 58  1 15 47 58 47 64 43 52 10  0 14 43 44 53 56 43  1 61 43\n  1 54 56 53 41 43 43 42  1 39 52 63  1 44 59 56 58 46 43 56  6  1 46 43\n 39 56  1 51 43  1 57 54 43 39 49  8  0  0 13 50 50 10  0 31 54 43 39 49\n  6  1 57 54 43 39 49  8  0  0 18 47 56 57 58  1 15 47 58 47 64 43 52 10\n  0 37 53 59  1], shape=(101,), dtype=int64)\n'First Citizen:\\nBefore we proceed any further, hear me speak.\\n\\nAll:\\nSpeak, speak.\\n\\nFirst Citizen:\\nYou '\ntf.Tensor(\n[39 56 43  1 39 50 50  1 56 43 57 53 50 60 43 42  1 56 39 58 46 43 56  1\n 58 53  1 42 47 43  1 58 46 39 52  1 58 53  1 44 39 51 47 57 46 12  0  0\n 13 50 50 10  0 30 43 57 53 50 60 43 42  8  1 56 43 57 53 50 60 43 42  8\n  0  0 18 47 56 57 58  1 15 47 58 47 64 43 52 10  0 18 47 56 57 58  6  1\n 63 53 59  1 49], shape=(101,), dtype=int64)\n'are all resolved rather to die than to famish?\\n\\nAll:\\nResolved. resolved.\\n\\nFirst Citizen:\\nFirst, you k'\n",
     "output_type": "stream"
    },
    {
     "name": "stderr",
     "text": "2022-08-03 14:27:43.192977: W tensorflow/core/data/root_dataset.cc:167] Optimization loop failed: Cancelled: Operation was cancelled\n2022-08-03 14:27:43.199770: W tensorflow/core/data/root_dataset.cc:167] Optimization loop failed: Cancelled: Operation was cancelled\n",
     "output_type": "stream"
    }
   ]
  },
  {
   "cell_type": "code",
   "source": "# 做映射得到输入和输出\nsequence_dataset = sequence_dataset.map(split_input_target)\nfor item_input, item_output in sequence_dataset.take(2):\n    print(item_input.numpy())\n    print(item_output.numpy())\nprint(sequence_dataset)",
   "metadata": {
    "collapsed": false,
    "pycharm": {
     "name": "#%%\n"
    },
    "jupyter": {
     "outputs_hidden": false
    },
    "execution": {
     "iopub.status.busy": "2022-08-03T14:27:43.208023Z",
     "iopub.execute_input": "2022-08-03T14:27:43.208419Z",
     "iopub.status.idle": "2022-08-03T14:27:43.283752Z",
     "shell.execute_reply.started": "2022-08-03T14:27:43.208369Z",
     "shell.execute_reply": "2022-08-03T14:27:43.282729Z"
    },
    "trusted": true
   },
   "execution_count": 10,
   "outputs": [
    {
     "name": "stdout",
     "text": "[18 47 56 57 58  1 15 47 58 47 64 43 52 10  0 14 43 44 53 56 43  1 61 43\n  1 54 56 53 41 43 43 42  1 39 52 63  1 44 59 56 58 46 43 56  6  1 46 43\n 39 56  1 51 43  1 57 54 43 39 49  8  0  0 13 50 50 10  0 31 54 43 39 49\n  6  1 57 54 43 39 49  8  0  0 18 47 56 57 58  1 15 47 58 47 64 43 52 10\n  0 37 53 59]\n[47 56 57 58  1 15 47 58 47 64 43 52 10  0 14 43 44 53 56 43  1 61 43  1\n 54 56 53 41 43 43 42  1 39 52 63  1 44 59 56 58 46 43 56  6  1 46 43 39\n 56  1 51 43  1 57 54 43 39 49  8  0  0 13 50 50 10  0 31 54 43 39 49  6\n  1 57 54 43 39 49  8  0  0 18 47 56 57 58  1 15 47 58 47 64 43 52 10  0\n 37 53 59  1]\n[39 56 43  1 39 50 50  1 56 43 57 53 50 60 43 42  1 56 39 58 46 43 56  1\n 58 53  1 42 47 43  1 58 46 39 52  1 58 53  1 44 39 51 47 57 46 12  0  0\n 13 50 50 10  0 30 43 57 53 50 60 43 42  8  1 56 43 57 53 50 60 43 42  8\n  0  0 18 47 56 57 58  1 15 47 58 47 64 43 52 10  0 18 47 56 57 58  6  1\n 63 53 59  1]\n[56 43  1 39 50 50  1 56 43 57 53 50 60 43 42  1 56 39 58 46 43 56  1 58\n 53  1 42 47 43  1 58 46 39 52  1 58 53  1 44 39 51 47 57 46 12  0  0 13\n 50 50 10  0 30 43 57 53 50 60 43 42  8  1 56 43 57 53 50 60 43 42  8  0\n  0 18 47 56 57 58  1 15 47 58 47 64 43 52 10  0 18 47 56 57 58  6  1 63\n 53 59  1 49]\n<MapDataset shapes: ((100,), (100,)), types: (tf.int64, tf.int64)>\n",
     "output_type": "stream"
    },
    {
     "name": "stderr",
     "text": "2022-08-03 14:27:43.267427: I tensorflow/compiler/mlir/mlir_graph_optimization_pass.cc:185] None of the MLIR Optimization Passes are enabled (registered 2)\n",
     "output_type": "stream"
    }
   ]
  },
  {
   "cell_type": "code",
   "source": "batch_size = 64\nbuffer_size = 10000\nsequence_dataset = sequence_dataset.shuffle(buffer_size).batch(batch_size, drop_remainder=True)\nprint(sequence_dataset)",
   "metadata": {
    "collapsed": false,
    "pycharm": {
     "name": "#%%\n"
    },
    "jupyter": {
     "outputs_hidden": false
    },
    "execution": {
     "iopub.status.busy": "2022-08-03T14:27:43.288114Z",
     "iopub.execute_input": "2022-08-03T14:27:43.288827Z",
     "iopub.status.idle": "2022-08-03T14:27:43.297563Z",
     "shell.execute_reply.started": "2022-08-03T14:27:43.288785Z",
     "shell.execute_reply": "2022-08-03T14:27:43.296431Z"
    },
    "trusted": true
   },
   "execution_count": 11,
   "outputs": [
    {
     "name": "stdout",
     "text": "<BatchDataset shapes: ((64, 100), (64, 100)), types: (tf.int64, tf.int64)>\n",
     "output_type": "stream"
    }
   ]
  },
  {
   "cell_type": "code",
   "source": "vocab_size = len(vocab)\nembedding_dim = 256\nrnn_units = 1024\n\n\ndef build_model(vocab_size, embedding_dim, rnn_units, batch_size):\n    model = keras.models.Sequential([\n        keras.layers.Embedding(vocab_size, embedding_dim, batch_input_shape=[batch_size, None]),\n        keras.layers.LSTM(units=rnn_units,\n                          stateful=True,  # 是否将这一批次中索引i的每个样本的最后状态用作下一个批次中索引i的样本的初始状态\n                          recurrent_initializer='glorot_uniform',  # 初始化权重矩阵，用于循环状态的线性转换\n                          return_sequences=True),  # 返回所有输出\n        keras.layers.Dense(vocab_size),\n    ])\n    return model\n\n\nmodel = build_model(vocab_size=vocab_size, embedding_dim=embedding_dim,\n                    rnn_units=rnn_units, batch_size=batch_size)\nprint(model.summary())",
   "metadata": {
    "collapsed": false,
    "pycharm": {
     "name": "#%%\n"
    },
    "jupyter": {
     "outputs_hidden": false
    },
    "execution": {
     "iopub.status.busy": "2022-08-03T14:27:43.299317Z",
     "iopub.execute_input": "2022-08-03T14:27:43.300108Z",
     "iopub.status.idle": "2022-08-03T14:27:43.531121Z",
     "shell.execute_reply.started": "2022-08-03T14:27:43.300072Z",
     "shell.execute_reply": "2022-08-03T14:27:43.530161Z"
    },
    "trusted": true
   },
   "execution_count": 12,
   "outputs": [
    {
     "name": "stdout",
     "text": "Model: \"sequential\"\n_________________________________________________________________\nLayer (type)                 Output Shape              Param #   \n=================================================================\nembedding (Embedding)        (64, None, 256)           16640     \n_________________________________________________________________\nlstm (LSTM)                  (64, None, 1024)          5246976   \n_________________________________________________________________\ndense (Dense)                (64, None, 65)            66625     \n=================================================================\nTotal params: 5,330,241\nTrainable params: 5,330,241\nNon-trainable params: 0\n_________________________________________________________________\nNone\n",
     "output_type": "stream"
    }
   ]
  },
  {
   "cell_type": "code",
   "source": "print(model.variables)",
   "metadata": {
    "pycharm": {
     "name": "#%%\n"
    },
    "execution": {
     "iopub.status.busy": "2022-08-03T14:27:43.534820Z",
     "iopub.execute_input": "2022-08-03T14:27:43.535102Z",
     "iopub.status.idle": "2022-08-03T14:27:43.563451Z",
     "shell.execute_reply.started": "2022-08-03T14:27:43.535075Z",
     "shell.execute_reply": "2022-08-03T14:27:43.562448Z"
    },
    "trusted": true
   },
   "execution_count": 13,
   "outputs": [
    {
     "name": "stdout",
     "text": "[<tf.Variable 'embedding/embeddings:0' shape=(65, 256) dtype=float32, numpy=\narray([[-0.04525001,  0.02787185, -0.00784376, ...,  0.00832462,\n         0.03347795,  0.01996693],\n       [-0.01920562, -0.02134976,  0.03557615, ...,  0.00579132,\n         0.00097162,  0.04300029],\n       [ 0.04539466, -0.02200407, -0.03014871, ..., -0.01022156,\n        -0.00414542,  0.04848817],\n       ...,\n       [ 0.02276044,  0.01871764,  0.00567186, ...,  0.02976039,\n         0.00676261,  0.04662025],\n       [-0.02065388, -0.03882288, -0.04119078, ..., -0.03003141,\n         0.0051864 ,  0.03145988],\n       [-0.03321948, -0.02551397,  0.04652753, ..., -0.00721079,\n        -0.02157035, -0.02054813]], dtype=float32)>, <tf.Variable 'lstm/lstm_cell/kernel:0' shape=(256, 4096) dtype=float32, numpy=\narray([[ 0.0209539 ,  0.00756338, -0.01243896, ...,  0.03083608,\n         0.00919849, -0.00302912],\n       [ 0.03646383,  0.01684374, -0.02385048, ..., -0.02545188,\n         0.00052806,  0.03067524],\n       [-0.00222456,  0.02038841,  0.026736  , ..., -0.02480165,\n         0.02605441, -0.00665452],\n       ...,\n       [-0.03486525, -0.01649085,  0.0283506 , ...,  0.01493834,\n         0.00439492,  0.01831375],\n       [-0.01106125, -0.01312437,  0.00888966, ..., -0.00872241,\n        -0.03074642,  0.00232255],\n       [-0.01667786,  0.02966613, -0.02372611, ..., -0.03541111,\n         0.01529966, -0.00456072]], dtype=float32)>, <tf.Variable 'lstm/lstm_cell/recurrent_kernel:0' shape=(1024, 4096) dtype=float32, numpy=\narray([[ 0.02161211,  0.02189488,  0.02828464, ..., -0.02910084,\n         0.01991632, -0.01231506],\n       [-0.02659163,  0.00535722,  0.00774008, ..., -0.00977281,\n        -0.02795741,  0.00428231],\n       [-0.00957054, -0.00949138, -0.02036195, ..., -0.0025527 ,\n        -0.00299935,  0.0317805 ],\n       ...,\n       [ 0.00062621, -0.00588026,  0.02192361, ..., -0.02981535,\n        -0.0262499 ,  0.02031414],\n       [-0.00570924, -0.01584886,  0.02985892, ..., -0.02567511,\n        -0.0109293 ,  0.01768361],\n       [-0.01469021, -0.00495769,  0.00942761, ...,  0.02074808,\n        -0.0117967 ,  0.00190799]], dtype=float32)>, <tf.Variable 'lstm/lstm_cell/bias:0' shape=(4096,) dtype=float32, numpy=array([0., 0., 0., ..., 0., 0., 0.], dtype=float32)>, <tf.Variable 'dense/kernel:0' shape=(1024, 65) dtype=float32, numpy=\narray([[ 0.02700345, -0.05212965, -0.06125887, ..., -0.05478255,\n        -0.07211348, -0.07368842],\n       [ 0.02531742,  0.00410889,  0.00321899, ...,  0.06536955,\n         0.04206897,  0.01359306],\n       [-0.05977703,  0.06512119,  0.06656003, ...,  0.0644356 ,\n        -0.02224292,  0.01725738],\n       ...,\n       [-0.03763174,  0.03206263, -0.01309199, ...,  0.04296329,\n        -0.00825536, -0.05321201],\n       [ 0.01421232, -0.01120976,  0.05835736, ...,  0.04779086,\n        -0.04726327,  0.00202802],\n       [ 0.06714705, -0.06891001,  0.00825075, ...,  0.0498085 ,\n        -0.04435578,  0.00477736]], dtype=float32)>, <tf.Variable 'dense/bias:0' shape=(65,) dtype=float32, numpy=\narray([0., 0., 0., 0., 0., 0., 0., 0., 0., 0., 0., 0., 0., 0., 0., 0., 0.,\n       0., 0., 0., 0., 0., 0., 0., 0., 0., 0., 0., 0., 0., 0., 0., 0., 0.,\n       0., 0., 0., 0., 0., 0., 0., 0., 0., 0., 0., 0., 0., 0., 0., 0., 0.,\n       0., 0., 0., 0., 0., 0., 0., 0., 0., 0., 0., 0., 0., 0.],\n      dtype=float32)>]\n",
     "output_type": "stream"
    }
   ]
  },
  {
   "cell_type": "code",
   "source": "for input_example_batch, target_example_batch in sequence_dataset.take(1):\n    # 把model当函数来用，实际是调用类的call方法\n    example_batch_predictions = model(input_example_batch)\n    print(example_batch_predictions.shape)",
   "metadata": {
    "collapsed": false,
    "pycharm": {
     "name": "#%%\n"
    },
    "jupyter": {
     "outputs_hidden": false
    },
    "execution": {
     "iopub.status.busy": "2022-08-03T14:27:43.567062Z",
     "iopub.execute_input": "2022-08-03T14:27:43.567346Z",
     "iopub.status.idle": "2022-08-03T14:27:48.690973Z",
     "shell.execute_reply.started": "2022-08-03T14:27:43.567319Z",
     "shell.execute_reply": "2022-08-03T14:27:48.689915Z"
    },
    "trusted": true
   },
   "execution_count": 14,
   "outputs": [
    {
     "name": "stderr",
     "text": "2022-08-03 14:27:45.826129: I tensorflow/stream_executor/cuda/cuda_dnn.cc:369] Loaded cuDNN version 8005\n",
     "output_type": "stream"
    },
    {
     "name": "stdout",
     "text": "(64, 100, 65)\n",
     "output_type": "stream"
    }
   ]
  },
  {
   "cell_type": "code",
   "source": "print(example_batch_predictions)",
   "metadata": {
    "pycharm": {
     "name": "#%%\n"
    },
    "execution": {
     "iopub.status.busy": "2022-08-03T14:27:48.692147Z",
     "iopub.execute_input": "2022-08-03T14:27:48.692512Z",
     "iopub.status.idle": "2022-08-03T14:27:48.710233Z",
     "shell.execute_reply.started": "2022-08-03T14:27:48.692477Z",
     "shell.execute_reply": "2022-08-03T14:27:48.709042Z"
    },
    "trusted": true
   },
   "execution_count": 15,
   "outputs": [
    {
     "name": "stdout",
     "text": "tf.Tensor(\n[[[-2.67272093e-03  1.63642666e-03 -6.87235675e-04 ... -1.64137292e-03\n    1.56671787e-03 -4.15825576e-04]\n  [-7.07834261e-04  9.96763818e-03 -1.59643730e-03 ... -7.33956462e-04\n    2.03338522e-03  1.11386541e-03]\n  [-2.00913707e-03  7.06743961e-03  5.34977438e-03 ... -2.78298790e-03\n    5.05400263e-03  2.91223056e-03]\n  ...\n  [ 2.47331802e-04  1.14464862e-02 -1.03832269e-03 ... -2.67823134e-03\n   -9.56431776e-03  2.31411238e-03]\n  [-4.70491592e-04  1.59614123e-02 -1.77025143e-03 ... -1.46620208e-03\n   -7.91234430e-03  2.89739715e-03]\n  [-2.33091135e-03  1.82699747e-02 -6.04616944e-04 ... -4.46212944e-03\n   -1.57148056e-02  1.55771314e-03]]\n\n [[ 3.89983086e-03  6.08957489e-04  6.29221089e-04 ...  2.52489024e-03\n    4.47379984e-03 -4.25819121e-03]\n  [ 5.79379778e-03  4.06516995e-03  6.51185168e-03 ... -2.71552638e-03\n   -1.00101484e-03  1.57996127e-03]\n  [ 2.42702663e-04  9.68904234e-04  5.15099522e-03 ...  3.08281416e-03\n   -1.36368326e-03  8.99227336e-03]\n  ...\n  [-1.02735870e-02  1.89736485e-03  1.90684572e-04 ... -3.93612660e-04\n    1.77977083e-03 -5.38902543e-03]\n  [-7.16408994e-03  6.94779307e-03  3.08356248e-04 ... -3.38734570e-03\n   -5.48813166e-03 -4.38569859e-03]\n  [-6.43619336e-03  3.83038213e-03 -9.38196434e-04 ...  9.22555220e-04\n    2.47526681e-04 -4.25382890e-03]]\n\n [[-3.93729750e-03 -1.71308243e-03 -1.79375242e-03 ...  4.13209246e-03\n   -3.31394374e-04  8.07173178e-03]\n  [-1.22955849e-03  6.42802566e-03 -2.87293945e-03 ...  3.21549876e-03\n    7.71636376e-04  6.74767233e-03]\n  [-2.07088050e-03  3.59146250e-03  4.00765100e-03 ... -5.57209132e-05\n    4.22795024e-03  6.40950352e-03]\n  ...\n  [-1.16291107e-03  4.58998838e-03  2.09186878e-03 ... -3.10576009e-03\n    2.23245360e-02  3.44533077e-03]\n  [-5.20851975e-03  5.76564856e-03  2.99093965e-03 ... -9.11758654e-03\n    2.34237835e-02  1.05759902e-02]\n  [-1.67012983e-03  4.48874757e-03  4.23202477e-03 ... -6.56537339e-03\n    1.65275075e-02  7.94384163e-03]]\n\n ...\n\n [[-4.95459978e-03 -2.78545963e-03  8.76264647e-04 ...  2.74683186e-03\n    4.41863667e-03 -1.70353567e-04]\n  [-2.95761670e-03  6.44086860e-03 -1.37478230e-03 ...  3.38339340e-03\n    3.78275895e-03  5.19093825e-04]\n  [-4.33429331e-03  9.14770178e-03 -4.48886165e-03 ...  3.74006177e-03\n   -2.90091150e-04 -3.91327497e-03]\n  ...\n  [ 1.27935410e-03  3.75916529e-03  9.02230293e-03 ... -4.10902686e-03\n    6.06287736e-03  1.80485100e-03]\n  [-3.77890840e-03 -1.03260006e-03  7.77611695e-03 ... -5.72358724e-04\n    8.63342360e-03  1.97390094e-03]\n  [-2.10234150e-03  7.16604292e-03  4.10910510e-03 ...  7.06583902e-04\n    6.77399989e-03  2.60142842e-03]]\n\n [[ 1.36585883e-03  7.71692954e-03 -1.72429613e-03 ...  7.63233285e-04\n    1.06769078e-03  1.32346968e-03]\n  [ 4.39335313e-03  8.26889649e-03 -2.65507540e-03 ...  2.23632250e-03\n    9.43824649e-04  3.44979111e-04]\n  [ 7.15562142e-04  1.31814764e-03  1.66531641e-03 ...  2.44628033e-03\n    2.50523491e-03 -8.42602551e-03]\n  ...\n  [-7.96199031e-03  2.41374364e-03  8.97143222e-03 ...  7.11910659e-04\n    5.02160192e-03 -6.50820974e-03]\n  [-7.21979747e-03 -1.95119530e-04  1.30531508e-02 ... -3.14609823e-03\n    8.76295101e-03 -3.49223800e-03]\n  [-4.99349739e-03  7.18281697e-03  9.00380407e-03 ... -2.34004506e-03\n    7.54740741e-03 -1.53127848e-03]]\n\n [[-3.93729750e-03 -1.71308243e-03 -1.79375242e-03 ...  4.13209246e-03\n   -3.31394374e-04  8.07173178e-03]\n  [-6.54219836e-03 -3.02801724e-03 -2.96514574e-03 ...  6.54381607e-03\n   -6.27226662e-04  1.34708695e-02]\n  [-1.16620492e-03 -1.19010569e-04 -1.67304045e-03 ...  2.34350422e-03\n    4.99891769e-03  6.94575394e-03]\n  ...\n  [-2.59555411e-03  1.08614797e-04  5.25412848e-03 ... -7.04202428e-03\n    7.27214385e-03  5.12353703e-03]\n  [-2.18995381e-04 -9.42830183e-03  9.84601490e-03 ... -1.20516755e-02\n    4.49430337e-03  1.83527987e-03]\n  [ 7.00958539e-04 -7.11432099e-03  7.78255099e-03 ... -6.79629389e-03\n   -1.65322411e-03  4.92680678e-03]]], shape=(64, 100, 65), dtype=float32)\n",
     "output_type": "stream"
    }
   ]
  },
  {
   "cell_type": "code",
   "source": "print(example_batch_predictions[0])",
   "metadata": {
    "collapsed": false,
    "pycharm": {
     "name": "#%%\n"
    },
    "jupyter": {
     "outputs_hidden": false
    },
    "execution": {
     "iopub.status.busy": "2022-08-03T14:27:48.711616Z",
     "iopub.execute_input": "2022-08-03T14:27:48.712697Z",
     "iopub.status.idle": "2022-08-03T14:27:48.726155Z",
     "shell.execute_reply.started": "2022-08-03T14:27:48.712628Z",
     "shell.execute_reply": "2022-08-03T14:27:48.724230Z"
    },
    "trusted": true
   },
   "execution_count": 16,
   "outputs": [
    {
     "name": "stdout",
     "text": "tf.Tensor(\n[[-0.00267272  0.00163643 -0.00068724 ... -0.00164137  0.00156672\n  -0.00041583]\n [-0.00070783  0.00996764 -0.00159644 ... -0.00073396  0.00203339\n   0.00111387]\n [-0.00200914  0.00706744  0.00534977 ... -0.00278299  0.005054\n   0.00291223]\n ...\n [ 0.00024733  0.01144649 -0.00103832 ... -0.00267823 -0.00956432\n   0.00231411]\n [-0.00047049  0.01596141 -0.00177025 ... -0.0014662  -0.00791234\n   0.0028974 ]\n [-0.00233091  0.01826997 -0.00060462 ... -0.00446213 -0.01571481\n   0.00155771]], shape=(100, 65), dtype=float32)\n",
     "output_type": "stream"
    }
   ]
  },
  {
   "cell_type": "code",
   "source": "sample_indices = tf.random.categorical(\n    logits=example_batch_predictions[0], num_samples=1)\nprint(sample_indices)\nprint('-' * 50)\n# (100, 65) -> (100, 1)\nsample_indices = tf.squeeze(sample_indices, axis=-1)\nprint(sample_indices)  # (100, )",
   "metadata": {
    "pycharm": {
     "name": "#%%\n"
    },
    "execution": {
     "iopub.status.busy": "2022-08-03T14:27:48.728086Z",
     "iopub.execute_input": "2022-08-03T14:27:48.729109Z",
     "iopub.status.idle": "2022-08-03T14:27:48.744639Z",
     "shell.execute_reply.started": "2022-08-03T14:27:48.729074Z",
     "shell.execute_reply": "2022-08-03T14:27:48.743602Z"
    },
    "trusted": true
   },
   "execution_count": 17,
   "outputs": [
    {
     "name": "stdout",
     "text": "tf.Tensor(\n[[47]\n [25]\n [ 8]\n [21]\n [ 3]\n [43]\n [62]\n [24]\n [52]\n [15]\n [30]\n [59]\n [54]\n [55]\n [50]\n [25]\n [56]\n [18]\n [ 5]\n [31]\n [11]\n [64]\n [24]\n [20]\n [25]\n [31]\n [10]\n [59]\n [30]\n [53]\n [21]\n [31]\n [19]\n [10]\n [44]\n [21]\n [64]\n [52]\n [32]\n [51]\n [30]\n [49]\n [17]\n [ 7]\n [ 5]\n [49]\n [54]\n [ 8]\n [41]\n [ 7]\n [63]\n [31]\n [ 9]\n [48]\n [ 9]\n [28]\n [20]\n [36]\n [31]\n [16]\n [10]\n [17]\n [58]\n [31]\n [49]\n [ 2]\n [52]\n [37]\n [38]\n [32]\n [49]\n [28]\n [59]\n [ 4]\n [32]\n [23]\n [41]\n [31]\n [26]\n [22]\n [21]\n [29]\n [53]\n [11]\n [23]\n [55]\n [53]\n [30]\n [33]\n [14]\n [52]\n [39]\n [44]\n [62]\n [43]\n [25]\n [51]\n [53]\n [31]\n [56]], shape=(100, 1), dtype=int64)\n--------------------------------------------------\ntf.Tensor(\n[47 25  8 21  3 43 62 24 52 15 30 59 54 55 50 25 56 18  5 31 11 64 24 20\n 25 31 10 59 30 53 21 31 19 10 44 21 64 52 32 51 30 49 17  7  5 49 54  8\n 41  7 63 31  9 48  9 28 20 36 31 16 10 17 58 31 49  2 52 37 38 32 49 28\n 59  4 32 23 41 31 26 22 21 29 53 11 23 55 53 30 33 14 52 39 44 62 43 25\n 51 53 31 56], shape=(100,), dtype=int64)\n",
     "output_type": "stream"
    }
   ]
  },
  {
   "cell_type": "code",
   "source": "print('Input:', repr(''.join(index2char[input_example_batch[0]])))\nprint('-' * 50)\nprint('Output:', repr(''.join(index2char[target_example_batch[0]])))\nprint('-' * 50)\nprint('Predictions:', repr(''.join(index2char[sample_indices])))",
   "metadata": {
    "collapsed": false,
    "pycharm": {
     "name": "#%%\n"
    },
    "jupyter": {
     "outputs_hidden": false
    },
    "execution": {
     "iopub.status.busy": "2022-08-03T14:27:48.747262Z",
     "iopub.execute_input": "2022-08-03T14:27:48.747591Z",
     "iopub.status.idle": "2022-08-03T14:27:48.765174Z",
     "shell.execute_reply.started": "2022-08-03T14:27:48.747559Z",
     "shell.execute_reply": "2022-08-03T14:27:48.764252Z"
    },
    "trusted": true
   },
   "execution_count": 18,
   "outputs": [
    {
     "name": "stdout",
     "text": "Input: \": this must be patch'd\\nWith cloth of any colour.\\n\\nCOMINIUS:\\nNay, come away.\\n\\nA Patrician:\\nThis man h\"\n--------------------------------------------------\nOutput: \" this must be patch'd\\nWith cloth of any colour.\\n\\nCOMINIUS:\\nNay, come away.\\n\\nA Patrician:\\nThis man ha\"\n--------------------------------------------------\nPredictions: \"iM.I$exLnCRupqlMrF'S;zLHMS:uRoISG:fIznTmRkE-'kp.c-yS3j3PHXSD:EtSk!nYZTkPu&TKcSNJIQo;KqoRUBnafxeMmoSr\"\n",
     "output_type": "stream"
    }
   ]
  },
  {
   "cell_type": "code",
   "source": "# from_logits是否预期为对数张量。默认情况下，我们假设对概率分布进行编码\n# from_logits=False就表示把已经概率化了的输出，重新映射回原值。log（p/(1-p)）\ndef loss(labels, logits):\n    return keras.losses.sparse_categorical_crossentropy(\n        labels, logits, from_logits=True)\n\n\nmodel.compile(optimizer='adam', loss=loss)\nexample_loss = loss(target_example_batch, example_batch_predictions)\nprint(example_loss.shape)\nprint(example_loss.numpy().mean())",
   "metadata": {
    "collapsed": false,
    "pycharm": {
     "name": "#%%\n"
    },
    "jupyter": {
     "outputs_hidden": false
    },
    "execution": {
     "iopub.status.busy": "2022-08-03T14:27:48.766688Z",
     "iopub.execute_input": "2022-08-03T14:27:48.769295Z",
     "iopub.status.idle": "2022-08-03T14:27:48.805315Z",
     "shell.execute_reply.started": "2022-08-03T14:27:48.769255Z",
     "shell.execute_reply": "2022-08-03T14:27:48.804241Z"
    },
    "trusted": true
   },
   "execution_count": 19,
   "outputs": [
    {
     "name": "stdout",
     "text": "(64, 100)\n4.173581\n",
     "output_type": "stream"
    }
   ]
  },
  {
   "cell_type": "code",
   "source": "# 保存模型\noutput_dir = './text_generation_lstm_checkpoints'\nif not os.path.exists(output_dir):\n    os.mkdir(output_dir)\ncheckpoint_prefix = os.path.join(output_dir, 'ckpt_{epoch}')\ncheckpoint_callback = keras.callbacks.ModelCheckpoint(filepath=checkpoint_prefix,\n                                                      # 只保存权重的值\n                                                      save_weights_only=True)\nepochs = 100\nhistory = model.fit(sequence_dataset, epochs=epochs, callbacks=[checkpoint_callback])",
   "metadata": {
    "collapsed": false,
    "pycharm": {
     "name": "#%%\n"
    },
    "jupyter": {
     "outputs_hidden": false
    },
    "execution": {
     "iopub.status.busy": "2022-08-03T14:27:48.810392Z",
     "iopub.execute_input": "2022-08-03T14:27:48.813404Z",
     "iopub.status.idle": "2022-08-03T14:53:57.343017Z",
     "shell.execute_reply.started": "2022-08-03T14:27:48.813360Z",
     "shell.execute_reply": "2022-08-03T14:53:57.341858Z"
    },
    "trusted": true
   },
   "execution_count": 20,
   "outputs": [
    {
     "name": "stdout",
     "text": "Epoch 1/100\n172/172 [==============================] - 12s 51ms/step - loss: 2.5742\nEpoch 2/100\n172/172 [==============================] - 11s 51ms/step - loss: 1.8748\nEpoch 3/100\n172/172 [==============================] - 11s 52ms/step - loss: 1.6313\nEpoch 4/100\n172/172 [==============================] - 11s 51ms/step - loss: 1.5012\nEpoch 5/100\n172/172 [==============================] - 11s 52ms/step - loss: 1.4217\nEpoch 6/100\n172/172 [==============================] - 11s 51ms/step - loss: 1.3653\nEpoch 7/100\n172/172 [==============================] - 11s 51ms/step - loss: 1.3213\nEpoch 8/100\n172/172 [==============================] - 11s 51ms/step - loss: 1.2828\nEpoch 9/100\n172/172 [==============================] - 11s 51ms/step - loss: 1.2463\nEpoch 10/100\n172/172 [==============================] - 11s 51ms/step - loss: 1.2103\nEpoch 11/100\n172/172 [==============================] - 11s 51ms/step - loss: 1.1758\nEpoch 12/100\n172/172 [==============================] - 11s 51ms/step - loss: 1.1380\nEpoch 13/100\n172/172 [==============================] - 11s 51ms/step - loss: 1.1007\nEpoch 14/100\n172/172 [==============================] - 11s 51ms/step - loss: 1.0625\nEpoch 15/100\n172/172 [==============================] - 11s 51ms/step - loss: 1.0225\nEpoch 16/100\n172/172 [==============================] - 11s 51ms/step - loss: 0.9818\nEpoch 17/100\n172/172 [==============================] - 11s 51ms/step - loss: 0.9396\nEpoch 18/100\n172/172 [==============================] - 11s 53ms/step - loss: 0.8999\nEpoch 19/100\n172/172 [==============================] - 11s 51ms/step - loss: 0.8604\nEpoch 20/100\n172/172 [==============================] - 11s 51ms/step - loss: 0.8212\nEpoch 21/100\n172/172 [==============================] - 11s 51ms/step - loss: 0.7849\nEpoch 22/100\n172/172 [==============================] - 11s 52ms/step - loss: 0.7519\nEpoch 23/100\n172/172 [==============================] - 11s 51ms/step - loss: 0.7212\nEpoch 24/100\n172/172 [==============================] - 11s 52ms/step - loss: 0.6913\nEpoch 25/100\n172/172 [==============================] - 11s 52ms/step - loss: 0.6645\nEpoch 26/100\n172/172 [==============================] - 11s 52ms/step - loss: 0.6399\nEpoch 27/100\n172/172 [==============================] - 11s 51ms/step - loss: 0.6186\nEpoch 28/100\n172/172 [==============================] - 11s 51ms/step - loss: 0.5990\nEpoch 29/100\n172/172 [==============================] - 11s 51ms/step - loss: 0.5806\nEpoch 30/100\n172/172 [==============================] - 11s 51ms/step - loss: 0.5668\nEpoch 31/100\n172/172 [==============================] - 12s 51ms/step - loss: 0.5506\nEpoch 32/100\n172/172 [==============================] - 11s 51ms/step - loss: 0.5354\nEpoch 33/100\n172/172 [==============================] - 11s 51ms/step - loss: 0.5253\nEpoch 34/100\n172/172 [==============================] - 11s 51ms/step - loss: 0.5136\nEpoch 35/100\n172/172 [==============================] - 11s 52ms/step - loss: 0.5054\nEpoch 36/100\n172/172 [==============================] - 11s 51ms/step - loss: 0.4962\nEpoch 37/100\n172/172 [==============================] - 11s 51ms/step - loss: 0.4879\nEpoch 38/100\n172/172 [==============================] - 11s 51ms/step - loss: 0.4831\nEpoch 39/100\n172/172 [==============================] - 11s 52ms/step - loss: 0.4742\nEpoch 40/100\n172/172 [==============================] - 11s 52ms/step - loss: 0.4673\nEpoch 41/100\n172/172 [==============================] - 11s 52ms/step - loss: 0.4635\nEpoch 42/100\n172/172 [==============================] - 11s 51ms/step - loss: 0.4585\nEpoch 43/100\n172/172 [==============================] - 11s 51ms/step - loss: 0.4532\nEpoch 44/100\n172/172 [==============================] - 11s 51ms/step - loss: 0.4507\nEpoch 45/100\n172/172 [==============================] - 11s 51ms/step - loss: 0.4459\nEpoch 46/100\n172/172 [==============================] - 11s 51ms/step - loss: 0.4397\nEpoch 47/100\n172/172 [==============================] - 11s 51ms/step - loss: 0.4361\nEpoch 48/100\n172/172 [==============================] - 11s 51ms/step - loss: 0.4324\nEpoch 49/100\n172/172 [==============================] - 11s 51ms/step - loss: 0.4313\nEpoch 50/100\n172/172 [==============================] - 11s 51ms/step - loss: 0.4318\nEpoch 51/100\n172/172 [==============================] - 11s 52ms/step - loss: 0.4259\nEpoch 52/100\n172/172 [==============================] - 11s 52ms/step - loss: 0.4251\nEpoch 53/100\n172/172 [==============================] - 11s 51ms/step - loss: 0.4215\nEpoch 54/100\n172/172 [==============================] - 11s 51ms/step - loss: 0.4202\nEpoch 55/100\n172/172 [==============================] - 11s 51ms/step - loss: 0.4183\nEpoch 56/100\n172/172 [==============================] - 11s 51ms/step - loss: 0.4149\nEpoch 57/100\n172/172 [==============================] - 11s 51ms/step - loss: 0.4159\nEpoch 58/100\n172/172 [==============================] - 11s 51ms/step - loss: 0.4144\nEpoch 59/100\n172/172 [==============================] - 11s 51ms/step - loss: 0.4127\nEpoch 60/100\n172/172 [==============================] - 11s 51ms/step - loss: 0.4099\nEpoch 61/100\n172/172 [==============================] - 11s 51ms/step - loss: 0.4102\nEpoch 62/100\n172/172 [==============================] - 11s 51ms/step - loss: 0.4071\nEpoch 63/100\n172/172 [==============================] - 11s 51ms/step - loss: 0.4058\nEpoch 64/100\n172/172 [==============================] - 11s 52ms/step - loss: 0.4028\nEpoch 65/100\n172/172 [==============================] - 11s 51ms/step - loss: 0.4027\nEpoch 66/100\n172/172 [==============================] - 11s 51ms/step - loss: 0.4028\nEpoch 67/100\n172/172 [==============================] - 11s 51ms/step - loss: 0.4030\nEpoch 68/100\n172/172 [==============================] - 11s 51ms/step - loss: 0.4031\nEpoch 69/100\n172/172 [==============================] - 11s 51ms/step - loss: 0.4002\nEpoch 70/100\n172/172 [==============================] - 11s 51ms/step - loss: 0.4012\nEpoch 71/100\n172/172 [==============================] - 11s 51ms/step - loss: 0.3981\nEpoch 72/100\n172/172 [==============================] - 11s 51ms/step - loss: 0.3997\nEpoch 73/100\n172/172 [==============================] - 11s 51ms/step - loss: 0.3974\nEpoch 74/100\n172/172 [==============================] - 11s 51ms/step - loss: 0.3977\nEpoch 75/100\n172/172 [==============================] - 11s 51ms/step - loss: 0.3949\nEpoch 76/100\n172/172 [==============================] - 11s 51ms/step - loss: 0.3953\nEpoch 77/100\n172/172 [==============================] - 11s 50ms/step - loss: 0.3966\nEpoch 78/100\n172/172 [==============================] - 11s 51ms/step - loss: 0.3962\nEpoch 79/100\n172/172 [==============================] - 10s 51ms/step - loss: 0.3970\nEpoch 80/100\n172/172 [==============================] - 11s 51ms/step - loss: 0.3978\nEpoch 81/100\n172/172 [==============================] - 10s 51ms/step - loss: 0.3958\nEpoch 82/100\n172/172 [==============================] - 10s 51ms/step - loss: 0.3944\nEpoch 83/100\n172/172 [==============================] - 11s 51ms/step - loss: 0.3937\nEpoch 84/100\n172/172 [==============================] - 11s 51ms/step - loss: 0.3936\nEpoch 85/100\n172/172 [==============================] - 11s 51ms/step - loss: 0.3931\nEpoch 86/100\n172/172 [==============================] - 11s 51ms/step - loss: 0.3910\nEpoch 87/100\n172/172 [==============================] - 11s 51ms/step - loss: 0.3905\nEpoch 88/100\n172/172 [==============================] - 11s 51ms/step - loss: 0.3914\nEpoch 89/100\n172/172 [==============================] - 11s 52ms/step - loss: 0.3901\nEpoch 90/100\n172/172 [==============================] - 11s 52ms/step - loss: 0.3930\nEpoch 91/100\n172/172 [==============================] - 11s 51ms/step - loss: 0.3929\nEpoch 92/100\n172/172 [==============================] - 11s 52ms/step - loss: 0.3904\nEpoch 93/100\n172/172 [==============================] - 11s 51ms/step - loss: 0.3944\nEpoch 94/100\n172/172 [==============================] - 11s 51ms/step - loss: 0.3934\nEpoch 95/100\n172/172 [==============================] - 11s 51ms/step - loss: 0.3928\nEpoch 96/100\n172/172 [==============================] - 11s 51ms/step - loss: 0.3935\nEpoch 97/100\n172/172 [==============================] - 11s 51ms/step - loss: 0.3931\nEpoch 98/100\n172/172 [==============================] - 11s 51ms/step - loss: 0.3904\nEpoch 99/100\n172/172 [==============================] - 11s 51ms/step - loss: 0.3914\nEpoch 100/100\n172/172 [==============================] - 11s 51ms/step - loss: 0.3867\n",
     "output_type": "stream"
    }
   ]
  },
  {
   "cell_type": "code",
   "source": "print(tf.train.latest_checkpoint(output_dir))",
   "metadata": {
    "collapsed": false,
    "pycharm": {
     "name": "#%%\n"
    },
    "jupyter": {
     "outputs_hidden": false
    },
    "execution": {
     "iopub.status.busy": "2022-08-03T14:53:57.346399Z",
     "iopub.execute_input": "2022-08-03T14:53:57.346782Z",
     "iopub.status.idle": "2022-08-03T14:53:57.353274Z",
     "shell.execute_reply.started": "2022-08-03T14:53:57.346739Z",
     "shell.execute_reply": "2022-08-03T14:53:57.352337Z"
    },
    "trusted": true
   },
   "execution_count": 21,
   "outputs": [
    {
     "name": "stdout",
     "text": "./text_generation_lstm_checkpoints/ckpt_100\n",
     "output_type": "stream"
    }
   ]
  },
  {
   "cell_type": "code",
   "source": "model2 = build_model(vocab_size, embedding_dim, rnn_units, batch_size=1)\nmodel2.load_weights(tf.train.latest_checkpoint(output_dir))\nmodel2.build(tf.TensorShape([1,None]))\nprint(model2.summary())",
   "metadata": {
    "collapsed": false,
    "pycharm": {
     "name": "#%%\n"
    },
    "jupyter": {
     "outputs_hidden": false
    },
    "execution": {
     "iopub.status.busy": "2022-08-03T14:53:57.354657Z",
     "iopub.execute_input": "2022-08-03T14:53:57.355235Z",
     "iopub.status.idle": "2022-08-03T14:53:57.599652Z",
     "shell.execute_reply.started": "2022-08-03T14:53:57.355200Z",
     "shell.execute_reply": "2022-08-03T14:53:57.598637Z"
    },
    "trusted": true
   },
   "execution_count": 22,
   "outputs": [
    {
     "name": "stdout",
     "text": "Model: \"sequential_1\"\n_________________________________________________________________\nLayer (type)                 Output Shape              Param #   \n=================================================================\nembedding_1 (Embedding)      (1, None, 256)            16640     \n_________________________________________________________________\nlstm_1 (LSTM)                (1, None, 1024)           5246976   \n_________________________________________________________________\ndense_1 (Dense)              (1, None, 65)             66625     \n=================================================================\nTotal params: 5,330,241\nTrainable params: 5,330,241\nNon-trainable params: 0\n_________________________________________________________________\nNone\n",
     "output_type": "stream"
    }
   ]
  },
  {
   "cell_type": "code",
   "source": "def generate_text(model, start_string, num_generate=1000):\n    input_eval = [char2index[c] for c in start_string]\n    print(input_eval)\n    input_eval = tf.expand_dims(input_eval, 0)\n    print(input_eval)\n    text_generated = []\n    # 对model进行reset，连续调用的时候使用resets_states()\n    model.reset_states()\n    # temperature > 1, 概率平缓 更加random  可以设置为2\n    # temperature < 1, 概率更陡峭 更加greedy 可以设为0.5\n    temperature = 2\n    for _ in range(num_generate):\n        predictions = model(input_eval)\n        # predictions: logits -> softmax -> probability\n        predictions = predictions / temperature\n        # print(predictions.shape)\n        predictions = tf.squeeze(predictions, 0)\n        predicted_id = tf.random.categorical(\n            predictions, num_samples=1)[-1, 0].numpy()\n        # 得到预测id后，放入text_generated\n        text_generated.append(index2char[predicted_id])\n        input_eval = tf.expand_dims([predicted_id], 0)\n    return start_string + ''.join(text_generated)",
   "metadata": {
    "collapsed": false,
    "pycharm": {
     "name": "#%%\n"
    },
    "jupyter": {
     "outputs_hidden": false
    },
    "execution": {
     "iopub.status.busy": "2022-08-03T14:53:57.601166Z",
     "iopub.execute_input": "2022-08-03T14:53:57.602022Z",
     "iopub.status.idle": "2022-08-03T14:53:57.612244Z",
     "shell.execute_reply.started": "2022-08-03T14:53:57.601983Z",
     "shell.execute_reply": "2022-08-03T14:53:57.611232Z"
    },
    "trusted": true
   },
   "execution_count": 23,
   "outputs": []
  },
  {
   "cell_type": "code",
   "source": "new_text = generate_text(model2, 'All: ')\nprint(new_text)\n\n\n",
   "metadata": {
    "collapsed": false,
    "pycharm": {
     "name": "#%%\n"
    },
    "jupyter": {
     "outputs_hidden": false
    },
    "execution": {
     "iopub.status.busy": "2022-08-03T14:53:57.614099Z",
     "iopub.execute_input": "2022-08-03T14:53:57.614483Z",
     "iopub.status.idle": "2022-08-03T14:54:02.254996Z",
     "shell.execute_reply.started": "2022-08-03T14:53:57.614447Z",
     "shell.execute_reply": "2022-08-03T14:54:02.253881Z"
    },
    "trusted": true
   },
   "execution_count": 24,
   "outputs": [
    {
     "name": "stdout",
     "text": "[13, 50, 50, 10, 1]\ntf.Tensor([[13 50 50 10  1]], shape=(1, 5), dtype=int32)\nAll: Give ck make up\nA leg Romeo be cui,\nWho sits confose me intoly, and your blood,\nOr so dise, Sound all overhers' most king.\n\nRIVERS:\nTo you shou.\n\nPOMPetty:\nHe noblen;\nclosescut the taming star; ybsenging it. Harwhbe bale-vex'd,\nThen must I could prote your worship, ust rather sooted edward'sceing, know.\nYour lirert, wes'tes\nEven\nAs grant of train.\n\nVINCENTIO:\nCome, old Oxporm,\nTo rewre minutt out of holy degree,\nBy giving counsel and the king: whereow--bedg'd RItond for ever!\n\nBLENS run;\nKnow, gladly know his life.\nA mansi.\nBut where be d,\nten to only rds,\nAnd divod we ot o!\nYou eck tongue\nThan in proof upon Dercyou chal;\nNayiding hither bysome aughter here, take her i' the measurehat! 'Twas thy fault,\nRand on prebath sid?\n\nServant:\nThis is the lady's zeal, Kathappelo's winds; and thanks-risety.\n\nDUKE VINCENTIO:\nNot, T:\nTh some: let us have hably not\nchanging god! no LADY ANNE:\nCarry Lord!\n\nPROSPERO:\nCome\nforget\nBefore Roman ay a mask.\n\nMENENIUS:\nNail, go no.\n\nANTON:\nWhither?\n\nKATHARIN\n",
     "output_type": "stream"
    }
   ]
  }
 ]
}
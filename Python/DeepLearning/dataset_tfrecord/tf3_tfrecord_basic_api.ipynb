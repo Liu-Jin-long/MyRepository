{
 "cells": [
  {
   "cell_type": "code",
   "execution_count": 21,
   "metadata": {},
   "outputs": [],
   "source": [
    "# TFRecord数据保存和读取"
   ]
  },
  {
   "cell_type": "code",
   "execution_count": null,
   "outputs": [],
   "source": [
    "import tensorflow as tf\n",
    "import os\n",
    "import numpy as np"
   ],
   "metadata": {
    "collapsed": false,
    "pycharm": {
     "name": "#%%\n"
    }
   }
  },
  {
   "cell_type": "code",
   "execution_count": 22,
   "metadata": {
    "pycharm": {
     "name": "#%%\n"
    }
   },
   "outputs": [
    {
     "name": "stdout",
     "output_type": "stream",
     "text": [
      "[b'machine learning', b'cc150']\n",
      "--------------------------------------------------\n",
      "<class 'tensorflow.core.example.feature_pb2.BytesList'>\n",
      "--------------------------------------------------\n",
      "value: \"machine learning\"\n",
      "value: \"cc150\"\n",
      "\n"
     ]
    }
   ],
   "source": [
    "# 一条TFRecord数据代表一个Example，一个Example就是一个样本数据，每个Example内部由一个字典构成，每个key对应一个Feature，key为字段名，Feature为字段名所对应的数据\n",
    "# tfrecord 文件格式---往下层层分类\n",
    "# -> tf.train.Example\n",
    "#    -> tf.train.Features -> {\"key\": tf.train.Feature}\n",
    "#       -> tf.train.Feature -> tf.train.ByteList/FloatList/Int64List\n",
    "favorite_books = [name.encode('utf-8') for name in [\"machine learning\", \"cc150\"]]\n",
    "print(favorite_books) # <class 'tensorflow.core.example.feature_pb2.BytesList'>\n",
    "print('-' * 50)\n",
    "favorite_books_bytelist = tf.train.BytesList(value=favorite_books)  #字符串变为BytesList\n",
    "print(type(favorite_books_bytelist))\n",
    "print('-' * 50)\n",
    "print(favorite_books_bytelist)"
   ]
  },
  {
   "cell_type": "code",
   "execution_count": 23,
   "metadata": {
    "pycharm": {
     "name": "#%%\n"
    }
   },
   "outputs": [
    {
     "name": "stdout",
     "output_type": "stream",
     "text": [
      "<class 'tensorflow.core.example.feature_pb2.FloatList'>\n",
      "--------------------------------------------------\n",
      "value: 15.5\n",
      "value: 9.5\n",
      "value: 7.0\n",
      "value: 8.0\n",
      "\n",
      "--------------------------------------------------\n",
      "<class 'tensorflow.core.example.feature_pb2.Int64List'>\n",
      "--------------------------------------------------\n",
      "value: 22\n",
      "\n",
      "--------------------------------------------------\n"
     ]
    }
   ],
   "source": [
    "hours_floatlist = tf.train.FloatList(value=[15.5, 9.5, 7.0, 8.0])\n",
    "print(type(hours_floatlist)) # <class 'tensorflow.core.example.feature_pb2.FloatList'>\n",
    "print('-' * 50)\n",
    "print(hours_floatlist)\n",
    "print('-' * 50)\n",
    "\n",
    "age_int64list = tf.train.Int64List(value=[22])\n",
    "print(type(age_int64list)) # <class 'tensorflow.core.example.feature_pb2.Int64List'>\n",
    "print('-' * 50)\n",
    "print(age_int64list) \n",
    "print('-' * 50)"
   ]
  },
  {
   "cell_type": "code",
   "execution_count": 24,
   "metadata": {
    "pycharm": {
     "name": "#%%\n"
    }
   },
   "outputs": [
    {
     "name": "stdout",
     "output_type": "stream",
     "text": [
      "<class 'tensorflow.core.example.feature_pb2.Features'>\n",
      "feature {\n",
      "  key: \"age\"\n",
      "  value {\n",
      "    int64_list {\n",
      "      value: 22\n",
      "    }\n",
      "  }\n",
      "}\n",
      "feature {\n",
      "  key: \"favorite_books\"\n",
      "  value {\n",
      "    bytes_list {\n",
      "      value: \"machine learning\"\n",
      "      value: \"cc150\"\n",
      "    }\n",
      "  }\n",
      "}\n",
      "feature {\n",
      "  key: \"hours\"\n",
      "  value {\n",
      "    float_list {\n",
      "      value: 15.5\n",
      "      value: 9.5\n",
      "      value: 7.0\n",
      "      value: 8.0\n",
      "    }\n",
      "  }\n",
      "}\n",
      "\n"
     ]
    }
   ],
   "source": [
    "features = tf.train.Features(\n",
    "    feature={\n",
    "        'favorite_books': tf.train.Feature(bytes_list=favorite_books_bytelist),\n",
    "        'hours': tf.train.Feature(float_list=hours_floatlist),\n",
    "        'age': tf.train.Feature(int64_list=age_int64list), })\n",
    "print(type(features)) # <class 'tensorflow.core.example.feature_pb2.Features'>\n",
    "print(features)  # 类似于json的格式（和字典很类似）"
   ]
  },
  {
   "cell_type": "code",
   "execution_count": 25,
   "metadata": {
    "pycharm": {
     "name": "#%%\n"
    }
   },
   "outputs": [
    {
     "name": "stdout",
     "output_type": "stream",
     "text": [
      "<class 'tensorflow.core.example.example_pb2.Example'>\n",
      "features {\n",
      "  feature {\n",
      "    key: \"age\"\n",
      "    value {\n",
      "      int64_list {\n",
      "        value: 22\n",
      "      }\n",
      "    }\n",
      "  }\n",
      "  feature {\n",
      "    key: \"favorite_books\"\n",
      "    value {\n",
      "      bytes_list {\n",
      "        value: \"machine learning\"\n",
      "        value: \"cc150\"\n",
      "      }\n",
      "    }\n",
      "  }\n",
      "  feature {\n",
      "    key: \"hours\"\n",
      "    value {\n",
      "      float_list {\n",
      "        value: 15.5\n",
      "        value: 9.5\n",
      "        value: 7.0\n",
      "        value: 8.0\n",
      "      }\n",
      "    }\n",
      "  }\n",
      "}\n",
      "\n",
      "--------------------------------------------------\n",
      "<class 'bytes'>\n",
      "--------------------------------------------------\n",
      "b'\\n\\\\\\n\\x1d\\n\\x05hours\\x12\\x14\\x12\\x12\\n\\x10\\x00\\x00xA\\x00\\x00\\x18A\\x00\\x00\\xe0@\\x00\\x00\\x00A\\n-\\n\\x0efavorite_books\\x12\\x1b\\n\\x19\\n\\x10machine learning\\n\\x05cc150\\n\\x0c\\n\\x03age\\x12\\x05\\x1a\\x03\\n\\x01\\x16'\n",
      "--------------------------------------------------\n",
      "94\n"
     ]
    }
   ],
   "source": [
    "# Features-->Example\n",
    "example = tf.train.Example(features=features)\n",
    "print(type(example)) # <class 'tensorflow.core.example.example_pb2.Example'>\n",
    "print(example)\n",
    "# 对Example对象进行序列化变成字节流写入文件\n",
    "serialized_example = example.SerializeToString()\n",
    "print('-' * 50)\n",
    "print(type(serialized_example)) # <class 'bytes'> \n",
    "print('-' * 50)\n",
    "print(serialized_example)\n",
    "print('-' * 50)\n",
    "print(len(serialized_example))"
   ]
  },
  {
   "cell_type": "code",
   "execution_count": 26,
   "metadata": {
    "pycharm": {
     "name": "#%%\n"
    }
   },
   "outputs": [],
   "source": [
    "# 生成test.tfrecords文件\n",
    "output_dir = 'tfrecord_basic'\n",
    "if not os.path.exists(output_dir):\n",
    "    os.mkdir(output_dir)\n",
    "filename = 'test.tfrecords'\n",
    "filename_fullpath = os.path.join(output_dir, filename)\n",
    "with tf.io.TFRecordWriter(filename_fullpath) as writer:\n",
    "    # 只是多写点数据\n",
    "    for i in range(3):\n",
    "        writer.write(serialized_example)"
   ]
  },
  {
   "cell_type": "code",
   "execution_count": 27,
   "metadata": {
    "pycharm": {
     "name": "#%%\n"
    }
   },
   "outputs": [
    {
     "name": "stdout",
     "output_type": "stream",
     "text": [
      "tf.Tensor(b'\\n\\\\\\n\\x1d\\n\\x05hours\\x12\\x14\\x12\\x12\\n\\x10\\x00\\x00xA\\x00\\x00\\x18A\\x00\\x00\\xe0@\\x00\\x00\\x00A\\n-\\n\\x0efavorite_books\\x12\\x1b\\n\\x19\\n\\x10machine learning\\n\\x05cc150\\n\\x0c\\n\\x03age\\x12\\x05\\x1a\\x03\\n\\x01\\x16', shape=(), dtype=string)\n",
      "tf.Tensor(b'\\n\\\\\\n\\x1d\\n\\x05hours\\x12\\x14\\x12\\x12\\n\\x10\\x00\\x00xA\\x00\\x00\\x18A\\x00\\x00\\xe0@\\x00\\x00\\x00A\\n-\\n\\x0efavorite_books\\x12\\x1b\\n\\x19\\n\\x10machine learning\\n\\x05cc150\\n\\x0c\\n\\x03age\\x12\\x05\\x1a\\x03\\n\\x01\\x16', shape=(), dtype=string)\n",
      "tf.Tensor(b'\\n\\\\\\n\\x1d\\n\\x05hours\\x12\\x14\\x12\\x12\\n\\x10\\x00\\x00xA\\x00\\x00\\x18A\\x00\\x00\\xe0@\\x00\\x00\\x00A\\n-\\n\\x0efavorite_books\\x12\\x1b\\n\\x19\\n\\x10machine learning\\n\\x05cc150\\n\\x0c\\n\\x03age\\x12\\x05\\x1a\\x03\\n\\x01\\x16', shape=(), dtype=string)\n"
     ]
    }
   ],
   "source": [
    "# 读取record并打印\n",
    "dataset = tf.data.TFRecordDataset([filename_fullpath])\n",
    "for serialized_example_tensor in dataset:\n",
    "    print(serialized_example_tensor)"
   ]
  },
  {
   "cell_type": "code",
   "execution_count": 28,
   "metadata": {
    "pycharm": {
     "name": "#%%\n"
    }
   },
   "outputs": [
    {
     "name": "stdout",
     "output_type": "stream",
     "text": [
      "{'favorite_books': <tensorflow.python.framework.sparse_tensor.SparseTensor object at 0x000001C809A69E50>, 'hours': <tensorflow.python.framework.sparse_tensor.SparseTensor object at 0x000001C809ADBCD0>, 'age': <tf.Tensor: shape=(), dtype=int64, numpy=22>}\n",
      "--------------------------------------------------\n",
      "tf.Tensor([b'machine learning' b'cc150'], shape=(2,), dtype=string)\n",
      "--------------------------------------------------\n",
      "machine learning\n",
      "cc150\n",
      "--------------------------------------------------\n",
      "15.5\n",
      "9.5\n",
      "7.0\n",
      "8.0\n",
      "--------------------------------------------------\n",
      "22\n",
      "{'favorite_books': <tensorflow.python.framework.sparse_tensor.SparseTensor object at 0x000001C809AD99A0>, 'hours': <tensorflow.python.framework.sparse_tensor.SparseTensor object at 0x000001C809AD9D00>, 'age': <tf.Tensor: shape=(), dtype=int64, numpy=22>}\n",
      "--------------------------------------------------\n",
      "tf.Tensor([b'machine learning' b'cc150'], shape=(2,), dtype=string)\n",
      "--------------------------------------------------\n",
      "machine learning\n",
      "cc150\n",
      "--------------------------------------------------\n",
      "15.5\n",
      "9.5\n",
      "7.0\n",
      "8.0\n",
      "--------------------------------------------------\n",
      "22\n",
      "{'favorite_books': <tensorflow.python.framework.sparse_tensor.SparseTensor object at 0x000001C809A69550>, 'hours': <tensorflow.python.framework.sparse_tensor.SparseTensor object at 0x000001C809A5ADC0>, 'age': <tf.Tensor: shape=(), dtype=int64, numpy=22>}\n",
      "--------------------------------------------------\n",
      "tf.Tensor([b'machine learning' b'cc150'], shape=(2,), dtype=string)\n",
      "--------------------------------------------------\n",
      "machine learning\n",
      "cc150\n",
      "--------------------------------------------------\n",
      "15.5\n",
      "9.5\n",
      "7.0\n",
      "8.0\n",
      "--------------------------------------------------\n",
      "22\n"
     ]
    }
   ],
   "source": [
    "# VarLenFeature是变长的，得到的是sparseTensor,要通过to_dense变为Tensor\n",
    "# 如果是FixedLenFeature，得到的是Tensor，必须传入原来保存时数据的shape\n",
    "expected_features = {\n",
    "    # 'favorite_books': tf.io.FixedLenFeature([2], dtype=tf.string),\n",
    "    'favorite_books': tf.io.VarLenFeature(dtype=tf.string),\n",
    "    # \"hours\": tf.io.FixedLenFeature([4],dtype = tf.float32),\n",
    "    'hours': tf.io.VarLenFeature(dtype=tf.float32),\n",
    "    'age': tf.io.FixedLenFeature([], dtype=tf.int64)\n",
    "}\n",
    "dataset = tf.data.TFRecordDataset([filename_fullpath])\n",
    "# sparse tensor 存储稀疏矩阵的时候效率比较高\n",
    "for serialized_example_tensor in dataset:\n",
    "    # parse_single_example和map类似\n",
    "    example = tf.io.parse_single_example(\n",
    "        serialized_example_tensor,  #游标\n",
    "        expected_features)  #解析的类型\n",
    "    print(example)\n",
    "    print('-' * 50)\n",
    "    books=tf.sparse.to_dense(example['favorite_books'],default_value=b'')\n",
    "    print(books)\n",
    "    print('-' * 50)\n",
    "    for book in books:\n",
    "        print(book.numpy().decode('utf-8'))\n",
    "    print('-' * 50)\n",
    "    hours = tf.sparse.to_dense(example['hours'])\n",
    "    for hour in hours:\n",
    "        print(hour.numpy())\n",
    "    print('-' * 50)\n",
    "    print(example['age'].numpy())"
   ]
  },
  {
   "cell_type": "code",
   "execution_count": 29,
   "metadata": {
    "pycharm": {
     "name": "#%%\n"
    }
   },
   "outputs": [],
   "source": [
    "# 把tfrecord存为压缩文件\n",
    "filename_fullpath_zip=filename_fullpath+'.zip'\n",
    "options=tf.io.TFRecordOptions(compression_type='GZIP')\n",
    "with tf.io.TFRecordWriter(filename_fullpath_zip,options) as writer:\n",
    "    for i in range(3):\n",
    "        writer.write(serialized_example)"
   ]
  },
  {
   "cell_type": "code",
   "execution_count": 30,
   "metadata": {
    "pycharm": {
     "name": "#%%\n"
    }
   },
   "outputs": [
    {
     "name": "stdout",
     "output_type": "stream",
     "text": [
      "{'age': <tf.Tensor: shape=(), dtype=int64, numpy=22>, 'favorite_books': <tf.Tensor: shape=(2,), dtype=string, numpy=array([b'machine learning', b'cc150'], dtype=object)>, 'hours': <tf.Tensor: shape=(4,), dtype=float32, numpy=array([15.5,  9.5,  7. ,  8. ], dtype=float32)>}\n",
      "{'age': <tf.Tensor: shape=(), dtype=int64, numpy=22>, 'favorite_books': <tf.Tensor: shape=(2,), dtype=string, numpy=array([b'machine learning', b'cc150'], dtype=object)>, 'hours': <tf.Tensor: shape=(4,), dtype=float32, numpy=array([15.5,  9.5,  7. ,  8. ], dtype=float32)>}\n",
      "{'age': <tf.Tensor: shape=(), dtype=int64, numpy=22>, 'favorite_books': <tf.Tensor: shape=(2,), dtype=string, numpy=array([b'machine learning', b'cc150'], dtype=object)>, 'hours': <tf.Tensor: shape=(4,), dtype=float32, numpy=array([15.5,  9.5,  7. ,  8. ], dtype=float32)>}\n"
     ]
    }
   ],
   "source": [
    "expected_features = {\n",
    "    \"favorite_books\": tf.io.FixedLenFeature([2],dtype = tf.string),\n",
    "    \"hours\": tf.io.FixedLenFeature([4],dtype = tf.float32),\n",
    "    \"age\": tf.io.FixedLenFeature([], dtype = tf.int64),\n",
    "}\n",
    "# 压缩后的文件的读取方法\n",
    "dataset_zip = tf.data.TFRecordDataset([filename_fullpath_zip], \n",
    "                                      compression_type= \"GZIP\")\n",
    "for serialized_example_tensor in dataset_zip:\n",
    "    example = tf.io.parse_single_example(\n",
    "        serialized_example_tensor,\n",
    "        expected_features)\n",
    "    print(example)"
   ]
  }
 ],
 "metadata": {
  "kernelspec": {
   "display_name": "Python 3 (ipykernel)",
   "language": "python",
   "name": "python3"
  },
  "language_info": {
   "codemirror_mode": {
    "name": "ipython",
    "version": 3
   },
   "file_extension": ".py",
   "mimetype": "text/x-python",
   "name": "python",
   "nbconvert_exporter": "python",
   "pygments_lexer": "ipython3",
   "version": "3.9.7"
  }
 },
 "nbformat": 4,
 "nbformat_minor": 1
}